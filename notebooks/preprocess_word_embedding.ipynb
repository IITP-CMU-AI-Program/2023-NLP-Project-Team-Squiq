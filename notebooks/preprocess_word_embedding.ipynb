{
 "cells": [
  {
   "cell_type": "code",
   "execution_count": 3,
   "id": "baa12b74",
   "metadata": {},
   "outputs": [],
   "source": [
    "import os\n",
    "from collections import defaultdict\n",
    "\n",
    "def preprocess_word_embedding():\n",
    "    if os.path.isfile(\"../raw/node_info_new.txt\"):\n",
    "        os.remove(\"../raw/node_info_new.txt\")\n",
    "\n",
    "    nodelist = defaultdict(int)\n",
    "    with open(\"../raw/node_info.txt\", \"r\") as f:\n",
    "        for line in f.readlines():\n",
    "            vidx, nodename = line.rstrip().split(\"\\t\")\n",
    "            nodes = nodename.split(\" \")\n",
    "            if len(nodes) <= 3:\n",
    "                for node in nodes:\n",
    "                    nodelist[node] += 1\n",
    "\n",
    "    word2embidx = {}\n",
    "    with open(\"../raw/node_info.txt\", \"r\") as f:\n",
    "        for line in f.readlines():\n",
    "            vidx, nodename = line.rstrip().split(\"\\t\")\n",
    "            vidx = int(vidx)\n",
    "            nodes = nodename.split(\" \")\n",
    "            if len(nodes) <= 3:\n",
    "                for node in nodes:\n",
    "                    if nodelist[node] < 2:\n",
    "                        word2embidx[node] = vidx\n",
    "\n",
    "    with open(\"../raw/node_info_new.txt\", \"w\") as f:\n",
    "        for word in word2embidx:\n",
    "            embidx = word2embidx[word]\n",
    "            f.write(word + \"\\t\" + str(embidx) + \"\\n\")\n",
    "\n",
    "preprocess_word_embedding()"
   ]
  }
 ],
 "metadata": {
  "kernelspec": {
   "display_name": "Python 3 (ipykernel)",
   "language": "python",
   "name": "python3"
  },
  "language_info": {
   "codemirror_mode": {
    "name": "ipython",
    "version": 3
   },
   "file_extension": ".py",
   "mimetype": "text/x-python",
   "name": "python",
   "nbconvert_exporter": "python",
   "pygments_lexer": "ipython3",
   "version": "3.8.10"
  }
 },
 "nbformat": 4,
 "nbformat_minor": 5
}
