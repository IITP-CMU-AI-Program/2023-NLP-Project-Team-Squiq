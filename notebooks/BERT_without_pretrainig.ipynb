{
  "cells": [
    {
      "cell_type": "markdown",
      "metadata": {
        "id": "izHj9uno-xw-"
      },
      "source": [
        "# import packages"
      ]
    },
    {
      "cell_type": "code",
      "execution_count": 1,
      "metadata": {
        "id": "q57zqGCX-xxB"
      },
      "outputs": [],
      "source": [
        "import pandas as pd\n",
        "import numpy as np\n",
        "import json\n",
        "import torch\n",
        "from torch import nn\n",
        "import math"
      ]
    },
    {
      "cell_type": "markdown",
      "metadata": {},
      "source": [
        "# Evironment Setup"
      ]
    },
    {
      "cell_type": "code",
      "execution_count": 2,
      "metadata": {
        "colab": {
          "base_uri": "https://localhost:8080/"
        },
        "id": "VXHsE25sP4ya",
        "outputId": "747982fe-ada3-4d94-bd77-c19598a4a3fd"
      },
      "outputs": [
        {
          "name": "stdout",
          "output_type": "stream",
          "text": [
            "Device:  cuda:1\n"
          ]
        }
      ],
      "source": [
        "import os\n",
        "\n",
        "seed = 42\n",
        "np.random.seed(seed)\n",
        "os.environ['PYTHONHASHSEED'] = str(seed)\n",
        "torch.manual_seed(seed)\n",
        "torch.cuda.manual_seed(seed)\n",
        "torch.backends.cudnn.deterministic = True\n",
        "torch.backends.cudnn.benchmark = False\n",
        "\n",
        "device = \"cuda\" if torch.cuda.is_available() else \"cpu\"\n",
        "print(\"Device: \", device)\n",
        "\n",
        "#os.environ['CUDA_LAUNCH_BLOCKING'] = \"1\"\n",
        "\n",
        "EXP_NAME = 'BERT_without_pretrainig'"
      ]
    },
    {
      "cell_type": "code",
      "execution_count": 3,
      "metadata": {
        "colab": {
          "base_uri": "https://localhost:8080/"
        },
        "id": "XRWZyrTQ_eFH",
        "outputId": "4531bc6e-a497-4d7b-d226-46f947ad1dde"
      },
      "outputs": [],
      "source": [
        "# from google.colab import drive\n",
        "# drive.mount('/content/drive')"
      ]
    },
    {
      "cell_type": "code",
      "execution_count": 4,
      "metadata": {
        "id": "J_-VmgVm_ksL"
      },
      "outputs": [],
      "source": [
        "# import os\n",
        "# os.chdir('/content/drive/MyDrive/NLP')"
      ]
    },
    {
      "cell_type": "markdown",
      "metadata": {
        "id": "0RhP6ihg-xxC"
      },
      "source": [
        "# preprocess data"
      ]
    },
    {
      "cell_type": "code",
      "execution_count": 5,
      "metadata": {
        "id": "ywqzSFVV-xxD"
      },
      "outputs": [],
      "source": [
        "with open('../data/english-train.json', 'r') as json_file:\n",
        "    english_train = json.load(json_file)\n",
        "with open('../data/english-dev.json', 'r') as json_file:\n",
        "    english_dev = json.load(json_file)\n",
        "with open('../data/english-test.json', 'r') as json_file:\n",
        "    english_test = json.load(json_file)\n"
      ]
    },
    {
      "cell_type": "code",
      "execution_count": 6,
      "metadata": {
        "colab": {
          "base_uri": "https://localhost:8080/",
          "height": 53
        },
        "id": "5g0jggRHDASX",
        "outputId": "73a5654e-0e66-401c-807e-a66f14d6ef1d"
      },
      "outputs": [
        {
          "data": {
            "text/plain": [
              "'good day. this morning i coughed for the very first time in a long time. with the corona virus around i feel the need to report this. i coughed for about 5 min. i have no fever, not tired and chest feels weird. what should i do?'"
            ]
          },
          "execution_count": 6,
          "metadata": {},
          "output_type": "execute_result"
        }
      ],
      "source": [
        "english_dev[0]['description']"
      ]
    },
    {
      "cell_type": "code",
      "execution_count": 7,
      "metadata": {
        "id": "t4lBFvpG-xxD"
      },
      "outputs": [],
      "source": [
        "context_seq = []\n",
        "patient_ques = []\n",
        "docter_ans = []\n",
        "\n",
        "context_seq.extend([i['description'] for i in english_train])\n",
        "patient_ques.extend([i['utterances'][0] for i in english_train])\n",
        "docter_ans.extend([i['utterances'][1] for i in english_train])\n",
        "\n",
        "context_seq.extend([i['description'] for i in english_dev])\n",
        "patient_ques.extend([i['utterances'][0] for i in english_dev])\n",
        "docter_ans.extend([i['utterances'][1] for i in english_dev])\n",
        "\n",
        "# Changed\n",
        "# context_seq.extend([i['description'] for i in english_test])\n",
        "# patient_ques.extend([i['utterances'][0] for i in english_test])\n",
        "# docter_ans.extend([i['utterances'][1] for i in english_test])\n",
        "\n",
        "context_seq = ['SOS '+i+' EOS' for i in context_seq]\n",
        "patient_ques = ['SOS '+i[9:]+' EOS' for i in patient_ques]\n",
        "docter_ans = ['SOS '+i[8:]+' EOS' for i in docter_ans]\n",
        "\n",
        "tot_data = []\n",
        "all_patient_ques = []\n",
        "for i in range(len(patient_ques)):\n",
        "  all_patient_ques.append(patient_ques[i]+\" SEP \"+context_seq[i])\n",
        "\n",
        "tot_data.extend(all_patient_ques)\n",
        "tot_data.extend(docter_ans)"
      ]
    },
    {
      "cell_type": "code",
      "execution_count": 8,
      "metadata": {},
      "outputs": [],
      "source": [
        "# Changed\n",
        "context_seq_test = []\n",
        "patient_ques_test = []\n",
        "docter_ans_test = []\n",
        "\n",
        "context_seq_test.extend([i['description'] for i in english_test])\n",
        "patient_ques_test.extend([i['utterances'][0] for i in english_test])\n",
        "docter_ans_test.extend([i['utterances'][1] for i in english_test])\n",
        "\n",
        "context_seq_test = ['SOS '+i+' EOS' for i in context_seq_test]\n",
        "patient_ques_test = ['SOS '+i[9:]+' EOS' for i in patient_ques_test]\n",
        "docter_ans_test = ['SOS '+i[8:]+' EOS' for i in docter_ans_test]\n",
        "\n",
        "tot_data_test = []\n",
        "all_patient_ques_test = []\n",
        "\n",
        "for i in range(len(patient_ques_test)):\n",
        "  all_patient_ques_test.append(patient_ques_test[i]+\" SEP \"+context_seq_test[i])\n",
        "  \n",
        "tot_data_test.extend(all_patient_ques_test)\n",
        "tot_data_test.extend(docter_ans_test)"
      ]
    },
    {
      "cell_type": "code",
      "execution_count": 9,
      "metadata": {
        "colab": {
          "base_uri": "https://localhost:8080/"
        },
        "id": "T84IvYBQCSI7",
        "outputId": "0db245bb-8c5f-4f6e-e2bc-030812d53d6b"
      },
      "outputs": [
        {
          "name": "stderr",
          "output_type": "stream",
          "text": [
            "2023-12-07 11:09:51.303442: I tensorflow/core/util/port.cc:113] oneDNN custom operations are on. You may see slightly different numerical results due to floating-point round-off errors from different computation orders. To turn them off, set the environment variable `TF_ENABLE_ONEDNN_OPTS=0`.\n",
            "2023-12-07 11:09:51.369661: E external/local_xla/xla/stream_executor/cuda/cuda_dnn.cc:9261] Unable to register cuDNN factory: Attempting to register factory for plugin cuDNN when one has already been registered\n",
            "2023-12-07 11:09:51.369722: E external/local_xla/xla/stream_executor/cuda/cuda_fft.cc:607] Unable to register cuFFT factory: Attempting to register factory for plugin cuFFT when one has already been registered\n",
            "2023-12-07 11:09:51.371533: E external/local_xla/xla/stream_executor/cuda/cuda_blas.cc:1515] Unable to register cuBLAS factory: Attempting to register factory for plugin cuBLAS when one has already been registered\n",
            "2023-12-07 11:09:51.382406: I tensorflow/core/platform/cpu_feature_guard.cc:182] This TensorFlow binary is optimized to use available CPU instructions in performance-critical operations.\n",
            "To enable the following instructions: AVX2 AVX512F AVX512_VNNI FMA, in other operations, rebuild TensorFlow with the appropriate compiler flags.\n",
            "2023-12-07 11:09:52.932164: W tensorflow/compiler/tf2tensorrt/utils/py_utils.cc:38] TF-TRT Warning: Could not find TensorRT\n"
          ]
        },
        {
          "name": "stdout",
          "output_type": "stream",
          "text": [
            "Word Index =  {'<OOV>': 1, 'i': 2, 'and': 3, 'to': 4, 'sos': 5, 'eos': 6, 'the': 7, 'a': 8, 'is': 9, 'have': 10, 'of': 11, 'for': 12, 'in': 13, 'you': 14, 'with': 15, 'or': 16, 'my': 17, 'if': 18, 'your': 19, 'be': 20, 'covid': 21, 'sep': 22, 'it': 23, 'not': 24, '19': 25, 'pneumonia': 26, 'can': 27, 'on': 28, 'are': 29, 'symptoms': 30, 'that': 31, 'this': 32, 'me': 33, 'like': 34, 'but': 35, 'should': 36, 'get': 37, 'from': 38, 'as': 39, 'cough': 40, 'would': 41, 'do': 42, 'been': 43, 'fever': 44, 'throat': 45, 'am': 46, 'was': 47, 'at': 48, 'has': 49, 'will': 50, 'what': 51, 'had': 52, 'no': 53, 'coronavirus': 54, 'so': 55, 'video': 56, 'virus': 57, 'brief': 58, 'tested': 59, 'days': 60, 'now': 61, 'chat': 62, 'text': 63, 'sore': 64, 'he': 65, 'chest': 66, 'doctor': 67, 'she': 68, 'also': 69, 'any': 70, 'need': 71, 'test': 72, 'contact': 73, 'infection': 74, 'home': 75, 'there': 76, 'treatment': 77, 'more': 78, 'an': 79, 'take': 80, 'about': 81, 'last': 82, 'her': 83, 'may': 84, 'by': 85, 'corona': 86, 'know': 87, 'query': 88, 'week': 89, 'all': 90, 'risk': 91, 'stay': 92, 'pain': 93, 'go': 94, 'help': 95, 'just': 96, 'other': 97, 'hi': 98, 'very': 99, 'good': 100, 'they': 101, 'how': 102, 'when': 103, '2': 104, 'we': 105, 'nose': 106, 'since': 107, 'some': 108, 'day': 109, 'then': 110, 'could': 111, 'self': 112, 'does': 113, 'up': 114, 'coughing': 115, 'breath': 116, 'hope': 117, 'after': 118, 'antibiotics': 119, 'time': 120, 'testing': 121, 'flu': 122, 'dr': 123, 'thanks': 124, 'further': 125, 'dry': 126, 'who': 127, 'old': 128, 'right': 129, 'lung': 130, '3': 131, 'hello': 132, 'only': 133, 'which': 134, 'feel': 135, 'someone': 136, 'one': 137, 'please': 138, 'back': 139, 'health': 140, 'care': 141, 'better': 142, 'call': 143, 'cold': 144, '1': 145, 'getting': 146, 'high': 147, 'still': 148, 'breathing': 149, 'out': 150, 'headache': 151, 'having': 152, 'his': 153, 'body': 154, 'use': 155, 'sick': 156, 'weeks': 157, 'possible': 158, \"don't\": 159, 'hospital': 160, 'well': 161, 'cause': 162, 'covid19': 163, 'people': 164, 'due': 165, 'ago': 166, 'feeling': 167, 'likely': 168, 'shortness': 169, 'x': 170, 'started': 171, 'temperature': 172, 'done': 173, 'ray': 174, 'quarantine': 175, 'because': 176, 'person': 177, 'year': 178, 'diagnosed': 179, 'severe': 180, 'consult': 181, 'over': 182, 'these': 183, 'away': 184, 'avoid': 185, 'years': 186, 'mild': 187, 'see': 188, '4': 189, 'diabetes': 190, 'low': 191, 'regards': 192, 'blood': 193, '5': 194, 'during': 195, 'usually': 196, 'isolate': 197, 'suggest': 198, 'here': 199, 'disease': 200, 'than': 201, 'him': 202, 'work': 203, 'positive': 204, 'taking': 205, 'night': 206, 'question': 207, 'respiratory': 208, 'yes': 209, 'concern': 210, 'most': 211, \"i'm\": 212, 'sure': 213, 'medical': 214, 'best': 215, 'runny': 216, 'keep': 217, 'few': 218, 'type': 219, 'heart': 220, 'much': 221, 'march': 222, 'long': 223, 'strep': 224, 'got': 225, 'worse': 226, 'i’m': 227, 'viral': 228, 'guidelines': 229, 'causes': 230, 'advice': 231, 'really': 232, 'yesterday': 233, 'first': 234, '14': 235, 'times': 236, 'left': 237, 'nasal': 238, 'such': 239, 'let': 240, 'fluids': 241, 'two': 242, 'slight': 243, 'given': 244, 'into': 245, 'assist': 246, '6': 247, 'patient': 248, 'today': 249, 'common': 250, \"it's\": 251, 'bit': 252, 'treated': 253, 'before': 254, 'asthma': 255, 'infections': 256, 'mask': 257, 'worried': 258, 'normal': 259, 'same': 260, 'antibiotic': 261, 'others': 262, 'however': 263, 'answered': 264, 'welcome': 265, 'through': 266, 'being': 267, 'sometimes': 268, 'went': 269, 'try': 270, 'think': 271, 'worry': 272, 'healthcare': 273, 'understand': 274, 'lungs': 275, 'rest': 276, 'bronchitis': 277, 'exposure': 278, 'patients': 279, 'concerned': 280, 'needed': 281, 'case': 282, 'way': 283, 'chronic': 284, 'travel': 285, 'diarrhea': 286, 'water': 287, 'want': 288, 'son': 289, 'medication': 290, 'morning': 291, 'going': 292, 'might': 293, 'many': 294, 'healthtap': 295, 'every': 296, 'where': 297, 'pandemic': 298, 'difficulty': 299, 'hard': 300, '7': 301, 'follow': 302, 'make': 303, '20': 304, 'around': 305, 'influenza': 306, 'solved': 307, 'give': 308, 'www': 309, 'magic': 310, 'happy': 311, 'past': 312, 'while': 313, 'meds': 314, 'seek': 315, 'aches': 316, 'prevent': 317, 'bad': 318, 'experiencing': 319, 'local': 320, 'https': 321, 'period': 322, 'come': 323, 'thank': 324, 'little': 325, 'phlegm': 326, 'lot': 327, 'travelled': 328, 'ibuprofen': 329, 'treat': 330, 'months': 331, 'exposed': 332, 'even': 333, 'start': 334, 'history': 335, 'without': 336, 'com': 337, 'advise': 338, 'headaches': 339, 'were': 340, 'next': 341, 'off': 342, 'using': 343, 'drink': 344, 'both': 345, 'associated': 346, 'report': 347, 't': 348, 'infected': 349, 'currently': 350, 'post': 351, 'them': 352, 'safe': 353, 'bacterial': 354, 'side': 355, 'blog': 356, 'check': 357, 'wear': 358, 'recovery': 359, 'sleep': 360, 'vaccine': 361, 'once': 362, 'tight': 363, 'daughter': 364, 'develop': 365, 'head': 366, 'viruses': 367, 'too': 368, 'ct': 369, 'hand': 370, 'system': 371, 'wish': 372, 'said': 373, 'gp': 374, 'cases': 375, 'must': 376, 'tired': 377, 'recently': 378, 'area': 379, 'traveled': 380, 'again': 381, 'another': 382, 'food': 383, 'immune': 384, 'don’t': 385, 'tests': 386, 'spread': 387, 'recommend': 388, 'guide': 389, 'month': 390, 'until': 391, 'down': 392, 'fine': 393, 'probably': 394, 'against': 395, \"i've\": 396, 'close': 397, 'control': 398, '10': 399, 'etc': 400, 's': 401, 'family': 402, 'pressure': 403, 'age': 404, 'mean': 405, 'say': 406, 'us': 407, 'hours': 408, 'did': 409, 'sinus': 410, 'hands': 411, 'maybe': 412, 'pulmonologist': 413, 'protect': 414, 'culture': 415, 'current': 416, 'something': 417, 'chills': 418, 'under': 419, 'problem': 420, 'confirmed': 421, 'short': 422, 'vomiting': 423, 'least': 424, 'smoking': 425, 'diagnosis': 426, 'touch': 427, 'warm': 428, 'yourself': 429, 'temp': 430, 'anyone': 431, 'mouth': 432, 'chances': 433, 'visit': 434, 'persistent': 435, 'yet': 436, 'phone': 437, 'issue': 438, 'congestion': 439, 'it’s': 440, 'physician': 441, 'allergies': 442, 'recurrent': 443, 'service': 444, 'found': 445, 'gave': 446, 'm': 447, 'told': 448, 'clear': 449, 'its': 450, 'either': 451, 'mother': 452, 'scared': 453, 'put': 454, 'live': 455, 'new': 456, 'c': 457, 'i’ve': 458, 'criteria': 459, 'following': 460, 'wash': 461, 'monitor': 462, 'grade': 463, 'symptom': 464, 'showing': 465, 'later': 466, 'feels': 467, 'seen': 468, 'upper': 469, 'scratchy': 470, 'our': 471, 'daily': 472, 'eyes': 473, 'mucus': 474, 'less': 475, 'myself': 476, 'isolated': 477, 'er': 478, 'available': 479, 'ask': 480, 'reviewed': 481, 'wife': 482, 'die': 483, 'known': 484, 'immunity': 485, 'taken': 486, 'continue': 487, 'serious': 488, 'definitely': 489, 'running': 490, '2020': 491, 'include': 492, 'rate': 493, 'washing': 494, '‘ask': 495, 'doctor’': 496, 'enough': 497, 'husband': 498, 'country': 499, 'came': 500, 'sneezing': 501, 'office': 502, 'twice': 503, 'amoxicillin': 504, 'shot': 505, 'lower': 506, 'ill': 507, 'illness': 508, 'life': 509, 'always': 510, 'fatigue': 511, 'treating': 512, 'working': 513, 'including': 514, 'catching': 515, \"doesn't\": 516, 'access': 517, 'kill': 518, 'drugs': 519, 'paracetamol': 520, 'neck': 521, 'via': 522, 'worsening': 523, 'general': 524, 'present': 525, 'evaluated': 526, 'surfaces': 527, 'depends': 528, 'especially': 529, 'possibly': 530, 'situation': 531, 'medicine': 532, 'constant': 533, 'per': 534, 'different': 535, 'necessary': 536, 'steroids': 537, 'outside': 538, 'anxiety': 539, 'prescribed': 540, 'able': 541, 'those': 542, 'tell': 543, 'transmitted': 544, 'drip': 545, 'precautions': 546, 'effective': 547, 'discuss': 548, 'wishing': 549, 'clinical': 550, 'find': 551, 'never': 552, 'smoke': 553, 'surgery': 554, 'ear': 555, 'doctors': 556, 'seems': 557, 'sensation': 558, 'problems': 559, '15': 560, 'coming': 561, 'between': 562, 'show': 563, 'conditions': 564, 'sounds': 565, 'else': 566, 'higher': 567, 'children': 568, 'face': 569, 'inhaled': 570, 'unless': 571, 'wait': 572, 'couple': 573, 'felt': 574, 'mostly': 575, 'along': 576, 'developed': 577, 'pulmonary': 578, 'almost': 579, 'opinion': 580, 'non': 581, 'heavy': 582, 'read': 583, 'three': 584, 'wheezing': 585, 'condition': 586, '8': 587, 'ache': 588, 'course': 589, 'mom': 590, 'unlikely': 591, 'doing': 592, 'public': 593, 'their': 594, 'healthy': 595, 'pcp': 596, 'living': 597, 'provider': 598, 'questions': 599, 'healthcaremagic': 600, 'data': 601, 'alright': 602, 'light': 603, 'anything': 604, 'im': 605, 'female': 606, 'fluid': 607, 'goes': 608, 'complications': 609, 'took': 610, 'things': 611, 'why': 612, 'anti': 613, 'sign': 614, 'returned': 615, 'areas': 616, 'lockdown': 617, 'pains': 618, 'shoulder': 619, 'specific': 620, 'related': 621, 'consider': 622, 'sinuses': 623, 'used': 624, 'controlled': 625, 'information': 626, 'thoroughly': 627, 'bothersome': 628, 'sob': 629, 'social': 630, 'sensitivity': 631, 'jolanda': 632, 'feet': 633, 'nurse': 634, 'practice': 635, 'medications': 636, 'though': 637, 'stomach': 638, 'muscle': 639, 'irritation': 640, 'friday': 641, 'soon': 642, 'ok': 643, 'breathe': 644, 'hurts': 645, 'steroid': 646, 'thing': 647, 'gone': 648, 'scan': 649, 'end': 650, 'signs': 651, 'results': 652, 'consultation': 653, 'trouble': 654, 'dear': 655, 'except': 656, 'change': 657, 'sound': 658, 'masks': 659, 'quickly': 660, 'idea': 661, 'protection': 662, 'sputum': 663, 'possibility': 664, 'comi': 665, 'examination': 666, '38': 667, 'although': 668, 'waiting': 669, 'comes': 670, 'checked': 671, 'states': 672, 'answer': 673, 'burning': 674, 'suffering': 675, 'heard': 676, 'true': 677, 'stop': 678, 'chance': 679, 'full': 680, 'slightly': 681, 'tried': 682, 'leave': 683, 'trying': 684, 'based': 685, 'tb': 686, '25': 687, 'function': 688, 'severity': 689, 'oral': 690, 'difficult': 691, 'pft': 692, 'second': 693, 'level': 694, 'caused': 695, 'air': 696, 'woke': 697, 'hot': 698, 'quite': 699, 'deep': 700, 'completely': 701, 'free': 702, 'ever': 703, 'improve': 704, 'group': 705, 'urgent': 706, 'copd': 707, 'isolation': 708, 'showed': 709, 'giving': 710, 'already': 711, 'seem': 712, 'wondering': 713, 'look': 714, 'plus': 715, 've': 716, 'contagious': 717, 'death': 718, 'white': 719, 'part': 720, 'everything': 721, 'soap': 722, 'muscles': 723, 'exercise': 724, 'improving': 725, 'clothes': 726, 'primary': 727, 'details': 728, 'underlying': 729, 'symptomatic': 730, 'causative': 731, 'important': 732, 'according': 733, 'evaluation': 734, 'pregnant': 735, 'wednesday': 736, 'diabetic': 737, 'town': 738, 'catch': 739, 'contract': 740, 'survive': 741, 'believe': 742, 'inhalers': 743, '100': 744, 'nothing': 745, 'ears': 746, 'within': 747, 'inhaler': 748, 'bacteria': 749, 'actually': 750, 'monday': 751, 'alcohol': 752, 'recent': 753, 'loss': 754, 'sanitizer': 755, 'rather': 756, 'dying': 757, 'drug': 758, 'kids': 759, 'outbreak': 760, 'management': 761, 'complete': 762, 'effect': 763, 'regarding': 764, 'house': 765, 'upon': 766, 'allergic': 767, 'discomfort': 768, 'early': 769, 'irritants': 770, 'sees': 771, 'typically': 772, 'instructions': 773, 'dizzy': 774, 'painful': 775, 'talking': 776, 'gloves': 777, 'levaquin': 778, 'extra': 779, '18': 780, 'evening': 781, 'steps': 782, 'stuffy': 783, 'talk': 784, 'tuesday': 785, 'cape': 786, 'longer': 787, '30': 788, 'yrs': 789, 'cancer': 790, 'intermittent': 791, 'starting': 792, 'several': 793, 'doc': 794, 'arrived': 795, 'lots': 796, 'causing': 797, 'sent': 798, 'xray': 799, 'recommended': 800, 'gets': 801, 'clinic': 802, 'suspect': 803, 'eat': 804, 'skin': 805, 'virtual': 806, 'small': 807, 'above': 808, 'mg': 809, '39': 810, 'called': 811, 'minor': 812, 'allergy': 813, 'effects': 814, 'emergency': 815, 'store': 816, 'cure': 817, 'sexually': 818, 'sinusitis': 819, 'needs': 820, 'immediately': 821, 'appropriate': 822, 'sex': 823, 'affected': 824, 'measures': 825, 'everyone': 826, 'arrange': 827, 'tract': 828, 'organism': 829, 'clears': 830, 'incubation': 831, 'weak': 832, 'beginning': 833, 'distance': 834, 'response': 835, 'whether': 836, 'red': 837, 'cannot': 838, 're': 839, 'negative': 840, '11': 841, 'n': 842, 'admitted': 843, 'facility': 844, 'room': 845, 'open': 846, '9': 847, 'yr': 848, 'count': 849, 'stopped': 850, '23': 851, 'itching': 852, 'touching': 853, 'department': 854, 'syndrome': 855, 'mortality': 856, 'vitamin': 857, 'injection': 858, 'appointment': 859, 'cant': 860, 'own': 861, 'itchy': 862, 'bronchoscopy': 863, '37': 864, 'visited': 865, 'frequently': 866, 'often': 867, 'tend': 868, 'whereas': 869, 'preventing': 870, 'forum': 871, 'systemic': 872, 'v': 873, 'places': 874, 'nicd': 875, 'info': 876, 'dont': 877, 'don': 878, 'tiredness': 879, 'dose': 880, 'hurt': 881, 'vaccines': 882, 'ribs': 883, 'minimal': 884, 'ventilator': 885, 'stage': 886, 'place': 887, 'syrup': 888, 'till': 889, 'spray': 890, 'smoker': 891, 'parents': 892, '13': 893, 'tonsils': 894, 'constantly': 895, 'levofloxacin': 896, 'cured': 897, 'hospitalized': 898, 'cell': 899, 'changes': 900, 'thought': 901, 'advised': 902, '27': 903, 'becoming': 904, 'hydrated': 905, 'safety': 906, 'pills': 907, 'weird': 908, '21': 909, 'news': 910, 'increase': 911, 'certain': 912, 'can’t': 913, 'remember': 914, 'swollen': 915, 'reduce': 916, 'salt': 917, 'soar': 918, 'asked': 919, 'state': 920, '12': 921, 'means': 922, 'nausea': 923, 'simple': 924, 'direct': 925, 'government': 926, 'whole': 927, 'order': 928, 'extremely': 929, 'joint': 930, 'tylenol': 931, 'provide': 932, 'colds': 933, 'cooking': 934, 'cardiac': 935, 'kidney': 936, 'lacks': 937, 'plenty': 938, 'rule': 939, 'acetaminophen': 940, 'depending': 941, 'supportive': 942, 'distancing': 943, 'bronchodilators': 944, 'jnikolla': 945, 'kaushal': 946, 'bhavsar': 947, 'meet': 948, '0800': 949, '029': 950, '999': 951, 'helps': 952, 'proper': 953, 'happen': 954, 'appetite': 955, 'hospitals': 956, '99': 957, 'het': 958, '60': 959, 'flue': 960, 'icu': 961, 'recover': 962, 'friend': 963, 'weight': 964, 'child': 965, 'prescription': 966, '80': 967, '102': 968, 'wbc': 969, 'dangerous': 970, 'recovering': 971, 'suspected': 972, 'line': 973, 'kind': 974, 'each': 975, 'required': 976, 'lab': 977, 'pneumococcal': 978, 'intercourse': 979, 'staying': 980, 'degrees': 981, 'dust': 982, 'safer': 983, 'susceptible': 984, 'lightheaded': 985, 'sneeze': 986, 'sleeping': 987, 'screening': 988, 'frequent': 989, 'says': 990, 'factors': 991, 'online': 992, 'regular': 993, 'watch': 994, 'grocery': 995, 'stress': 996, 'instead': 997, 'eye': 998, 'lysol': 999, 'cover': 1000, 'experience': 1001, 'diseases': 1002, '03': 1003, 'gargle': 1004, 'md': 1005, 'telephonic': 1006, 'telephonically': 1007, 'similar': 1008, 'inflammatory': 1009, 'bal': 1010, 'respected': 1011, 'avoiding': 1012, 'cervix': 1013, 'despite': 1014, 'reason': 1015, 'sepsis': 1016, 'saturday': 1017, '22': 1018, '35': 1019, 'plan': 1020, 'result': 1021, 'baby': 1022, 'eating': 1023, 'starts': 1024, 'older': 1025, '3rd': 1026, '101': 1027, 'anyway': 1028, 'sweating': 1029, 'discovery': 1030, 'bed': 1031, 'france': 1032, 'absolutely': 1033, 'worker': 1034, 'blocked': 1035, 'requiring': 1036, 'far': 1037, 'w': 1038, 'additional': 1039, 'risks': 1040, '70': 1041, 'plane': 1042, '68': 1043, 'lobe': 1044, 'therapy': 1045, 'name': 1046, 'thursday': 1047, 'oxygen': 1048, 'properly': 1049, 'el': 1050, 'hpv': 1051, 'coughed': 1052, 'arthritis': 1053, 'abdominal': 1054, 'germs': 1055, 'lead': 1056, 'usual': 1057, 'medicines': 1058, 'linked': 1059, '17': 1060, 'dizziness': 1061, 'half': 1062, 'household': 1063, 'overseas': 1064, 'become': 1065, 'center': 1066, 'countries': 1067, 'novel': 1068, 'tender': 1069, 'increases': 1070, 'walk': 1071, 'stuff': 1072, 'assistance': 1073, 'quit': 1074, 'haven’t': 1075, 'u': 1076, 'walking': 1077, 'brain': 1078, 'isn’t': 1079, 'confirm': 1080, 'significant': 1081, 'dehydration': 1082, 'made': 1083, 'increased': 1084, 'nsaids': 1085, 'form': 1086, 'correct': 1087, 'de': 1088, 'infectious': 1089, 'disinfect': 1090, 'bhagyesh': 1091, 'patel': 1092, 'unknown': 1093, 'services': 1094, 'explain': 1095, 'inflammation': 1096, 'thorax': 1097, 'resources': 1098, 'possibilities': 1099, 'user': 1100, \"one's\": 1101, 'clean': 1102, 'poor': 1103, 'airborne': 1104, 'clinics': 1105, 'met': 1106, 'afternoon': 1107, 'coughs': 1108, 'strange': 1109, 'community': 1110, 'returning': 1111, 'severely': 1112, 'vomit': 1113, 'sat': 1114, 'passed': 1115, 'urine': 1116, 'filters': 1117, 'car': 1118, \"you've\": 1119, 'onset': 1120, 'ice': 1121, '50': 1122, 'brother': 1123, 'keeps': 1124, 'point': 1125, 'hospitalised': 1126, 'b': 1127, 'four': 1128, 'abscess': 1129, 'takes': 1130, '98': 1131, 'wet': 1132, 'asthmatic': 1133, 'number': 1134, 'headed': 1135, 'reported': 1136, 'quarantined': 1137, 'real': 1138, 'arm': 1139, 'reflux': 1140, 'boost': 1141, 'weakness': 1142, 'advil': 1143, 'great': 1144, 'generally': 1145, 'considered': 1146, 'contracting': 1147, 'shopping': 1148, 'intravenous': 1149, 'confused': 1150, 'sister': 1151, 'apart': 1152, 'stand': 1153, '63': 1154, '500': 1155, 'unwell': 1156, 'tightness': 1157, 'runs': 1158, 'fingers': 1159, 'seasonal': 1160, 'combination': 1161, 'fevers': 1162, 'azithromycin': 1163, 'absence': 1164, 'basically': 1165, 'isolating': 1166, 'yoga': 1167, 'shoes': 1168, 'nor': 1169, 'cells': 1170, 'toenail': 1171, 'iv': 1172, 'attack': 1173, 'maintain': 1174, 'basis': 1175, 'making': 1176, 'support': 1177, 'tuberculosis': 1178, 'relation': 1179, 'machine': 1180, 'world': 1181, 'bone': 1182, 'attention': 1183, 'ones': 1184, 'mind': 1185, 'hrct': 1186, 'bleeding': 1187, 'platform': 1188, 'otherwise': 1189, 'transmission': 1190, 'reports': 1191, 'surgeon': 1192, 'formoterol': 1193, 'salmeterol': 1194, 'site': 1195, 'corticosteroid': 1196, 'ics': 1197, 'apply': 1198, 'regardsdr': 1199, 'airways': 1200, 'itself': 1201, \"won't\": 1202, 'diagnose': 1203, 'availability': 1204, 'adequate': 1205, 'likelihood': 1206, 'dearwarm': 1207, 'outcomes': 1208, 'booster': 1209, 'hey': 1210, '36': 1211, 'wanted': 1212, 'ook': 1213, 'hoarse': 1214, 'advanced': 1215, 'feverish': 1216, 'knew': 1217, 'wearing': 1218, 'dark': 1219, 'covered': 1220, 'developing': 1221, 'australia': 1222, 'seconds': 1223, 'affect': 1224, 'temperatures': 1225, 'multiple': 1226, 'pnemonia': 1227, 'cov': 1228, '24': 1229, 'five': 1230, 'suffered': 1231, 'improvement': 1232, 'remain': 1233, 'bilateral': 1234, 'yyyy': 1235, 'festival': 1236, 'basal': 1237, '7days': 1238, 'recovered': 1239, 'hear': 1240, 'third': 1241, 'swimming': 1242, 'hospitalization': 1243, 'shows': 1244, 'suggestions': 1245, 'previously': 1246, 'lack': 1247, 'contracted': 1248, 'sharp': 1249, 'sir': 1250, 'suffer': 1251, 'prognosis': 1252, 'lymph': 1253, 'region': 1254, 'med': 1255, 'spreading': 1256, 'referral': 1257, 'worked': 1258, 'lately': 1259, 'albuterol': 1260, 'methotrexate': 1261, 'vulnerable': 1262, 'transportation': 1263, 'double': 1264, 'amount': 1265, 'friends': 1266, 'gives': 1267, 'drinking': 1268, 'persons': 1269, 'inflamed': 1270, 'screened': 1271, 'prior': 1272, 'screen': 1273, 'reasons': 1274, 'aching': 1275, 'deficiency': 1276, 'garden': 1277, 'choice': 1278, 'pretty': 1279, 'strong': 1280, 'numb': 1281, 'tingling': 1282, 'rid': 1283, 'expected': 1284, 'injury': 1285, 'south': 1286, 'africa': 1287, 'hurting': 1288, 'parangities': 1289, 'discovered': 1290, 'ability': 1291, 'liver': 1292, 'easier': 1293, 'unaffected': 1294, 'forward': 1295, 'transplant': 1296, 'sneezed': 1297, 'alone': 1298, 'displaying': 1299, 'precaution': 1300, 'inhale': 1301, 'monitoring': 1302, 'range': 1303, 'pathology': 1304, 'option': 1305, 'germany': 1306, 'school': 1307, 'tourists': 1308, \"can't\": 1309, 'difficulties': 1310, 'recommendations': 1311, 'ingrown': 1312, 'physical': 1313, 'unaware': 1314, 'cdc': 1315, 'location': 1316, 'unfortunately': 1317, 'inside': 1318, 'shower': 1319, 'shave': 1320, 'beard': 1321, 'eg': 1322, 'moment': 1323, 'cpap': 1324, 'responsible': 1325, 'seeing': 1326, 'hypertension': 1327, 'panado': 1328, 'treatments': 1329, 'sense': 1330, 'una': 1331, 'tienen': 1332, 'worsen': 1333, 'orally': 1334, 'counter': 1335, 'particularly': 1336, 'suggestive': 1337, 'zinc': 1338, 'image': 1339, 'extent': 1340, 'exercises': 1341, 'organisms': 1342, 'diet': 1343, 'fluticasone': 1344, 'asymptomatic': 1345, 'status': 1346, 'limited': 1347, 'followed': 1348, \"you're\": 1349, 'pediatrician': 1350, 'request': 1351, 'faster': 1352, 'issues': 1353, 'shots': 1354, 'evenings': 1355, 'unusual': 1356, 'mildly': 1357, 'mid': 1358, 'waking': 1359, 'pretoria': 1360, 'father': 1361, 'weekend': 1362, 'pleurisy': 1363, 'date': 1364, 'reading': 1365, 'included': 1366, 'queries': 1367, 'hip': 1368, 'jan': 1369, 'sars': 1370, 'infect': 1371, 'return': 1372, 'okay': 1373, 'became': 1374, 'occasionally': 1375, 'bouts': 1376, 'pack': 1377, 'reaction': 1378, 'min': 1379, 'loose': 1380, 'leaving': 1381, 'mucinex': 1382, 'hiv': 1383, 'appear': 1384, 'antihistamine': 1385, 'pay': 1386, '82': 1387, 'parkinson': 1388, 'critical': 1389, 'specialist': 1390, 'hour': 1391, 'cool': 1392, 'doesn’t': 1393, 'continued': 1394, 'pool': 1395, 'co': 1396, 'broke': 1397, '72': 1398, '28': 1399, 'mass': 1400, 'pls': 1401, 'everyday': 1402, 'failure': 1403, 'among': 1404, 'individuals': 1405, '33': 1406, 'performed': 1407, 'hair': 1408, 'money': 1409, 'fast': 1410, 'keeping': 1411, 'middle': 1412, 'summer': 1413, 'dubai': 1414, 'sa': 1415, 'china': 1416, 'genital': 1417, 'simply': 1418, 'relief': 1419, 'barking': 1420, 'tonsillitis': 1421, 'lost': 1422, '1st': 1423, 'staff': 1424, 'april': 1425, 'minutes': 1426, 'makes': 1427, 'refilled': 1428, 'refill': 1429, 'position': 1430, 'degree': 1431, 'acid': 1432, 'determine': 1433, 'mainly': 1434, 'previous': 1435, 'removal': 1436, '65': 1437, 'yearly': 1438, 'legs': 1439, 'rheumatoid': 1440, 'works': 1441, 'swelling': 1442, 'accompanied': 1443, 'vaccination': 1444, 'doesnt': 1445, 'tablet': 1446, 'none': 1447, 'members': 1448, 'groceries': 1449, 'illnesses': 1450, 'lozenges': 1451, '67': 1452, 'turned': 1453, 'antibacterial': 1454, 'begin': 1455, 'guidance': 1456, 'resolve': 1457, 'dead': 1458, 'qualify': 1459, 'asking': 1460, 'private': 1461, 'swab': 1462, 'informed': 1463, 'below': 1464, 'analysis': 1465, 'leads': 1466, 'manifest': 1467, 'stable': 1468, 'elderly': 1469, 'greater': 1470, 'animal': 1471, 'agree': 1472, 'oily': 1473, 'pharmacist': 1474, 'article': 1475, 'finished': 1476, \"haven't\": 1477, 'concerning': 1478, \"isn't\": 1479, 'ace': 1480, 'struggle': 1481, 'ft': 1482, 'damage': 1483, 'warrant': 1484, 'kept': 1485, 'receptor': 1486, 'setting': 1487, 'wed': 1488, 'd': 1489, 'methadone': 1490, 'doubt': 1491, 'resistant': 1492, 'easily': 1493, 'animals': 1494, 'dos': 1495, 'sin': 1496, 'hygiene': 1497, 'indicated': 1498, 'pathogens': 1499, 'painkiller': 1500, 'loved': 1501, 'secondary': 1502, 'young': 1503, 'achieve': 1504, 'hydration': 1505, 'secretions': 1506, 'functions': 1507, 'guess': 1508, 'telemedicine': 1509, 'diabetics': 1510, 'bronchospasm': 1511, 'surgical': 1512, 'airway': 1513, 'gargles': 1514, 'distress': 1515, 'pick': 1516, 'lavage': 1517, 'luck': 1518, 'budesonide': 1519, 'guideline': 1520, 'evidence': 1521, 'exact': 1522, 'separated': 1523, 'develops': 1524, 'highly': 1525, 'perhaps': 1526, 'safely': 1527, 'overwhelmed': 1528, 'panic': 1529, 'host': 1530, 'sort': 1531, 'necessarily': 1532, 'rsa': 1533, 'elbow': 1534, '29': 1535, 'beyond': 1536, 'measles': 1537, 'vaccinations': 1538, 'calmed': 1539, 'unnecessarily': 1540, 'np': 1541, 'ek': 1542, 'sounding': 1543, 'battling': 1544, 'wrong': 1545, 'february': 1546, \"i'd\": 1547, 'antibodies': 1548, 'snotty': 1549, 'sweat': 1550, 'sunday': 1551, 'rhineton': 1552, 'aid': 1553, 'putting': 1554, 'filter': 1555, 'pill': 1556, 'enlarged': 1557, 'fear': 1558, '26': 1559, 'spiking': 1560, 'play': 1561, 'elevated': 1562, 'z': 1563, 'slept': 1564, 'doxycycline': 1565, 'imodium': 1566, '103': 1567, 'earlier': 1568, 'together': 1569, 'hba1c': 1570, 'p': 1571, 'healing': 1572, 'process': 1573, 'member': 1574, 'released': 1575, 'humidity': 1576, 'epidemic': 1577, 'improved': 1578, 'break': 1579, 'stronger': 1580, 'smoked': 1581, 'antibotics': 1582, '2017': 1583, 'concerns': 1584, 'quarantining': 1585, 'she’s': 1586, \"i'll\": 1587, 'relative': 1588, 'pattern': 1589, 'nodes': 1590, '23rd': 1591, 'covering': 1592, 'experienced': 1593, 'big': 1594, 'wants': 1595, 'lemon': 1596, 'sporadic': 1597, 'zpack': 1598, 'noticed': 1599, 'thinking': 1600, 'standing': 1601, 'acute': 1602, 'e': 1603, 'sugar': 1604, 'kinda': 1605, 'indicate': 1606, 'traveling': 1607, 'ran': 1608, 'spitting': 1609, 'run': 1610, 'ensure': 1611, 'manage': 1612, 'incidence': 1613, 'major': 1614, 'products': 1615, 'large': 1616, '16': 1617, 'matter': 1618, '40': 1619, 'listen': 1620, 'stayed': 1621, 'hotel': 1622, 'fri': 1623, 'didn’t': 1624, 'vaccinated': 1625, 'careful': 1626, 'burping': 1627, 'gotten': 1628, 'corvid19': 1629, 'pendemic': 1630, 'continuous': 1631, 'normally': 1632, 'saw': 1633, 'drop': 1634, 'decrease': 1635, 'vte': 1636, '2nd': 1637, 'rash': 1638, 'adults': 1639, 'teacher': 1640, 'green': 1641, 'ra': 1642, 'rapid': 1643, 'slow': 1644, 'celsius': 1645, 'bali': 1646, 'aspiration': 1647, 'supposed': 1648, 'refills': 1649, 'glands': 1650, 'students': 1651, 'induced': 1652, 'mixture': 1653, 'fewer': 1654, 'increasing': 1655, 'i’d': 1656, 'node': 1657, 'suddenly': 1658, 'quarters': 1659, 'false': 1660, 'compared': 1661, 'prolia': 1662, 'postpone': 1663, 'lives': 1664, 'kinds': 1665, 'entire': 1666, 'depend': 1667, 'inevitable': 1668, 'asleep': 1669, 'colleague': 1670, 'stores': 1671, 'research': 1672, 'assume': 1673, 'tickle': 1674, 'cheek': 1675, 'worsened': 1676, 'secondhand': 1677, 'internet': 1678, 'potential': 1679, 'nyquil': 1680, 'resting': 1681, 'compromised': 1682, 'front': 1683, 'fall': 1684, 'confusion': 1685, 'paining': 1686, 'falls': 1687, 'move': 1688, 'flew': 1689, 'fridge': 1690, 'iam': 1691, 'productive': 1692, 'breathlessness': 1693, 'nauseous': 1694, 'bug': 1695, 'tension': 1696, 'painfull': 1697, 'energy': 1698, 'directors': 1699, 'threatening': 1700, 'outpatient': 1701, 'interstitial': 1702, 'trachea': 1703, 'finger': 1704, 'poisoning': 1705, 'fruits': 1706, 'besides': 1707, 'thort': 1708, 'realized': 1709, 'becomes': 1710, 'seriously': 1711, 'lesions': 1712, 'curb': 1713, '5ml': 1714, 'nurofen': 1715, 'door': 1716, 'keycare': 1717, 'fight': 1718, 'uk': 1719, 'tooth': 1720, 'voice': 1721, 'repeat': 1722, 'joburg': 1723, 'workers': 1724, 'pharmacy': 1725, 'special': 1726, 'seldom': 1727, 'foot': 1728, 'happening': 1729, 'y': 1730, 'whatever': 1731, 'fungal': 1732, 'total': 1733, 'europe': 1734, 'gov': 1735, 'rare': 1736, 'genetic': 1737, 'difference': 1738, 'girlfriend': 1739, 'kidneys': 1740, 'breast': 1741, 'doses': 1742, 'usa': 1743, 'pets': 1744, 'f': 1745, \"didn't\": 1746, 'versus': 1747, 'sudden': 1748, 'jhb': 1749, 'looking': 1750, 'biopsy': 1751, '500mg': 1752, 'impossible': 1753, 'entering': 1754, 'united': 1755, 'marrow': 1756, 'fluey': 1757, 'angiotensin': 1758, 'ar’s': 1759, 'enters': 1760, 'fell': 1761, 'itchiness': 1762, 'acquired': 1763, 'disprin': 1764, 'odd': 1765, 'partner': 1766, 'individual': 1767, 'boyfriend': 1768, 'smell': 1769, 'nostrils': 1770, 'tissue': 1771, 'vih': 1772, 'top': 1773, 'primarily': 1774, 'chandra': 1775, 'shekhar': 1776, 'jy': 1777, 'doh': 1778, 'covers': 1779, 'rise': 1780, 'uncontrolled': 1781, 'endemic': 1782, 'international': 1783, 'fragile': 1784, 'gradually': 1785, 'appears': 1786, 'protective': 1787, 'occur': 1788, 'commonly': 1789, 'pad': 1790, 'lancet': 1791, 'mention': 1792, 'kissing': 1793, 'add': 1794, 'require': 1795, 'liquids': 1796, 'kits': 1797, 'identify': 1798, 'happens': 1799, 'exam': 1800, 'bronchoalveolar': 1801, 'asap': 1802, 'utm': 1803, 'source': 1804, \"there's\": 1805, 'calls': 1806, 'foods': 1807, 'various': 1808, 'strongly': 1809, 'capacity': 1810, 'strains': 1811, 'rarely': 1812, 'wil': 1813, 'vary': 1814, \"aren't\": 1815, 'notify': 1816, 'textbook': 1817, 'supplies': 1818, 'agent': 1819, 'examined': 1820, 'helpful': 1821, 'saline': 1822, 'ht': 1823, 'bronchi': 1824, 'human': 1825, 'hotline': 1826, 'wipes': 1827, 'respond': 1828, 'nerve': 1829, 'progress': 1830, 'action': 1831, 'mar': 1832, 'decades': 1833, 'cash': 1834, 'send': 1835, 'separate': 1836, 'paint': 1837, 'canada': 1838, 'employee': 1839, 'apple': 1840, 'mulluscum': 1841, 'birth': 1842, 'facts': 1843, 'expose': 1844, 'prednisone': 1845, 'anymore': 1846, 'inconsistent': 1847, 'neus': 1848, 'hoes': 1849, 'moontlik': 1850, 'hoofpyn': 1851, 'ended': 1852, 'odor': 1853, 'describe': 1854, 'initially': 1855, 'yawn': 1856, 'boyfriends': 1857, 'herself': 1858, 'occasional': 1859, 'bloody': 1860, 'medival': 1861, 'stuck': 1862, 'pe': 1863, 'expectorant': 1864, 'lying': 1865, 'ptb': 1866, 'anemic': 1867, 'essential': 1868, 'contacting': 1869, 'st': 1870, 'stephens': 1871, 'nt': 1872, 'cost': 1873, 'contacted': 1874, 'provided': 1875, 'bp': 1876, 'thinners': 1877, 'probiotics': 1878, 'rounds': 1879, 'whenever': 1880, 'assuming': 1881, 'added': 1882, 'discharged': 1883, 'effected': 1884, 'o2': 1885, 'exhausted': 1886, 'unable': 1887, 'wks': 1888, 'scary': 1889, 'nursing': 1890, 'december': 1891, 'layer': 1892, 'apparently': 1893, 'bacterias': 1894, 'creatures': 1895, 'relapse': 1896, 'tdap': 1897, 'remove': 1898, 'removed': 1899, 'spot': 1900, 'o': 1901, 'overall': 1902, 'round': 1903, 'city': 1904, 'completed': 1905, 'flight': 1906, 'transmit': 1907, 'en': 1908, 'spit': 1909, 'fnac': 1910, 'sanitize': 1911, 'august': 1912, 'book': 1913, 'tomorrow': 1914, 'subsegmental': 1915, 'bronchial': 1916, 'sufficient': 1917, 'spots': 1918, 'lump': 1919, 'dog': 1920, 'bout': 1921, 'random': 1922, 'bt': 1923, 'slowly': 1924, 'dropped': 1925, '96': 1926, 'palpitations': 1927, 'aged': 1928, 'g': 1929, 'organs': 1930, 'island': 1931, 'theres': 1932, 'plegm': 1933, 'remedy': 1934, '5mg': 1935, 'changing': 1936, 'crying': 1937, 'depression': 1938, 'fatal': 1939, 'costochondritis': 1940, 'active': 1941, 'workouts': 1942, 'dealing': 1943, 'affecting': 1944, 'kg': 1945, 'busy': 1946, 'tube': 1947, 'ex': 1948, 'shut': 1949, 'op': 1950, 'penicillin': 1951, 'seer': 1952, 'keel': 1953, 'strength': 1954, 'brent': 1955, 'haven': 1956, 'specially': 1957, 'armpits': 1958, 'reinfected': 1959, 'whiteout': 1960, 'outline': 1961, 'congested': 1962, 'laying': 1963, 'numerous': 1964, 'fairly': 1965, 'cigarette': 1966, 'mixed': 1967, 'tobacco': 1968, 'singapore': 1969, 'press': 1970, 'near': 1971, 'expect': 1972, 'hotter': 1973, 'climates': 1974, 'gargling': 1975, 'yellowish': 1976, 'behind': 1977, 'ways': 1978, 'managing': 1979, 'ongoing': 1980, 'stated': 1981, 'arrhythmia': 1982, 'indicates': 1983, 'male': 1984, 'november': 1985, 'throats': 1986, 'hacking': 1987, 'irregular': 1988, 'incentive': 1989, 'discharge': 1990, '90': 1991, 'malaise': 1992, 'conjunctivitis': 1993, 'crisis': 1994, 'moderate': 1995, 'frame': 1996, 'psychological': 1997, 'tablets': 1998, 'chlorzoxazone': 1999, 'volunteer': 2000, 'visiting': 2001, 'weather': 2002, 'environment': 2003, 'touched': 2004, 'act': 2005, 'irritated': 2006, 'original': 2007, 'shoulders': 2008, 'semi': 2009, 'mucous': 2010, 'aware': 2011, 'allergens': 2012, 'drainage': 2013, 'watery': 2014, '400': 2015, 'tummy': 2016, 'step': 2017, 'fibromyalgia': 2018, 'chart': 2019, 'cat': 2020, 'led': 2021, 'fact': 2022, 'natural': 2023, 'pump': 2024, 'pounding': 2025, 'balance': 2026, 'caughing': 2027, 'eggs': 2028, 'linear': 2029, 'atelectasis': 2030, '57': 2031, 'hydroxychloroquine': 2032, 'worth': 2033, 'letter': 2034, 'event': 2035, 'sugars': 2036, 'officials': 2037, 'class': 2038, 'neighbor': 2039, 'target': 2040, '125mg': 2041, 'metal': 2042, 'plastic': 2043, 'feb': 2044, 'emerging': 2045, 'growing': 2046, 'inner': 2047, 'accompany': 2048, 'typical': 2049, 'managed': 2050, 'remotely': 2051, 'sour': 2052, 'maternity': 2053, 'india': 2054, 'alveolar': 2055, 'hold': 2056, 'god': 2057, 'entered': 2058, 'physiotherapy': 2059, 'bring': 2060, 'advisable': 2061, 'boop': 2062, 'worrying': 2063, 'justified': 2064, 'lock': 2065, 'deeply': 2066, 'notice': 2067, 'naproxen': 2068, 'addition': 2069, 'rheumatic': 2070, 'destroyed': 2071, 'temporarily': 2072, 'changed': 2073, 'fit': 2074, 'straight': 2075, 'dentist': 2076, 'root': 2077, 'inhibitors': 2078, 'exacerbate': 2079, 'unexpected': 2080, 'fatigued': 2081, 'extreme': 2082, 'protocol': 2083, 'student': 2084, 'drive': 2085, 'diagnostic': 2086, 'precisely': 2087, 'prescriptions': 2088, 'amox': 2089, 'nodule': 2090, 'final': 2091, 'younger': 2092, 'expression': 2093, 'episodes': 2094, 'junk': 2095, \"he's\": 2096, 'raas': 2097, 'main': 2098, 'assessment': 2099, 'airports': 2100, 'disorders': 2101, 'occurs': 2102, 'reccursive': 2103, 'histamines': 2104, 'procedures': 2105, 'share': 2106, 'compral': 2107, 'foreign': 2108, 'seemed': 2109, '62': 2110, 'grow': 2111, 'warts': 2112, 'sever': 2113, 'dies': 2114, 'permanent': 2115, 'ca': 2116, 'gene': 2117, 'bleed': 2118, 'tips': 2119, 'blockage': 2120, 'uncomfortable': 2121, 'si': 2122, 'relaciones': 2123, 'sexuales': 2124, 'protección': 2125, 'las': 2126, 'contraer': 2127, 'obvious': 2128, 'pass': 2129, 'vital': 2130, 'conformed': 2131, 'prompt': 2132, 'n95': 2133, 'van': 2134, 'doubts': 2135, 'comment': 2136, 'easy': 2137, 'situations': 2138, 'nevertheless': 2139, 'terms': 2140, 'google': 2141, 'abnormal': 2142, 'kindly': 2143, 'ahead': 2144, 'coverage': 2145, 'coronaviruses': 2146, 'circumstances': 2147, 'outdoors': 2148, 'requires': 2149, \"that's\": 2150, 'repeated': 2151, 'spicy': 2152, 'pleura': 2153, 'preferably': 2154, 'a1c': 2155, 'posted': 2156, 'virtually': 2157, 'ampath': 2158, 'mainstay': 2159, 'labs': 2160, 'pa': 2161, 'relieve': 2162, 'calm': 2163, 'description': 2164, 'parts': 2165, 'reach': 2166, 'fresh': 2167, 'decongestant': 2168, 'hiwarm': 2169, 'balanced': 2170, 'supply': 2171, 'resolution': 2172, 'symptomatically': 2173, 'bronchiectesis': 2174, 'suggests': 2175, 'harm': 2176, 'hemoptysis': 2177, 'ordered': 2178, 'evaluate': 2179, 'knows': 2180, 'you’ve': 2181, 'safest': 2182, 'appropriately': 2183, 'detail': 2184, 'embolism': 2185, 'color': 2186, 'nutrition': 2187, 'pollen': 2188, 'consistent': 2189, 'bronchodilator': 2190, 'worsens': 2191, 'contraindication': 2192, 'poorly': 2193, 'correctly': 2194, 'comorbid': 2195, 'regardless': 2196, 'forms': 2197, 'prudent': 2198, 'practicing': 2199, 'speak': 2200, 'trust': 2201, 'prime': 2202, 'effusion': 2203, 'actual': 2204, 'hopefully': 2205, 'existing': 2206, 'droplets': 2207, 'soreness': 2208, 'containing': 2209, 'convey': 2210, 'association': 2211, 'prevention': 2212, 'org': 2213, 'study': 2214, 'socially': 2215, 'worldwide': 2216, 'goal': 2217, 'treatable': 2218, 'population': 2219, 'spirometry': 2220, 'closeness': 2221, 'intimate': 2222, 'reassuring': 2223, 'consultant': 2224, 'stablished': 2225, 'strict': 2226, 'heat': 2227, 'spasms': 2228, 'reserved': 2229, 'steam': 2230, 'inhalation': 2231, 'fumes': 2232, 'decline': 2233, 'patch': 2234, 'tab': 2235, 'follows': 2236, 'tissues': 2237, 'gi': 2238, 'rays': 2239, 'malaria': 2240, 'cautious': 2241, 'depth': 2242, 'moist': 2243, 'useful': 2244, 'asthmatics': 2245, 'complicate': 2246, 'identification': 2247, 'procedure': 2248, 'characteristic': 2249, 'movements': 2250, 'hcm': 2251, 'adequately': 2252, 'autoimmune': 2253, 'resistance': 2254, 'faq': 2255, 'click': 2256, 'season': 2257, 'acei': 2258, 'urti': 2259, 'experts': 2260, 'maintained': 2261, 'za': 2262, 'colour': 2263, 'term': 2264, 'trach': 2265, 'vinegar': 2266, 'zealand': 2267, 'stays': 2268, 'imune': 2269, 'nyone': 2270, 'pregnancy': 2271, 'miscarried': 2272, 'progesterone': 2273, 'dirrhea': 2274, 'alberton': 2275, 'hasn': 2276, 'phlegmy': 2277, 'gautrain': 2278, \"could've\": 2279, 'loop': 2280, 'slym': 2281, 'allergie': 2282, 'hulle': 2283, 'besig': 2284, 'verbouings': 2285, 'werk': 2286, 'bang': 2287, 'vir': 2288, 'fro': 2289, 'nap': 2290, 'alarm': 2291, 'nauseaus': 2292, 'discolored': 2293, 'ncov': 2294, 'bottom': 2295, 'grandmother': 2296, 'flemmy': 2297, 'uneasy': 2298, 'scratching': 2299, 'thoat': 2300, 'amoxillin': 2301, 'napamol': 2302, 'fighting': 2303, 'prevnar': 2304, 'pneumovax': 2305, '229e': 2306, 'mauritius': 2307, 'hepa': 2308, 'building': 2309, 'meeting': 2310, 'azithromiacin': 2311, 'robitussin': 2312, 'dm': 2313, 'returns': 2314, 'bubbles': 2315, 'densities': 2316, 'unremarkable': 2317, 'application': 2318, 'nervous': 2319, 'curious': 2320, 'dieing': 2321, '42': 2322, 'smart': 2323, 'toddler': 2324, 'consent': 2325, 'aspirational': 2326, 'max': 2327, 'six': 2328, 'bactoclav': 2329, 'budecort': 2330, 'gram': 2331, 'drinker': 2332, 'cultures': 2333, 'alpha': 2334, 'taste': 2335, 'loosen': 2336, 'rna': 2337, 'antigens': 2338, 'havent': 2339, 'organizers': 2340, '15th': 2341, 'passes': 2342, 'inf': 2343, 'mbl': 2344, 'hasnt': 2345, '84': 2346, '95': 2347, 'skilled': 2348, 'barely': 2349, 'saved': 2350, 'crackles': 2351, 'explanations': 2352, 'mist': 2353, 'vaporizer': 2354, 'landlords': 2355, 'aore': 2356, 'mono': 2357, 'tonsillar': 2358, 'piece': 2359, 'tonsil': 2360, 'looks': 2361, 'late': 2362, 'suffers': 2363, 'fly': 2364, 'anticipated': 2365, 'appreciated': 2366, 'gigi': 2367, 'cefuruxime': 2368, 'switch': 2369, 'backpain': 2370, 'beds': 2371, 'save': 2372, 'lucknow': 2373, 'usg': 2374, 'prepared': 2375, 'ethyl': 2376, 'january': 2377, 'congestive': 2378, '8th': 2379, 'htn': 2380, 'permission': 2381, 'courses': 2382, 'nonspecific': 2383, 'segments': 2384, 'lymphocytes': 2385, 'esr': 2386, 'hr': 2387, 'sept': 2388, 'across': 2389, 'alot': 2390, '10am': 2391, 'inbetween': 2392, 'blades': 2393, 'sides': 2394, 'bruised': 2395, '97': 2396, '0': 2397, 'sun': 2398, 'blade': 2399, '58': 2400, 'ventilation': 2401, 'progressive': 2402, 'surviving': 2403, 'heartbeat': 2404, 'pulse': 2405, 'mustafa': 2406, 'cairo': 2407, 'sharm': 2408, 'sheik': 2409, 'completion': 2410, 'precursor': 2411, 'september': 2412, 'unknowingly': 2413, 'nights': 2414, 'phlyemy': 2415, 'paracardiac': 2416, 'nov': 2417, 'partner’s': 2418, 'pronounced': 2419, 'flashes': 2420, 'yo': 2421, 'baltimore': 2422, 'bwi': 2423, 'rhode': 2424, 'realistically': 2425, 'quick': 2426, 'raspy': 2427, 'feelings': 2428, 'plasmaquine': 2429, 'weaken': 2430, 'discontinue': 2431, 'untill': 2432, 'threat': 2433, 'torso': 2434, 'upset': 2435, 'shutdown': 2436, 'colleagues’s': 2437, 'vivid': 2438, 'reoccurring': 2439, 'oralcon': 2440, 'epademic': 2441, 'span': 2442, '240': 2443, '30mg': 2444, 'monthly': 2445, 'died': 2446, 'playing': 2447, 'dependent': 2448, 'net': 2449, 'pos': 2450, 'pm': 2451, 'wasn’t': 2452, 'serving': 2453, 'wolff': 2454, 'rf': 2455, 'ablations': 2456, 'tread': 2457, 'svts': 2458, 'afib': 2459, 'pumping': 2460, 'seven': 2461, 'yellow': 2462, 'happened': 2463, 'somehow': 2464, 'gerd': 2465, 'sit': 2466, 'perscription': 2467, 'swallow': 2468, 'ngt': 2469, 'formula': 2470, 'hypothyroidism': 2471, 'revealed': 2472, 'raise': 2473, 'benadryl': 2474, 'ashmatic': 2475, 'throught': 2476, 'earache': 2477, 'brown': 2478, 'jean': 2479, 'profession': 2480, 'teaching': 2481, 'puts': 2482, 'laproscope': 2483, 'fallopian': 2484, 'tubes': 2485, '1o': 2486, 'ons': 2487, 'teruggekom': 2488, 'vanaf': 2489, 'oostenryk': 2490, 'maart': 2491, 'reeds': 2492, 'dae': 2493, 'gelede': 2494, 'tans': 2495, 'maar': 2496, 'nasale': 2497, 'wat': 2498, 'staan': 2499, 'te': 2500, 'doen': 2501, 'thirsty': 2502, 'burny': 2503, 'paranoia': 2504, '3yrold': 2505, 'thighs': 2506, 'lotion': 2507, 'hydrate': 2508, 'eczema': 2509, 'born': 2510, 'reinfection': 2511, 'aspirated': 2512, 'ccu': 2513, 'accepting': 2514, 'deliveries': 2515, 'outsides': 2516, 'joints': 2517, 'pertusses': 2518, 'mexico': 2519, 'definitive': 2520, 'advair': 2521, 'involvement': 2522, 'pertussis': 2523, 'hashimotos': 2524, 'nodules': 2525, 'thyroid': 2526, 'preschool': 2527, 'assistant': 2528, '47': 2529, 'communicated': 2530, 'they’ve': 2531, 'huge': 2532, 'forearms': 2533, 'humira': 2534, 'wouldn’t': 2535, '38—39': 2536, 'urinating': 2537, 'penis': 2538, 'anus': 2539, 'boy': 2540, 'scheduled': 2541, 'exposing': 2542, 'raw': 2543, 'lymp': 2544, '32': 2545, 'ibuprufen': 2546, 'thisbseasonnof': 2547, 'wolf': 2548, 'producing': 2549, 'myth': 2550, 'approaches': 2551, 'tropical': 2552, 'summers': 2553, 'finish': 2554, 'dorms': 2555, 'listerine': 2556, 'sms': 2557, 'stating': 2558, 'ibuprofin': 2559, 'mypaid': 2560, 'myprodol': 2561, 'multiplication': 2562, 'growth': 2563, 'preauricular': 2564, 'scalp': 2565, 'superficial': 2566, 'parotid': 2567, '1°': 2568, 'sle': 2569, 'dexamethasone': 2570, 'desks': 2571, 'i‘ve': 2572, 'faint': 2573, 'infrequent': 2574, 'vicinity': 2575, 'positively': 2576, 'frightening': 2577, 'london': 2578, 'travelling': 2579, 'married': 2580, 'totally': 2581, 'figure': 2582, 'hk': 2583, 'sacks': 2584, 'hose': 2585, 'trought': 2586, 'deliver': 2587, 'beer': 2588, 'gas': 2589, 'stations': 2590, 'asymptotic': 2591, 'someon': 2592, 'nicotine': 2593, 'contributing': 2594, 'tossing': 2595, 'turning': 2596, 'termometer': 2597, 'dad': 2598, 'flat': 2599, 'barky': 2600, 'whooping': 2601, 'petrified': 2602, 'gynae': 2603, 'handsoap': 2604, 'specialized': 2605, 'ritonavir': 2606, '100mg': 2607, 'lopinavir400mg': 2608, 'cycle': 2609, 'crappy': 2610, 'tempered': 2611, 'directed': 2612, 'offered': 2613, 'declined': 2614, 'uncle': 2615, 'chemotherapy': 2616, '02': 2617, 'asthama': 2618, 'afraid': 2619, 'spite': 2620, 'estate': 2621, 'laboratory': 2622, 'gradual': 2623, 'occurred': 2624, 'menstruation': 2625, 'skipping': 2626, 'meals': 2627, 'bending': 2628, 'thoart': 2629, 'aftr': 2630, 'prisoner': 2631, 'cancelled': 2632, 'knee': 2633, 'lift': 2634, 'arrive': 2635, 'zimbabwe': 2636, 'victoria': 2637, 'practitioner': 2638, 'honest': 2639, 'product': 2640, 'carona': 2641, 'passing': 2642, '34': 2643, 'resemble': 2644, 'strepsils': 2645, '16th': 2646, '18th': 2647, '25th': 2648, 'allergex': 2649, 'meal': 2650, 'spelling': 2651, 'sorry': 2652, 'stroke': 2653, 'heaviness': 2654, 'fog': 2655, 'experie': 2656, 'mycoplasmic': 2657, 'moxifloxacin': 2658, 'eliminated': 2659, 'carrying': 2660, 'austria': 2661, '31jan': 2662, 'trip': 2663, 'stopover': 2664, 'munich': 2665, 'listed': 2666, 'busamed': 2667, 'strain': 2668, 'scarring': 2669, 'awful': 2670, 'began': 2671, 'zero': 2672, 'received': 2673, 'refuses': 2674, 'mannose': 2675, 'binding': 2676, 'lectin': 2677, '2009': 2678, 'october': 2679, 'lakeside': 2680, 'doesn': 2681, 'survival': 2682, 'intense': 2683, '6th': 2684, 'entrance': 2685, 'trigger': 2686, 'points': 2687, 'trapezius': 2688, 'pointer': 2689, 'whats': 2690, 'symtoms': 2691, 'puking': 2692, 'vertigo': 2693, 'suspecting': 2694, 'spatum': 2695, 'byproducts': 2696, 'milk': 2697, 'responding': 2698, 'tongue': 2699, 'canker': 2700, 'histamine': 2701, 'drained': 2702, 'excessive': 2703, 'paranoid': 2704, 'media’s': 2705, 'nauseas': 2706, 'insight': 2707, 'parasite': 2708, 'emycin': 2709, 'metronidazole': 2710, 'tolerated': 2711, 'attended': 2712, 'terrified': 2713, 'badly': 2714, \"couldn't\": 2715, 'expel': 2716, 'cov19': 2717, 'ban': 2718, 'activities': 2719, 'nonessential': 2720, 'businesses': 2721, 'hosting': 2722, 'parking': 2723, 'unwise': 2724, 'complaints': 2725, 'headedness': 2726, 'vision': 2727, 'complains': 2728, 'deg': 2729, 'alternated': 2730, 'empaped': 2731, 'suppository': 2732, 'prolonged': 2733, 'convuls': 2734, 'corno': 2735, 'soles': 2736, 'nessasary': 2737, 'british': 2738, 'brazilian': 2739, 'wisdom': 2740, 'ease': 2741, 'simultaneous': 2742, 'hame': 2743, 'passenger': 2744, 'enquire': 2745, 'centre': 2746, 'fiancé': 2747, 'moved': 2748, 'ms': 2749, 'trimester': 2750, 'babies': 2751, 'what’s': 2752, 'singulair': 2753, 'lrt': 2754, 'bless': 2755, 'comorbidity': 2756, 'atm': 2757, 'shops': 2758, 'stressing': 2759, 'sweats': 2760, 'didn': 2761, 'cramps': 2762, 'brought': 2763, 'therapist': 2764, 'rehabilitation': 2765, 'offer': 2766, 'routine': 2767, 'deeper': 2768, 'transferred': 2769, 'anxious': 2770, 'justifies': 2771, 'flares': 2772, 'aren’t': 2773, 'progressed': 2774, 'alo': 2775, 'rondebosch': 2776, 'overt': 2777, 'shape': 2778, 'indirect': 2779, 'dull': 2780, 'wonder': 2781, 'organ': 2782, 'knowing': 2783, 'damaging': 2784, 'resume': 2785, 'pure': 2786, 'pressures': 2787, '875': 2788, 'clearing': 2789, 'valve': 2790, 'leaky': 2791, 'gin': 2792, 'tastings': 2793, 'proximity': 2794, 'sevral': 2795, 'shivering': 2796, 'lethargic': 2797, 'allegra': 2798, 'cook': 2799, 'domestic': 2800, 'modified': 2801, 'humans': 2802, 'levels': 2803, 'candidate': 2804, 'urgently': 2805, 'delhi': 2806, '48': 2807, 'washed': 2808, '45': 2809, 'silly': 2810, 'somebody': 2811, 'nabi': 2812, 'fearful': 2813, 'indoors': 2814, 'canal': 2815, 'purmycin': 2816, 'adco': 2817, 'metrondaz': 2818, 'havea': 2819, 'coronavirua': 2820, 'detected': 2821, 'ml': 2822, 'fits': 2823, 'mucolite': 2824, 'external': 2825, 'restaurants': 2826, 'example': 2827, 'involve': 2828, 'blown': 2829, 'somewhat': 2830, 'flown': 2831, 'landed': 2832, 'paitent': 2833, 'situated': 2834, '00': 2835, 'replacement': 2836, 'scans': 2837, 'inconclusive': 2838, 'rescue': 2839, 'injections': 2840, 'central': 2841, 'thoracic': 2842, '22yr': 2843, 'teenaged': 2844, 'finding': 2845, 'lightly': 2846, 'hypochondriac': 2847, 'type1': 2848, 'netherlands': 2849, 'helper': 2850, 'fake': 2851, 'kickstart': 2852, 'polycystic': 2853, 'endometriosis': 2854, 'azrithomycin': 2855, '20th': 2856, 'workplace': 2857, 'involves': 2858, 'maximum': 2859, 'hesitant': 2860, 'row': 2861, 'crummy': 2862, 'finally': 2863, 'groin': 2864, 'looked': 2865, 'miracle': 2866, 'applied': 2867, 'excellent': 2868, 'cefidner': 2869, 'ranges': 2870, 'israel': 2871, 'achey': 2872, 'rising': 2873, 'june': 2874, 'readmitted': 2875, 'pus': 2876, 'shown': 2877, 'fistula': 2878, 'eased': 2879, 'irbesartan': 2880, 'blocker': 2881, 'uncomplicated': 2882, 'receptors': 2883, 'diarree': 2884, 'couching': 2885, '1000mg': 2886, 'measured': 2887, 'armpit': 2888, 'he’s': 2889, 'outbreaks': 2890, 'stiff': 2891, 'hiked': 2892, '100km': 2893, 'meat': 2894, '140': 2895, 'lbs': 2896, 'sprays': 2897, 'suppress': 2898, 'insist': 2899, '2year': 2900, 'antagonists': 2901, 'quadriplegic': 2902, 'overnight': 2903, 'cpt': 2904, 'roof': 2905, 'lanseria': 2906, 'lethargy': 2907, 'assessed': 2908, 'raised': 2909, 'disappear': 2910, 'consulted': 2911, 'prefer': 2912, 'complex': 2913, 'scar': 2914, 'stressful': 2915, 'involved': 2916, 'acquiring': 2917, 'development': 2918, 'personally': 2919, 'symtpoms': 2920, 'pils': 2921, 'contain': 2922, 'ibuprophen': 2923, 'solution': 2924, 'onwards': 2925, 'cousin': 2926, 'cleaning': 2927, 'complaining': 2928, 'midday': 2929, 'congo': 2930, '7march': 2931, 'thermometer': 2932, 'loosing': 2933, '61': 2934, '64': 2935, 'trousers': 2936, 'interaction': 2937, 'switzerland': 2938, 'national': 2939, 'neuropathy': 2940, 'importantly': 2941, 'rec': 2942, 'igg': 2943, 'medicare': 2944, 'couldn': 2945, 'block': 2946, 'visible': 2947, 'internally': 2948, 'origins': 2949, 'rsv': 2950, 'hate': 2951, 'intervention': 2952, 'evident': 2953, 'turn': 2954, 'attend': 2955, 'emerg': 2956, 'cre': 2957, 'klebsiella': 2958, 'trtmt': 2959, 'mgs': 2960, 'pneumoniae': 2961, 'cld': 2962, 'madam': 2963, 'malviya': 2964, 'agents': 2965, 'zone': 2966, 'dx': 2967, 'clot': 2968, 'radiating': 2969, 'upright': 2970, 'gibs': 2971, 'university': 2972, 'partaking': 2973, 'spreads': 2974, 'apnea': 2975, 'stuffed': 2976, 'cervical': 2977, 'cauterisation': 2978, 'bypass': 2979, 'continues': 2980, 'augmentin': 2981, 'alarmed': 2982, 'buen': 2983, 'día': 2984, 'tengo': 2985, 'duda': 2986, 'hombres': 2987, 'homosexuales': 2988, 'pero': 2989, 'estos': 2990, 'relación': 2991, 'mutuamente': 2992, 'monogama': 2993, 'ninguno': 2994, 'personas': 2995, 'está': 2996, 'infectado': 2997, 'vih¿pueden': 2998, 'independently': 2999, 'diaree': 3000, 'nearly': 3001, 'truely': 3002, 'citrus': 3003, 'resolving': 3004, 'kans': 3005, 'sluim': 3006, 'wees': 3007, 'shop': 3008, 'buff': 3009, 'directly': 3010, '0600': 3011, '123456': 3012, 'perform': 3013, 'otc': 3014, 'worries': 3015, 'folk': 3016, 'intensity': 3017, 'admission': 3018, 'broncho': 3019, 'future': 3020, 'akt': 3021, 'parth': 3022, 'goswami': 3023, 'plans': 3024, '56': 3025, 'closely': 3026, 'mrsa': 3027, 'speedy': 3028, 'streptococcus': 3029, 'factor': 3030, 'certainly': 3031, 'options': 3032, 'cbc': 3033, 'serum': 3034, 'relax': 3035, 'glucose': 3036, 'cross': 3037, 'infiltration': 3038, 'missing': 3039, 'themselves': 3040, 'seeds': 3041, 'lasts': 3042, 'inflammatories': 3043, 'nutritious': 3044, 'lukewarm': 3045, 'pollens': 3046, 'decongestants': 3047, 'ent': 3048, 'stretched': 3049, '19you': 3050, 'damaged': 3051, 'attacks': 3052, 'considering': 3053, 'bronchiectasis': 3054, 'mentioned': 3055, 'vascular': 3056, 'percent': 3057, 'guy': 3058, 'sooner': 3059, 'tblb': 3060, '84951814': 3061, 'proved': 3062, \"doctor's\": 3063, 'shortage': 3064, 'sites': 3065, 'guarantee': 3066, 'biotin': 3067, 'space': 3068, 'telephone': 3069, 'manifestations': 3070, 'honey': 3071, 'tea': 3072, 'locally': 3073, 'mechanical': 3074, 'providing': 3075, 'reliable': 3076, 'mold': 3077, 'dander': 3078, 'linens': 3079, 'bath': 3080, 'utensils': 3081, 'chloroquine': 3082, 'activity': 3083, 'wuhan': 3084, 'benefit': 3085, 'pcr': 3086, 'cardboard': 3087, 'mucosa': 3088, 'authorities': 3089, 'mental': 3090, 'meditation': 3091, 'peace': 3092, 'opportunity': 3093, 'immunocompromised': 3094, 'stick': 3095, 'standard': 3096, 'refillable': 3097, 'adjust': 3098, 'regulations': 3099, 'vs': 3100, 'lesion': 3101, 'strategy': 3102, 'focus': 3103, 'planning': 3104, 'engage': 3105, 'particular': 3106, 'meanwhile': 3107, 'conflicting': 3108, 'communicate': 3109, 'dairy': 3110, 'zyrtec': 3111, 'mv': 3112, 'cardiovascular': 3113, 'crowded': 3114, 'bacterium': 3115, 'material': 3116, 'rinses': 3117, 'handle': 3118, 'personal': 3119, 'thorough': 3120, 'spasm': 3121, 'awaiting': 3122, 'substantially': 3123, 'pre': 3124, 'drinks': 3125, 'chicken': 3126, 'soup': 3127, 'aleve': 3128, 'knowledge': 3129, 'official': 3130, '2019': 3131, 'word': 3132, '0600123456': 3133, 'computer': 3134, 'remaining': 3135, 'cart': 3136, 'probable': 3137, 'likelyhood': 3138, 'uncommon': 3139, 'crp': 3140, 'hotlines': 3141, 'category': 3142, 'collect': 3143, 'nearest': 3144, 'instructed': 3145, 'route': 3146, 'visits': 3147, 'trials': 3148, 'score': 3149, 'index': 3150, 'scanned': 3151, 'hiwelcome': 3152, 'decision': 3153, 'killed': 3154, 'worrisome': 3155, 'referred': 3156, 'hang': 3157, 'chemicals': 3158, 'unnecessary': 3159, 'begins': 3160, 'buy': 3161, 'list': 3162, 'narrations': 3163, 'decide': 3164, 'acting': 3165, 'resp': 3166, 'observe': 3167, 'bedtime': 3168, 'inhaling': 3169, 'elders': 3170, 'hithanks': 3171, 'caution': 3172, 'preventative': 3173, 'ild': 3174, 'newer': 3175, 'deteriorate': 3176, 'protein': 3177, 'preventive': 3178, 'replace': 3179, 'microorganism': 3180, 'uncertain': 3181, 'controlling': 3182, 'enter': 3183, 'laundry': 3184, 'facilities': 3185, 'emergencies': 3186, 'expectoration': 3187, 'bloods': 3188, 'anosmia': 3189, 'pathogen': 3190, 'bathroom': 3191, 'paper': 3192, 'studies': 3193, 'telling': 3194, 'stringent': 3195, 'stops': 3196, 'sx': 3197, 'limit': 3198, 'inpatient': 3199, 'musculoskeletal': 3200, 'relaxant': 3201, 'thiocolchicoside': 3202, 'hence': 3203, 'holding': 3204, 'fully': 3205, 'pneumonias': 3206, 'barrier': 3207, 'duration': 3208, 'bats': 3209, 'varieties': 3210, 'consultations': 3211, 'informational': 3212, 'clings': 3213, 'hairs': 3214, 'otrivin': 3215, 'pyretic': 3216, 'arb': 3217, 'kills': 3218, 'pantop': 3219, 'helloas': 3220, 'promptly': 3221, 'phase': 3222, '800029999': 3223, '800111132': 3224, '883': 3225, '9920': 3226, 'dsr': 3227, 'whatsapp': 3228, 'bother': 3229, 'atypical': 3230, 'q': 3231, \"you'll\": 3232, 'narrow': 3233, 'jaw': 3234, 'variant': 3235, 'burn': 3236, 'pediatric': 3237, 'systems': 3238, 'papsmear': 3239, 'subsided': 3240, 'recommendation': 3241, 'trauma': 3242, 'penetrate': 3243, 'virulence': 3244, 'morbid': 3245, 'que': 3246, 'pueden': 3247, 'medicross': 3248, 'klacid': 3249, 'xl': 3250, 'sherwin': 3251, 'williams': 3252, '2wks': 3253, 'fl': 3254, 'wf': 3255, '5ds': 3256, 'scarce': 3257, 'repercussions': 3258, '7year': 3259, 'undiagnosed': 3260, 'bleeds': 3261, 'panamol': 3262, 'neumonia': 3263, 'teeth': 3264, 'pink': 3265, 'nebulized': 3266, 'h': 3267, 'episode': 3268, 'appeared': 3269, 'cougth': 3270, 'weekness': 3271, 'rattling': 3272, 'athraway': 3273, 'relating': 3274, '27c': 3275, 'rises': 3276, 'differentiate': 3277, 'meetings': 3278, 'opt': 3279, '46': 3280, 'stridor': 3281, 'larageal': 3282, 'xoliar': 3283, 'terrible': 3284, 'vacation': 3285, 'european': 3286, 'union': 3287, 'amsterdam': 3288, 'certificate': 3289, 'progressing': 3290, 'wrist': 3291, '6ft': 3292, 'picking': 3293, 'curbside': 3294, 'trunk': 3295, 'travelers': 3296, 'nemonia': 3297, 'staph': 3298, 'mcs': 3299, 'cruise': 3300, 'mozambique': 3301, 'gaghling': 3302, 'cider': 3303, 'drank': 3304, 'facemasks': 3305, 'automatically': 3306, 'seretide': 3307, 'warmth': 3308, 'finishing': 3309, 'pulmologist': 3310, 'invest': 3311, 'reusable': 3312, 'asian': 3313, 'nice': 3314, 'abdomen': 3315, 'inflammed': 3316, 'sentitive': 3317, 'bumps': 3318, 'peeling': 3319, 'client': 3320, 'whose': 3321, 'quoting': 3322, 'saying': 3323, 'industrial': 3324, 'contaminated': 3325, 'pns': 3326, 'staphylococcus': 3327, 'aureus': 3328, 'vancomycine': 3329, 'linezolid': 3330, 'vrsa': 3331, 'fertility': 3332, 'pcos': 3333, 'delivered': 3334, 'bedrest': 3335, 'wreck': 3336, 'miscarry': 3337, '1month': 3338, 'hemoptasis': 3339, 'x1': 3340, 'erythromycin': 3341, 'x5days': 3342, 'clindamycin': 3343, 'x10': 3344, 'xays': 3345, 'x10days': 3346, 'thru': 3347, '5dags': 3348, 'horrible': 3349, 'pulmanologist': 3350, 'antibotic': 3351, 'halfway': 3352, 'sounded': 3353, 'temprature': 3354, 'smelled': 3355, 'odour': 3356, 'urinate': 3357, 'foley': 3358, '800mg': 3359, 'sudafed': 3360, 'suppressant': 3361, 'continually': 3362, 'flem': 3363, 'bloated': 3364, 'hazed': 3365, 'confluent': 3366, 'field': 3367, 'structures': 3368, 'impression': 3369, 'renewal': 3370, '3c': 3371, 'bioxin': 3372, 'guafinicine': 3373, 'codein': 3374, 'diagonesed': 3375, 'myloma': 3376, 'fracture': 3377, 'mathews': 3378, 'aiims': 3379, 'knock': 3380, 'incident': 3381, 'rushed': 3382, '19th': 3383, 'administered': 3384, 'trichotomy': 3385, 'palliative': 3386, 'reqd': 3387, 'expensive': 3388, 'sustainable': 3389, 'adjusted': 3390, 'wouldbe': 3391, 'expert': 3392, 'cipro': 3393, 'flagl': 3394, 'mersa': 3395, 'lean': 3396, 'pristant': 3397, 'interval': 3398, 'beta2': 3399, 'refered': 3400, '200mcg': 3401, 'puff': 3402, 'beclometason': 3403, 'dipropionate': 3404, 'micro': 3405, 'frequency': 3406, '76': 3407, 'cup': 3408, 'decaf': 3409, 'infiltrated': 3410, 'atrial': 3411, 'fibulation': 3412, 'pacemaker': 3413, '2011': 3414, 'shesaid': 3415, 'getpneumonia': 3416, 'ofantibiotics': 3417, 'wroteme': 3418, 'bactrim': 3419, 'ds': 3420, 'andcough': 3421, \"isn'tworking\": 3422, \"ihaven't\": 3423, 'sincesaturday': 3424, 'didyesterday': 3425, 'bowels': 3426, 'peto': 3427, 'bismol': 3428, 'softgetl': 3429, 'ultimate': 3430, 'flora': 3431, 'probiotic': 3432, 'billion': 3433, 'punched': 3434, 'copper': 3435, 'mix': 3436, 'phnewmonia': 3437, 'biotics': 3438, 'deficency': 3439, '74': 3440, 'yeas': 3441, 'clarithromycin': 3442, 'diarohhea': 3443, 'aug': 3444, '2010': 3445, 'oct': 3446, '148': 3447, '46yrs': 3448, 'suffercation': 3449, 'feelin': 3450, 'goin': 3451, 'reduces': 3452, 'suffocation': 3453, 'jude': 3454, 'roommate': 3455, 'placed': 3456, 'reoccur': 3457, 'dismissed': 3458, 'filling': 3459, 'foamy': 3460, 'paramedics': 3461, 'drs': 3462, 'fill': 3463, 'bronchials': 3464, 'gurgling': 3465, 'emphasyma': 3466, 'cleared': 3467, 'outdoor': 3468, 'spring': 3469, 'infusion': 3470, 'college': 3471, 'schedule': 3472, 'christmas': 3473, 'planned': 3474, 'hanging': 3475, 'strands': 3476, 'cryptic': 3477, 'dangling': 3478, 'umcomfortable': 3479, 'emergent': 3480, 'par': 3481, 'btw': 3482, 'bronchiectias': 3483, 'contantly': 3484, 'mayo': 3485, 'iowa': 3486, 'toll': 3487, 'reservations': 3488, 'michigan': 3489, '51': 3490, 'agin': 3491, 'kefstar': 3492, 'bought': 3493, 'pcs': 3494, 'brand': 3495, 'axetil': 3496, 'arvind': 3497, 'suffring': 3498, 'lugs': 3499, 'pnemonoia': 3500, 'thorex': 3501, 'guided': 3502, 'maligant': 3503, 'undestand': 3504, '2014': 3505, '26th': 3506, 'clindamyacin': 3507, 'proventil': 3508, 'qvar': 3509, 'inclusion': 3510, 'myositis': 3511, '81': 3512, 'approximately': 3513, 'deal': 3514, 'resolved': 3515, 'rib': 3516, 'consolidatory': 3517, 'anterior': 3518, 'lateral': 3519, 'wall': 3520, 'thickening': 3521, 'ground': 3522, 'glass': 3523, 'opacification': 3524, 'adjacent': 3525, 'posterior': 3526, 'medial': 3527, 'mediastinal': 3528, 'axillary': 3529, 'pretracheal': 3530, 'dense': 3531, 'calcification': 3532, 'followstotal': 3533, '7200': 3534, 'cummneutrophils': 3535, 'eosinophils': 3536, 'mm': 3537, 'becky': 3538, 'exasberated': 3539, 'tremendous': 3540, 'breakage': 3541, 'thin': 3542, 'bald': 3543, 'bulge': 3544, 'inch': 3545, 'base': 3546, 'hairline': 3547, 'skull': 3548, 'hell': 3549, 'everybody': 3550, '10day': 3551, 'script': 3552, 'flutters': 3553, 'beats': 3554, 'consecutively': 3555, 'fractured': 3556, 'deap': 3557, 'breathes': 3558, 'bend': 3559, 'waiste': 3560, 'ao': 3561, 'track': 3562, 'steadily': 3563, 'ranging': 3564, 'll': 3565, 'thats': 3566, 'shirt': 3567, 'soaked': 3568, 'ventillation': 3569, 'speticemia': 3570, 'becoly': 3571, 'ailment': 3572, 'artificial': 3573, 'sr': 3574, '118': 3575, '130': 3576, 'dl': 3577, 'regard': 3578, 'raashid': 3579, 'ranchi': 3580, 'jharkhand': 3581, 'shahin': 3582, 'abdur': 3583, 'razzaque': 3584, 'ansari': 3585, 'weavers': 3586, 'fernchizee': 3587, 'apollo': 3588, 'micu': 3589, '07': 3590, 'pneumo': 3591, '4years': 3592, '8months': 3593, 'gud': 3594, '2013': 3595, 'undergone': 3596, 'comeback': 3597, 'chestpain': 3598, 'para': 3599, 'cardiacpneumonia': 3600, 'november2013': 3601, 'ive': 3602, 'progresses': 3603, 'tho': 3604, 'colorful': 3605, 'exerting': 3606, 'excersise': 3607, 'appendicitis': 3608, 'percocet': 3609, 'addiction': 3610, 'exaggeration': 3611, '10mg': 3612, 'oxycodone': 3613, 'assortment': 3614, 'disposal': 3615, 'injuries': 3616, '2mg': 3617, 'xannax': 3618, 'awhile': 3619, 'ihad': 3620, 'roll': 3621, 'atheist': 3622, 'favorite': 3623, 'addictions': 3624, 'escape': 3625, 'grip': 3626, 'lord': 3627, 'begging': 3628, 'portion': 3629, 'witness': 3630, 'alive': 3631, '53years': 3632, 'grew': 3633, 'brothers': 3634, 'highschool': 3635, 'overdose': 3636, 'needless': 3637, 'ptsd': 3638, 'haunted': 3639, 'bury': 3640, 'demons': 3641, 'buried': 3642, 'tiny2882': 3643, 'comcat': 3644, 'miss': 3645, 'repeats': 3646, 'reliever': 3647, 'pepcid': 3648, 'ate': 3649, 'arms': 3650, 'forehead': 3651, 'weigh': 3652, '110': 3653, '115': 3654, 'littel': 3655, 'barium': 3656, 'ph': 3657, 'resulte': 3658, 'ge': 3659, 'ar': 3660, 'moths': 3661, 'zantac': 3662, 'motinorm': 3663, 'sitting': 3664, 'dosn': 3665, 'laparoscopic': 3666, 'fundoplication': 3667, 'ports': 3668, '360m': 3669, 'wrap': 3670, '10fr': 3671, 'ryles': 3672, 'observed': 3673, 'neocate': 3674, 'amino': 3675, 'wit': 3676, 'veteran': 3677, 'army': 3678, 'hat': 3679, '66': 3680, 'drunk': 3681, 'reddish': 3682, 'overweight': 3683, 'dropping': 3684, 'background': 3685, 'weirdest': 3686, 'thang': 3687, 'instantly': 3688, 'quarter': 3689, 'recurring': 3690, 'weened': 3691, 'invisible': 3692, 'compare': 3693, 'thinks': 3694, 'originally': 3695, 'pb': 3696, 'l': 3697, 'xrays': 3698, 'petusses': 3699, 'ampicillin': 3700, 'fo': 3701, 'woman': 3702, 'held': 3703, 'interested': 3704, 'projectile': 3705, 'vomited': 3706, 'tingly': 3707, 'juvenile': 3708, 'plaquenil': 3709, 'folic': 3710, 'dialysis': 3711, 'sending': 3712, 'lexi': 3713, 'thoughts': 3714, 'ciggerattes': 3715, 'weed': 3716, 'bongs': 3717, 'colonoscopy': 3718, 'dani': 3719, '31': 3720, 'exhibiting': 3721, 'pak': 3722, 'azithromysin': 3723, 'spend': 3724, 'falling': 3725, 'spiriva': 3726, 'anoro': 3727, 'ellipta': 3728, 'approved': 3729, 'fda': 3730, 'canadian': 3731, 'market': 3732, 'zofia': 3733, 'feces': 3734, 'increasingly': 3735, 'whitish': 3736, 'thrity': 3737, 'gum': 3738, 'discoloration': 3739, 'express': 3740, 'levoquin': 3741, 'tells': 3742, 'temperedness': 3743, 'proscribed': 3744, 'actively': 3745, 'codeine': 3746, 'interfering': 3747, 'clarified': 3748, 'comfortable': 3749, 'insomnia': 3750, 'inclined': 3751, 'desperately': 3752, 'board': 3753, 'greatly': 3754, 'advance': 3755, 'rt': 3756, 'spirometer': 3757, 'nebulizers': 3758, 'liter': 3759, 'sats': 3760, 'daddy': 3761, 'mystenia': 3762, 'augmneton': 3763, 'sputom': 3764, 'doxiflow': 3765, 'levofloxoacin': 3766, 'pneumoria': 3767, 'oclock': 3768, 'dosage': 3769, 'roxithromycin': 3770, 'hardly': 3771, 'larthargic': 3772, 'prevented': 3773, 'anywhere': 3774, 'ideas': 3775, 'occured': 3776, 'ceclor': 3777, 'ehen': 3778, 'namonia': 3779, 'code': 3780, 'vintalator': 3781, 'atack': 3782, 'longest': 3783, 'pulling': 3784, 'poa': 3785, 'fare': 3786, 'ringing': 3787, 'swallowing': 3788, 'tinnitus': 3789, 'mahashur': 3790, 'diagonised': 3791, \"'mycoplasmic\": 3792, \"pneumonia'\": 3793, 'antibody': 3794, 'fbc': 3795, '1280': 3796, \"'avelox'\": 3797, 'clavicef': 3798, 'apprehensive': 3799, '44': 3800, 'shocked': 3801, 'apparent': 3802, 'monohydrate': 3803, 'mega': 3804, 'knocked': 3805, 'size': 3806, 'anibiotic': 3807, 'xxxx': 3808, 'grandfather': 3809, 'price': 3810, 'obtain': 3811, 'patented': 3812, 'indonesia': 3813, 'guys': 3814, '22nd': 3815, 'lks': 3816, '27th': 3817, 'lobar': 3818, '7th': 3819, 'aortic': 3820, 'arch': 3821, 'esophagus': 3822, 'squeezed': 3823, 'deplete': 3824, \"wasn't\": 3825, 'ammounts': 3826, 'mine': 3827, 'unidentified': 3828, 'intestinal': 3829, 'familiar': 3830, 'combat': 3831, 'antiparasitic': 3832, 'tetracyline': 3833, 'flagyl': 3834, 'slipped': 3835, 'unexpectedly': 3836, 'wound': 3837, 'choking': 3838, 'fells': 3839, 'fire': 3840, 'cruddy': 3841, 'migraines': 3842, 'blurry': 3843, 'snowed': 3844, 'blurred': 3845, 'ride': 3846, 'complicated': 3847, 'wellstar': 3848, 'douglas': 3849, 'douglasville': 3850, 'ga': 3851, 'desperate': 3852, 'professional': 3853, 'rang': 3854, 'cramping': 3855, 'excruciatingly': 3856, 'remote': 3857, 'accessing': 3858, 'intubated': 3859, 'ambulance': 3860, 'occupational': 3861, 'ideals': 3862, 'cnbc': 3863, 'anemia': 3864, 'searched': 3865, 'aids': 3866, 'longs': 3867, 'acronym': 3868, 'genetically': 3869, 'exactly': 3870, 'moms': 3871, 'thimy': 3872, 'curable': 3873, 'mucos': 3874, 'typcially': 3875, 'ma': 3876, 'pnuemonia': 3877, 'tore': 3878, 'pinchthe': 3879, 'tenderness': 3880, 'toes': 3881, 'sided': 3882, 'advisability': 3883, 'levofloxaxin': 3884, 'gall': 3885, 'bladder': 3886, 'whom': 3887, '71': 3888, '2003': 3889, 'program': 3890, 'lessen': 3891, 'jumping': 3892, 'clav': 3893, '250mg': 3894, 'won': 3895, 'fluctuates': 3896, '86': 3897, 'breaking': 3898, 'tuberclosis': 3899, '14yrs': 3900, 'isnt': 3901, 'r': 3902, 'ready': 3903, 'helpdistressed': 3904, 'amoxycillin': 3905, 'therefore': 3906, 'clarythmomycin': 3907, 'resulted': 3908, 'wheezy': 3909, 'incredible': 3910, 'pressing': 3911, 'windpipe': 3912, 'aren': 3913, 'wobbly': 3914, 'backwards': 3915, 'reasonably': 3916, 'initial': 3917, 'fed': 3918, 'tonic': 3919, 'metatone': 3920, 'healthily': 3921, 'everywhere': 3922, 'sligtly': 3923, 'insane': 3924, 'remedies': 3925, '39000': 3926, '4k': 3927, '11k': 3928, 'suggested': 3929, 'ibugesic': 3930, 'tht': 3931, 'lasted': 3932, 'frizium': 3933, 'duolin': 3934, 'nebuliser': 3935, 'refzil': 3936, 'frisium': 3937, 'complaint': 3938, 'microbiology': 3939, 'assignment': 3940, 'sample': 3941, 'summary': 3942, 'peresent': 3943, 'recurrant': 3944, 'nausia': 3945, 'cystic': 3946, 'fibrosis': 3947, 'psudomonas': 3948, 'aeruginosa': 3949, 'drove': 3950, 'uses': 3951, 'pneomonia': 3952, 'pet': 3953, 'steriod': 3954, 'medrol': 3955, 'overheated': 3956, 'hazy': 3957, 'perihilar': 3958, 'midline': 3959, 'sillhouette': 3960, 'hemidiaphragms': 3961, 'costophrenic': 3962, 'sulci': 3963, 'bony': 3964, 'cage': 3965, 'spent': 3966, 'spiked': 3967, 'tr': 3968, 'k': 3969, 'clv': 3970, '125': 3971, 'nauseated': 3972, 'pillow': 3973, '52': 3974, '3mm': 3975, 'loweest': 3976, '4c': 3977, 'doctos': 3978, 'saif': 3979, 'harpez': 3980, 'zovirax': 3981, 'depomedrol': 3982, 'tricot': 3983, 'xylocaine': 3984, 'seftum': 3985, 'eruptions': 3986, 'irritable': 3987, 'pits': 3988, 'formulated': 3989, 'powdered': 3990, 'ammoxycilin': 3991, 'seftum500mg': 3992, 'althrocin': 3993, 'cifran': 3994, '500mgin': 3995, 'proportions': 3996, 'homeopathy': 3997, 'milligram': 3998, 'rubbed': 3999, 'epiglottis': 4000, 'style': 4001, 'abeyance': 4002, 'shankar': 4003, 'sharma': 4004, 'mail': 4005, 'address': 4006, 'herpes': 4007, 'aunt': 4008, 'vincents': 4009, 'blount': 4010, 'alabama': 4011, 'coffee': 4012, 'toaster': 4013, 'strudel': 4014, 'naited': 4015, 'spell': 4016, 'nasated': 4017, 'uncontrollably': 4018, \"5'9\": 4019, 'throw': 4020, 'extremity': 4021, 'cigars': 4022, 'man': 4023, 'immunodeficiency': 4024, 'wanna': 4025, 'weakened': 4026, 'subtle': 4027, 'ten': 4028, 'cigarettes': 4029, 'reguarding': 4030, 'reoccurance': 4031, 'nightime': 4032, 'laugh': 4033, 'yelping': 4034, 'coupled': 4035, 'transparent': 4036, 'saliva': 4037, 'tears': 4038, 'ironically': 4039, 'rhinits': 4040, 'adviced': 4041, 'zirtec': 4042, 'iterax': 4043, 'detect': 4044, 'habit': 4045, 'truth': 4046, 'bisto': 4047, 'towards': 4048, 'incovenicence': 4049, 'hoping': 4050, 'brilliant': 4051, 'expertise': 4052, 'persist': 4053, 'cavidur': 4054, '625': 4055, 'montek': 4056, 'lc': 4057, 'ambrolite': 4058, 'betaline': 4059, 'remarkably': 4060, 'occuring': 4061, 'celcius': 4062, 'collasped': 4063, 'diagnoised': 4064, 'draining': 4065, 'heavily': 4066, 'sadated': 4067, 'namuniya': 4068, 'atak': 4069, 'admited': 4070, 'eraz': 4071, 'balagung': 4072, 'sulation': 4073, '55': 4074, '180': 4075, 'childhood': 4076, 'sed': 4077, '53': 4078, '108': 4079, 'cushing': 4080, 'hypogammagobulinemia': 4081, 'insurance': 4082, 'disabled': 4083, 'septic': 4084, 'hypo': 4085, 'foundations': 4086, 'pharm': 4087, 'companies': 4088, 'reaching': 4089, 'apathy': 4090, 'direction': 4091, 'preemie': 4092, 'grad': 4093, 'brings': 4094, 'feelling': 4095, 'slightest': 4096, 'proves': 4097, 'approx': 4098, 'unpleasant': 4099, 'withdrawl': 4100, 'considerable': 4101, 'easing': 4102, 'exceptional': 4103, 'obliterated': 4104, 'interest': 4105, 'physically': 4106, 'enjoy': 4107, 'wayside': 4108, 'extensive': 4109, 'talks': 4110, 'testosterone': 4111, 'registered': 4112, '2mls': 4113, 'delatestryl': 4114, 'prescribe': 4115, 'domain': 4116, 'treats': 4117, 'refuse': 4118, 'presciption': 4119, 'perspective': 4120, 'mnths': 4121, 'narcotics': 4122, 'prescribing': 4123, 'negatively': 4124, 'impact': 4125, 'pnuemoneae': 4126, 'excuse': 4127, 'sulfa': 4128, 'obviouly': 4129, 'anaphylactic': 4130, 'ertapenem': 4131, '1mg': 4132, 'litocane': 4133, 'premeds': 4134, 'benedryl': 4135, 'cooktime': 4136, 'ttrtmt': 4137, 'shock': 4138, 'attempt': 4139, 'colodial': 4140, 'silver': 4141, 'dur': 4142, 'amoxicilin': 4143, 'circles': 4144, 'pale': 4145, 'inspite': 4146, 'gaging': 4147, 'phlem': 4148, 'bottle': 4149, 'sd': 4150, 'asthamatic': 4151, 'pneumonis': 4152, 'mohan': 4153, 'nagar': 4154, 'recomended': 4155, 'recomend': 4156, 'shld': 4157, 'tamoxifin': 4158, 'brca': 4159, 'ii': 4160, 'sisters': 4161, 'mutation': 4162, 'hx': 4163, 'youngest': 4164, 'recurrance': 4165, 'mets': 4166, 'bones': 4167, 'ruled': 4168, 'chaitanya': 4169, 'swim': 4170, 'catherization': 4171, 'stent': 4172, 'moans': 4173, 'sits': 4174, 'lays': 4175, 'caretaker': 4176, 'explained': 4177, 'crohns': 4178, 'remicade': 4179, 'biopsies': 4180, 'eosinothioia': 4181, 'reveals': 4182, 'lingular': 4183, 'infiltrate': 4184, 'hct': 4185, 'duo': 4186, '250': 4187, 'persisting': 4188, 'quarntine': 4189, 'complication': 4190, 'emerge': 4191, 'infective': 4192, 'potentially': 4193, 'dissipate': 4194, 'electrolytes': 4195, 'load': 4196, 'probioticslook': 4197, 'gown': 4198, 'aerosol': 4199, 'staphylococcal': 4200, 'lasting': 4201, 'slim': 4202, 'jou': 4203, 'gevolge': 4204, 'gewoonlike': 4205, 'bleek': 4206, 'geel': 4207, 'saam': 4208, 'ander': 4209, 'symptome': 4210, 'soos': 4211, 'niesery': 4212, 'em': 4213, 'jikkerige': 4214, 'daar': 4215, 'noodlike': 4216, 'da': 4217, 'volle': 4218, 'allergiese': 4219, 'dan': 4220, 'sal': 4221, 'lui': 4222, 'hoieoos': 4223, 'exzeem': 4224, 'om': 4225, 'waarvan': 4226, 'moet': 4227, 'bekomerd': 4228, 'hoor': 4229, 'koors': 4230, 'droer': 4231, 'erg': 4232, \"he'\": 4233, 'resilient': 4234, 'fighters': 4235, 'hoarseness': 4236, 'hysteria': 4237, 'cought': 4238, \"'s\": 4239, '3w': 4240, 'reporting': 4241, 'mefical': 4242, 'personnel': 4243, 'trained': 4244, 'touches': 4245, 'knobs': 4246, 'forums': 4247, 'whatapps': 4248, 'ed': 4249, 'listening': 4250, 'proven': 4251, 'medically': 4252, 'unstable': 4253, 'hematuria': 4254, 'urinary': 4255, 'clotting': 4256, 'platelet': 4257, 'discussion': 4258, 'particulars': 4259, 'cov229e': 4260, 'biologically': 4261, \"mother's\": 4262, 'proceed': 4263, 'encourages': 4264, 'locking': 4265, 'dilators': 4266, 'afb': 4267, 'stain': 4268, 'hypothermia': 4269, 'to1': 4270, 'pneumonia2': 4271, 'bronchitisso': 4272, 'yoi': 4273, 'reveal': 4274, 'angela': 4275, 'merkel': 4276, 'concentrate': 4277, 'maintaining': 4278, 'improves': 4279, 'monitored': 4280, 'shifted': 4281, 'wheels': 4282, 'inquired': 4283, 'presume': 4284, 'shedding': 4285, 'nonresolving': 4286, 'examine': 4287, 'average': 4288, 'gastric': 4289, 'youth': 4290, 'types': 4291, 'loperamide': 4292, 'curd': 4293, 'yogurt': 4294, 'ors': 4295, 'spike': 4296, 'reevaluation': 4297, 'broken': 4298, 'subside': 4299, 'dilutes': 4300, 'physiology': 4301, 'exists': 4302, 'replicate': 4303, 'numbers': 4304, 'prioritizes': 4305, 'replication': 4306, 'immunologic': 4307, 'arouse': 4308, 'suspicion': 4309, 'aginst': 4310, 'path': 4311, 'males': 4312, 'printed': 4313, 'newspapers': 4314, 'directions': 4315, 'star': 4316, 'sterilised': 4317, 'helloyes': 4318, 'gift': 4319, 'givers': 4320, 'r750': 4321, 'pietermaritzburg': 4322, 'fund': 4323, 'diarrhoea': 4324, 'cefixime': 4325, 'selected': 4326, 'carefully': 4327, 'investigation': 4328, 'it1': 4329, 'lft': 4330, 'kft': 4331, 'ige': 4332, 'total3': 4333, 'ecg': 4334, '2d': 4335, 'echo5': 4336, 'suffocating': 4337, 'alternatively': 4338, 'godspeed': 4339, 'hands2': 4340, 'can3': 4341, 'levels4': 4342, 'meditate': 4343, 'search': 4344, 'reduced': 4345, 'described': 4346, 'mahboob': 4347, 'ur': 4348, 'rahman': 4349, 'diuretics': 4350, 'cardiologist': 4351, 'auscultation': 4352, 'creature': 4353, 'dormant': 4354, 'spores': 4355, 'reactivated': 4356, 'technically': 4357, 'speaking': 4358, 'bel': 4359, 'weeks2': 4360, 'case3': 4361, 'rgdsdr': 4362, 'wayne': 4363, 'korras': 4364, 'reaches': 4365, 'exchange': 4366, 'vaporizers': 4367, 'thicker': 4368, 'infiltrates': 4369, 'mucolytic': 4370, 'atleast': 4371, '6yrs': 4372, 'overdue': 4373, 'tetanus': 4374, 'excess': 4375, 'veg': 4376, 'chilled': 4377, 'beverages': 4378, 'salted': 4379, 'peppermint': 4380, 'oil': 4381, 'triple': 4382, 'turns': 4383, 'desaturation': 4384, 'commercial': 4385, 'pathcare': 4386, 'resolvingyou': 4387, 'radiological': 4388, 'xun4': 4389, 'permanently': 4390, 'colonization': 4391, 'bronchiectic': 4392, 'cardio': 4393, 'broad': 4394, 'spectrum': 4395, 'henoptysis': 4396, 'flag': 4397, 'meaning': 4398, 'dilation': 4399, 'tranexemic': 4400, 'tendency': 4401, 'suppressants': 4402, 'lie': 4403, 'bacilli': 4404, 'abnormalities': 4405, 'descending': 4406, 'aorta': 4407, 'vessel': 4408, 'decided': 4409, 'review': 4410, 'investigations': 4411, 'motion': 4412, 'decisions': 4413, '92': 4414, '93': 4415, 'sgpgi': 4416, 'trans': 4417, 'skip': 4418, 'gear': 4419, 'protectve': 4420, 'prepare': 4421, 'defense': 4422, 'contains': 4423, 'emollient': 4424, 'published': 4425, 'rules': 4426, 'persistently': 4427, 'areasymptoms': 4428, 'predict': 4429, 'picture': 4430, 'doctor’s': 4431, 'campaign': 4432, '20outreach': 4433, 'medium': 4434, 'email': 4435, 'hsmi': 4436, 'hsenc': 4437, 'p2anqtz': 4438, 'jlhafqzrxrcncgr4mj57eqcomm2titlnybaqii': 4439, 'sh': 4440, 'f4iyzjpz7': 4441, 'eivc1okn2': 4442, 'qdpzno3': 4443, 'content': 4444, 'hs': 4445, 'emaili': 4446, 'beleived': 4447, 'remdesivir': 4448, 'compassionate': 4449, 'symptomtic': 4450, 'exercising': 4451, 'advises': 4452, 'risky': 4453, 'accurate': 4454, 'restrictions': 4455, 'lipoma': 4456, 'subcutaneous': 4457, 'investigate': 4458, 'astymin': 4459, 'forte': 4460, 'rich': 4461, 'dusts': 4462, 'constrictions': 4463, 'querywelcome': 4464, 'et': 4465, 'intensivist': 4466, 'attenuated': 4467, 'contraindicated': 4468, 'flare': 4469, 'chinese': 4470, 'suck': 4471, 'candy': 4472, 'secrets': 4473, 'cepachol': 4474, 'losenges': 4475, 'internationally': 4476, 'seeming': 4477, 'vigilant': 4478, 'recurrence': 4479, 'corticosteroids': 4480, 'generated': 4481, 'defining': 4482, 'locations': 4483, 'shared': 4484, 'coloured': 4485, 'county': 4486, 'nation': 4487, 'entity': 4488, 'airline': 4489, 'boarding': 4490, 'border': 4491, 'arrival': 4492, 'milder': 4493, 'anecdotal': 4494, 'observation': 4495, 'noted': 4496, 'definite': 4497, 'proof': 4498, 'rheumatologist': 4499, 'aside': 4500, 'objects': 4501, 'sniffles': 4502, 'widely': 4503, 'surface': 4504, 'lips': 4505, 'bcp': 4506, 'holistic': 4507, 'herbs': 4508, 'sessions': 4509, 'dedicated': 4510, 'soul': 4511, 'subcouncious': 4512, 'lacking': 4513, 'assistwishing': 4514, 'analgesics': 4515, 'ointment': 4516, 'esp': 4517, 'afford': 4518, 'ards': 4519, 'smokers': 4520, 'renal': 4521, 'events': 4522, 'correction': 4523, 'prolong': 4524, 'triage': 4525, \"gp's\": 4526, 'suggesting': 4527, 'ultimately': 4528, 'structural': 4529, 'malignant': 4530, 'grows': 4531, 'alcoholic': 4532, 'beverage': 4533, 'postive': 4534, 'htat': 4535, 'respiration': 4536, 'minute': 4537, 'exclude': 4538, 'parainfluenza': 4539, 'rhinovirus': 4540, 'convert': 4541, 'gauge': 4542, 'addressed': 4543, 'injectable': 4544, 'leucovorin': 4545, 'stimulate': 4546, 'wbcs': 4547, 'venous': 4548, 'thromboembolism': 4549, 'd3': 4550, 'tends': 4551, 'morbidity': 4552, 'protocols': 4553, 'stock': 4554, 'whilst': 4555, 'posting': 4556, 'articles': 4557, 'motrin': 4558, 'interactions': 4559, 'warrants': 4560, 'cultured': 4561, 'heavier': 4562, 'drowsy': 4563, 'wheat': 4564, \"children's\": 4565, 'immun': 4566, 'harmless': 4567, 'findings': 4568, 'compatible': 4569, 'pleural': 4570, 'receiving': 4571, 'considerated': 4572, 'adressed': 4573, 'weaning': 4574, 'challenging': 4575, 'impair': 4576, 'evolution': 4577, 'performance': 4578, 'uri': 4579, 'divided': 4580, 'stages': 4581, 'catarrhal': 4582, 'paroxysmal': 4583, 'bursts': 4584, 'thick': 4585, 'effort': 4586, 'pitch': 4587, 'cyanosis': 4588, 'convalescent': 4589, 'confirmation': 4590, 'bordetella': 4591, 'pertusis': 4592, 'identifying': 4593, 'bye': 4594, 'classical': 4595, 'immunosuppresive': 4596, 'uploaded': 4597, 'photo': 4598, 'institution': 4599, 'ppe': 4600, 'equipment': 4601, 'extremities': 4602, 'peripheral': 4603, 'wich': 4604, 'nerves': 4605, 'tnf': 4606, 'potentialized': 4607, 'attending': 4608, 'rheumathologist': 4609, 'apropriate': 4610, 'manifestation': 4611, 'accordance': 4612, 'contribute': 4613, 'hamper': 4614, 'quitting': 4615, 'items': 4616, 'hiit': 4617, 'conservative': 4618, 'worseing': 4619, 'remeber': 4620, 'contraindications': 4621, 'estimate': 4622, 'untreated': 4623, 'wpw': 4624, 'regarded': 4625, 'expelled': 4626, 'ambroxol': 4627, 'terbutaline': 4628, 'attach': 4629, \"let's\": 4630, 'completing': 4631, 'telelphonic': 4632, 'watchful': 4633, 'newly': 4634, 'dormitory': 4635, \"it'll\": 4636, 'unprecedented': 4637, 'napacod': 4638, 'whatapp': 4639, 'coivd': 4640, 'periauricular': 4641, 'otitis': 4642, 'mastoiditis': 4643, 'tap': 4644, 'desk': 4645, 'measure': 4646, 'dehydrated': 4647, 'cups': 4648, 'resiliancy': 4649, 'subsequent': 4650, 'opportunistic': 4651, 'media': 4652, 'frquently': 4653, 'trips': 4654, 'antiseptic': 4655, 'handles': 4656, \"kids'\": 4657, 'consumerreports': 4658, 'conditioins': 4659, 'olds': 4660, 'affinity': 4661, 'fortunately': 4662, 'adenovirus': 4663, 'hellofirst': 4664, 'hemogram': 4665, 'claritromycin': 4666, 'meticulously': 4667, 'realize': 4668, 'controled': 4669, 'reacts': 4670, 'arrythmia': 4671, 'key': 4672, 'hiif': 4673, 'anorexia': 4674, 'varies': 4675, 'caredr': 4676, 'stamp': 4677, 'counts': 4678, 'limits': 4679, 'procalcitonin': 4680, 'rooms': 4681, 'probem': 4682, 'spared': 4683, 'allergyi': 4684, 'decongestantonly': 4685, 'disposable': 4686, 'weeksstay': 4687, 'sleepdiscuss': 4688, 'fears': 4689, 'realistic': 4690, 'view': 4691, 'rescheduling': 4692, 'surgeries': 4693, 'bunch': 4694, 'advertise': 4695, 'claim': 4696, 'beacause': 4697, 'components': 4698, 'uneasiness': 4699, 'substitute': 4700, 'set': 4701, 'copy': 4702, 'curative': 4703, 'requirement': 4704, 'decreasing': 4705, 'restriction': 4706, 'variety': 4707, 'aggressiveness': 4708, 'intact': 4709, 'specified': 4710, 'robust': 4711, 'recommendable': 4712, 'seniors': 4713, 'writing': 4714, 'presents': 4715, 'driving': 4716, 'longterm': 4717, 'arrest': 4718, 'imaging': 4719, 'nsaid': 4720, 'combo': 4721, 'stiffness': 4722, 'chain': 4723, 'irregardless': 4724, 'political': 4725, 'party': 4726, 'race': 4727, 'religion': 4728, 'overcome': 4729, 'millions': 4730, 'desired': 4731, 'cooperation': 4732, 'docs': 4733, 'referrals': 4734, 'notes': 4735, 'recipient': 4736, 'anders': 4737, 'mark': 4738, 'christensen': 4739, 'ordering': 4740, 'shortages': 4741, 'frozen': 4742, 'transfer': 4743, 'sources': 4744, 'annually': 4745, 'drastic': 4746, 'phrenic': 4747, 'evalauted': 4748, 'cv': 4749, 'malfunctions': 4750, 'haemoglobin': 4751, 'competency': 4752, 'efficacy': 4753, 'molecules': 4754, 'narrate': 4755, 'guarded': 4756, 'pray': 4757, 'jugglery': 4758, 'wean': 4759, 'sole': 4760, \"daughter's\": 4761, 'ponstan': 4762, 'suffice': 4763, 'determined': 4764, 'clinician': 4765, 'considerations': 4766, 'parameters': 4767, 'mucosal': 4768, 'consumed': 4769, 'departmenthealhtap': 4770, 'pose': 4771, 'physicians': 4772, 'globe': 4773, 'um': 4774, 'deleterious': 4775, 'rational': 4776, 'adopt': 4777, 'purposeful': 4778, 'stressed': 4779, 'structure': 4780, 'microscopically': 4781, 'equal': 4782, 'complicating': 4783, 'bags': 4784, 'sterilize': 4785, 'item': 4786, 'ensuring': 4787, 'comunity': 4788, 'mechanism': 4789, 'borne': 4790, 'settles': 4791, 'respective': 4792, 'aleveoli': 4793, 'patience': 4794, 'opacity': 4795, 'infection2': 4796, 'malignancyso': 4797, 'susceptibility': 4798, 'relationship': 4799, 'handwashing': 4800, 'day’s': 4801, 'pirfenidone': 4802, 'acetylcysteine': 4803, 'nac': 4804, 'diminish': 4805, 'multivitamin': 4806, 'powder': 4807, 'upload': 4808, 'inbox': 4809, 'deoendiing': 4810, 'injured': 4811, 'arthritic': 4812, 'flared': 4813, 'colchicine': 4814, 'gouty': 4815, 'cyril': 4816, 'ramaphosa': 4817, 'imminently': 4818, 'stretching': 4819, 'troubles': 4820, '19probably': 4821, 'worthwhile': 4822, 'guideif': 4823, 'spaces': 4824, 'rehydrat': 4825, 'onto': 4826, 'chips': 4827, 'maxalon': 4828, 'wiping': 4829, 'packages': 4830, 'nto': 4831, 'eb': 4832, 'prominent': 4833, 'established': 4834, \"nsaid's\": 4835, 'periods': 4836, 'catches': 4837, 'table': 4838, 'tops': 4839, 'keyboards': 4840, 'doorknobs': 4841, 'grasp': 4842, 'unproven': 4843, 'trial': 4844, 'molecule': 4845, 'intestine': 4846, 'bugs': 4847, 'clinically': 4848, 'answering': 4849, 'dental': 4850, 'massive': 4851, 'mounted': 4852, \"doc's\": 4853, 'counseling': 4854, 'psychologist': 4855, 'connect': 4856, 'skype': 4857, 'helloif': 4858, 'bee': 4859, 'chines': 4860, 'tempreture': 4861, 'delay': 4862, 'togethers': 4863, 'endocrinologist': 4864, 'feasible': 4865, 'performing': 4866, 'hiyes': 4867, 'wishes': 4868, 'basics': 4869, 'circulation': 4870, 'alternate': 4871, 'supports': 4872, 'introduction': 4873, 'hiplease': 4874, 'qualifying': 4875, 'emphysema': 4876, 'influence': 4877, 'johannesburg': 4878, 'church': 4879, 'playgrounds': 4880, 'calling': 4881, 'offices': 4882, 'chatting': 4883, 'cream': 4884, 'regularly': 4885, 'habits': 4886, \"wouldn't\": 4887, 'hormone': 4888, 'reception': 4889, 'warning': 4890, 'shout': 4891, 'there’s': 4892, 'atention': 4893, 'oms': 4894, 'carries': 4895, 'handwashwng': 4896, 'obesity': 4897, 'pharmacists': 4898, 'reference': 4899, 'obs': 4900, 'gyn': 4901, \"institution's\": 4902, 'flexibility': 4903, 'unclear': 4904, 'yourselves': 4905, '1–0': 4906, 'markedly': 4907, 'gudelines': 4908, 'neve': 4909, 'glad': 4910, 'ignoring': 4911, 'lesser': 4912, 'antipyretics': 4913, 'journals': 4914, 'plos': 4915, 'plospathogens': 4916, 'preliminary': 4917, 'manufactures': 4918, 'announced': 4919, 'production': 4920, 'demand': 4921, 'pleanty': 4922, 'providers': 4923, 'podiatrists': 4924, 'digging': 4925, 'pointed': 4926, 'toenails': 4927, 'tip': 4928, 'toe': 4929, 'length': 4930, 'interim': 4931, \"cyril's\": 4932, 'meant': 4933, \"''\": 4934, \"change''\": 4935, 'responsive': 4936, 'perfect': 4937, 'reviewing': 4938, 'rx': 4939, 'morningwithout': 4940, 'rude': 4941, 'sanitizing': 4942, '100f': 4943, 'bronchiolitis': 4944, 'obliterans': 4945, 'organizing': 4946, 'rapidly': 4947, 'adverse': 4948, 'contagiousness': 4949, 'gastrointestinal': 4950, 'note': 4951, 'environmental': 4952, 'triggers': 4953, 'kwa': 4954, 'zulu': 4955, 'natal': 4956, 'amounts': 4957, 'shaking': 4958, 'fulfilling': 4959, 'willing': 4960, 'generalized': 4961, 'recur': 4962, 'beneficial': 4963, 'guides': 4964, 'jerky': 4965, 'painkillers': 4966, 'suppose': 4967, 'regime': 4968, 'preserved': 4969, 'decreases': 4970, 'percentage': 4971, 'proportional': 4972, 'undergo': 4973, 'exhaling': 4974, 'regain': 4975, 'usage': 4976, 'disorder': 4977, 'partly': 4978, 'impaired': 4979, \"1's\": 4980, 'gad': 4981, 'chew': 4982, 'levocetrizine': 4983, 'rhd': 4984, \"hasn't\": 4985, \"shouldn't\": 4986, 'predispose': 4987, 'whichever': 4988, 'avoided': 4989, 'link': 4990, 'fsai': 4991, 'ie': 4992, 'htmlin': 4993, 'dining': 4994, 'nytimes': 4995, 'science': 4996, 'pangolin': 4997, 'html': 4998, 'relapses': 4999, 'accept': 5000, 'hygienic': 5001, 'hottest': 5002, 'garment': 5003, 'allows': 5004, 'posts': 5005, 'president': 5006, 'mistaken': 5007, 'website': 5008, 'welldone': 5009, 'deaths': 5010, 'recorded': 5011, 'vulnarable': 5012, 'designed': 5013, 'hiafter': 5014, 'spme': 5015, 'ssometime': 5016, 'corvid': 5017, 'cessationtry': 5018, 'publications': 5019, 'binds': 5020, 'stands': 5021, \"'corona\": 5022, \"diesase'\": 5023, 'protozoa': 5024, 'recommending': 5025, \"'raw'\": 5026, '160': 5027, 'sensitive': 5028, 'destroy': 5029, 'outer': 5030, 'android': 5031, 'unknowinly': 5032, 'effectively': 5033, 'ave': 5034, 'message': 5035, 'ascoril': 5036, 'thrice': 5037, 'mucaine': 5038, 'gel': 5039, 'cefuroxime': 5040, 'kinolones': 5041, 'treatmentregardsdr': 5042, 'obstructive': 5043, 'admit': 5044, 'disseminate': 5045, 'afterwards': 5046, 'occurrence': 5047, 'hcmaccording': 5048, 'nonresponding': 5049, 'examinations': 5050, 'crphemogramalt': 5051, 'astchest': 5052, 'abgfor': 5053, 'exploring': 5054, 'comorbidites': 5055, 'comorbidities': 5056, 'aboveregardsdr': 5057, 'disrobe': 5058, 'gut': 5059, 'supplements': 5060, 'countrys': 5061, 'bedroom': 5062, 'prohibit': 5063, 'visitors': 5064, 'caregiver': 5065, 'spouses': 5066, 'partners': 5067, 'contacts': 5068, 'quarantin': 5069, 'hypocondriac': 5070, 'pui': 5071, 'crit': 5072, 'scientific': 5073, 'french': 5074, 'speculations': 5075, 'ace2': 5076, 'ibuprofens': 5077, 'nasid': 5078, 'npr': 5079, 'sections': 5080, '818026613': 5081, 'leaves': 5082, 'baffledthx': 5083, 'cam': 5084, 'antacid': 5085, 'antiemetic': 5086, 'nupenta': 5087, 'gempraz': 5088, 'flus': 5089, 'verified': 5090, 'selfcare': 5091, 'tubing': 5092, 'etcetera': 5093, 'prone': 5094, 'awareness': 5095, 'plays': 5096, 'valuable': 5097, 'role': 5098, 'hcps': 5099, 'employer': 5100, 'satisfy': 5101, 'youactually': 5102, 'superimposed': 5103, 'resolves': 5104, 'passage': 5105, 'wight': 5106, 'plz': 5107, 'arinac': 5108, 'supplementing': 5109, 'vits': 5110, 'grateful': 5111, 'verbal': 5112, 'confirms': 5113, 'prophylactic': 5114, 'firsttake': 5115, 'panda': 5116, 'asthavent': 5117, 'daylots': 5118, 'vit': 5119, 'echinaforce': 5120, 'drops': 5121, 'populations': 5122, 'gastroenteritis': 5123, 'drain': 5124, 'immunosuppression': 5125, 'faqs': 5126, 'int': 5127, 'capability': 5128, 'checking': 5129, 'probability': 5130, 'encouraging': 5131, 'possibilites': 5132, 'rep': 5133, 'produce': 5134, \"what's\": 5135, 'lining': 5136, 'dyspnea': 5137, 'presentation': 5138, 'sec': 5139, 'microwave': 5140, 'mycoplasma': 5141, 'shouldnt': 5142, 'virsu': 5143, 'observatn': 5144, 'refusing': 5145, 'gauteng': 5146, 'statement': 5147, 'american': 5148, 'abr': 5149, 'alternative': 5150, 'partial': 5151, 'obstruction': 5152, 'orthodontist': 5153, 'overlap': 5154, 'slay': 5155, 'hype': 5156, 'morbidities': 5157, 'psychiatrist': 5158, 'ssri': 5159, 'benzodiazepines': 5160, 'relaxation': 5161, 'helloit': 5162, 'commodities': 5163, 'gastroesophageal': 5164, \"reflux'heart\": 5165, \"burn'\": 5166, 'aasthma': 5167, 'forth': 5168, 'brash': 5169, 'multitude': 5170, \"'smokers\": 5171, \"cough'\": 5172, 'dancers': 5173, 'mites': 5174, 'persists': 5175, 'pulmo': 5176, 'neologism': 5177, 'methacholine': 5178, 'challenge': 5179, 'empyema': 5180, 'cavity': 5181, 'appropriatley': 5182, 'receive': 5183, 'aerobic': 5184, 'anaerobic': 5185, 'specimens': 5186, 'fe': 5187, 'ver': 5188, 'projectie': 5189, 'inconsolable': 5190, 'pedicatrician': 5191, 'soothing': 5192, 'disstraction': 5193, 'cluster': 5194, 'await': 5195, 'quarentine': 5196, 'residual': 5197, 'decreased': 5198, 'alveoli': 5199, 'angel': 5200, 'traveler': 5201, '4f': 5202, 'minimize': 5203, 'mandatory': 5204, 'evaluations': 5205, 'identified': 5206, 'infec': 5207, 'papiloma': 5208, 'wont': 5209, 'son’s': 5210, 'siva': 5211, 'kumar': 5212, 'reddy': 5213, 'narrated': 5214, 'discussed': 5215, 'survey': 5216, 'allergologist': 5217, \"patient's\": 5218, 'presumed': 5219, 'effectiveness': 5220, 'juices': 5221, 'tick': 5222, 'bite': 5223, 'glandular': 5224, 'suitable': 5225, 'steroidal': 5226, 'infests': 5227, 'snakes': 5228, 'radiology': 5229, 'centers': 5230, '19https': 5231, 'swiftly': 5232, 'consulting': 5233, 'endings': 5234, 'carried': 5235, 'labored': 5236, 'dr’s': 5237, 'assp': 5238, 'assess': 5239, 'ekg': 5240, 'ovulation': 5241, 'refrain': 5242, 'sometime': 5243, 'doesnot': 5244, 'gatherings': 5245, 'sickness': 5246, 'vaishalee': 5247, 'nyc': 5248, 'technique': 5249, 'vagina': 5250, 'stimulation': 5251, 'pleasure': 5252, 'hypoxia': 5253, 'altered': 5254, 'exacerbation': 5255, 'narration': 5256, 'seemingly': 5257, 'initiation': 5258, 'teacheracording': 5259, 'antihistamines': 5260, 'improveregardsdr': 5261, 'achieving': 5262, 'stability': 5263, 'supplemental': 5264, 'discontinued': 5265, 'http': 5266, 'ac': 5267, 'challenges': 5268, 'preemptive': 5269, 'transmisión': 5270, 'solamente': 5271, 'ciertos': 5272, 'líquidos': 5273, 'corporales': 5274, '—la': 5275, 'sangre': 5276, 'semen': 5277, 'líquido': 5278, 'preseminal': 5279, 'secreciones': 5280, 'rectales': 5281, '—': 5282, 'persona': 5283, 'tiene': 5284, 'transmitir': 5285, 'ambos': 5286, 'la': 5287, 'certeza': 5288, 'con': 5289, 'prueba': 5290, 'confirmatoria': 5291, 'están': 5292, 'infectados': 5293, 'monogamos': 5294, 'por': 5295, 'qué': 5296, 'contraerlo': 5297, 'embargo': 5298, 'tener': 5299, 'otro': 5300, 'ets': 5301, 'military': 5302, 'reprisal': 5303, 'worst': 5304, 'wake': 5305, 'drawn': 5306, 'anc': 5307, 'amc': 5308, 'readings': 5309, 'pocket': 5310, 'clots': 5311, 'blowing': 5312, 'settle': 5313, 'signify': 5314, 'singer': 5315, 'tues': 5316, 'tickling': 5317, 'diarrea': 5318, 'twinge': 5319, 'separately': 5320, 'antibodics': 5321, 'albut': 5322, 'nebulizer': 5323, 'immediate': 5324, 'hes': 5325, 'phnemoia': 5326, 'teh': 5327, '20mg': 5328, 'warfin': 5329, 'steady': 5330, 'rush': 5331, 'ventoline': 5332, 'exohaler': 5333, 'brozedex': 5334, 'ebastel': 5335, 'appetitie': 5336, 'steroide': 5337, 'walked': 5338, 'react': 5339, 'construction': 5340, 'tonight': 5341, 'covera': 5342, 'sensations': 5343, 'wrists': 5344, 'osteophyroses': 5345, 'tokd': 5346, 'brochites': 5347, '400mg': 5348, 'worsr': 5349, 'thwe': 5350, 'shes': 5351, 'failed': 5352, 'brath': 5353, 'exhale': 5354, 'p95': 5355, 'bet': 5356, 'paranasal': 5357, 'endoscopic': 5358, 'erosion': 5359, 'vape': 5360, 'se': 5361, 'cellulitis': 5362, 'formation': 5363, 'recruit': 5364, 'neutrophils': 5365, 'consumption': 5366, 'noxious': 5367, 'substances': 5368, 'calculated': 5369, 'surely': 5370, 'inoculum': 5371, 'deposited': 5372, 'hrs': 5373, 'inactivate': 5374, 'drier': 5375, 'myalgias': 5376, 'helping': 5377, 'shield': 5378, 'consequences': 5379, 'genetics': 5380, 'therefor': 5381, 'seehttps': 5382, 'wired': 5383, 'story': 5384, 'disinfectant': 5385, 'sanitized': 5386, 'single': 5387, 'aveage': 5388, 'inquire': 5389, 'hiyou': 5390, 'hime': 5391, 'behave': 5392, 'bandanna': 5393, 'indication': 5394, 'truck': 5395, 'trusting': 5396, 'methicillne': 5397, 'problematic': 5398, 'quinupristin': 5399, 'dalfopristin': 5400, 'orders': 5401, 'relate': 5402, 'warfarin': 5403, 'thinner': 5404, 'heavyweight': 5405, 'lifting': 5406, 'strenuous': 5407, 'expired': 5408, 'infecting': 5409, 'scarf': 5410, 'fabric': 5411, 'homemade': 5412, 'device': 5413, 'heartburn': 5414, 'thrush': 5415, 'pharyngitis': 5416, '200': 5417, 'ifyou': 5418, 'charts': 5419, 'materials': 5420, 'aerosols': 5421, 'lengthexposure': 5422, 'carewish': 5423, 'molluscum': 5424, 'dermatologist': 5425, 'freezing': 5426, '‘limit’': 5427, 'mods': 5428, 'dysfunction': 5429, 'tesing': 5430, 'numbered': 5431, 'sicker': 5432, 'distinguish': 5433, 'confuse': 5434, 'sophisticated': 5435, 'intensive': 5436, 'expands': 5437}\n",
            "Sequences =  [[5, 45, 8, 252, 64, 3, 288, 4, 37, 8, 100, 2269, 1209, 529, 13, 603, 11, 7, 57, 138, 338, 10, 24, 43, 13, 73, 15, 2270, 15, 7, 57, 6], [5, 1210, 76, 2, 10, 52, 144, 30, 12, 182, 8, 89, 3, 52, 8, 191, 463, 44, 82, 89, 12, 7, 312, 242, 60, 2, 10, 43, 167, 774, 36, 2, 73, 17, 123, 36, 2, 188, 8, 123, 6], [5, 2, 10, 8, 363, 3, 775, 66, 15, 8, 126, 40, 53, 44, 3, 53, 339, 111, 23, 530, 20, 54, 6], [5, 51, 50, 954, 118, 7, 831, 322, 12, 21, 25, 6], [5, 96, 445, 150, 2, 47, 735, 233, 179, 15, 26, 2, 46, 8, 147, 91, 2271, 3332, 1353, 3333, 832, 1013, 3334, 234, 364, 48, 1535, 157, 2272, 3, 446, 1842, 48, 667, 157, 4, 693, 364, 35, 47, 28, 3335, 12, 832, 1013, 833, 48, 194, 331, 2, 447, 8, 3336, 103, 2, 2272, 101, 373, 17, 2273, 694, 9, 191, 134, 695, 33, 4, 3337, 3, 446, 33, 2273, 1354, 296, 89, 27, 348, 188, 67, 12, 242, 60, 6], [5, 27, 14, 73, 54, 16, 70, 57, 38, 7, 696, 69, 38, 776, 4, 136, 38, 8, 834, 11, 1536, 247, 633, 70, 876, 28, 1104, 1843, 6], [5, 212, 448, 31, 2274, 9, 8, 464, 11, 21, 25, 2, 10, 52, 23, 12, 1211, 408, 53, 955, 42, 2, 71, 4, 20, 59, 3, 297, 212, 13, 2275, 6], [5, 42, 2, 71, 4, 80, 17, 399, 390, 128, 289, 12, 153, 1537, 1538, 61, 31, 23, 9, 165, 16, 27, 23, 572, 391, 7, 54, 298, 49, 1539, 392, 39, 2, 877, 288, 4, 1844, 202, 1540, 13, 1105, 16, 956, 6], [5, 17, 482, 9, 8, 634, 13, 8, 374, 635, 3, 668, 68, 49, 8, 257, 3, 777, 400, 9, 31, 497, 4, 414, 83, 18, 79, 349, 248, 15, 7, 57, 47, 4, 323, 13, 4, 83, 6], [5, 98, 225, 26, 3338, 166, 52, 3339, 204, 193, 415, 3340, 10, 43, 253, 15, 3341, 3342, 3343, 3344, 3345, 110, 778, 3346, 3, 1845, 2, 10, 43, 3347, 15, 636, 12, 3348, 35, 10, 52, 191, 463, 430, 957, 8, 573, 11, 1355, 107, 2, 148, 135, 3349, 35, 17, 1541, 2276, 348, 173, 604, 107, 2, 409, 73, 17, 3350, 249, 3, 669, 12, 835, 9, 76, 1846, 2, 27, 42, 232, 878, 348, 288, 4, 94, 139, 4, 160, 324, 14, 6], [5, 1212, 4, 551, 150, 836, 2, 36, 37, 59, 12, 21, 25, 52, 8, 243, 44, 82, 89, 736, 243, 126, 40, 3, 779, 2277, 30, 29, 1847, 637, 2, 155, 7, 2278, 4, 37, 4, 203, 47, 280, 31, 2, 2279, 43, 332, 6], [5, 1542, 958, 2280, 1848, 1106, 2281, 1849, 1850, 2282, 2283, 2284, 1106, 2285, 85, 2286, 1542, 958, 1213, 1851, 55, 2287, 2288, 483, 57, 6], [5, 2, 10, 8, 64, 45, 243, 40, 879, 36, 2, 37, 59, 2289, 21, 25, 6], [5, 17, 780, 390, 128, 697, 114, 38, 83, 2290, 32, 1107, 1543, 1214, 9, 32, 1015, 12, 2291, 244, 7, 416, 86, 531, 6], [5, 2, 46, 8, 325, 280, 31, 2, 84, 20, 465, 108, 30, 12, 54, 2, 10, 52, 8, 252, 11, 8, 126, 40, 81, 104, 157, 166, 12, 131, 60, 8, 89, 466, 2, 52, 8, 151, 3, 225, 2292, 2, 552, 37, 339, 17, 66, 49, 574, 1356, 12, 194, 60, 6], [5, 17, 498, 49, 1215, 447, 401, 118, 1544, 8, 40, 12, 8, 390, 65, 52, 8, 66, 170, 174, 3, 105, 340, 448, 65, 52, 26, 65, 47, 28, 79, 3351, 12, 399, 60, 134, 1852, 145, 89, 166, 249, 153, 634, 47, 199, 3352, 266, 7, 880, 3, 373, 153, 275, 3353, 449, 65, 49, 24, 43, 115, 16, 8, 3354, 13, 182, 8, 89, 32, 781, 65, 171, 115, 326, 9, 24, 2293, 35, 103, 65, 1108, 76, 9, 8, 1109, 1853, 31, 2, 27, 24, 1854, 2, 10, 552, 3355, 79, 1853, 34, 32, 6], [5, 4, 95, 7, 1110, 36, 431, 1111, 38, 70, 499, 15, 375, 11, 2294, 112, 175, 254, 1111, 4, 203, 6], [5, 158, 21, 25, 187, 30, 341, 782, 30, 1855, 363, 66, 783, 106, 399, 299, 149, 1357, 1216, 698, 3, 126, 432, 252, 832, 12, 8, 218, 408, 233, 575, 393, 32, 291, 194, 149, 299, 6], [5, 7, 2295, 11, 17, 275, 881, 103, 2, 1856, 450, 43, 292, 28, 12, 81, 131, 331, 129, 118, 17, 1857, 2296, 225, 156, 15, 26, 3, 1016, 605, 258, 31, 417, 111, 20, 1545, 176, 2, 47, 13, 7, 160, 15, 83, 8, 327, 3, 68, 40, 28, 33, 699, 8, 252, 3, 2, 46, 8, 219, 137, 737, 36, 2, 94, 784, 4, 17, 402, 67, 81, 23, 6], [5, 2, 47, 1112, 156, 15, 8, 40, 139, 13, 1358, 1546, 254, 2, 1217, 81, 7, 416, 57, 24, 213, 18, 2, 52, 8, 44, 16, 24, 1547, 40, 55, 300, 3, 1113, 2, 553, 111, 2, 148, 10, 54, 1548, 6], [5, 17, 482, 96, 445, 150, 31, 68, 1114, 341, 4, 136, 28, 785, 127, 9, 267, 59, 12, 7, 54, 177, 9, 267, 59, 39, 153, 482, 47, 59, 204, 138, 338, 341, 782, 6], [5, 18, 17, 482, 68, 9, 8, 634, 13, 8, 554, 670, 245, 73, 15, 8, 248, 15, 7, 57, 9, 68, 168, 4, 110, 37, 23, 1858, 18, 68, 9, 1218, 777, 3, 257, 400, 6], [5, 17, 289, 9, 24, 167, 161, 65, 49, 8, 99, 1549, 106, 64, 45, 1859, 2297, 40, 2298, 638, 65, 52, 8, 151, 82, 206, 53, 44, 9, 23, 8, 250, 144, 16, 376, 65, 20, 671, 12, 21, 25, 24, 328, 16, 43, 13, 73, 15, 431, 6], [5, 2, 52, 180, 44, 28, 1017, 781, 15, 418, 639, 316, 53, 64, 45, 16, 149, 299, 697, 114, 13, 700, 1550, 167, 142, 52, 99, 187, 44, 28, 1551, 781, 69, 1359, 114, 13, 144, 1550, 2, 46, 167, 393, 249, 21, 25, 6], [5, 2299, 64, 2300, 3, 243, 66, 640, 15, 154, 316, 3, 377, 15, 243, 44, 6], [5, 17, 364, 3, 2, 328, 38, 786, 738, 4, 1360, 82, 89, 736, 17, 364, 254, 68, 500, 4, 1360, 52, 8, 555, 74, 68, 47, 244, 2301, 2302, 3, 1552, 12, 7, 555, 74, 68, 61, 49, 126, 115, 3, 6], [5, 17, 1361, 378, 1115, 182, 7, 1362, 153, 154, 47, 2303, 79, 74, 576, 15, 26, 12, 145, 89, 195, 31, 120, 65, 41, 3357, 1860, 1116, 245, 7, 3358, 7, 556, 373, 31, 47, 701, 259, 23, 47, 99, 1219, 837, 9, 31, 259, 6], [5, 50, 2, 20, 1220, 18, 2, 37, 86, 25, 15, 17, 1861, 1553, 6], [5, 50, 146, 451, 11, 7, 26, 882, 2304, 3, 2305, 317, 14, 38, 1221, 26, 18, 14, 739, 7, 122, 16, 21, 6], [5, 9, 7, 54, 2306, 7, 260, 39, 21, 25, 6], [5, 2, 69, 10, 8, 126, 45, 268, 450, 467, 34, 76, 9, 417, 1862, 16, 1554, 403, 28, 17, 45, 6], [5, 2, 328, 4, 2307, 3, 42, 24, 10, 30, 36, 2, 37, 59, 12, 163, 6], [5, 17, 959, 178, 128, 452, 577, 40, 3, 501, 134, 532, 4, 20, 244, 6], [5, 2, 87, 956, 1555, 696, 15, 2308, 1117, 50, 7, 1117, 13, 17, 1118, 16, 502, 2309, 203, 96, 39, 161, 4, 317, 86, 6], [5, 96, 1212, 4, 357, 2, 52, 8, 2310, 15, 136, 127, 52, 378, 43, 139, 38, 1222, 9, 1222, 8, 147, 91, 499, 6], [5, 2, 47, 179, 15, 26, 3, 1363, 641, 247, 1018, 780, 123, 446, 33, 2311, 3, 3359, 11, 329, 31, 47, 189, 60, 166, 2311, 49, 137, 1556, 237, 3, 2, 53, 787, 80, 7, 329, 39, 24, 281, 4, 1364, 2, 80, 3360, 1863, 3, 2312, 2313, 15, 1864, 3361, 296, 189, 408, 103, 7, 314, 358, 342, 17, 44, 2314, 15, 154, 316, 418, 151, 3, 115, 2, 3362, 40, 114, 3363, 3, 103, 1865, 392, 71, 4, 449, 17, 45, 296, 788, 1223, 212, 69, 3364, 3, 37, 696, 2315, 419, 17, 883, 31, 29, 775, 6], [5, 7, 1365, 11, 17, 66, 170, 174, 672, 31, 76, 29, 3365, 3, 3366, 2316, 468, 13, 7, 237, 469, 130, 3367, 7, 276, 11, 7, 275, 29, 449, 7, 220, 9, 24, 1557, 7, 276, 11, 7, 1366, 3368, 29, 2317, 2, 46, 99, 221, 258, 176, 7, 3369, 672, 31, 2, 10, 884, 1866, 237, 15, 26, 138, 231, 33, 28, 51, 4, 42, 215, 39, 2, 1558, 32, 293, 1224, 17, 2318, 12, 3370, 11, 740, 6], [5, 2319, 81, 54, 2, 46, 1559, 186, 128, 3, 10, 147, 193, 403, 2, 46, 2320, 433, 11, 33, 2321, 18, 2, 740, 7, 57, 6], [5, 98, 84, 2, 673, 19, 140, 1367, 129, 61, 138, 219, 19, 88, 199, 2, 46, 2322, 178, 128, 606, 15, 484, 282, 11, 26, 3, 533, 115, 3, 191, 154, 430, 11, 1019, 3371, 167, 1867, 338, 138, 350, 343, 3372, 3, 3373, 3374, 6], [5, 297, 27, 2, 72, 28, 12, 702, 28, 8, 1868, 2323, 1020, 12, 21, 25, 6], [5, 2, 10, 8, 126, 40, 3, 64, 45, 36, 2, 20, 453, 11, 1869, 11, 21, 25, 6], [5, 51, 29, 191, 3, 147, 1225, 48, 134, 21, 25, 57, 838, 741, 6], [5, 100, 109, 17, 104, 178, 128, 2324, 49, 43, 115, 3, 61, 68, 171, 4, 1113, 103, 115, 9, 23, 417, 2, 36, 20, 2325, 81, 16, 251, 96, 960, 6], [5, 17, 452, 47, 3375, 15, 1226, 3376, 118, 8, 1368, 3377, 554, 194, 789, 166, 85, 123, 3378, 48, 1870, 1871, 68, 47, 253, 12, 7, 790, 48, 3379, 7, 200, 49, 1215, 61, 3, 39, 8, 1021, 68, 577, 2326, 1227, 165, 4, 8, 3380, 392, 3381, 105, 3382, 83, 4, 2327, 160, 28, 3383, 1369, 3, 703, 107, 68, 9, 28, 7, 885, 90, 637, 108, 261, 9, 267, 3384, 76, 9, 784, 11, 3385, 12, 83, 107, 450, 1872, 158, 4, 80, 83, 75, 3, 13, 83, 886, 78, 201, 604, 3386, 141, 9, 3387, 2327, 267, 4, 3388, 9, 1872, 3389, 9, 1871, 7, 129, 887, 12, 205, 141, 11, 83, 27, 68, 20, 138, 3390, 13, 7, 961, 76, 69, 51, 3391, 7, 1873, 534, 109, 3, 127, 50, 20, 7, 578, 3392, 6], [5, 18, 1119, 43, 349, 85, 1370, 1228, 104, 365, 21, 25, 30, 3, 962, 27, 14, 145, 365, 485, 4, 21, 25, 104, 1371, 262, 118, 235, 60, 351, 464, 1120, 359, 131, 37, 839, 349, 466, 85, 1370, 1228, 104, 1014, 1221, 485, 6], [5, 17, 963, 52, 26, 8, 218, 157, 166, 3, 47, 244, 3393, 3, 3394, 119, 68, 52, 4, 1372, 4, 7, 160, 242, 78, 120, 176, 11, 1560, 1225, 607, 47, 59, 38, 83, 275, 3, 500, 139, 840, 111, 68, 530, 10, 1874, 3395, 6], [5, 2, 10, 52, 8, 216, 106, 3, 10, 43, 115, 3, 10, 52, 28, 3, 342, 339, 2, 269, 4, 7, 67, 7, 234, 120, 65, 446, 33, 79, 261, 3, 2, 225, 226, 110, 2, 269, 139, 8, 3, 65, 446, 33, 8, 535, 137, 35, 23, 557, 2, 148, 10, 183, 30, 6], [5, 791, 151, 12, 7, 82, 89, 670, 3, 608, 69, 470, 45, 12, 81, 131, 157, 28, 3, 342, 6], [5, 2, 10, 8, 126, 674, 558, 13, 17, 45, 3, 53, 44, 430, 9, 1019, 247, 227, 1229, 157, 735, 3, 258, 31, 23, 84, 20, 163, 42, 2, 71, 4, 10, 8, 44, 15, 163, 50, 17, 1022, 20, 1373, 6], [5, 17, 289, 49, 43, 179, 15, 26, 3, 171, 8, 1230, 109, 77, 249, 65, 9, 841, 186, 128, 3, 99, 3396, 579, 419, 964, 65, 2276, 348, 43, 1023, 161, 32, 89, 3, 115, 9, 3397, 39, 11, 249, 2, 742, 65, 36, 24, 94, 28, 7, 1121, 65, 113, 1561, 300, 27, 2, 37, 19, 580, 6], [5, 17, 289, 9, 189, 186, 128, 48, 7, 404, 11, 2328, 331, 65, 1231, 38, 26, 107, 110, 65, 49, 420, 11, 115, 48, 7, 3398, 11, 145, 4, 104, 390, 7, 67, 1875, 2329, 3, 3399, 40, 888, 889, 65, 1374, 104, 186, 128, 35, 76, 9, 53, 70, 1232, 55, 7, 67, 3400, 2330, 3401, 880, 104, 3402, 48, 8, 120, 503, 8, 109, 842, 69, 8, 238, 890, 3403, 3404, 1876, 1122, 3405, 2331, 35, 148, 7, 282, 9, 24, 704, 7, 3406, 11, 115, 1024, 579, 296, 331, 138, 198, 33, 51, 111, 2, 42, 61, 6], [5, 9, 187, 791, 255, 79, 1562, 91, 705, 12, 21, 25, 609, 18, 55, 36, 2, 487, 4, 155, 17, 743, 103, 251, 1375, 536, 16, 50, 7, 537, 13, 352, 454, 33, 48, 78, 91, 324, 14, 6], [5, 2, 46, 8, 3407, 178, 128, 606, 581, 891, 3, 581, 2332, 2, 344, 145, 3408, 11, 3409, 8, 109, 13, 7, 312, 178, 2, 10, 52, 131, 16, 189, 1376, 11, 26, 137, 47, 3410, 96, 225, 277, 2, 10, 10, 43, 253, 15, 1563, 1377, 3, 504, 4, 205, 193, 1877, 165, 4, 3411, 3412, 2, 10, 8, 3413, 2, 52, 8, 26, 505, 13, 3414, 137, 390, 118, 205, 7, 505, 2, 225, 26, 17, 1123, 127, 9, 104, 186, 1025, 52, 7, 99, 260, 1378, 471, 892, 340, 99, 582, 891, 27, 32, 20, 7, 162, 11, 90, 17, 559, 61, 6], [5, 2, 269, 4, 7, 67, 233, 3, 3415, 2, 52, 8, 410, 74, 277, 3, 2, 47, 792, 4, 3416, 68, 446, 33, 8, 505, 3417, 3, 537, 68, 69, 3418, 8, 966, 12, 3419, 3420, 3421, 888, 7, 40, 888, 3422, 212, 114, 90, 206, 115, 3423, 1564, 12, 78, 201, 788, 1379, 3424, 2, 135, 226, 201, 2, 3425, 51, 36, 2, 42, 70, 231, 124, 6], [5, 2, 47, 244, 1565, 313, 13, 7, 160, 12, 26, 3, 610, 23, 793, 60, 103, 75, 107, 222, 1026, 2, 10, 52, 1380, 3426, 2, 610, 3427, 3428, 12, 8, 89, 3, 53, 95, 8, 89, 166, 2, 171, 1566, 3429, 3, 133, 325, 95, 110, 2, 583, 81, 1878, 3, 171, 205, 3430, 3431, 3432, 967, 3433, 455, 2333, 7, 207, 9, 27, 2, 80, 1566, 69, 7, 260, 109, 124, 6], [5, 18, 14, 29, 59, 204, 12, 21, 25, 3, 19, 44, 1124, 292, 114, 472, 744, 4, 1027, 4, 968, 4, 1567, 51, 36, 14, 42, 18, 90, 97, 30, 1233, 7, 260, 6], [5, 2, 46, 204, 12, 2334, 145, 35, 48, 32, 1125, 46, 24, 267, 253, 2, 577, 1234, 26, 189, 157, 166, 10, 43, 28, 242, 1879, 11, 778, 3, 97, 201, 17, 44, 1381, 134, 47, 968, 12, 584, 60, 878, 348, 135, 70, 142, 17, 883, 135, 34, 136, 3434, 33, 3, 1880, 2, 40, 2, 2335, 3435, 134, 2, 46, 1881, 9, 193, 23, 401, 394, 38, 102, 300, 2, 40, 43, 4, 7, 794, 503, 32, 120, 1882, 1382, 4, 7, 3436, 4, 270, 4, 2336, 611, 114, 24, 213, 102, 221, 787, 2, 27, 42, 32, 1235, 1235, 6], [5, 612, 113, 1383, 2337, 1384, 13, 193, 1568, 201, 450, 2338, 3, 24, 1569, 6], [5, 18, 2, 10, 44, 3, 115, 333, 193, 3, 2, 2339, 43, 538, 11, 7, 499, 42, 2, 10, 86, 57, 6], [5, 82, 1362, 893, 560, 222, 2, 47, 48, 8, 1236, 3, 249, 7, 1236, 2340, 421, 31, 136, 795, 28, 7, 2341, 127, 47, 59, 204, 12, 21, 25, 2, 47, 13, 7, 260, 379, 3, 12, 8, 218, 408, 297, 32, 177, 47, 36, 2, 37, 59, 6], [5, 17, 1570, 9, 24, 39, 100, 39, 23, 36, 20, 46, 2, 78, 168, 4, 483, 11, 7, 57, 227, 55, 453, 2, 10, 219, 145, 190, 138, 95, 6], [5, 2, 10, 8, 1549, 106, 3, 8, 252, 11, 8, 40, 745, 318, 53, 172, 3, 42, 24, 135, 156, 13, 1028, 2, 46, 48, 75, 27, 2, 96, 487, 4, 155, 1385, 391, 23, 2342, 2, 10, 24, 43, 13, 73, 15, 431, 15, 86, 3, 10, 24, 380, 6], [5, 2, 10, 52, 533, 66, 2343, 47, 1126, 12, 189, 60, 373, 101, 271, 3437, 150, 61, 148, 28, 796, 11, 613, 3438, 3, 537, 263, 212, 148, 1029, 10, 129, 506, 139, 93, 3, 148, 232, 115, 3, 422, 11, 116, 2, 46, 2344, 3439, 3, 2334, 145, 6], [5, 297, 27, 2, 37, 59, 12, 163, 3, 50, 1030, 1386, 12, 7, 72, 6], [5, 17, 452, 47, 179, 15, 237, 1237, 26, 68, 9, 3440, 3441, 128, 3, 47, 1883, 38, 160, 233, 47, 244, 504, 3, 3442, 35, 61, 68, 9, 267, 156, 3, 49, 3443, 68, 49, 52, 504, 254, 134, 2345, 1884, 83, 32, 283, 50, 23, 20, 7, 97, 119, 69, 51, 9, 237, 1237, 26, 6], [5, 98, 297, 13, 786, 738, 27, 14, 37, 59, 12, 163, 6], [5, 98, 84, 2, 673, 19, 140, 1367, 129, 61, 138, 219, 19, 88, 199, 2, 52, 26, 13, 3444, 11, 3445, 110, 381, 13, 3446, 11, 260, 178, 15, 607, 28, 17, 130, 32, 312, 89, 2, 171, 15, 64, 366, 473, 3, 746, 747, 104, 60, 2, 171, 115, 3, 585, 269, 4, 706, 141, 53, 430, 1127, 1571, 3447, 2346, 1885, 2347, 969, 191, 131, 47, 244, 261, 3, 748, 2, 148, 10, 1376, 11, 115, 55, 221, 2, 37, 1886, 3, 8, 327, 11, 585, 7, 585, 9, 55, 318, 103, 2, 94, 4, 1031, 2, 46, 1887, 4, 360, 36, 2, 1372, 4, 706, 141, 16, 50, 32, 37, 142, 642, 324, 14, 55, 221, 6], [5, 2, 46, 3448, 128, 242, 1888, 166, 2, 47, 179, 15, 26, 3, 7, 260, 120, 2, 52, 32, 3449, 3450, 134, 47, 232, 1889, 2, 10, 52, 242, 796, 11, 119, 3, 8, 238, 890, 249, 9, 7, 234, 109, 23, 49, 574, 643, 35, 605, 258, 450, 3451, 4, 323, 139, 6], [5, 36, 2, 20, 59, 12, 21, 25, 10, 43, 13, 73, 15, 402, 1574, 127, 795, 38, 1032, 28, 893, 222, 24, 465, 70, 30, 4, 1364, 43, 1238, 107, 434, 6], [5, 27, 2, 37, 8, 21, 25, 72, 6], [5, 227, 1033, 258, 156, 81, 146, 54, 3, 51, 23, 41, 405, 12, 33, 18, 2, 225, 23, 176, 11, 17, 190, 9, 76, 604, 14, 27, 406, 31, 27, 95, 33, 13, 70, 283, 17, 539, 9, 55, 147, 324, 14, 6], [5, 17, 452, 47, 843, 4, 1870, 3454, 401, 82, 736, 15, 26, 68, 9, 1387, 3, 69, 49, 707, 3, 1388, 401, 68, 47, 253, 15, 119, 3, 1575, 1128, 60, 466, 68, 9, 4, 487, 15, 119, 77, 48, 83, 2348, 1890, 844, 12, 382, 301, 60, 7, 109, 118, 68, 615, 4, 83, 2348, 1890, 844, 68, 47, 244, 8, 456, 3455, 127, 49, 1215, 26, 3, 13, 1389, 586, 8, 218, 60, 1568, 7, 67, 48, 7, 160, 373, 31, 17, 452, 401, 26, 47, 840, 3, 68, 47, 486, 150, 11, 708, 9, 23, 970, 12, 17, 452, 127, 557, 4, 20, 971, 16, 49, 1239, 38, 83, 26, 4, 20, 3456, 13, 7, 260, 845, 39, 8, 248, 15, 1215, 26, 6], [5, 102, 221, 50, 32, 1873, 2, 10, 52, 26, 587, 120, 82, 178, 24, 145, 1390, 111, 551, 7, 749, 797, 32, 85, 1891, 11, 31, 178, 2, 579, 1115, 184, 2, 52, 96, 43, 3458, 85, 8, 160, 3, 798, 75, 3, 145, 1391, 1892, 2, 111, 2349, 644, 2, 47, 3459, 114, 15, 607, 3, 3460, 193, 47, 561, 150, 7, 3461, 2350, 33, 3, 610, 33, 4, 382, 160, 7, 3462, 445, 8, 488, 220, 586, 148, 669, 12, 846, 220, 554, 2, 3463, 114, 4, 17, 3464, 15, 607, 296, 218, 157, 23, 2315, 114, 3, 2, 27, 1240, 3465, 2, 10, 53, 130, 559, 239, 39, 707, 16, 3466, 51, 27, 2, 42, 6], [5, 2, 10, 43, 507, 12, 247, 157, 3, 17, 374, 972, 26, 3, 2, 47, 454, 28, 119, 7, 1241, 137, 49, 579, 3467, 7, 74, 263, 2, 52, 79, 170, 174, 3, 23, 1893, 709, 745, 48, 90, 668, 90, 17, 30, 340, 13, 973, 15, 26, 3, 17, 374, 52, 489, 676, 8, 327, 11, 2351, 13, 7, 237, 130, 9, 23, 158, 31, 2, 52, 26, 18, 7, 799, 47, 449, 6], [5, 29, 367, 3, 1894, 455, 1895, 6], [5, 2, 10, 8, 126, 40, 64, 45, 3, 339, 27, 14, 138, 246, 15, 710, 33, 158, 2352, 12, 32, 2, 46, 453, 39, 161, 165, 4, 7, 86, 57, 6], [5, 27, 8, 1392, 2353, 2354, 95, 15, 7, 86, 57, 107, 23, 1393, 34, 1576, 6], [5, 132, 81, 131, 189, 157, 166, 2, 47, 179, 15, 26, 118, 242, 157, 2, 574, 161, 497, 4, 334, 146, 139, 150, 35, 2, 1394, 4, 40, 114, 474, 2, 225, 13, 7, 1242, 1395, 82, 206, 3, 23, 47, 79, 3468, 1395, 3, 974, 11, 1392, 32, 291, 2, 697, 114, 15, 44, 585, 318, 3, 17, 139, 13, 17, 130, 379, 645, 55, 318, 7, 115, 9, 146, 226, 368, 111, 7, 26, 10, 500, 139, 16, 552, 237, 51, 36, 2, 42, 6], [5, 2, 225, 17, 1897, 505, 1354, 103, 2, 47, 325, 61, 31, 2, 46, 780, 36, 2, 37, 352, 381, 32, 178, 16, 103, 36, 2, 118, 32, 1577, 11, 589, 324, 14, 3, 92, 353, 6], [5, 2, 10, 52, 73, 15, 8, 1396, 1034, 127, 49, 61, 43, 421, 39, 152, 7, 86, 57, 2, 159, 10, 70, 30, 35, 17, 2355, 41, 34, 33, 4, 20, 59, 9, 32, 158, 102, 42, 2, 42, 32, 6], [5, 2, 10, 8, 104, 186, 128, 15, 40, 842, 44, 1029, 134, 9, 226, 48, 206, 27, 68, 1127, 59, 12, 163, 6], [5, 1035, 106, 115, 2356, 45, 268, 44, 268, 154, 316, 6], [5, 17, 289, 127, 9, 25, 1231, 38, 2357, 82, 3469, 15, 8, 2358, 1129, 1036, 1243, 12, 646, 3, 261, 3470, 165, 4, 102, 507, 65, 47, 101, 409, 24, 288, 4, 1898, 7, 894, 35, 800, 65, 10, 352, 1899, 103, 65, 1578, 65, 269, 342, 4, 3471, 1374, 507, 47, 179, 15, 26, 3, 148, 52, 8, 204, 2357, 1900, 55, 105, 340, 1887, 4, 3472, 23, 12, 7, 3473, 1579, 39, 105, 3474, 35, 61, 65, 49, 8, 2359, 11, 153, 2360, 31, 9, 750, 3475, 342, 23, 2361, 34, 7, 3476, 562, 153, 3477, 2360, 616, 1397, 342, 3, 237, 32, 2359, 3478, 23, 9, 3479, 35, 2, 46, 24, 213, 18, 23, 9, 3480, 53, 44, 16, 457, 1901, 64, 45, 129, 61, 35, 1902, 148, 24, 114, 4, 3481, 107, 32, 1394, 1376, 11, 508, 6], [5, 9, 7, 40, 11, 8, 248, 15, 21, 25, 70, 535, 1543, 201, 8, 40, 11, 8, 248, 15, 8, 144, 6], [5, 54, 102, 42, 105, 72, 6], [5, 17, 590, 47, 179, 15, 354, 26, 139, 13, 2362, 1891, 118, 8, 1903, 11, 119, 68, 574, 221, 142, 35, 7, 799, 148, 709, 26, 8, 1903, 11, 1580, 119, 340, 110, 244, 4, 83, 68, 269, 139, 12, 8, 302, 114, 799, 82, 89, 3, 7, 799, 61, 1244, 7, 26, 9, 13, 345, 275, 7, 1109, 647, 9, 68, 49, 53, 30, 53, 115, 53, 44, 745, 111, 23, 530, 20, 228, 16, 607, 16, 790, 3482, 68, 49, 552, 1581, 13, 83, 509, 6], [5, 17, 963, 2363, 38, 179, 3483, 3, 801, 26, 895, 68, 9, 1398, 975, 120, 101, 308, 83, 1582, 12, 8, 89, 3, 110, 7, 799, 50, 563, 7, 26, 648, 263, 23, 3484, 2314, 68, 49, 43, 4, 3485, 3486, 1904, 52, 294, 72, 251, 833, 4, 80, 8, 3487, 28, 83, 2, 41, 406, 68, 52, 26, 81, 247, 236, 82, 178, 3, 55, 1037, 104, 16, 131, 32, 178, 70, 1245, 6], [5, 2, 47, 179, 15, 26, 194, 60, 166, 3, 269, 4, 706, 141, 43, 28, 540, 119, 3, 2, 1905, 7, 194, 109, 77, 249, 896, 2, 10, 1906, 3488, 4, 3489, 28, 641, 291, 189, 1399, 1583, 50, 23, 20, 353, 4, 2364, 138, 338, 19, 2365, 95, 50, 20, 2366, 6], [5, 102, 642, 118, 267, 349, 27, 136, 1907, 21, 25, 6], [5, 132, 794, 605, 2367, 3490, 789, 128, 1246, 2, 10, 1866, 35, 7, 67, 448, 33, 31, 23, 47, 897, 711, 301, 789, 166, 296, 120, 2, 94, 4, 153, 802, 65, 448, 33, 2, 10, 8, 26, 118, 1908, 170, 174, 1021, 333, 637, 2, 448, 202, 31, 2, 1909, 1038, 193, 82, 751, 2, 94, 4, 153, 802, 3491, 12, 8, 214, 357, 114, 3, 65, 540, 33, 2368, 3492, 2, 3493, 847, 3494, 133, 3, 2369, 4, 382, 3495, 11, 2368, 3496, 118, 189, 60, 2, 1909, 474, 1038, 193, 39, 12, 61, 605, 675, 180, 2370, 51, 36, 2, 42, 324, 14, 55, 221, 794, 6], [5, 9, 23, 677, 31, 18, 76, 47, 8, 1247, 11, 2371, 165, 4, 7, 57, 556, 41, 20, 475, 168, 4, 2372, 136, 15, 190, 176, 101, 41, 20, 78, 168, 4, 483, 6], [5, 2, 803, 2, 84, 10, 1248, 21, 25, 2, 10, 8, 1249, 93, 13, 17, 66, 39, 161, 6], [5, 132, 1250, 32, 9, 3497, 38, 2373, 1250, 17, 590, 9, 3498, 38, 3499, 3500, 68, 47, 898, 560, 60, 13, 160, 35, 148, 68, 9, 1251, 38, 26, 76, 29, 294, 357, 114, 49, 173, 195, 369, 649, 11, 3501, 8, 1400, 11, 899, 9, 468, 13, 129, 275, 35, 2, 37, 72, 8, 1910, 266, 2374, 3, 369, 3502, 35, 76, 9, 53, 3503, 899, 29, 468, 13, 345, 1910, 1250, 2, 46, 99, 272, 81, 32, 2, 46, 24, 541, 4, 3504, 51, 2, 36, 42, 12, 23, 1401, 308, 33, 142, 231, 134, 160, 50, 20, 215, 12, 33, 6], [5, 9, 23, 353, 4, 804, 383, 2375, 85, 136, 15, 54, 333, 18, 101, 358, 8, 257, 3, 777, 6], [5, 29, 76, 1039, 1040, 346, 15, 343, 368, 221, 2376, 1041, 752, 4, 1911, 411, 97, 201, 126, 805, 61, 8, 60, 2, 155, 23, 8, 327, 165, 4, 86, 57, 1584, 6], [5, 2, 10, 43, 167, 99, 698, 3, 152, 339, 1402, 3, 510, 377, 6], [5, 780, 390, 128, 15, 284, 490, 106, 3, 40, 107, 1912, 3505, 179, 15, 354, 256, 610, 119, 409, 24, 37, 142, 2377, 3506, 3, 66, 170, 174, 445, 26, 610, 119, 409, 24, 37, 142, 15, 216, 106, 3, 115, 399, 157, 466, 382, 66, 170, 174, 148, 445, 26, 49, 43, 205, 3507, 12, 841, 60, 61, 113, 24, 712, 4, 20, 146, 142, 3, 96, 61, 43, 540, 3508, 3, 3509, 35, 18, 68, 9, 675, 38, 354, 74, 15, 542, 743, 303, 23, 226, 6], [5, 17, 590, 49, 3510, 154, 3511, 3, 9, 3512, 186, 128, 68, 49, 52, 7, 200, 12, 3513, 304, 186, 68, 49, 43, 319, 1376, 11, 26, 3, 2378, 220, 1403, 2, 46, 713, 18, 68, 50, 3514, 15, 32, 4, 7, 650, 3, 18, 14, 27, 543, 33, 51, 7, 650, 50, 714, 34, 6], [5, 227, 465, 651, 11, 122, 3, 169, 11, 116, 182, 7, 82, 89, 2, 96, 445, 150, 32, 291, 31, 2, 47, 332, 4, 136, 127, 59, 204, 2, 71, 338, 28, 102, 4, 37, 59, 3, 253, 18, 976, 1536, 96, 112, 1585, 6], [5, 2, 47, 28, 8, 1042, 28, 222, 2379, 10, 43, 75, 703, 107, 112, 175, 476, 2, 10, 52, 339, 3, 216, 45, 2, 10, 104, 60, 237, 11, 17, 112, 175, 36, 2, 20, 152, 226, 30, 85, 61, 6], [5, 17, 1043, 848, 128, 590, 9, 669, 12, 86, 57, 652, 1586, 43, 152, 44, 1027, 968, 12, 8, 89, 47, 843, 4, 160, 3, 49, 26, 102, 9, 23, 253, 3, 36, 68, 92, 48, 7, 160, 391, 83, 30, 37, 142, 68, 49, 2380, 95, 6], [5, 102, 42, 2, 1913, 8, 806, 653, 15, 17, 67, 12, 21, 25, 6], [5, 212, 699, 213, 31, 2, 10, 21, 25, 17, 452, 9, 8, 140, 1034, 31, 49, 43, 332, 1404, 17, 30, 9, 654, 149, 3, 93, 13, 7, 66, 27, 2, 360, 3, 188, 102, 2, 135, 1914, 16, 9, 76, 8, 91, 31, 1587, 678, 149, 13, 7, 206, 6], [5, 9, 76, 8, 679, 2, 41, 96, 37, 187, 30, 11, 7, 57, 16, 176, 2, 46, 737, 31, 9, 591, 6], [5, 98, 123, 18, 90, 2, 10, 9, 8, 126, 40, 36, 2, 37, 59, 12, 21, 25, 53, 753, 285, 16, 73, 15, 147, 91, 1405, 2, 10, 43, 244, 2381, 4, 434, 8, 1588, 13, 961, 195, 7, 617, 35, 159, 288, 4, 303, 202, 156, 6], [5, 2, 46, 1406, 186, 128, 2, 47, 179, 15, 26, 579, 8, 390, 166, 118, 8, 422, 322, 11, 191, 463, 44, 3, 126, 40, 333, 118, 77, 15, 189, 2382, 11, 119, 126, 40, 49, 24, 3515, 2, 46, 152, 93, 28, 7, 129, 506, 355, 11, 7, 3516, 134, 9, 533, 3, 319, 139, 93, 3, 618, 90, 182, 17, 139, 3, 66, 13, 8, 2383, 1589, 8, 66, 369, 47, 1407, 3, 445, 1915, 3517, 900, 13, 7, 3518, 3, 3519, 1237, 2384, 11, 129, 506, 1044, 15, 1916, 3520, 3521, 884, 3522, 3523, 3524, 13, 7, 3525, 3526, 3, 3527, 1237, 2384, 218, 807, 3528, 3, 3529, 1253, 1590, 715, 218, 1253, 1590, 468, 13, 7, 3530, 1254, 218, 11, 352, 465, 3531, 3532, 17, 82, 977, 347, 38, 1891, 1591, 9, 39, 3533, 849, 3534, 3535, 1041, 2385, 1399, 3536, 104, 2386, 1399, 3537, 2387, 148, 2, 46, 152, 511, 126, 40, 3, 618, 51, 27, 23, 20, 6], [5, 51, 9, 7, 77, 12, 21, 25, 6], [5, 9, 1592, 432, 3, 106, 85, 257, 1917, 4, 185, 86, 278, 27, 23, 24, 20, 544, 266, 473, 3, 746, 6], [5, 98, 17, 1046, 9, 3538, 3, 2, 3539, 139, 13, 2388, 15, 582, 26, 13, 17, 129, 130, 7, 82, 218, 331, 2, 10, 1593, 3540, 1408, 754, 3, 3541, 23, 9, 55, 3542, 2, 133, 10, 81, 145, 131, 11, 17, 1408, 237, 35, 53, 3543, 1918, 2, 69, 10, 8, 1594, 1919, 16, 3544, 81, 145, 3545, 808, 7, 3546, 11, 17, 3547, 28, 7, 139, 11, 17, 366, 23, 608, 90, 2389, 7, 139, 11, 17, 3548, 70, 231, 2, 901, 14, 340, 199, 4, 95, 35, 3549, 53, 3550, 1595, 17, 1409, 134, 2, 878, 348, 10, 124, 2390, 6], [5, 2, 10, 647, 13, 17, 473, 3, 29, 775, 3, 268, 710, 33, 339, 6], [5, 98, 2, 52, 8, 216, 106, 610, 108, 384, 1209, 3, 1255, 1596, 3, 61, 23, 9, 8, 40, 15, 1597, 326, 36, 37, 72, 12, 32, 21, 25, 2, 385, 10, 8, 44, 2, 69, 10, 8, 252, 11, 422, 116, 6], [5, 2, 10, 8, 26, 3, 10, 648, 266, 145, 680, 1903, 11, 8, 1598, 3, 646, 2, 447, 69, 343, 79, 748, 52, 4, 94, 139, 4, 1920, 28, 1047, 206, 176, 2, 47, 148, 24, 70, 142, 101, 446, 33, 8, 261, 505, 3, 8, 145, 3551, 3552, 12, 778, 134, 2, 171, 81, 2391, 641, 291, 2, 447, 148, 24, 167, 142, 2, 61, 39, 11, 32, 291, 10, 8, 1249, 93, 2392, 619, 2393, 31, 670, 3, 608, 17, 220, 3553, 268, 3, 268, 3554, 232, 1410, 2, 69, 697, 114, 4, 66, 93, 31, 41, 94, 38, 674, 167, 4, 1249, 93, 12, 81, 788, 1379, 3555, 110, 850, 3, 49, 43, 28, 3, 342, 107, 110, 17, 40, 9, 55, 318, 31, 103, 2, 40, 23, 467, 34, 17, 883, 506, 2394, 11, 17, 139, 130, 379, 29, 2395, 3556, 3, 1130, 17, 116, 184, 103, 2, 80, 3557, 3558, 16, 3559, 17, 3560, 2, 1599, 1921, 8, 194, 60, 166, 31, 2, 41, 37, 232, 698, 48, 1922, 236, 3561, 1600, 2, 47, 152, 8, 44, 2, 716, 43, 1411, 3562, 472, 11, 17, 1923, 39, 11, 81, 131, 189, 60, 166, 3, 23, 401, 557, 4, 10, 3563, 1924, 1925, 23, 401, 3564, 196, 38, 1926, 2396, 35, 268, 23, 3565, 37, 4, 34, 1131, 2397, 3, 3566, 313, 2, 447, 1029, 55, 318, 31, 401, 17, 3567, 50, 20, 3568, 3, 1408, 1132, 34, 2, 47, 1601, 538, 13, 7, 2398, 12, 79, 2387, 13, 1412, 11, 1413, 23, 401, 156, 36, 2, 20, 258, 6], [5, 655, 1250, 100, 781, 17, 452, 9, 1928, 81, 2400, 186, 3, 9, 248, 11, 1602, 737, 107, 82, 788, 186, 68, 9, 61, 13, 3569, 165, 4, 26, 13, 275, 3, 1256, 11, 74, 3570, 90, 182, 7, 154, 3, 68, 9, 152, 3571, 368, 23, 9, 579, 235, 60, 28, 2401, 35, 76, 9, 53, 2402, 1021, 11, 83, 3572, 68, 9, 2403, 28, 3573, 275, 1603, 457, 1929, 3574, 208, 1399, 1048, 2346, 1127, 1571, 3575, 1041, 2404, 1926, 2405, 1926, 1604, 3576, 809, 3577, 275, 403, 810, 97, 1930, 11, 7, 154, 29, 513, 1049, 3, 29, 100, 13, 586, 889, 61, 51, 36, 2, 42, 51, 620, 77, 36, 20, 244, 4, 83, 138, 95, 33, 13, 32, 3578, 2, 46, 13, 99, 221, 71, 11, 19, 95, 3579, 2406, 3580, 3581, 452, 1046, 3582, 2406, 2400, 186, 843, 3583, 3584, 3585, 3586, 160, 3587, 11, 3588, 705, 11, 956, 3589, 1031, 53, 3590, 6], [5, 2, 10, 328, 13, 7, 82, 235, 60, 47, 13, 2407, 2408, 1050, 2409, 3, 1414, 795, 139, 13, 1415, 847, 60, 166, 3, 10, 43, 112, 477, 2, 10, 171, 15, 187, 30, 239, 39, 64, 45, 40, 511, 35, 172, 9, 259, 2, 71, 8, 1257, 6], [5, 132, 67, 2, 46, 707, 248, 2, 47, 486, 8, 361, 811, 3591, 851, 579, 3592, 3, 3593, 166, 7, 67, 902, 33, 4, 80, 7, 361, 362, 13, 296, 194, 186, 35, 254, 7, 2410, 11, 194, 178, 2, 46, 179, 15, 26, 51, 36, 2, 42, 36, 2, 80, 7, 361, 254, 7, 2410, 11, 194, 178, 322, 138, 338, 6], [5, 2, 10, 286, 3, 2, 583, 31, 23, 111, 20, 8, 2411, 4, 152, 21, 25, 2, 47, 13, 1416, 650, 11, 2412, 491, 55, 78, 201, 247, 157, 139, 6], [5, 152, 243, 852, 48, 45, 35, 53, 40, 9, 23, 70, 647, 621, 4, 21, 6], [5, 2, 10, 8, 64, 45, 8, 243, 40, 39, 161, 39, 681, 126, 473, 2, 84, 10, 43, 13, 73, 15, 1405, 15, 21, 25, 35, 2413, 6], [5, 2, 10, 8, 131, 848, 128, 171, 115, 104, 2414, 166, 24, 533, 565, 1605, 2415, 3, 53, 97, 30, 99, 191, 463, 44, 48, 206, 717, 6], [5, 2, 271, 2, 10, 54, 2, 46, 152, 66, 618, 38, 233, 3, 195, 7, 589, 11, 249, 2, 10, 43, 126, 115, 51, 27, 2, 42, 61, 6], [5, 98, 3594, 109, 794, 2, 52, 32, 129, 2416, 26, 82, 2417, 903, 3595, 3, 2, 3596, 77, 12, 104, 157, 118, 31, 605, 24, 541, 4, 3597, 13, 7, 160, 12, 125, 357, 114, 81, 17, 508, 35, 296, 61, 3, 110, 605, 675, 2370, 3, 3598, 35, 2, 69, 52, 79, 1133, 586, 102, 27, 14, 95, 33, 6], [5, 42, 2, 10, 21, 25, 6], [5, 102, 42, 14, 37, 1051, 28, 7, 1013, 9, 23, 38, 805, 4, 805, 73, 195, 979, 38, 8, 2418, 1417, 853, 7, 1013, 324, 14, 6], [5, 2, 10, 52, 187, 66, 93, 12, 182, 8, 89, 23, 61, 557, 78, 435, 3, 2419, 2, 159, 10, 169, 11, 116, 16, 70, 97, 21, 25, 30, 656, 108, 511, 2, 10, 43, 1607, 8, 327, 13, 147, 91, 616, 36, 2, 37, 59, 6], [5, 2, 269, 4, 7, 123, 12, 8, 40, 3, 44, 28, 222, 194, 101, 179, 33, 15, 277, 2, 47, 24, 592, 70, 142, 55, 2, 615, 4, 7, 123, 28, 222, 560, 101, 798, 33, 4, 7, 478, 4, 37, 59, 12, 21, 48, 7, 478, 101, 1608, 8, 1134, 11, 386, 514, 8, 21, 348, 6], [5, 2, 10, 52, 8, 64, 45, 12, 8, 218, 60, 785, 206, 23, 574, 34, 894, 233, 23, 171, 904, 470, 3, 249, 2, 10, 171, 115, 3, 1609, 474, 2, 42, 24, 10, 8, 44, 35, 2, 37, 603, 1135, 199, 3, 76, 111, 23, 20, 21, 6], [5, 27, 205, 779, 782, 12, 112, 141, 34, 980, 905, 146, 78, 360, 296, 109, 95, 317, 14, 38, 515, 7, 54, 16, 7, 122, 6], [5, 9, 423, 3, 286, 8, 464, 11, 21, 25, 6], [5, 51, 27, 2, 155, 395, 54, 18, 2, 1610, 150, 11, 370, 755, 6], [5, 396, 43, 156, 12, 7, 82, 242, 157, 15, 180, 410, 93, 698, 2420, 3, 8, 99, 363, 66, 576, 15, 115, 114, 108, 474, 396, 43, 253, 15, 119, 263, 23, 516, 135, 34, 23, 49, 1258, 9, 23, 158, 31, 32, 27, 20, 21, 145, 6], [5, 2, 271, 2, 71, 4, 20, 59, 12, 21, 25, 6], [5, 17, 1018, 2421, 289, 328, 85, 1042, 562, 2422, 2423, 2424, 1931, 2425, 51, 29, 7, 1040, 11, 21, 25, 65, 49, 53, 30, 3, 76, 10, 24, 43, 70, 1136, 375, 28, 153, 1906, 2, 46, 1585, 202, 39, 215, 2, 27, 48, 75, 6], [5, 30, 492, 640, 13, 7, 45, 126, 40, 654, 149, 1049, 151, 263, 24, 232, 8, 614, 11, 8, 44, 172, 9, 81, 1019, 981, 36, 2, 37, 59, 6], [5, 396, 43, 13, 73, 15, 8, 158, 21, 25, 282, 127, 9, 669, 28, 652, 17, 1123, 557, 4, 20, 1587, 15, 86, 30, 3, 1547, 34, 4, 37, 231, 28, 102, 4, 95, 202, 39, 153, 906, 50, 1611, 17, 906, 3, 317, 7, 387, 11, 7, 57, 6], [5, 2, 10, 8, 64, 45, 3, 8, 252, 11, 8, 40, 32, 291, 2, 1052, 114, 474, 15, 51, 714, 34, 193, 9, 32, 8, 614, 11, 21, 25, 6], [5, 161, 2426, 207, 2, 52, 26, 139, 13, 3601, 3, 1932, 8, 210, 2, 10, 61, 2, 610, 119, 401, 3, 225, 142, 35, 605, 1418, 24, 90, 76, 13, 7, 149, 854, 1259, 3602, 43, 1359, 114, 15, 8, 2427, 66, 35, 608, 184, 39, 109, 3603, 69, 135, 39, 3604, 18, 2, 52, 982, 13, 17, 45, 103, 2, 1612, 4, 37, 7, 1933, 150, 450, 24, 90, 3605, 450, 96, 449, 2, 37, 8, 363, 66, 2428, 268, 1260, 113, 95, 254, 3606, 476, 3607, 6], [5, 51, 9, 7, 77, 12, 21, 25, 6], [5, 98, 212, 28, 2429, 3, 1261, 301, 1935, 170, 145, 534, 89, 12, 1053, 212, 280, 31, 7, 1261, 84, 2430, 17, 384, 371, 3, 303, 33, 78, 1262, 4, 21, 25, 41, 23, 24, 20, 983, 4, 2431, 155, 2432, 7, 2433, 49, 1115, 6], [5, 17, 364, 9, 841, 186, 128, 68, 49, 49, 26, 68, 49, 43, 156, 107, 2377, 1026, 30, 217, 1936, 68, 9, 114, 48, 206, 852, 90, 182, 83, 469, 2434, 366, 3, 746, 68, 49, 1614, 151, 3, 1054, 93, 68, 9, 99, 2435, 3, 1937, 176, 32, 9, 292, 28, 283, 4, 223, 3, 68, 49, 468, 294, 556, 15, 53, 1419, 70, 1245, 682, 211, 852, 1615, 51, 111, 20, 797, 7, 366, 93, 3, 638, 93, 101, 357, 83, 249, 12, 3608, 6], [5, 471, 502, 49, 43, 2436, 165, 137, 11, 17, 2437, 397, 1588, 267, 421, 4, 10, 2438, 25, 2, 46, 350, 1137, 48, 75, 3, 41, 34, 4, 87, 18, 2, 27, 72, 12, 86, 6], [5, 156, 12, 312, 89, 67, 540, 314, 24, 167, 142, 30, 29, 169, 11, 116, 299, 149, 1420, 40, 187, 151, 154, 588, 36, 2, 622, 146, 59, 12, 21, 25, 6], [5, 27, 2, 739, 54, 28, 593, 1263, 38, 136, 127, 49, 23, 102, 223, 42, 1055, 28, 593, 1263, 82, 6], [5, 2, 10, 99, 187, 30, 11, 21, 25, 151, 64, 45, 511, 51, 42, 2, 42, 61, 9, 23, 902, 4, 756, 92, 75, 16, 94, 4, 37, 59, 6], [5, 27, 152, 2439, 224, 45, 1421, 559, 303, 14, 78, 1262, 4, 7, 54, 6], [5, 98, 27, 2, 155, 2440, 1842, 398, 907, 333, 637, 105, 10, 7, 54, 2441, 6], [5, 2, 10, 52, 8, 3609, 3610, 12, 1019, 186, 3, 10, 52, 294, 123, 401, 13, 31, 120, 2442, 2, 47, 114, 4, 336, 3611, 1023, 2443, 3612, 1571, 401, 1131, 2444, 3613, 907, 39, 161, 39, 79, 3614, 11, 1935, 907, 134, 340, 510, 48, 17, 3615, 2, 10, 790, 3, 10, 180, 139, 3616, 35, 576, 15, 7, 1571, 401, 2, 69, 52, 2445, 517, 4, 2443, 3617, 3618, 907, 134, 118, 3619, 3620, 53, 420, 1023, 90, 11, 7, 808, 975, 390, 3, 41, 714, 12, 108, 78, 2, 2446, 189, 236, 13, 8, 247, 178, 2442, 165, 4, 1264, 26, 134, 7, 123, 401, 448, 33, 17, 636, 340, 2447, 8, 1616, 3621, 13, 32, 103, 2, 47, 1617, 2, 1374, 79, 3622, 165, 4, 17, 1123, 757, 65, 47, 17, 3623, 3, 2, 1374, 99, 758, 2448, 4, 518, 7, 93, 32, 1056, 4, 17, 466, 3624, 3, 53, 1618, 51, 2, 682, 2, 111, 24, 3625, 594, 3626, 7, 82, 120, 2, 47, 13, 7, 160, 2, 373, 3627, 2, 42, 24, 87, 18, 14, 29, 1138, 35, 18, 14, 29, 2, 46, 3628, 14, 4, 846, 17, 220, 381, 4, 14, 3, 2, 71, 19, 95, 16, 32, 50, 394, 20, 23, 12, 33, 103, 2, 683, 7, 160, 2, 10, 52, 497, 3, 32, 9, 133, 7, 758, 3629, 11, 17, 509, 2, 41, 24, 372, 7, 611, 3, 1265, 11, 718, 2, 10, 52, 4, 3630, 28, 431, 2, 46, 7, 82, 11, 90, 17, 1266, 237, 3631, 3, 2, 46, 3632, 128, 182, 1619, 1266, 10, 1115, 28, 104, 11, 134, 2, 3633, 114, 15, 38, 7, 404, 11, 194, 262, 96, 41, 24, 1620, 2, 1422, 104, 1025, 3634, 145, 17, 1423, 178, 13, 3635, 7, 97, 587, 186, 466, 11, 79, 3636, 3637, 4, 406, 3638, 1938, 3, 97, 559, 3639, 33, 391, 2, 409, 39, 294, 519, 39, 158, 4, 3640, 7, 93, 35, 3641, 133, 92, 3642, 55, 223, 134, 2, 445, 150, 7, 300, 283, 3643, 3644, 2449, 6], [5, 27, 8, 177, 15, 219, 145, 190, 703, 96, 37, 187, 30, 11, 54, 16, 50, 23, 510, 20, 1939, 6], [5, 1621, 13, 1622, 1623, 206, 676, 11, 2450, 21, 25, 282, 466, 2451, 237, 1622, 112, 477, 107, 1114, 2452, 13, 70, 73, 477, 39, 1624, 87, 18, 70, 1424, 2453, 33, 52, 43, 349, 39, 223, 39, 53, 30, 102, 223, 376, 2, 112, 197, 12, 6], [5, 209, 2, 52, 26, 3, 61, 10, 1940, 2, 46, 96, 713, 18, 23, 50, 703, 94, 184, 2, 46, 1941, 3, 3645, 17, 1942, 296, 120, 2, 270, 4, 334, 513, 150, 23, 670, 139, 50, 2, 703, 20, 541, 4, 203, 150, 381, 23, 49, 43, 107, 1425, 103, 2, 52, 26, 3, 2, 148, 46, 1943, 15, 32, 1235, 1235, 6], [5, 50, 54, 303, 17, 759, 78, 984, 4, 515, 7, 122, 36, 90, 759, 20, 1625, 395, 7, 122, 13, 282, 101, 739, 21, 25, 6], [5, 39, 136, 31, 1231, 38, 2454, 1388, 719, 855, 36, 2, 20, 779, 1626, 15, 7, 86, 57, 1944, 17, 220, 2, 10, 52, 1128, 2455, 2456, 4, 2457, 7, 2458, 3, 2459, 3, 46, 350, 30, 702, 6], [5, 132, 67, 82, 206, 2, 47, 146, 418, 167, 78, 144, 201, 1057, 3, 985, 3, 8, 327, 11, 1627, 412, 34, 296, 788, 1426, 16, 475, 16, 55, 135, 78, 418, 490, 392, 17, 154, 3, 66, 167, 252, 908, 34, 2, 46, 792, 152, 654, 149, 110, 608, 139, 4, 259, 3, 3646, 15, 908, 167, 34, 418, 392, 17, 237, 3, 129, 275, 16, 237, 3, 129, 469, 66, 69, 17, 220, 47, 2460, 1410, 69, 108, 812, 1108, 340, 76, 107, 2461, 60, 166, 148, 199, 2, 10, 719, 474, 3, 10, 24, 1628, 2462, 436, 2, 610, 1058, 233, 35, 249, 2, 225, 180, 144, 3, 122, 532, 15, 8, 93, 3647, 7, 418, 409, 24, 94, 184, 110, 249, 2, 811, 7, 67, 28, 7, 437, 3, 448, 202, 51, 954, 82, 206, 3, 7, 260, 647, 2463, 32, 291, 368, 2, 52, 812, 1108, 167, 985, 135, 34, 412, 838, 644, 16, 417, 3, 8, 327, 11, 1627, 2, 448, 202, 7, 1627, 438, 47, 292, 28, 12, 48, 424, 242, 186, 35, 2464, 32, 120, 2, 46, 167, 985, 65, 96, 1267, 3648, 8, 270, 412, 2465, 2, 3649, 31, 249, 148, 167, 418, 61, 3, 148, 1627, 8, 327, 129, 61, 148, 108, 418, 28, 3650, 15, 149, 438, 16, 417, 1427, 17, 66, 135, 908, 3, 1139, 268, 55, 36, 2, 20, 258, 2, 42, 24, 271, 2, 10, 8, 44, 61, 35, 42, 24, 135, 698, 28, 7, 3651, 47, 23, 2465, 16, 122, 23, 9, 54, 16, 417, 566, 2, 117, 23, 9, 24, 54, 2, 46, 909, 186, 128, 3, 3652, 305, 3653, 3654, 1945, 6], [5, 132, 2, 71, 4, 94, 4, 17, 123, 4, 37, 17, 966, 1428, 165, 4, 7, 86, 57, 2, 232, 159, 288, 4, 37, 150, 3, 2466, 13, 8, 1946, 502, 96, 12, 8, 966, 1429, 2467, 1429, 6], [5, 655, 67, 17, 3655, 289, 841, 331, 103, 65, 47, 104, 331, 3, 560, 60, 65, 225, 66, 74, 26, 13, 7, 129, 130, 3, 118, 104, 157, 11, 77, 13, 7, 160, 15, 261, 65, 1883, 341, 109, 65, 47, 843, 381, 15, 456, 349, 85, 26, 13, 7, 129, 130, 3, 110, 67, 409, 108, 72, 8, 3656, 2468, 3, 3657, 7, 3658, 3659, 1140, 463, 189, 65, 47, 15, 2469, 3, 3660, 2470, 85, 2469, 12, 131, 3661, 15, 3662, 3, 3663, 69, 15, 3664, 1430, 35, 90, 11, 542, 3665, 348, 657, 70, 647, 118, 31, 103, 65, 47, 194, 331, 3, 560, 60, 65, 52, 79, 8, 3666, 3667, 194, 3668, 3669, 1431, 3670, 182, 3671, 3672, 1947, 65, 684, 4, 1113, 35, 65, 27, 348, 2, 3673, 296, 120, 103, 65, 684, 4, 1113, 34, 12, 194, 4, 301, 1426, 3, 103, 65, 986, 296, 120, 118, 684, 1113, 110, 65, 225, 139, 4, 259, 118, 501, 3, 65, 1268, 61, 3674, 2470, 685, 28, 702, 3675, 1432, 69, 65, 9, 813, 15, 796, 11, 383, 6], [5, 42, 2, 96, 94, 4, 8, 123, 4, 1433, 18, 251, 8, 410, 74, 16, 42, 2, 94, 37, 59, 12, 21, 234, 4, 24, 91, 431, 13, 635, 6], [5, 98, 2, 10, 2471, 458, 43, 13, 284, 314, 12, 182, 194, 186, 61, 46, 2, 48, 91, 12, 54, 69, 36, 2, 1141, 17, 384, 371, 124, 6], [5, 2, 10, 286, 3, 46, 280, 81, 21, 25, 2, 583, 108, 375, 15, 567, 856, 493, 171, 15, 286, 51, 36, 2, 42, 54, 3, 286, 6], [5, 459, 12, 21, 72, 6], [5, 17, 498, 1115, 184, 13, 222, 118, 8, 422, 508, 153, 67, 373, 47, 277, 110, 26, 65, 47, 179, 3676, 807, 899, 130, 790, 118, 79, 1948, 174, 2472, 8, 1400, 13, 153, 130, 65, 47, 8, 1018, 178, 3677, 13, 7, 3678, 65, 69, 47, 8, 891, 27, 14, 543, 33, 3679, 230, 807, 899, 130, 790, 65, 47, 3680, 6], [5, 132, 67, 2, 37, 8, 40, 12, 7, 82, 218, 60, 134, 9, 582, 195, 206, 236, 53, 2473, 13, 172, 35, 167, 377, 15, 53, 285, 335, 53, 73, 15, 70, 21, 25, 1269, 23, 49, 43, 1128, 4, 1230, 60, 3, 49, 3681, 8, 327, 11, 2474, 3, 610, 520, 368, 556, 10, 1949, 7, 1950, 55, 42, 24, 87, 51, 4, 42, 138, 95, 6], [5, 98, 2, 378, 850, 425, 3, 10, 1270, 623, 3, 107, 76, 9, 8, 1629, 1630, 2, 46, 258, 31, 183, 623, 3, 216, 106, 111, 20, 1059, 4, 54, 7, 623, 645, 1434, 103, 2, 46, 987, 6], [5, 2, 46, 79, 2475, 3, 29, 343, 17, 290, 17, 66, 9, 363, 3, 2476, 9, 8, 325, 252, 64, 2, 27, 135, 17, 275, 29, 69, 146, 64, 103, 42, 2, 71, 4, 94, 4, 8, 67, 61, 15, 21, 25, 6], [5, 841, 178, 128, 49, 8, 40, 216, 106, 151, 2477, 53, 44, 9, 32, 21, 25, 6], [5, 98, 32, 21, 25, 760, 9, 1889, 2, 225, 1271, 32, 89, 3, 23, 47, 840, 35, 1272, 4, 988, 2, 52, 8, 89, 11, 1631, 126, 1108, 3, 69, 45, 47, 64, 396, 454, 476, 13, 8, 175, 51, 341, 42, 2, 148, 71, 4, 1273, 381, 6], [5, 2, 47, 179, 15, 1264, 26, 145, 89, 166, 152, 52, 7, 30, 12, 8, 89, 2, 10, 43, 28, 582, 1951, 3, 46, 237, 15, 1142, 3, 8, 318, 40, 17, 88, 9, 31, 17, 1116, 9, 3682, 2478, 2361, 34, 108, 193, 111, 20, 76, 9, 32, 720, 11, 26, 324, 14, 12, 19, 120, 2479, 1928, 1398, 3, 1632, 595, 656, 12, 3683, 6], [5, 17, 364, 49, 43, 156, 15, 7, 122, 12, 182, 8, 89, 3, 61, 49, 224, 45, 3, 26, 68, 401, 1633, 83, 67, 1608, 108, 386, 3, 83, 719, 193, 899, 849, 1124, 3684, 101, 96, 798, 83, 4, 7, 478, 51, 41, 162, 83, 969, 4, 1634, 2, 87, 76, 401, 394, 8, 218, 1274, 35, 244, 32, 753, 3685, 11, 83, 140, 324, 14, 99, 258, 590, 6], [5, 51, 91, 46, 2, 38, 54, 39, 2, 10, 1636, 6], [5, 100, 109, 2, 46, 1535, 157, 735, 3, 17, 2480, 9, 2481, 2, 69, 10, 8, 104, 178, 128, 289, 17, 66, 3, 45, 9, 64, 2, 10, 8, 533, 151, 3, 135, 774, 48, 236, 9, 23, 536, 4, 37, 476, 59, 12, 7, 54, 6], [5, 539, 176, 11, 7, 21, 25, 910, 6], [5, 212, 96, 8, 252, 280, 39, 2, 10, 8, 64, 45, 3, 115, 8, 325, 252, 39, 8, 1021, 11, 17, 64, 45, 17, 469, 154, 9, 69, 1275, 8, 252, 9, 32, 8, 162, 12, 210, 6], [5, 2, 47, 1246, 179, 15, 686, 35, 10, 107, 1239, 2, 42, 288, 4, 87, 18, 17, 1435, 426, 2482, 33, 48, 8, 567, 91, 36, 2, 740, 21, 25, 6], [5, 2, 46, 146, 151, 48, 206, 43, 1544, 15, 8, 64, 45, 3, 351, 238, 545, 53, 44, 40, 133, 681, 48, 236, 2, 269, 12, 2483, 3, 1436, 11, 17, 2484, 2485, 28, 1637, 222, 90, 32, 171, 118, 31, 376, 2, 72, 12, 21, 2486, 6], [5, 42, 2, 10, 21, 25, 6], [5, 2487, 958, 2488, 2489, 2490, 1950, 587, 2491, 2492, 893, 2493, 2494, 958, 2495, 1952, 1953, 2496, 1213, 2497, 545, 2498, 2499, 17, 2500, 2501, 6], [5, 50, 205, 329, 1143, 911, 7, 1954, 11, 7, 21, 25, 57, 6], [5, 2, 10, 43, 115, 3, 501, 12, 7, 312, 104, 157, 45, 232, 64, 312, 89, 510, 2502, 286, 171, 28, 641, 206, 3, 423, 107, 32, 1107, 10, 8, 533, 44, 38, 736, 6], [5, 98, 10, 43, 152, 8, 187, 44, 107, 7, 560, 11, 222, 15, 8, 1109, 558, 13, 7, 45, 44, 269, 184, 28, 7, 1060, 35, 500, 139, 233, 28, 7, 687, 222, 187, 53, 422, 11, 116, 96, 8, 243, 151, 376, 2, 72, 12, 163, 6], [5, 100, 109, 2, 10, 1356, 64, 45, 2503, 558, 13, 66, 379, 154, 316, 126, 40, 339, 2504, 10, 328, 4, 1414, 650, 1369, 6], [5, 98, 17, 1046, 9, 1955, 2, 47, 179, 15, 26, 641, 107, 2, 1956, 348, 43, 541, 4, 360, 165, 4, 423, 3, 2, 447, 774, 3, 7, 3686, 3687, 9, 18, 2, 427, 8, 912, 720, 11, 17, 521, 16, 139, 2, 3688, 135, 156, 18, 14, 27, 308, 33, 231, 31, 41, 20, 1144, 6], [5, 2505, 152, 1638, 1957, 419, 1958, 3, 153, 2506, 368, 65, 913, 360, 48, 206, 165, 4, 31, 458, 682, 2507, 4, 2508, 65, 52, 812, 2509, 103, 2510, 35, 24, 368, 488, 51, 27, 2, 42, 385, 288, 4, 80, 202, 4, 160, 165, 4, 57, 6], [5, 113, 146, 163, 303, 14, 384, 4, 8, 2511, 16, 96, 475, 168, 4, 20, 1959, 6], [5, 113, 370, 755, 750, 203, 297, 42, 90, 7, 1055, 94, 118, 343, 23, 3, 50, 23, 750, 414, 33, 395, 21, 25, 6], [5, 132, 2, 10, 52, 8, 66, 74, 81, 362, 8, 3689, 12, 7, 82, 178, 3, 8, 1062, 2, 47, 179, 15, 255, 24, 223, 166, 39, 161, 39, 152, 577, 26, 12, 7, 234, 120, 13, 7, 312, 89, 51, 111, 20, 797, 239, 989, 508, 2, 10, 1145, 43, 8, 595, 177, 12, 90, 11, 17, 509, 156, 412, 362, 296, 1128, 186, 6], [5, 17, 1361, 9, 13, 7, 160, 28, 885, 350, 7, 67, 990, 65, 61, 49, 51, 9, 1146, 1960, 13, 153, 275, 65, 49, 373, 31, 7, 1961, 11, 7, 220, 27, 53, 787, 20, 468, 17, 1361, 2512, 3, 110, 47, 179, 15, 26, 584, 60, 466, 65, 1852, 114, 13, 2513, 28, 8, 885, 3, 49, 24, 43, 541, 4, 20, 3691, 342, 65, 9, 350, 205, 131, 119, 51, 9, 19, 338, 6], [5, 15, 8, 318, 485, 1276, 102, 27, 2, 217, 39, 353, 39, 158, 38, 1147, 163, 13, 8, 402, 1063, 203, 9, 24, 79, 438, 35, 1148, 3, 2514, 2515, 9, 69, 71, 4, 80, 965, 2516, 39, 75, 9, 807, 53, 1277, 6], [5, 98, 17, 30, 29, 1275, 3, 64, 2517, 2, 135, 1216, 35, 2, 385, 10, 8, 40, 16, 216, 106, 2, 42, 135, 8, 325, 45, 439, 326, 35, 53, 64, 45, 24, 99, 156, 2, 10, 43, 205, 228, 1278, 3, 857, 457, 12, 8, 390, 6], [5, 102, 27, 137, 20, 213, 11, 8, 426, 11, 26, 16, 2518, 13, 1639, 102, 42, 14, 3693, 17, 794, 3694, 2, 10, 2518, 35, 7, 67, 13, 2519, 297, 2, 47, 3695, 253, 373, 2, 52, 3696, 26, 2, 47, 28, 1149, 119, 12, 584, 60, 13, 2519, 254, 561, 75, 4, 17, 123, 199, 13, 3697, 8, 7, 3698, 709, 796, 11, 474, 13, 17, 275, 2, 46, 1150, 9, 76, 8, 2520, 72, 12, 3699, 13, 1639, 123, 373, 2, 50, 20, 393, 446, 33, 2521, 3, 40, 532, 3, 990, 2, 50, 20, 393, 35, 50, 40, 12, 8, 1279, 223, 313, 391, 7, 275, 29, 449, 65, 373, 2, 42, 24, 71, 119, 176, 2, 10, 711, 52, 1598, 3, 399, 60, 11, 3700, 3, 110, 131, 60, 3701, 1149, 119, 127, 42, 2, 742, 2, 46, 1437, 186, 128, 552, 47, 167, 32, 156, 16, 377, 254, 16, 10, 52, 70, 974, 11, 130, 2522, 13, 17, 509, 2, 46, 8, 1280, 595, 3702, 53, 384, 1276, 16, 604, 34, 31, 6], [5, 17, 145, 178, 128, 364, 49, 43, 1962, 12, 81, 104, 60, 53, 115, 249, 68, 47, 393, 32, 291, 97, 201, 7, 783, 106, 61, 68, 9, 96, 1963, 305, 96, 1595, 3703, 3704, 13, 1033, 745, 3, 68, 49, 3705, 3706, 131, 236, 26, 9, 292, 305, 2, 87, 1964, 164, 31, 10, 23, 29, 542, 30, 6], [5, 2, 10, 2524, 2525, 671, 85, 407, 1438, 2, 188, 8, 2526, 1390, 1438, 2, 46, 8, 2527, 1640, 2528, 2, 148, 203, 2, 46, 8, 2529, 848, 128, 606, 51, 9, 17, 91, 694, 11, 146, 7, 57, 6], [5, 284, 64, 45, 12, 189, 331, 24, 224, 53, 44, 1860, 1641, 326, 12, 8, 313, 410, 439, 3, 403, 268, 318, 116, 13, 139, 11, 45, 268, 412, 351, 238, 545, 104, 1888, 11, 504, 1624, 95, 9, 32, 187, 21, 25, 6], [5, 98, 76, 2, 47, 378, 13, 397, 73, 15, 136, 127, 328, 1064, 7, 177, 49, 1065, 507, 35, 49, 24, 2530, 836, 16, 24, 2531, 43, 59, 36, 2, 94, 3, 37, 59, 12, 163, 6], [5, 9, 17, 482, 9, 48, 2532, 91, 11, 146, 7, 57, 39, 68, 9, 8, 634, 13, 8, 374, 554, 227, 55, 453, 12, 83, 227, 453, 68, 50, 37, 23, 3, 105, 50, 345, 650, 114, 15, 23, 6], [5, 2, 269, 4, 7, 67, 249, 3, 445, 150, 31, 2, 10, 26, 2, 225, 8, 646, 858, 3, 149, 77, 13, 7, 502, 3, 47, 798, 75, 15, 778, 1260, 3, 40, 532, 17, 2533, 3, 1439, 29, 99, 3707, 3, 579, 1281, 3, 582, 167, 9, 32, 38, 7, 646, 858, 2, 46, 851, 186, 128, 3, 2, 10, 3708, 1440, 1053, 55, 2, 46, 69, 205, 2534, 1261, 3709, 3, 3710, 1432, 12, 7, 1642, 9, 32, 8, 355, 763, 16, 8, 758, 1378, 16, 745, 4, 20, 280, 81, 6], [5, 17, 1151, 1441, 13, 8, 3711, 1066, 3, 49, 52, 26, 503, 13, 7, 82, 573, 11, 331, 32, 693, 1921, 9, 1965, 753, 3, 47, 381, 253, 15, 119, 68, 49, 24, 43, 541, 4, 37, 1283, 11, 7, 40, 3, 13, 7, 82, 218, 60, 577, 1442, 13, 83, 1439, 39, 161, 39, 8, 1643, 2404, 83, 1876, 9, 259, 83, 596, 9, 3712, 83, 12, 8, 573, 11, 386, 8, 3713, 3, 2, 27, 348, 914, 7, 97, 70, 3714, 6], [5, 98, 2, 225, 179, 15, 26, 233, 3, 10, 43, 798, 75, 15, 119, 504, 3, 1565, 2, 47, 96, 713, 51, 7, 91, 991, 41, 20, 18, 2, 340, 4, 10, 48, 424, 137, 1966, 2, 87, 23, 2535, 20, 100, 12, 7, 1572, 1573, 50, 394, 1644, 23, 392, 35, 9, 76, 70, 488, 91, 15, 425, 3715, 16, 412, 333, 3716, 1967, 15, 1968, 17, 67, 48, 7, 160, 31, 179, 33, 1217, 2, 1581, 3, 69, 1217, 2, 1581, 48, 424, 137, 16, 242, 3717, 3, 65, 373, 745, 103, 2, 47, 1381, 81, 684, 24, 4, 553, 400, 400, 6], [5, 100, 109, 2, 10, 8, 154, 172, 11, 2536, 981, 1645, 1443, 85, 339, 3, 8, 40, 396, 43, 59, 12, 21, 35, 251, 840, 2, 10, 654, 2537, 3, 10, 8, 93, 13, 17, 2538, 39, 161, 39, 17, 2539, 324, 14, 6], [5, 105, 269, 4, 1646, 522, 1969, 28, 17, 693, 109, 13, 1646, 1060, 222, 2, 171, 167, 8, 252, 156, 6], [5, 17, 399, 390, 128, 1022, 2540, 9, 2541, 4, 10, 153, 1537, 1444, 195, 7, 617, 2, 288, 4, 87, 18, 105, 27, 572, 4, 42, 153, 341, 1444, 391, 118, 32, 54, 49, 1539, 392, 2, 877, 288, 4, 91, 2542, 202, 1540, 6], [5, 98, 2, 10, 180, 151, 8, 64, 45, 467, 34, 915, 64, 24, 2543, 64, 35, 23, 1445, 881, 18, 2, 1970, 17, 2544, 1590, 13, 521, 656, 1971, 17, 237, 555, 154, 645, 115, 154, 430, 2545, 194, 366, 9, 698, 603, 1135, 96, 259, 122, 6], [5, 9, 23, 353, 4, 80, 2546, 195, 2547, 86, 760, 16, 36, 105, 80, 520, 6], [5, 50, 2, 10, 4, 20, 1126, 18, 2, 37, 7, 57, 2, 10, 219, 145, 190, 6], [5, 18, 14, 10, 2548, 1388, 719, 855, 113, 32, 303, 14, 78, 11, 8, 91, 15, 21, 25, 6], [5, 2, 52, 8, 3718, 82, 736, 3, 2512, 1852, 114, 13, 7, 815, 854, 3, 179, 15, 1647, 26, 2, 46, 28, 119, 61, 2, 46, 541, 4, 644, 142, 201, 233, 35, 2, 46, 148, 115, 8, 327, 48, 236, 2549, 1219, 326, 3, 2, 46, 99, 377, 102, 223, 36, 2, 1972, 32, 4, 82, 324, 14, 3719, 1127, 6], [5, 9, 23, 677, 16, 8, 2550, 31, 54, 50, 24, 741, 1973, 1974, 39, 1413, 2551, 9, 23, 1284, 4, 916, 13, 2552, 2553, 48, 424, 6], [5, 2, 46, 8, 235, 178, 128, 606, 31, 47, 378, 179, 15, 8, 243, 252, 11, 26, 2, 610, 7, 119, 31, 2, 47, 1648, 4, 80, 362, 8, 109, 12, 247, 60, 2, 1905, 23, 35, 2, 288, 4, 87, 18, 212, 87, 897, 251, 43, 8, 89, 16, 242, 107, 2, 2554, 7, 1446, 77, 102, 27, 2, 543, 31, 212, 897, 6], [5, 98, 2, 10, 8, 318, 40, 410, 439, 3, 154, 316, 35, 53, 44, 36, 2, 181, 15, 8, 67, 764, 7, 416, 163, 298, 6], [5, 27, 2, 188, 8, 123, 992, 12, 90, 17, 290, 1649, 55, 2, 159, 10, 4, 94, 245, 8, 123, 502, 2, 71, 532, 1649, 6], [5, 2, 10, 52, 8, 64, 45, 1650, 1557, 13, 45, 12, 182, 8, 89, 3, 2, 10, 533, 151, 42, 2, 71, 21, 25, 72, 18, 209, 102, 42, 8, 37, 136, 4, 323, 4, 17, 765, 4, 72, 6], [5, 12, 1651, 13, 2555, 597, 15, 1651, 38, 294, 1067, 51, 779, 1039, 546, 42, 101, 71, 4, 317, 515, 1068, 54, 6], [5, 9, 1975, 15, 2556, 547, 395, 86, 57, 1652, 64, 45, 50, 23, 518, 7, 57, 102, 81, 15, 1653, 11, 428, 287, 3, 917, 50, 32, 69, 518, 57, 6], [5, 2, 225, 79, 2557, 2558, 7, 460, 205, 2559, 1143, 2560, 2561, 4, 398, 1654, 36, 678, 101, 69, 406, 31, 329, 9, 1655, 7, 493, 11, 2562, 11, 7, 57, 3, 31, 105, 36, 24, 80, 183, 314, 102, 677, 9, 32, 6], [5, 132, 1656, 34, 108, 95, 138, 458, 171, 146, 183, 30, 3, 46, 713, 18, 2, 36, 188, 8, 67, 16, 92, 48, 75, 3, 270, 4, 37, 142, 151, 908, 1976, 2563, 28, 7, 355, 11, 17, 45, 363, 66, 187, 40, 6], [5, 2564, 1253, 1657, 28, 237, 355, 99, 1069, 2565, 28, 237, 355, 11, 366, 1069, 3, 645, 4, 427, 2566, 2567, 1253, 1657, 379, 28, 237, 355, 915, 3, 1069, 93, 1977, 345, 746, 53, 1285, 500, 28, 1658, 49, 43, 145, 109, 430, 744, 2568, 6], [5, 2, 10, 2569, 3, 46, 350, 28, 194, 109, 589, 11, 2570, 587, 809, 472, 2, 148, 10, 4, 203, 195, 54, 760, 102, 280, 11, 91, 46, 2, 2, 203, 13, 397, 1659, 2571, 29, 8, 573, 11, 633, 1152, 2, 46, 24, 541, 4, 203, 38, 75, 6], [5, 677, 16, 1660, 431, 349, 15, 21, 25, 334, 10, 286, 3, 1070, 7, 433, 11, 718, 1661, 4, 177, 127, 96, 334, 208, 30, 612, 6], [5, 98, 10, 43, 152, 8, 187, 44, 107, 7, 560, 11, 222, 15, 8, 1109, 558, 13, 7, 45, 44, 269, 184, 28, 7, 1060, 35, 500, 139, 233, 28, 7, 687, 222, 187, 53, 422, 11, 116, 96, 8, 243, 151, 376, 2, 72, 12, 163, 6], [5, 2572, 52, 8, 126, 40, 12, 8, 573, 157, 61, 351, 238, 545, 216, 106, 64, 45, 296, 61, 3, 110, 2, 271, 227, 792, 4, 365, 8, 44, 3, 227, 146, 985, 167, 2573, 103, 2, 1153, 3, 1071, 243, 154, 316, 42, 2, 10, 163, 6], [5, 2, 46, 280, 31, 227, 465, 30, 11, 86, 2, 10, 8, 363, 66, 993, 339, 44, 3, 2574, 115, 3, 501, 17, 45, 9, 69, 64, 458, 69, 43, 13, 7, 2575, 11, 136, 127, 49, 59, 2576, 12, 7, 57, 6], [5, 2, 10, 21, 25, 30, 35, 227, 24, 213, 18, 2, 10, 23, 16, 440, 7, 122, 6], [5, 18, 2, 10, 52, 8, 64, 45, 12, 131, 60, 35, 15, 53, 44, 36, 2, 20, 59, 12, 21, 25, 6], [5, 612, 29, 55, 294, 164, 15, 190, 757, 38, 7, 54, 440, 232, 2577, 33, 6], [5, 2, 10, 8, 1662, 858, 859, 48, 7, 833, 11, 1425, 50, 23, 20, 983, 4, 1663, 7, 859, 176, 11, 7, 21, 25, 531, 1662, 859, 6], [5, 2, 96, 500, 139, 38, 2578, 82, 89, 2579, 15, 17, 402, 3, 2, 10, 8, 40, 3, 8, 64, 45, 36, 2, 72, 476, 12, 21, 25, 1447, 11, 17, 402, 1448, 10, 70, 30, 39, 436, 324, 14, 6], [5, 2, 716, 43, 179, 15, 26, 2, 46, 1154, 28, 751, 781, 17, 364, 3720, 9, 3721, 7, 260, 30, 269, 4, 83, 67, 3, 350, 205, 1563, 3722, 2, 47, 540, 3723, 1155, 809, 12, 194, 60, 2, 47, 280, 107, 105, 340, 319, 7, 260, 30, 105, 3724, 120, 1569, 35, 68, 9, 2580, 3, 1664, 13, 738, 2, 46, 2580, 3, 17, 498, 9, 24, 319, 70, 30, 2581, 1150, 9, 76, 8, 283, 4, 87, 18, 14, 10, 8, 228, 16, 354, 26, 2, 10, 52, 90, 1665, 11, 535, 193, 203, 173, 66, 170, 174, 27, 101, 543, 102, 223, 9, 26, 717, 68, 49, 104, 568, 3, 105, 839, 684, 4, 2582, 150, 18, 23, 401, 1373, 4, 10, 136, 566, 994, 7, 759, 101, 29, 24, 156, 48, 32, 120, 6], [5, 227, 8, 452, 55, 18, 137, 11, 17, 759, 37, 54, 2, 37, 23, 368, 3, 387, 23, 4, 17, 1666, 402, 107, 101, 1667, 28, 33, 12, 721, 51, 27, 2, 232, 42, 440, 1668, 6], [5, 2, 10, 328, 4, 2583, 13, 7, 312, 89, 3, 615, 4, 1286, 1287, 28, 785, 2, 10, 52, 53, 30, 263, 249, 32, 9, 51, 2, 46, 319, 2, 41, 34, 4, 37, 59, 12, 163, 6], [5, 103, 2, 37, 139, 38, 995, 816, 42, 2, 71, 4, 461, 17, 1449, 3, 995, 2584, 15, 1277, 2585, 538, 4, 317, 54, 6], [5, 51, 29, 17, 433, 11, 133, 146, 187, 30, 18, 2, 37, 7, 57, 176, 2, 10, 219, 145, 190, 6], [5, 102, 27, 2, 185, 515, 21, 25, 18, 2, 10, 4, 285, 85, 1042, 16, 593, 1263, 6], [5, 18, 2, 37, 54, 29, 76, 1978, 4, 185, 146, 97, 1450, 39, 161, 34, 26, 6], [5, 2, 10, 8, 918, 2586, 27, 2, 10, 163, 6], [5, 2, 10, 43, 156, 12, 292, 28, 1128, 157, 61, 23, 1124, 1936, 975, 89, 38, 8, 1072, 106, 358, 2, 860, 644, 48, 90, 4, 17, 45, 1288, 3, 17, 66, 1288, 103, 2, 644, 16, 784, 605, 895, 3725, 1669, 3, 217, 152, 8, 44, 28, 3, 342, 90, 7, 120, 2, 269, 4, 7, 706, 141, 8, 89, 166, 842, 101, 373, 2, 52, 7, 833, 11, 26, 65, 133, 446, 33, 8, 1598, 3, 108, 40, 532, 7, 647, 9, 2, 135, 226, 24, 142, 48, 90, 51, 36, 2, 42, 6], [5, 2, 46, 1154, 186, 128, 606, 8, 178, 166, 2, 52, 354, 26, 3, 107, 110, 2, 46, 24, 167, 259, 69, 413, 448, 33, 2, 10, 707, 2, 46, 24, 425, 107, 26, 10, 3726, 362, 8, 109, 3, 2521, 1155, 503, 109, 878, 135, 31, 9, 592, 70, 100, 1846, 9, 76, 70, 97, 532, 31, 84, 95, 33, 4, 688, 78, 259, 1893, 3727, 3728, 47, 3729, 85, 3730, 35, 9, 24, 28, 3731, 3732, 436, 324, 14, 3733, 6], [5, 132, 2, 41, 34, 1073, 15, 1979, 8, 1980, 40, 31, 84, 16, 84, 24, 20, 1059, 4, 86, 57, 8, 1670, 1981, 594, 158, 278, 4, 136, 127, 59, 204, 7, 40, 171, 78, 201, 8, 89, 166, 6], [5, 36, 2, 92, 184, 38, 17, 402, 18, 2, 148, 10, 4, 203, 195, 7, 298, 2, 2587, 2588, 4, 995, 1671, 3, 2589, 2590, 3, 458, 43, 258, 81, 530, 146, 23, 3, 110, 352, 515, 23, 107, 101, 373, 14, 27, 20, 2591, 6], [5, 102, 970, 9, 54, 18, 2592, 49, 220, 1982, 3, 9, 219, 104, 190, 6], [5, 2, 378, 225, 182, 451, 7, 122, 16, 1227, 396, 1599, 17, 3734, 29, 3735, 2462, 16, 3736, 2, 52, 1074, 425, 3737, 60, 166, 3, 10, 43, 28, 7, 2593, 3738, 3, 61, 7, 1451, 2, 159, 135, 318, 35, 32, 9, 1356, 111, 7, 2593, 1615, 20, 2594, 4, 7, 3739, 324, 14, 6], [5, 2, 47, 179, 15, 26, 104, 60, 166, 48, 1255, 3740, 3, 47, 244, 8, 966, 12, 3741, 2, 40, 114, 449, 326, 17, 1672, 3742, 33, 2, 447, 267, 253, 12, 354, 26, 35, 7, 449, 326, 1983, 228, 26, 2, 447, 8, 1452, 178, 128, 1984, 127, 1074, 425, 82, 1985, 6], [5, 2, 10, 8, 64, 45, 3, 227, 377, 2, 1075, 1564, 161, 13, 7, 82, 242, 60, 96, 1075, 43, 541, 4, 276, 2595, 3, 2596, 1600, 996, 36, 2, 1673, 64, 1986, 9, 346, 15, 7, 54, 64, 45, 171, 249, 6], [5, 2, 10, 8, 533, 40, 3, 17, 66, 49, 61, 1065, 363, 2, 69, 10, 8, 1674, 13, 17, 45, 2, 41, 34, 4, 20, 59, 12, 54, 138, 6], [5, 2, 10, 53, 2597, 12, 44, 1675, 113, 21, 25, 162, 435, 44, 16, 23, 670, 3, 608, 2, 135, 17, 154, 325, 698, 242, 236, 8, 109, 8, 10, 238, 813, 3, 1289, 12, 223, 120, 296, 186, 251, 323, 12, 8, 313, 6], [5, 122, 30, 40, 3, 53, 44, 36, 2, 72, 12, 54, 2, 10, 255, 6], [5, 17, 2598, 82, 89, 47, 423, 3, 52, 286, 61, 32, 89, 23, 49, 1453, 245, 216, 106, 3, 8, 40, 53, 44, 70, 679, 440, 21, 25, 6], [5, 51, 29, 17, 433, 11, 904, 1112, 1156, 15, 7, 54, 39, 2, 10, 219, 145, 190, 6], [5, 2, 46, 319, 40, 1676, 85, 1865, 2599, 278, 4, 1677, 553, 206, 120, 346, 15, 326, 16, 474, 24, 346, 15, 2600, 1214, 16, 1987, 658, 2601, 658, 766, 149, 13, 284, 1442, 305, 473, 511, 6], [5, 227, 2602, 11, 757, 38, 54, 176, 11, 17, 190, 35, 385, 87, 51, 2, 27, 42, 6], [5, 2, 10, 8, 64, 45, 3, 187, 40, 42, 2, 71, 4, 20, 59, 12, 86, 6], [5, 100, 109, 195, 7, 617, 50, 2, 20, 541, 4, 285, 4, 17, 2603, 12, 17, 357, 114, 6], [5, 4, 518, 57, 28, 370, 134, 722, 142, 1454, 16, 259, 2604, 9, 1454, 142, 107, 23, 2605, 4, 37, 1283, 1055, 142, 605, 1150, 107, 2, 583, 28, 1678, 70, 974, 11, 722, 1445, 1618, 6], [5, 9, 2606, 2607, 3, 2608, 29, 353, 519, 13, 21, 25, 3, 9, 1232, 1384, 13, 248, 6], [5, 2, 10, 26, 3, 2, 46, 28, 778, 15, 137, 109, 237, 28, 17, 2609, 35, 2, 135, 232, 2610, 377, 422, 2611, 151, 3, 17, 172, 9, 2396, 42, 2, 10, 604, 4, 272, 81, 254, 205, 7, 778, 17, 172, 47, 305, 968, 189, 3, 259, 12, 33, 9, 1131, 247, 28, 7, 1409, 6], [5, 2, 47, 244, 8, 646, 505, 48, 2391, 32, 291, 103, 23, 47, 1290, 31, 2, 10, 1679, 26, 2, 47, 69, 3744, 79, 748, 3, 8, 1280, 261, 345, 11, 134, 2, 46, 61, 3745, 205, 39, 2612, 7, 123, 2613, 8, 40, 888, 15, 3746, 12, 1073, 15, 987, 266, 7, 30, 31, 10, 43, 3747, 15, 17, 1291, 4, 360, 134, 2, 2614, 165, 4, 267, 136, 127, 552, 1130, 636, 48, 90, 3, 1558, 11, 152, 55, 221, 13, 17, 371, 48, 362, 7, 123, 3748, 31, 1680, 41, 20, 96, 393, 18, 281, 3, 18, 2, 447, 78, 3749, 15, 2, 447, 152, 108, 2365, 1679, 3750, 38, 7, 646, 3, 108, 220, 1927, 3, 2, 10, 79, 1988, 220, 1927, 4, 1455, 15, 2, 135, 3751, 4, 80, 7, 1680, 4, 1611, 2, 37, 3752, 281, 360, 35, 46, 280, 15, 90, 31, 9, 28, 3753, 400, 2520, 1456, 41, 20, 55, 3754, 2366, 324, 14, 13, 3755, 6], [5, 297, 27, 2, 20, 59, 12, 21, 25, 6], [5, 98, 17, 2615, 49, 43, 179, 15, 1292, 790, 3, 65, 9, 13, 7, 82, 886, 118, 7, 234, 2616, 65, 49, 43, 843, 4, 160, 165, 4, 26, 9, 65, 381, 179, 15, 130, 790, 3, 51, 29, 7, 433, 11, 146, 817, 51, 77, 14, 41, 34, 407, 4, 37, 23, 173, 6], [5, 2, 46, 971, 38, 1264, 1234, 26, 13, 160, 131, 60, 2, 447, 79, 3756, 55, 2, 1217, 2, 52, 4, 155, 1989, 3757, 3, 3758, 12, 104, 157, 2, 46, 104, 157, 351, 1990, 2, 10, 4, 358, 2617, 48, 206, 133, 194, 4, 145, 3759, 4, 217, 3760, 808, 1991, 195, 7, 109, 2, 1375, 71, 1885, 2, 46, 28, 214, 683, 12, 189, 157, 9, 32, 292, 4, 37, 1293, 4, 116, 642, 2, 46, 1681, 39, 221, 39, 158, 2, 878, 348, 10, 221, 1278, 756, 276, 201, 135, 93, 2, 66, 6], [5, 17, 3761, 9, 3762, 248, 3, 65, 9, 675, 38, 1227, 3, 49, 43, 244, 3763, 38, 131, 157, 584, 236, 8, 109, 61, 103, 105, 10, 173, 153, 3764, 72, 65, 49, 225, 2331, 716, 39, 104, 55, 65, 9, 43, 244, 532, 3765, 3, 10, 43, 919, 4, 94, 12, 2618, 72, 2, 46, 2619, 18, 32, 9, 232, 8, 2618, 282, 6], [5, 27, 21, 25, 20, 544, 818, 27, 70, 54, 20, 544, 818, 6], [5, 2, 10, 24, 380, 458, 52, 8, 151, 3, 2620, 40, 12, 81, 8, 89, 61, 17, 45, 9, 146, 64, 17, 66, 467, 681, 363, 35, 2, 10, 53, 44, 6], [5, 98, 2, 46, 8, 67, 513, 13, 8, 920, 160, 2, 10, 1992, 151, 3, 8, 64, 45, 61, 12, 8, 89, 17, 237, 998, 69, 52, 1993, 35, 7, 97, 30, 42, 24, 1457, 76, 9, 8, 21, 25, 73, 13, 471, 2621, 36, 2, 72, 12, 23, 6], [5, 36, 136, 15, 8, 1682, 384, 371, 165, 4, 1440, 1053, 37, 7, 122, 361, 529, 195, 7, 21, 25, 1994, 69, 113, 7, 122, 361, 13, 1286, 1287, 155, 455, 16, 1458, 367, 6], [5, 51, 9, 17, 91, 11, 757, 38, 54, 39, 2, 10, 219, 145, 190, 6], [5, 2, 10, 43, 332, 4, 136, 15, 21, 42, 2, 1459, 12, 8, 72, 48, 8, 2622, 6], [5, 9, 7, 122, 858, 479, 6], [5, 2, 46, 319, 151, 689, 1995, 120, 1996, 2623, 2624, 145, 131, 408, 355, 1683, 1676, 85, 1997, 996, 267, 377, 2625, 2626, 2627, 1294, 85, 2628, 1295, 900, 13, 360, 1589, 986, 16, 6], [5, 27, 19, 133, 30, 28, 54, 334, 39, 1157, 11, 66, 3, 169, 11, 116, 458, 52, 32, 12, 8, 89, 61, 17, 154, 316, 8, 252, 300, 4, 543, 18, 32, 38, 684, 55, 300, 4, 116, 106, 1375, 1158, 45, 8, 325, 64, 6], [5, 1210, 76, 2, 10, 52, 144, 30, 12, 182, 8, 89, 3, 52, 8, 191, 463, 44, 82, 89, 12, 7, 312, 242, 60, 2, 10, 43, 167, 774, 36, 2, 73, 17, 123, 188, 8, 123, 6], [5, 2, 455, 13, 1032, 3, 61, 1238, 12, 75, 175, 2, 10, 53, 44, 35, 2, 10, 1289, 13, 17, 2629, 82, 218, 186, 251, 670, 3, 608, 61, 2, 46, 258, 176, 11, 21, 25, 113, 133, 1289, 9, 133, 30, 11, 32, 6], [5, 102, 294, 1998, 11, 3766, 41, 23, 80, 12, 8, 1025, 177, 127, 9, 20, 448, 65, 9, 96, 561, 392, 15, 3767, 65, 711, 49, 486, 189, 907, 2, 46, 4, 308, 202, 382, 48, 189, 3768, 7, 1015, 2, 46, 1460, 32, 207, 9, 65, 52, 8, 1684, 1397, 153, 1368, 35, 712, 4, 10, 1685, 2, 52, 7, 67, 308, 202, 532, 12, 7, 1685, 35, 27, 24, 334, 23, 391, 65, 2554, 247, 78, 1556, 324, 14, 12, 70, 95, 14, 27, 308, 33, 6], [5, 93, 13, 129, 1139, 38, 619, 4, 1159, 12, 8, 390, 61, 1541, 446, 1999, 1155, 809, 23, 47, 142, 1923, 2630, 2, 850, 205, 1255, 171, 1686, 381, 8, 325, 1281, 368, 335, 11, 284, 521, 3, 619, 93, 860, 94, 4, 794, 61, 21, 6], [5, 102, 42, 2, 87, 18, 2, 10, 86, 57, 6], [5, 42, 14, 271, 32, 86, 57, 1072, 50, 703, 94, 184, 212, 377, 11, 267, 8, 2631, 13, 17, 861, 75, 162, 11, 721, 146, 2632, 605, 24, 513, 3, 2, 860, 2000, 162, 11, 8, 318, 2633, 3, 860, 2634, 582, 1072, 55, 103, 50, 32, 20, 182, 6], [5, 9, 23, 536, 4, 37, 59, 12, 7, 86, 57, 18, 14, 2635, 139, 13, 1286, 1287, 118, 2001, 2636, 3, 2637, 1687, 39, 720, 11, 8, 705, 6], [5, 2, 10, 819, 35, 133, 563, 30, 103, 7, 2002, 900, 16, 2, 1688, 4, 8, 456, 2003, 1259, 2, 10, 1593, 410, 640, 8, 243, 40, 3, 8, 126, 45, 183, 323, 3, 94, 36, 2, 20, 258, 3, 94, 72, 12, 21, 25, 6], [5, 2, 71, 8, 1257, 12, 121, 12, 163, 2, 10, 43, 13, 99, 397, 73, 15, 8, 204, 177, 2, 46, 8, 273, 2638, 23, 47, 137, 11, 17, 279, 2, 96, 1689, 4, 1050, 38, 369, 55, 53, 374, 199, 6], [5, 98, 17, 498, 49, 43, 179, 15, 26, 3, 244, 3770, 65, 401, 52, 8, 220, 1296, 189, 789, 166, 65, 9, 99, 377, 3771, 1023, 16, 1268, 1279, 3772, 4, 20, 2639, 36, 2, 20, 205, 202, 4, 160, 105, 29, 61, 28, 109, 131, 28, 7, 119, 15, 53, 1232, 51, 41, 14, 198, 6], [5, 2, 10, 169, 11, 116, 3, 29, 258, 2, 385, 10, 8, 40, 16, 64, 45, 55, 101, 50, 24, 72, 33, 36, 2, 42, 8, 1461, 72, 6], [5, 27, 21, 25, 20, 544, 818, 27, 70, 54, 20, 544, 818, 6], [5, 18, 2, 683, 21, 25, 349, 2640, 13, 1690, 50, 57, 483, 16, 741, 13, 7, 1690, 6], [5, 18, 136, 49, 2641, 57, 3, 1691, 2642, 85, 202, 16, 776, 4, 202, 336, 853, 65, 9, 96, 149, 27, 32, 57, 763, 14, 85, 96, 149, 85, 7, 1884, 16, 1076, 10, 4, 20, 2004, 16, 1297, 766, 14, 4, 37, 32, 57, 6], [5, 2, 10, 43, 378, 179, 1038, 7, 122, 106, 1462, 72, 173, 2, 46, 2643, 186, 128, 1948, 891, 1074, 701, 12, 301, 186, 61, 263, 975, 178, 2, 37, 1077, 26, 48, 424, 362, 212, 579, 912, 396, 225, 23, 381, 61, 604, 2, 27, 42, 4, 678, 146, 26, 6], [5, 98, 17, 623, 196, 2005, 114, 195, 1160, 657, 34, 61, 17, 272, 9, 17, 30, 2644, 31, 11, 21, 25, 45, 49, 43, 8, 252, 2006, 1259, 106, 49, 43, 216, 1212, 4, 87, 102, 2, 111, 37, 476, 59, 39, 2, 385, 455, 1298, 124, 6], [5, 539, 176, 11, 7, 21, 25, 910, 6], [5, 2, 10, 8, 45, 420, 3, 151, 51, 36, 2, 42, 2, 2645, 2007, 6], [5, 2, 10, 52, 8, 64, 45, 12, 8, 218, 60, 785, 206, 23, 574, 34, 894, 233, 23, 171, 904, 470, 3, 249, 2, 10, 171, 115, 3, 1609, 474, 2, 42, 24, 10, 8, 44, 35, 2, 37, 603, 1135, 199, 3, 76, 111, 23, 20, 21, 6], [5, 2, 47, 13, 73, 15, 136, 31, 59, 204, 12, 21, 17, 82, 73, 47, 7, 2646, 7, 2647, 65, 171, 4, 135, 318, 1463, 33, 3, 2, 477, 38, 7, 276, 11, 17, 402, 249, 9, 7, 2648, 3, 1447, 11, 407, 10, 30, 36, 2, 92, 477, 6], [5, 17, 587, 178, 128, 3, 247, 178, 128, 697, 114, 233, 15, 8, 318, 40, 396, 43, 710, 352, 40, 290, 2649, 3, 101, 29, 1218, 7, 569, 659, 13, 7, 765, 138, 338, 102, 27, 2, 37, 352, 59, 12, 163, 6], [5, 2, 47, 378, 179, 15, 26, 2, 742, 32, 171, 38, 277, 2, 46, 61, 152, 108, 187, 66, 93, 118, 8, 2650, 3, 23, 608, 245, 345, 2008, 3, 27, 82, 3774, 38, 560, 4, 1991, 1426, 70, 3775, 32, 49, 3776, 12, 81, 242, 157, 2, 46, 205, 3777, 6], [5, 100, 1107, 17, 590, 9, 1043, 3, 269, 4, 7, 160, 83, 237, 223, 9, 701, 1220, 15, 3779, 2651, 2652, 3, 9, 292, 245, 7, 129, 68, 9, 680, 3780, 3, 55, 342, 7, 1048, 9, 851, 2405, 9, 780, 55, 101, 454, 83, 28, 8, 3781, 68, 49, 52, 8, 2653, 220, 3782, 13, 7, 1435, 68, 49, 1581, 12, 7, 3783, 2, 27, 914, 51, 29, 83, 679, 11, 3784, 150, 11, 32, 17, 1151, 9, 7, 3785, 3, 9, 1411, 83, 28, 23, 9, 23, 3786, 4, 83, 16, 51, 138, 240, 33, 87, 258, 364, 6], [5, 2, 10, 43, 156, 12, 8, 89, 15, 51, 2, 901, 47, 8, 366, 144, 17, 430, 1124, 292, 114, 3, 2, 447, 152, 654, 149, 623, 29, 449, 746, 29, 3787, 35, 2009, 449, 35, 881, 103, 3788, 576, 15, 64, 45, 581, 1692, 40, 35, 275, 135, 582, 3, 680, 111, 32, 20, 26, 2, 10, 577, 2, 10, 48, 23, 254, 2, 376, 543, 14, 31, 2, 42, 10, 255, 324, 14, 6], [5, 227, 350, 24, 167, 161, 3, 71, 4, 87, 18, 2, 71, 4, 59, 12, 21, 25, 30, 40, 151, 64, 45, 109, 189, 791, 1061, 1078, 2655, 154, 167, 99, 832, 2010, 13, 17, 45, 53, 216, 106, 6], [5, 677, 16, 1660, 431, 349, 15, 21, 25, 334, 10, 286, 3, 1070, 7, 433, 11, 718, 1661, 4, 177, 127, 96, 334, 208, 30, 612, 6], [5, 17, 364, 9, 1299, 7, 1464, 30, 191, 463, 44, 64, 45, 151, 638, 93, 243, 490, 106, 42, 2, 71, 4, 37, 83, 59, 12, 54, 2, 46, 24, 2011, 11, 70, 73, 15, 7, 57, 6], [5, 2, 46, 319, 238, 439, 501, 1294, 85, 753, 278, 4, 2012, 278, 4, 1677, 553, 64, 45, 862, 473, 555, 403, 238, 2013, 351, 238, 545, 998, 640, 216, 106, 3, 2014, 473, 2, 46, 24, 2656, 6], [5, 655, 123, 3790, 2, 10, 43, 3791, 15, 3792, 3793, 85, 8, 123, 13, 1969, 2657, 26, 3794, 3795, 145, 3796, 3, 46, 61, 28, 8, 304, 60, 589, 11, 3797, 2658, 2015, 809, 3, 10, 69, 43, 902, 4, 80, 537, 12, 399, 60, 2, 10, 711, 648, 266, 8, 589, 11, 119, 4, 330, 26, 3798, 3, 686, 49, 43, 2659, 85, 2660, 150, 8, 863, 3, 977, 1465, 12, 686, 2, 46, 3799, 81, 205, 537, 55, 1401, 338, 18, 23, 9, 536, 4, 80, 537, 124, 6], [5, 2, 10, 8, 420, 15, 15, 17, 66, 93, 3, 8, 252, 422, 11, 116, 2, 40, 296, 61, 3, 110, 53, 44, 3, 53, 339, 35, 2, 46, 280, 23, 293, 20, 32, 456, 54, 6], [5, 2, 328, 4, 2661, 28, 687, 1369, 491, 3, 615, 28, 2662, 491, 17, 2663, 1366, 8, 2664, 13, 2665, 2, 350, 42, 24, 563, 70, 30, 2666, 12, 54, 36, 2, 37, 977, 59, 39, 8, 1300, 3, 50, 32, 72, 20, 1220, 85, 7, 214, 6], [5, 18, 2, 1301, 497, 999, 50, 23, 217, 33, 38, 146, 156, 38, 1068, 54, 6], [5, 98, 212, 675, 15, 8, 363, 66, 3, 8, 243, 64, 45, 38, 7, 833, 11, 7, 89, 17, 30, 29, 146, 681, 226, 39, 61, 2, 46, 146, 8, 243, 44, 3, 154, 316, 2, 69, 135, 1694, 48, 236, 111, 14, 138, 338, 6], [5, 2, 10, 43, 4, 7, 815, 845, 48, 2667, 160, 28, 1047, 3, 47, 253, 12, 8, 2016, 1695, 107, 110, 2, 10, 577, 8, 44, 3, 154, 316, 3, 879, 2, 41, 34, 4, 87, 297, 27, 1901, 94, 4, 20, 59, 12, 21, 25, 6], [5, 2, 46, 319, 521, 2668, 3, 2, 10, 52, 8, 908, 674, 558, 13, 17, 66, 268, 23, 1466, 639, 1696, 43, 292, 28, 107, 641, 82, 89, 6], [5, 27, 7, 54, 683, 130, 2669, 2, 901, 2, 676, 417, 81, 23, 6], [5, 29, 279, 15, 190, 475, 168, 4, 741, 32, 2670, 57, 6], [5, 1299, 187, 30, 681, 64, 66, 126, 45, 791, 126, 40, 243, 151, 31, 670, 3, 608, 660, 150, 11, 116, 172, 9, 562, 864, 145, 864, 194, 48, 1031, 120, 7, 312, 573, 11, 60, 159, 135, 232, 156, 96, 681, 342, 6], [5, 17, 967, 178, 128, 482, 9, 75, 971, 38, 26, 1264, 503, 13, 1912, 83, 193, 403, 49, 1925, 4, 1387, 3800, 102, 970, 3, 102, 27, 2, 911, 7, 694, 160, 798, 83, 75, 15, 690, 119, 7, 234, 120, 53, 119, 7, 693, 120, 68, 49, 43, 253, 12, 32, 200, 189, 236, 13, 312, 921, 331, 6], [5, 132, 1691, 10, 8, 99, 1697, 93, 13, 17, 266, 107, 32, 291, 6], [5, 2, 47, 378, 179, 15, 26, 2, 52, 26, 103, 2, 47, 8, 1022, 35, 552, 107, 2, 47, 3801, 103, 2, 676, 7, 426, 7, 30, 1374, 3802, 28, 222, 1399, 2, 2671, 205, 1565, 3803, 28, 751, 1425, 131, 3, 376, 80, 352, 12, 2461, 60, 2, 46, 3804, 595, 3, 10, 24, 43, 156, 13, 186, 2, 27, 348, 333, 914, 7, 82, 120, 2, 47, 156, 32, 49, 232, 3805, 33, 150, 2, 10, 2672, 1698, 3, 99, 325, 955, 102, 113, 26, 1467, 13, 7, 130, 3, 102, 113, 749, 37, 13, 76, 102, 223, 50, 23, 20, 391, 2, 962, 2, 46, 232, 152, 8, 300, 120, 15, 32, 95, 6], [5, 2, 47, 179, 15, 8, 99, 1616, 26, 81, 8, 390, 166, 13, 17, 237, 469, 1044, 2, 10, 43, 28, 131, 535, 1665, 11, 119, 2, 96, 2673, 8, 437, 143, 38, 17, 67, 15, 7, 652, 38, 17, 302, 114, 66, 799, 3, 551, 150, 31, 7, 26, 49, 24, 648, 184, 3, 9, 148, 81, 7, 260, 3806, 51, 36, 20, 471, 341, 2017, 68, 1595, 4, 454, 33, 28, 382, 219, 11, 3807, 6], [5, 17, 1699, 10, 919, 33, 4, 80, 8, 21, 25, 72, 35, 2, 46, 24, 213, 18, 2, 96, 10, 8, 250, 144, 16, 18, 2, 232, 71, 7, 72, 2, 46, 1302, 17, 172, 134, 49, 43, 1468, 48, 305, 864, 131, 16, 55, 2, 71, 108, 231, 138, 6], [5, 98, 17, 1046, 9, 3808, 17, 3809, 9, 675, 38, 26, 129, 61, 3, 2674, 4, 94, 4, 7, 67, 176, 11, 7, 3810, 281, 4, 3811, 8, 3812, 532, 13, 3813, 23, 9, 24, 300, 4, 551, 183, 1665, 11, 556, 31, 878, 348, 288, 4, 95, 164, 13, 71, 51, 532, 27, 14, 3814, 388, 12, 8, 75, 77, 6], [5, 10, 378, 43, 179, 15, 2018, 3, 8, 2675, 2676, 2677, 1276, 191, 1303, 102, 168, 46, 2, 4, 10, 8, 509, 1700, 609, 36, 2, 740, 163, 6], [5, 27, 205, 779, 857, 457, 296, 109, 95, 317, 14, 38, 515, 7, 54, 16, 7, 122, 18, 55, 102, 221, 857, 457, 9, 800, 6], [5, 2, 171, 8, 40, 13, 2678, 31, 47, 179, 39, 180, 277, 3, 110, 8, 573, 186, 2, 52, 26, 503, 3, 61, 2, 716, 225, 1161, 11, 277, 3, 26, 318, 40, 2, 96, 52, 8, 693, 369, 649, 137, 47, 1912, 3815, 3, 7, 97, 137, 47, 2679, 1591, 3, 2, 716, 552, 43, 448, 8, 426, 254, 35, 2, 2463, 4, 188, 23, 28, 17, 2019, 51, 160, 1701, 434, 15, 3816, 369, 145, 103, 751, 2679, 851, 1583, 301, 788, 46, 788, 1426, 297, 2680, 160, 2020, 649, 2680, 426, 1702, 130, 200, 2, 46, 292, 1985, 3817, 4, 548, 32, 426, 2, 117, 2, 47, 96, 448, 2, 878, 348, 10, 707, 3, 110, 2, 37, 32, 130, 200, 134, 2, 716, 552, 676, 11, 3, 23, 2681, 348, 10, 8, 99, 100, 2682, 493, 2, 447, 1154, 606, 6], [5, 100, 109, 17, 289, 127, 9, 189, 789, 128, 49, 43, 179, 15, 3818, 26, 3, 9, 61, 1126, 32, 9, 81, 153, 2684, 16, 3819, 74, 65, 52, 8, 1264, 3820, 3821, 31, 2021, 4, 7, 2685, 11, 153, 129, 130, 3, 153, 1703, 3, 3822, 267, 3823, 65, 9, 61, 179, 15, 255, 27, 7, 26, 3824, 153, 130, 688, 182, 120, 51, 18, 604, 27, 2, 42, 4, 916, 7, 1134, 11, 256, 6], [5, 17, 364, 11, 399, 49, 8, 147, 44, 810, 1619, 981, 64, 45, 3, 154, 316, 2, 10, 1469, 892, 597, 15, 407, 3, 2, 46, 280, 81, 21, 25, 138, 338, 6], [5, 51, 36, 2, 42, 18, 2, 135, 156, 35, 46, 24, 213, 18, 251, 54, 6], [5, 17, 1043, 789, 128, 590, 148, 669, 12, 86, 57, 72, 652, 1586, 52, 1027, 968, 44, 12, 8, 89, 369, 709, 26, 68, 9, 48, 7, 160, 61, 113, 7, 2022, 31, 83, 44, 9, 24, 146, 142, 922, 31, 83, 26, 1079, 146, 142, 6], [5, 191, 463, 1162, 957, 587, 533, 2686, 2687, 31, 29, 1069, 4, 427, 13, 2688, 723, 3, 723, 135, 428, 4, 427, 2689, 1704, 3, 1412, 1704, 28, 129, 370, 29, 99, 64, 64, 4, 846, 3, 397, 370, 13, 542, 1159, 2690, 1545, 6], [5, 2, 742, 2, 293, 10, 21, 25, 2691, 251, 158, 4, 37, 121, 173, 48, 75, 4, 1080, 350, 2, 10, 918, 45, 171, 82, 206, 305, 25, 788, 6], [5, 29, 568, 15, 8, 208, 1304, 48, 1470, 91, 12, 21, 25, 107, 76, 29, 55, 325, 375, 11, 568, 146, 7, 57, 35, 148, 594, 2023, 335, 111, 20, 79, 438, 6], [5, 98, 2, 10, 8, 216, 106, 299, 149, 333, 15, 79, 255, 2024, 17, 366, 9, 2025, 154, 316, 3, 418, 6], [5, 98, 17, 498, 49, 43, 2692, 107, 32, 291, 49, 488, 2693, 9, 342, 2026, 605, 2694, 383, 1705, 35, 288, 4, 20, 213, 2, 446, 202, 8, 1556, 12, 923, 134, 9, 513, 42, 2, 148, 80, 202, 4, 8, 67, 4, 357, 31, 450, 745, 566, 6], [5, 2, 10, 43, 156, 12, 1230, 157, 2, 52, 26, 16, 277, 17, 67, 373, 584, 157, 466, 2, 3825, 142, 55, 2, 269, 4, 67, 3, 52, 2695, 72, 3, 68, 373, 2, 52, 1081, 3826, 11, 224, 13, 17, 2695, 2, 10, 66, 618, 3, 674, 13, 17, 275, 1061, 2027, 3, 8, 327, 11, 474, 2, 159, 232, 274, 51, 224, 9, 3, 18, 32, 9, 488, 6], [5, 27, 1471, 2696, 387, 54, 42, 2, 10, 4, 272, 81, 2697, 2028, 16, 1706, 6], [5, 17, 364, 49, 52, 8, 147, 172, 305, 864, 981, 64, 45, 3, 339, 12, 104, 60, 68, 9, 2698, 4, 290, 36, 2, 10, 83, 59, 12, 163, 6], [5, 51, 566, 1707, 8, 257, 27, 2, 358, 4, 414, 476, 38, 515, 86, 38, 262, 6], [5, 2, 10, 1421, 223, 120, 166, 3, 296, 178, 2, 135, 767, 420, 13, 17, 1708, 81, 301, 60, 2, 135, 260, 767, 420, 13, 17, 1708, 3, 2699, 2, 10, 145, 2700, 64, 2, 80, 96, 613, 2701, 35, 166, 2, 330, 32, 15, 1845, 113, 23, 21, 25, 6], [5, 64, 45, 555, 588, 151, 3, 8, 603, 40, 42, 2, 71, 4, 272, 6], [5, 132, 28, 641, 2, 47, 179, 15, 26, 3, 7, 66, 170, 174, 672, 884, 2029, 1915, 2030, 13, 7, 237, 506, 1044, 2, 10, 43, 205, 79, 261, 107, 641, 2, 46, 148, 167, 377, 3, 2702, 9, 32, 4, 20, 1284, 15, 884, 2029, 1915, 2030, 13, 7, 237, 506, 1044, 6], [5, 27, 163, 162, 169, 11, 116, 336, 8, 40, 6], [5, 839, 21, 25, 2, 274, 7, 831, 322, 11, 21, 25, 9, 114, 4, 235, 60, 35, 102, 223, 9, 7, 717, 322, 2, 10, 583, 137, 9, 717, 104, 60, 254, 465, 30, 9, 31, 677, 29, 14, 148, 717, 391, 464, 702, 6], [5, 81, 7, 329, 3, 21, 25, 36, 2, 1074, 205, 23, 440, 225, 33, 2704, 7, 283, 7, 2705, 43, 776, 81, 23, 2, 80, 23, 1402, 12, 17, 521, 93, 3, 139, 93, 2, 913, 80, 93, 907, 176, 101, 303, 33, 2706, 70, 2707, 138, 6], [5, 2, 87, 370, 494, 304, 1223, 9, 215, 4, 518, 54, 3, 31, 18, 24, 479, 155, 755, 11, 959, 752, 2, 901, 17, 755, 47, 35, 1709, 251, 133, 2031, 247, 43, 343, 796, 12, 157, 396, 850, 343, 23, 36, 2, 20, 258, 6], [5, 108, 556, 271, 31, 7, 1161, 11, 2032, 3, 1163, 84, 20, 547, 395, 163, 101, 742, 32, 7, 133, 1305, 105, 10, 391, 8, 361, 1710, 479, 48, 424, 23, 9, 2033, 684, 42, 14, 1472, 6], [5, 27, 21, 25, 20, 544, 818, 27, 70, 54, 20, 544, 818, 6], [5, 8, 963, 11, 3827, 49, 43, 253, 12, 79, 39, 436, 3828, 3829, 2708, 15, 7, 261, 896, 65, 47, 69, 179, 15, 8, 129, 506, 1044, 26, 1290, 28, 369, 649, 153, 441, 448, 202, 31, 7, 261, 41, 80, 11, 345, 7, 26, 3, 7, 2708, 39, 8, 1541, 2, 46, 3830, 15, 778, 401, 155, 4, 3831, 26, 35, 7, 133, 119, 2, 27, 551, 12, 155, 39, 79, 3832, 29, 3833, 3, 2709, 18, 2710, 838, 20, 2711, 9, 896, 61, 69, 267, 624, 7, 283, 2709, 293, 20, 624, 13, 7, 1164, 11, 3834, 6], [5, 98, 2, 919, 8, 620, 207, 4, 8, 123, 104, 60, 166, 3, 1075, 676, 604, 139, 2, 1165, 71, 8, 1257, 2034, 4, 37, 8, 21, 72, 173, 440, 31, 924, 2, 328, 4, 786, 738, 35, 2712, 79, 2035, 15, 182, 2015, 164, 38, 90, 182, 6], [5, 2, 270, 4, 398, 17, 193, 2036, 39, 215, 2, 27, 35, 440, 55, 691, 48, 236, 227, 55, 453, 31, 176, 11, 32, 2, 50, 483, 16, 20, 1711, 507, 18, 2, 37, 7, 57, 2, 46, 1418, 2713, 138, 95, 6], [5, 2, 10, 8, 1132, 40, 783, 106, 3, 268, 37, 8, 151, 2, 610, 17, 172, 3, 23, 9, 259, 35, 17, 40, 9, 792, 4, 37, 226, 775, 136, 1297, 129, 341, 4, 33, 28, 235, 222, 6], [5, 2, 47, 1242, 13, 8, 1395, 28, 104, 560, 3, 2, 3835, 3, 269, 419, 7, 287, 3836, 3, 2, 3837, 114, 3838, 699, 2714, 28, 108, 287, 2, 2715, 739, 17, 116, 3, 2, 574, 34, 2, 52, 287, 13, 17, 130, 31, 2, 2715, 2716, 15, 115, 233, 2, 2671, 152, 8, 1987, 40, 3, 8, 64, 45, 3839, 34, 17, 1986, 28, 3840, 249, 2, 135, 333, 226, 17, 40, 9, 226, 3, 565, 78, 3841, 3, 17, 45, 148, 645, 17, 366, 9, 2025, 3, 17, 154, 9, 792, 4, 588, 111, 2, 20, 1221, 1647, 26, 6], [5, 98, 2, 10, 323, 245, 73, 15, 136, 31, 59, 204, 12, 7, 57, 51, 42, 2, 71, 4, 42, 2, 10, 43, 1166, 12, 8, 89, 61, 3, 577, 8, 64, 45, 233, 6], [5, 113, 8, 57, 162, 1712, 126, 3, 1473, 106, 6], [5, 98, 2, 46, 810, 186, 128, 3, 10, 122, 34, 30, 39, 11, 233, 216, 106, 64, 45, 53, 44, 436, 2, 615, 38, 1306, 25, 60, 166, 36, 2, 37, 59, 12, 2717, 6], [5, 920, 2037, 454, 430, 2718, 28, 90, 705, 2719, 1949, 392, 2720, 2721, 4, 1713, 21, 25, 387, 13, 603, 11, 31, 41, 14, 406, 2722, 8, 705, 1167, 2038, 13, 1307, 2723, 327, 9, 2724, 2039, 9, 592, 31, 212, 280, 6], [5, 102, 50, 2, 87, 18, 2, 71, 4, 37, 59, 12, 21, 25, 6], [5, 2, 10, 21, 25, 30, 6], [5, 17, 1570, 1079, 747, 2040, 35, 2, 270, 55, 300, 113, 31, 405, 31, 2, 46, 168, 4, 650, 114, 13, 160, 16, 483, 38, 54, 6], [5, 98, 2, 10, 8, 963, 127, 9, 8, 606, 404, 1617, 3, 49, 2725, 11, 603, 2726, 3842, 3843, 2727, 27, 348, 644, 13, 700, 336, 115, 2728, 11, 154, 316, 418, 3, 8, 44, 68, 9, 292, 4, 7, 478, 1914, 176, 101, 29, 1887, 4, 94, 249, 165, 4, 267, 3844, 13, 23, 565, 34, 26, 35, 24, 213, 324, 14, 12, 19, 95, 6], [5, 364, 1453, 145, 848, 28, 304, 222, 44, 808, 667, 2729, 1645, 13, 7, 82, 573, 331, 105, 2730, 562, 1714, 1715, 3, 2041, 2731, 520, 2732, 296, 189, 408, 889, 430, 1397, 9, 1715, 353, 61, 764, 329, 3, 163, 6], [5, 2, 46, 319, 64, 45, 3, 985, 1294, 85, 2733, 1601, 724, 539, 1082, 607, 754, 2, 46, 24, 319, 423, 923, 1644, 16, 1988, 149, 1054, 768, 1643, 220, 493, 1685, 2734, 6], [5, 51, 30, 36, 2, 714, 150, 12, 13, 7, 1068, 54, 298, 6], [5, 9, 2735, 57, 25, 27, 92, 28, 2042, 3, 2043, 51, 81, 7, 2736, 11, 1168, 41, 23, 20, 2737, 16, 100, 661, 4, 80, 1168, 342, 48, 1716, 48, 75, 3, 890, 15, 999, 6], [5, 98, 2, 41, 34, 4, 87, 9, 7, 54, 137, 57, 16, 1967, 15, 97, 367, 39, 2, 43, 448, 85, 136, 6], [5, 113, 17, 1717, 1020, 1000, 8, 122, 361, 505, 3, 9, 23, 536, 4, 37, 8, 505, 4, 95, 1141, 17, 384, 371, 4, 1718, 21, 25, 6], [5, 98, 76, 17, 131, 186, 128, 364, 52, 286, 12, 8, 573, 11, 60, 3, 68, 49, 8, 44, 336, 8, 40, 61, 27, 23, 20, 21, 25, 6], [5, 2, 10, 8, 122, 31, 9, 146, 226, 3, 2, 10, 615, 38, 7, 1719, 48, 7, 650, 11, 2044, 3, 2, 10, 43, 13, 925, 73, 15, 2738, 3, 2739, 1308, 13, 1415, 107, 110, 36, 2, 37, 59, 12, 21, 25, 16, 96, 1233, 75, 15, 17, 402, 6], [5, 51, 376, 2, 42, 18, 2, 10, 43, 13, 73, 15, 8, 163, 204, 177, 6], [5, 212, 350, 10, 8, 2009, 2045, 2740, 1720, 31, 9, 1249, 3, 2046, 395, 17, 2047, 1675, 797, 243, 768, 51, 27, 2, 42, 4, 2741, 7, 768, 48, 75, 107, 2, 1309, 10, 7, 554, 4, 1898, 7, 1720, 61, 165, 4, 21, 617, 6], [5, 98, 17, 45, 9, 64, 3, 99, 470, 2, 10, 69, 10, 8, 40, 4, 2048, 32, 161, 7, 40, 171, 81, 8, 89, 166, 2, 10, 53, 44, 96, 288, 4, 87, 18, 32, 9, 1028, 621, 4, 21, 25, 17, 1721, 9, 69, 99, 1214, 6], [5, 915, 894, 40, 3, 167, 681, 1216, 6], [5, 2, 716, 52, 30, 11, 40, 151, 783, 106, 511, 3, 64, 45, 12, 189, 60, 2, 87, 183, 29, 2049, 11, 250, 144, 263, 362, 254, 780, 331, 166, 103, 2, 96, 682, 4, 3846, 23, 150, 2, 577, 26, 3, 47, 13, 160, 12, 793, 60, 29, 76, 70, 546, 2, 27, 80, 61, 4, 317, 32, 38, 146, 3847, 124, 6], [5, 2, 10, 93, 768, 13, 17, 275, 2, 159, 1001, 2742, 28, 345, 275, 3, 23, 24, 510, 48, 7, 2743, 1430, 2, 159, 10, 8, 366, 1169, 42, 2, 10, 147, 172, 2, 986, 3, 40, 412, 362, 8, 109, 42, 2, 10, 86, 36, 2, 37, 59, 6], [5, 2, 46, 28, 17, 82, 1722, 12, 17, 284, 314, 42, 2, 10, 4, 323, 13, 12, 8, 123, 859, 28, 27, 32, 20, 173, 2051, 244, 7, 21, 25, 617, 6], [5, 2, 10, 8, 2052, 45, 2, 328, 4, 1723, 28, 587, 222, 3, 1114, 341, 4, 8, 2744, 15, 8, 569, 257, 3, 52, 8, 490, 638, 2, 61, 803, 86, 74, 6], [5, 2, 41, 34, 4, 2745, 9, 17, 30, 29, 621, 4, 21, 25, 254, 292, 4, 8, 121, 2746, 6], [5, 98, 17, 2747, 49, 225, 8, 282, 11, 26, 68, 47, 843, 245, 3848, 3849, 160, 13, 3850, 3851, 82, 785, 68, 47, 2748, 4, 961, 1017, 3, 101, 148, 27, 348, 712, 4, 37, 23, 419, 398, 2, 46, 99, 3852, 3, 71, 8, 1637, 3853, 580, 6], [5, 17, 1699, 10, 919, 33, 4, 80, 8, 21, 25, 72, 35, 2, 46, 24, 213, 18, 2, 96, 10, 8, 250, 144, 16, 18, 2, 232, 71, 7, 72, 2, 46, 1302, 17, 172, 134, 49, 43, 1468, 48, 305, 864, 131, 16, 55, 2, 71, 108, 231, 138, 6], [5, 2, 10, 2749, 36, 2, 37, 59, 12, 54, 2, 10, 8, 918, 45, 12, 8, 89, 342, 3, 28, 6], [5, 2, 10, 187, 255, 134, 9, 161, 625, 18, 2, 340, 4, 740, 21, 25, 41, 2, 1001, 70, 1310, 39, 913, 712, 4, 551, 221, 626, 28, 255, 279, 127, 10, 52, 7, 54, 294, 124, 6], [5, 2, 46, 8, 735, 1474, 513, 13, 8, 926, 160, 2, 46, 13, 17, 1241, 2750, 36, 2, 80, 683, 391, 17, 2053, 683, 1024, 165, 4, 7, 54, 298, 926, 49, 24, 1083, 70, 1311, 12, 735, 273, 1724, 6], [5, 98, 17, 568, 3, 498, 340, 48, 7, 67, 233, 3, 65, 49, 61, 1463, 407, 65, 49, 59, 204, 12, 163, 65, 49, 323, 75, 4, 17, 104, 2751, 3, 590, 102, 223, 254, 105, 27, 94, 12, 8, 72, 6], [5, 51, 29, 17, 433, 11, 904, 1711, 507, 16, 757, 38, 7, 57, 39, 2, 10, 190, 55, 453, 6], [5, 2752, 226, 15, 7, 54, 219, 145, 16, 219, 104, 190, 6], [5, 100, 291, 2, 10, 90, 7, 30, 12, 7, 54, 656, 8, 147, 1654, 2, 10, 43, 13, 73, 15, 136, 127, 61, 69, 29, 1299, 183, 30, 127, 29, 980, 15, 8, 177, 127, 865, 2054, 13, 7, 82, 218, 157, 36, 2, 20, 258, 6], [5, 1725, 236, 13, 79, 1475, 38, 1583, 672, 31, 2753, 111, 95, 317, 228, 26, 15, 306, 3, 111, 317, 7, 74, 11, 2055, 1170, 700, 13, 7, 2754, 41, 32, 2056, 677, 15, 54, 324, 14, 3, 2057, 2755, 6], [5, 98, 2, 46, 8, 140, 1034, 3, 8, 284, 1133, 9, 23, 1293, 12, 33, 4, 740, 86, 50, 2, 741, 23, 15, 17, 2756, 36, 2, 480, 12, 1726, 683, 195, 32, 120, 2, 711, 135, 17, 410, 1035, 99, 812, 64, 45, 1727, 126, 40, 6], [5, 2, 10, 8, 126, 40, 3, 8, 64, 45, 2, 42, 24, 10, 8, 44, 3, 8, 243, 151, 111, 20, 2, 71, 78, 287, 2, 46, 189, 331, 735, 3, 24, 213, 18, 2, 36, 20, 59, 12, 86, 6], [5, 27, 79, 1312, 1171, 303, 19, 927, 1728, 1281, 3, 18, 55, 51, 27, 20, 173, 48, 75, 4, 678, 32, 38, 1729, 2, 87, 8, 1312, 1171, 1079, 8, 1015, 4, 434, 8, 160, 2757, 15, 7, 54, 292, 305, 6], [5, 458, 2058, 17, 30, 245, 7, 371, 7, 1372, 2, 225, 47, 31, 2, 10, 451, 7, 122, 21, 25, 16, 8, 144, 36, 2, 315, 1313, 214, 231, 6], [5, 2, 46, 1314, 11, 267, 13, 73, 15, 431, 465, 21, 25, 30, 396, 133, 43, 4, 7, 2758, 233, 396, 43, 2759, 81, 7, 927, 298, 3, 50, 1727, 94, 4, 360, 118, 841, 975, 206, 111, 23, 20, 1247, 11, 360, 16, 539, 48, 1561, 6], [5, 2, 47, 378, 1575, 38, 160, 2, 52, 26, 118, 145, 89, 2, 10, 1476, 7, 690, 119, 104, 60, 466, 7, 2760, 10, 615, 53, 172, 3, 2, 46, 167, 1145, 1156, 2, 1633, 17, 67, 1730, 109, 3, 2, 52, 382, 170, 174, 17, 67, 3854, 4, 406, 76, 9, 53, 657, 35, 2761, 348, 388, 2, 42, 604, 535, 2, 10, 1394, 17, 2059, 4, 2060, 114, 1731, 9, 13, 17, 275, 7, 3855, 2, 46, 61, 319, 9, 3856, 775, 2, 96, 878, 348, 87, 51, 4, 42, 341, 2, 455, 13, 8, 3857, 379, 3, 3858, 8, 67, 16, 160, 9, 691, 138, 95, 6], [5, 17, 590, 52, 26, 277, 7, 122, 3, 8, 1732, 74, 13, 83, 275, 103, 2, 2763, 83, 4, 8, 320, 160, 68, 47, 3859, 3, 52, 4, 20, 3860, 242, 408, 184, 4, 8, 160, 31, 52, 8, 1031, 12, 279, 28, 8, 885, 68, 47, 28, 8, 885, 12, 584, 60, 3, 101, 1290, 7, 1732, 74, 48, 7, 160, 68, 47, 76, 12, 8, 1733, 11, 560, 60, 103, 2, 2763, 83, 75, 68, 47, 244, 8, 75, 140, 1313, 2764, 75, 140, 3861, 2764, 75, 140, 634, 4, 95, 33, 80, 141, 11, 83, 68, 9, 148, 152, 699, 79, 438, 15, 149, 68, 27, 42, 133, 55, 221, 3, 801, 150, 11, 116, 113, 431, 10, 70, 3862, 16, 208, 2765, 16, 70, 95, 101, 27, 2766, 55, 31, 17, 590, 27, 644, 1293, 4, 20, 541, 4, 1071, 3, 42, 51, 68, 409, 1272, 4, 32, 508, 324, 14, 55, 99, 221, 6], [5, 18, 2, 455, 13, 397, 1659, 15, 164, 127, 10, 378, 380, 38, 1734, 36, 2, 92, 184, 38, 352, 13, 928, 4, 506, 7, 91, 11, 515, 54, 6], [5, 176, 2, 10, 219, 145, 190, 113, 31, 405, 2, 913, 37, 7, 57, 96, 1357, 46, 2, 168, 4, 10, 180, 609, 138, 95, 6], [5, 17, 123, 409, 8, 2767, 3863, 82, 89, 153, 634, 811, 3, 17, 193, 709, 651, 11, 3864, 643, 249, 153, 634, 811, 3, 7, 193, 101, 2768, 3865, 28, 709, 7, 200, 11, 284, 26, 643, 2, 42, 24, 10, 1383, 3866, 17, 207, 9, 68, 373, 53, 817, 17, 590, 2446, 38, 8, 284, 74, 13, 83, 3867, 3868, 2062, 2, 1874, 1315, 1735, 101, 454, 33, 13, 427, 15, 1066, 12, 1736, 1002, 53, 817, 12, 590, 207, 7, 448, 33, 2062, 47, 24, 3869, 2769, 32, 9, 3870, 102, 17, 3871, 130, 1002, 171, 9, 3872, 130, 200, 1737, 9, 23, 3873, 95, 138, 6], [5, 2, 10, 219, 145, 190, 3, 4, 454, 23, 1418, 2, 46, 597, 13, 79, 2770, 920, 129, 61, 2063, 895, 81, 7, 54, 17, 482, 9, 8, 635, 634, 13, 8, 374, 554, 3, 2, 272, 895, 81, 7, 91, 12, 407, 345, 2, 46, 55, 453, 6], [5, 103, 9, 23, 2064, 4, 197, 24, 776, 81, 7, 2065, 392, 12, 21, 25, 134, 30, 2771, 23, 6], [5, 7, 30, 11, 21, 658, 34, 17, 255, 30, 103, 23, 2772, 114, 55, 102, 41, 2, 87, 7, 1738, 6], [5, 17, 289, 49, 8, 44, 2, 46, 280, 165, 4, 7, 54, 6], [5, 9, 21, 25, 1104, 18, 136, 156, 47, 115, 218, 408, 166, 3, 97, 177, 323, 7, 260, 1316, 3, 1301, 51, 50, 954, 18, 294, 164, 358, 659, 55, 12, 51, 668, 101, 2773, 156, 127, 358, 659, 69, 51, 81, 1218, 777, 6], [5, 32, 291, 2, 697, 114, 15, 79, 929, 126, 40, 31, 881, 103, 2, 682, 4, 1301, 2066, 271, 1167, 116, 700, 671, 172, 552, 225, 182, 957, 268, 1131, 194, 1131, 301, 16, 957, 145, 39, 7, 109, 2774, 723, 1455, 4, 588, 3, 151, 171, 2775, 6], [5, 297, 27, 2, 37, 59, 12, 86, 18, 2, 46, 13, 7, 2776, 379, 6], [5, 66, 9, 64, 3, 31, 1932, 417, 31, 820, 4, 20, 1052, 114, 35, 745, 76, 3, 53, 2777, 40, 16, 172, 53, 299, 149, 53, 97, 30, 133, 320, 285, 522, 696, 145, 89, 166, 42, 2, 71, 4, 20, 258, 81, 21, 25, 6], [5, 17, 1739, 47, 843, 245, 7, 160, 137, 89, 166, 15, 26, 8, 89, 466, 118, 267, 28, 533, 1172, 119, 3, 241, 83, 66, 170, 174, 500, 139, 226, 201, 8, 89, 166, 69, 101, 10, 373, 417, 81, 8, 420, 15, 83, 1740, 6], [5, 2, 52, 8, 180, 1921, 11, 26, 9, 2417, 2, 46, 167, 93, 13, 7, 260, 379, 11, 17, 129, 130, 381, 46, 115, 8, 252, 35, 42, 24, 10, 8, 144, 409, 2067, 8, 325, 3874, 182, 7, 312, 573, 11, 60, 111, 7, 26, 20, 139, 3875, 2, 3876, 13, 1144, 2778, 6], [5, 396, 43, 152, 7, 260, 30, 39, 12, 86, 57, 396, 52, 352, 561, 576, 1924, 12, 145, 89, 61, 2, 1477, 52, 925, 73, 15, 136, 127, 49, 328, 1064, 35, 212, 258, 396, 52, 2779, 73, 36, 2, 37, 59, 6], [5, 2, 10, 43, 156, 12, 182, 8, 89, 2, 269, 4, 17, 794, 3, 65, 540, 33, 314, 2, 10, 43, 28, 119, 12, 131, 194, 60, 3, 227, 24, 167, 142, 2, 10, 169, 11, 116, 1157, 13, 66, 1420, 40, 2780, 151, 154, 588, 138, 338, 6], [5, 2, 46, 971, 38, 3877, 2, 47, 1600, 31, 31, 2, 3878, 8, 639, 115, 35, 61, 2, 46, 833, 4, 2781, 28, 7, 129, 355, 11, 17, 66, 419, 17, 1741, 23, 645, 103, 2, 40, 23, 645, 103, 2, 1970, 28, 23, 35, 103, 2, 3879, 723, 15, 17, 1159, 2, 10, 53, 3880, 23, 645, 39, 2, 94, 4, 427, 17, 3881, 111, 2, 20, 152, 8, 420, 15, 79, 2782, 419, 17, 883, 2, 10, 53, 93, 28, 17, 237, 355, 6], [5, 212, 24, 213, 17, 172, 9, 1211, 194, 2, 10, 108, 418, 35, 24, 1081, 35, 2, 1856, 8, 327, 3, 17, 116, 9, 422, 467, 34, 2, 10, 4, 116, 78, 212, 1963, 392, 149, 266, 7, 106, 9, 1293, 6], [5, 51, 9, 7, 3883, 11, 724, 13, 7, 178, 460, 77, 15, 3884, 12, 26, 2, 96, 1905, 194, 60, 11, 77, 15, 907, 118, 189, 16, 78, 60, 11, 1172, 13, 7, 160, 460, 3885, 3886, 554, 2, 2058, 7, 160, 15, 26, 24, 2783, 2, 52, 23, 394, 152, 1248, 23, 38, 17, 1123, 127, 52, 23, 3, 3887, 2, 52, 865, 793, 60, 1568, 13, 382, 160, 2, 46, 3888, 186, 128, 606, 2, 52, 8, 581, 220, 2784, 220, 1173, 13, 3889, 3, 10, 682, 4, 1174, 8, 100, 724, 3890, 4, 3891, 17, 433, 11, 523, 220, 200, 36, 2, 2785, 2068, 12, 930, 639, 93, 52, 104, 1742, 104, 1998, 503, 472, 104, 60, 254, 1243, 409, 24, 71, 23, 7, 1026, 109, 3, 47, 898, 7, 341, 109, 409, 24, 80, 23, 351, 1243, 42, 24, 914, 18, 101, 446, 23, 13, 160, 271, 24, 324, 14, 6], [5, 2, 10, 2786, 2787, 366, 316, 3, 115, 435, 6], [5, 152, 219, 145, 190, 1393, 405, 14, 10, 191, 485, 113, 23, 55, 51, 9, 23, 81, 23, 31, 1427, 407, 78, 48, 91, 15, 7, 57, 6], [5, 324, 14, 17, 67, 448, 33, 118, 205, 79, 1948, 174, 31, 2, 10, 26, 28, 17, 237, 355, 2, 46, 115, 3, 490, 44, 11, 744, 4, 968, 3, 3892, 205, 119, 504, 3893, 2788, 2041, 503, 8, 109, 3, 1163, 3894, 362, 534, 109, 69, 137, 931, 779, 1954, 4, 2060, 44, 392, 1317, 44, 3895, 348, 94, 392, 96, 3896, 46, 2, 592, 7, 129, 77, 2, 46, 3897, 186, 128, 6], [5, 2, 52, 8, 44, 38, 641, 4, 233, 1551, 576, 15, 8, 40, 7, 172, 9, 61, 648, 35, 17, 40, 9, 148, 199, 2, 10, 43, 2789, 17, 45, 12, 8, 573, 11, 157, 35, 7, 115, 720, 171, 2, 742, 28, 1017, 249, 7, 40, 9, 3898, 3, 97, 110, 7, 40, 2, 135, 744, 393, 42, 2, 10, 26, 6], [5, 36, 137, 69, 1000, 473, 13, 2069, 4, 1592, 432, 3, 106, 15, 257, 4, 185, 278, 4, 86, 57, 796, 11, 164, 133, 155, 659, 35, 31, 84, 24, 932, 680, 662, 129, 6], [5, 2, 10, 220, 2790, 200, 2791, 220, 165, 4, 2070, 44, 39, 8, 965, 552, 52, 70, 30, 16, 609, 263, 46, 2, 48, 147, 91, 12, 718, 165, 4, 54, 3, 51, 27, 2, 80, 254, 16, 195, 769, 30, 11, 7, 57, 6], [5, 2, 10, 43, 13, 989, 397, 73, 15, 1308, 514, 164, 38, 7, 1743, 3, 1306, 592, 2792, 2793, 2, 10, 8, 40, 12, 7, 312, 242, 157, 36, 2, 37, 59, 12, 163, 39, 8, 906, 1300, 6], [5, 2, 71, 4, 357, 18, 2, 10, 21, 25, 6], [5, 2, 10, 183, 30, 3, 713, 18, 2, 36, 42, 8, 21, 72, 286, 923, 1142, 511, 169, 11, 116, 930, 842, 639, 618, 403, 13, 7, 66, 1061, 1029, 3, 418, 2, 159, 10, 44, 35, 149, 9, 1478, 33, 211, 6], [5, 2, 10, 43, 332, 4, 136, 15, 86, 13, 7, 82, 89, 3, 8, 1062, 28, 8, 472, 1175, 51, 782, 42, 2, 71, 4, 80, 292, 1295, 36, 2, 37, 59, 821, 6], [5, 47, 13, 786, 738, 491, 1003, 921, 491, 1003, 560, 397, 2794, 4, 2795, 1064, 1308, 491, 1003, 304, 45, 64, 3, 1721, 648, 139, 469, 1412, 379, 3, 2008, 881, 2796, 126, 40, 151, 3, 2797, 36, 2, 94, 12, 163, 121, 6], [5, 18, 2798, 155, 9, 346, 15, 1084, 91, 11, 228, 256, 1479, 23, 970, 4, 80, 23, 195, 7, 54, 298, 6], [5, 27, 2, 739, 86, 38, 383, 31, 2, 804, 36, 2, 20, 1176, 213, 4, 2799, 90, 17, 383, 627, 234, 6], [5, 2, 10, 8, 64, 45, 3, 135, 99, 377, 36, 2, 20, 280, 81, 21, 25, 6], [5, 27, 882, 12, 54, 13, 2800, 1744, 20, 2801, 12, 2802, 39, 8, 283, 4, 10, 8, 361, 12, 21, 25, 6], [5, 98, 67, 1401, 95, 33, 39, 17, 1452, 178, 128, 452, 9, 1389, 165, 4, 3899, 3, 26, 83, 129, 130, 9, 579, 2071, 165, 4, 686, 32, 9, 8, 1026, 1173, 11, 7, 200, 13, 82, 3900, 68, 9, 152, 299, 149, 336, 1048, 3, 83, 1048, 2803, 29, 1279, 191, 336, 1177, 101, 1925, 4, 1122, 48, 137, 120, 103, 68, 47, 342, 23, 1401, 543, 33, 18, 68, 9, 8, 2804, 11, 130, 1296, 3, 51, 29, 83, 433, 2805, 95, 2, 455, 13, 1414, 35, 129, 61, 2, 46, 13, 2806, 4, 80, 141, 11, 23, 2, 46, 448, 130, 1296, 3901, 79, 1305, 12, 83, 69, 23, 9, 24, 173, 13, 2054, 105, 3902, 3903, 4, 323, 70, 297, 1401, 3904, 364, 6], [5, 2, 47, 244, 3905, 12, 8, 66, 74, 3, 409, 24, 704, 118, 2807, 408, 3906, 2, 269, 139, 4, 7, 374, 127, 110, 446, 33, 3907, 39, 23, 3908, 13, 26, 2, 10, 43, 342, 203, 12, 131, 157, 61, 3, 135, 701, 2808, 150, 3, 1886, 2, 52, 8, 66, 170, 174, 134, 47, 449, 35, 47, 244, 79, 748, 2072, 39, 2, 47, 150, 11, 116, 3, 3909, 2, 148, 10, 79, 3910, 1265, 11, 326, 134, 49, 61, 2073, 38, 2478, 4, 268, 1641, 4, 449, 1317, 12, 82, 131, 60, 17, 1703, 9, 929, 2395, 4, 427, 3, 135, 39, 18, 136, 9, 3911, 17, 3912, 668, 17, 894, 3913, 348, 915, 17, 555, 645, 700, 1318, 2, 10, 52, 4, 334, 205, 520, 381, 32, 89, 39, 135, 832, 3914, 3, 135, 39, 18, 2, 46, 292, 3915, 381, 997, 11, 725, 2, 46, 2809, 186, 128, 581, 891, 32, 9, 7, 1026, 120, 2, 10, 52, 26, 13, 780, 186, 2, 46, 3916, 2074, 3, 595, 3, 2, 878, 348, 1251, 38, 933, 1632, 35, 1880, 2, 323, 392, 15, 417, 2, 712, 4, 1251, 15, 23, 102, 223, 113, 23, 80, 4, 37, 139, 4, 259, 29, 7, 1703, 30, 720, 11, 7, 3917, 26, 30, 16, 41, 2, 71, 4, 188, 7, 374, 381, 2, 46, 167, 929, 3918, 114, 11, 1145, 167, 1156, 2, 46, 205, 8, 3919, 3920, 3, 1268, 3, 1023, 3921, 1165, 9, 23, 259, 4, 135, 32, 1156, 12, 55, 223, 6], [5, 32, 84, 658, 2810, 35, 227, 713, 18, 427, 417, 13, 816, 31, 49, 54, 25, 28, 23, 3, 23, 801, 28, 726, 36, 105, 94, 75, 461, 352, 642, 39, 158, 110, 1319, 3, 456, 726, 28, 55, 23, 877, 37, 28, 471, 1072, 48, 75, 6], [5, 2, 10, 21, 25, 30, 6], [5, 27, 2, 37, 8, 21, 25, 72, 6], [5, 98, 76, 2, 500, 245, 73, 15, 2811, 28, 785, 82, 89, 31, 47, 466, 31, 89, 59, 204, 12, 21, 25, 2, 445, 32, 150, 28, 641, 3, 2075, 184, 269, 245, 112, 175, 2, 46, 24, 465, 30, 39, 436, 6], [5, 2, 47, 421, 4, 10, 21, 25, 2, 112, 477, 12, 235, 60, 17, 210, 9, 15, 17, 145, 178, 247, 331, 289, 2812, 127, 49, 43, 2027, 6], [5, 36, 2, 1320, 17, 1321, 4, 916, 17, 433, 11, 1147, 54, 21, 25, 6], [5, 2, 46, 99, 2813, 11, 7, 86, 57, 18, 2, 10, 8, 126, 40, 3, 151, 36, 2, 92, 2814, 3, 184, 38, 262, 6], [5, 2, 46, 8, 304, 1745, 269, 4, 7, 2076, 52, 8, 2077, 2815, 2, 69, 52, 8, 1129, 47, 454, 28, 2816, 2817, 2818, 101, 1083, 33, 1694, 249, 47, 7, 82, 109, 11, 7, 636, 3, 2, 1746, 80, 23, 39, 2, 2819, 44, 11, 667, 131, 9, 23, 7, 290, 6], [5, 98, 2, 10, 43, 179, 15, 1227, 3, 10, 24, 1564, 13, 189, 60, 176, 11, 7, 115, 212, 1288, 3922, 292, 3923, 3924, 3, 838, 37, 4, 360, 53, 1618, 102, 221, 2, 270, 39, 642, 39, 2, 116, 13, 23, 645, 3, 8, 40, 70, 1245, 6], [5, 98, 2, 378, 850, 425, 3, 10, 1270, 623, 3, 107, 76, 9, 8, 1629, 1630, 2, 46, 258, 31, 183, 623, 3, 216, 106, 111, 20, 1059, 4, 2820, 6], [5, 17, 289, 9, 131, 131, 789, 128, 65, 9, 767, 4, 982, 3, 2002, 564, 13, 7, 753, 170, 174, 347, 23, 49, 43, 2821, 31, 65, 9, 152, 8, 325, 439, 13, 220, 134, 9, 8, 464, 11, 26, 3, 153, 969, 849, 9, 3926, 259, 1303, 9, 3927, 3928, 556, 10, 3929, 4, 308, 3930, 520, 301, 194, 2822, 13, 282, 18, 44, 65, 225, 2823, 195, 44, 3931, 3932, 218, 1223, 3933, 12, 131, 60, 401, 2824, 1714, 3934, 3935, 3, 3936, 1714, 12, 74, 9, 90, 183, 1058, 29, 353, 6], [5, 459, 12, 21, 72, 6], [5, 2, 676, 1480, 2078, 293, 2079, 54, 2, 69, 676, 1085, 293, 42, 7, 260, 113, 32, 405, 70, 250, 314, 111, 10, 79, 2080, 763, 195, 54, 6], [5, 51, 30, 41, 303, 14, 271, 2, 42, 24, 10, 21, 25, 2, 10, 8, 318, 144, 35, 225, 286, 503, 55, 113, 286, 405, 23, 9, 24, 21, 6], [5, 48, 51, 172, 1303, 2825, 172, 50, 7, 21, 25, 57, 20, 2071, 32, 13, 1179, 4, 2826, 934, 383, 3, 906, 51, 113, 21, 1153, 12, 6], [5, 2, 10, 43, 156, 15, 8, 410, 74, 3, 1421, 182, 7, 82, 89, 3, 8, 1062, 2, 46, 28, 119, 12, 183, 61, 2, 135, 23, 13, 17, 66, 2, 46, 115, 581, 678, 17, 45, 1445, 881, 221, 96, 38, 7, 115, 17, 66, 467, 582, 3, 2, 10, 108, 1353, 15, 149, 111, 32, 20, 277, 16, 26, 6], [5, 27, 54, 30, 20, 187, 12, 108, 164, 1747, 180, 12, 2827, 111, 23, 96, 2828, 267, 99, 2081, 191, 463, 44, 12, 8, 218, 60, 3, 24, 7, 2082, 30, 16, 9, 23, 510, 8, 680, 2829, 144, 3, 1481, 4, 644, 6], [5, 154, 1275, 90, 11, 8, 1748, 366, 582, 3, 1686, 501, 2830, 44, 107, 233, 6], [5, 27, 2, 94, 12, 54, 121, 18, 17, 106, 9, 1035, 3, 2, 10, 380, 38, 8, 147, 91, 499, 6], [5, 2, 500, 245, 397, 73, 15, 136, 127, 96, 2831, 139, 38, 1222, 2, 10, 43, 13, 112, 708, 107, 65, 2832, 46, 212, 24, 465, 70, 30, 126, 40, 44, 64, 45, 51, 9, 7, 341, 2083, 42, 2, 94, 245, 203, 6], [5, 36, 2, 1320, 17, 1321, 4, 916, 17, 433, 11, 1147, 54, 21, 25, 6], [5, 113, 8, 177, 37, 90, 7, 21, 25, 30, 90, 48, 362, 1322, 172, 144, 879, 16, 105, 27, 37, 70, 11, 352, 1322, 144, 35, 53, 172, 6], [5, 17, 131, 178, 128, 289, 9, 3938, 11, 638, 93, 65, 69, 49, 44, 3, 145, 89, 254, 65, 47, 179, 15, 26, 65, 47, 28, 504, 65, 96, 1476, 153, 119, 233, 3, 32, 291, 65, 49, 44, 638, 93, 1084, 220, 493, 51, 9, 797, 23, 6], [5, 132, 2, 46, 8, 2084, 3, 1943, 15, 8, 3939, 3940, 2, 46, 244, 8, 2833, 3941, 17, 2833, 9, 189, 186, 128, 426, 26, 3942, 11, 3943, 508, 3944, 933, 555, 256, 3, 277, 68, 49, 43, 156, 12, 312, 131, 157, 577, 8, 44, 233, 69, 3945, 3, 423, 639, 316, 312, 214, 335, 3946, 3947, 179, 48, 404, 131, 2, 409, 90, 7, 977, 203, 3, 445, 150, 31, 7, 749, 230, 7, 200, 9, 3948, 3949, 51, 9, 7, 822, 77, 138, 95, 6], [5, 2, 203, 13, 79, 846, 502, 319, 472, 115, 3, 1610, 8, 252, 11, 8, 44, 501, 866, 36, 2, 37, 59, 12, 21, 847, 2834, 13, 1749, 6], [5, 17, 1151, 404, 1398, 3, 597, 1298, 3950, 1858, 4, 79, 815, 845, 48, 189, 2835, 8, 447, 15, 172, 11, 1027, 418, 3, 8, 325, 1061, 101, 179, 83, 15, 26, 68, 49, 707, 3, 3951, 743, 3, 690, 314, 2, 46, 280, 176, 68, 96, 448, 33, 68, 9, 929, 377, 3, 49, 43, 419, 8, 327, 11, 996, 165, 4, 1688, 38, 75, 11, 2809, 186, 402, 1584, 3, 754, 11, 498, 104, 186, 166, 68, 52, 1368, 2836, 584, 331, 166, 2, 455, 79, 1391, 3, 8, 1062, 184, 3, 46, 713, 18, 2, 36, 2085, 4, 83, 1904, 3, 357, 28, 83, 68, 113, 10, 8, 289, 3, 8, 2039, 963, 1750, 13, 28, 83, 6], [5, 17, 364, 47, 901, 4, 10, 3952, 139, 13, 2388, 118, 793, 2382, 11, 119, 3, 369, 2837, 101, 445, 8, 1900, 28, 345, 275, 31, 47, 2046, 3, 7, 3953, 649, 709, 8, 1900, 28, 7, 1078, 130, 1751, 47, 2838, 123, 401, 833, 901, 254, 1751, 47, 354, 74, 9, 23, 168, 417, 34, 32, 41, 94, 4, 7, 1078, 6], [5, 269, 4, 7, 67, 131, 157, 166, 12, 158, 724, 1652, 255, 165, 4, 66, 93, 101, 10, 33, 8, 472, 3954, 748, 3, 1260, 2839, 748, 7, 409, 79, 799, 39, 161, 3, 8, 218, 60, 466, 2, 445, 150, 2, 52, 26, 2, 409, 8, 1598, 12, 194, 60, 3, 61, 778, 1752, 503, 472, 28, 109, 301, 16, 399, 96, 82, 206, 2, 269, 4, 706, 101, 373, 2, 148, 10, 7, 26, 225, 8, 646, 858, 3, 8, 3955, 880, 1377, 148, 146, 226, 24, 213, 51, 4, 42, 3, 7, 66, 93, 557, 226, 3, 7, 778, 49, 1083, 17, 638, 99, 2006, 134, 9, 1284, 7, 537, 303, 987, 1753, 3, 2, 895, 135, 3956, 107, 7, 2840, 3, 880, 1377, 2, 171, 233, 6], [5, 51, 9, 8, 129, 2841, 26, 17, 2086, 170, 174, 347, 672, 76, 29, 3957, 2316, 13, 7, 129, 3958, 3, 2416, 616, 1703, 9, 3959, 935, 3960, 9, 24, 1557, 3961, 3962, 3963, 3, 3964, 2842, 3965, 29, 2317, 2, 878, 348, 274, 23, 6], [5, 36, 476, 3, 17, 482, 20, 987, 1152, 48, 7, 1323, 165, 4, 7, 57, 39, 68, 9, 8, 634, 13, 8, 554, 3, 2, 10, 219, 145, 190, 6], [5, 36, 2, 20, 59, 12, 21, 25, 2, 10, 8, 40, 3, 326, 28, 17, 66, 39, 161, 39, 339, 2, 510, 37, 933, 3, 122, 31, 1224, 17, 66, 6], [5, 51, 9, 7, 215, 283, 4, 175, 17, 2843, 128, 289, 127, 328, 85, 1042, 378, 49, 53, 416, 30, 103, 13, 260, 1063, 39, 476, 3, 2844, 289, 6], [5, 212, 2845, 691, 4, 1174, 2087, 247, 1482, 13, 995, 1671, 249, 39, 2, 47, 1381, 136, 1754, 7, 816, 31, 47, 530, 131, 1482, 184, 47, 115, 2846, 3, 2, 610, 8, 1319, 103, 2, 225, 75, 212, 8, 2847, 158, 21, 25, 6], [5, 227, 55, 453, 31, 2, 50, 483, 18, 2, 37, 7, 54, 165, 4, 2848, 190, 6], [5, 98, 2, 795, 38, 7, 2849, 28, 751, 291, 53, 30, 35, 10, 43, 305, 17, 2850, 36, 105, 37, 59, 6], [5, 2851, 910, 490, 305, 113, 1143, 329, 2852, 7, 21, 25, 245, 26, 6], [5, 27, 585, 3, 108, 299, 149, 20, 30, 11, 86, 57, 2, 385, 135, 604, 566, 55, 1037, 3, 458, 133, 574, 23, 8, 218, 408, 6], [5, 2, 10, 43, 167, 156, 12, 8, 573, 11, 60, 61, 3, 682, 112, 290, 35, 113, 24, 712, 4, 95, 2, 1251, 38, 2853, 936, 200, 191, 193, 403, 1867, 2854, 284, 410, 6], [5, 17, 498, 404, 1154, 3, 13, 1144, 140, 47, 179, 15, 224, 26, 3, 3966, 131, 60, 13, 7, 160, 65, 47, 1575, 15, 261, 778, 118, 194, 60, 2, 52, 4, 2060, 202, 139, 4, 7, 478, 176, 65, 3967, 8, 44, 11, 1027, 101, 1290, 31, 7, 2007, 26, 11, 7, 129, 469, 130, 47, 579, 648, 35, 23, 52, 387, 4, 7, 506, 1044, 101, 1883, 202, 15, 2088, 12, 2855, 1155, 809, 362, 8, 109, 12, 301, 60, 3, 2089, 3968, 3969, 3970, 2788, 3971, 503, 8, 109, 12, 399, 60, 7, 2089, 9, 1176, 202, 99, 3972, 3, 65, 801, 339, 38, 23, 27, 65, 678, 205, 23, 118, 301, 60, 997, 11, 399, 1145, 65, 9, 167, 142, 53, 44, 107, 833, 7, 242, 261, 1161, 6], [5, 98, 51, 290, 27, 2, 80, 12, 410, 3, 339, 195, 32, 120, 11, 7, 57, 324, 14, 6], [5, 2, 10, 43, 343, 1324, 1180, 12, 8, 178, 28, 403, 247, 15, 8, 238, 3973, 257, 2, 10, 552, 52, 26, 13, 17, 509, 2, 46, 3974, 186, 128, 3, 96, 225, 17, 234, 282, 11, 26, 1290, 85, 8, 2020, 649, 111, 7, 1324, 1180, 20, 1325, 12, 797, 17, 26, 101, 69, 445, 8, 807, 3975, 2090, 6], [5, 98, 2, 46, 810, 186, 128, 3, 615, 38, 1306, 25, 60, 166, 233, 2, 171, 146, 8, 64, 45, 216, 106, 249, 2, 10, 410, 403, 3, 8, 151, 15, 8, 1035, 106, 45, 557, 4, 20, 725, 36, 2, 37, 59, 18, 55, 102, 6], [5, 227, 55, 453, 11, 7, 54, 15, 17, 190, 31, 227, 713, 18, 17, 482, 36, 24, 203, 13, 83, 374, 635, 440, 1554, 407, 345, 48, 1614, 91, 1079, 23, 6], [5, 98, 2, 46, 8, 687, 848, 595, 2091, 178, 214, 2084, 28, 1623, 2856, 2, 577, 30, 1631, 126, 40, 151, 8, 99, 99, 64, 45, 64, 521, 3, 139, 723, 3, 377, 2, 46, 61, 725, 36, 2, 20, 59, 12, 163, 6], [5, 2, 10, 43, 319, 960, 30, 12, 81, 1238, 30, 492, 1692, 40, 3, 490, 106, 111, 31, 20, 30, 11, 86, 17, 2857, 2858, 513, 13, 160, 15, 279, 568, 15, 208, 200, 3, 1639, 6], [5, 17, 364, 52, 8, 44, 107, 751, 2859, 430, 9, 810, 7, 3976, 9, 667, 3977, 68, 69, 49, 40, 933, 3978, 3979, 68, 49, 26, 3, 1595, 4, 308, 83, 261, 711, 103, 2, 919, 18, 450, 228, 16, 354, 68, 373, 68, 516, 87, 102, 41, 14, 87, 18, 23, 9, 228, 11, 354, 212, 2860, 13, 710, 83, 119, 176, 82, 390, 68, 610, 104, 1665, 11, 119, 711, 6], [5, 18, 14, 135, 24, 699, 161, 131, 16, 189, 1355, 13, 8, 2861, 53, 44, 812, 126, 40, 325, 783, 412, 470, 45, 99, 812, 96, 2862, 167, 13, 524, 3, 1355, 133, 135, 393, 195, 7, 109, 111, 31, 20, 8, 187, 282, 11, 54, 124, 6], [5, 2, 52, 1231, 15, 3980, 3, 26, 2, 52, 486, 3981, 1149, 3982, 3983, 3984, 3, 2863, 3985, 1155, 809, 7, 3986, 3, 3987, 805, 13, 2864, 3, 1139, 3988, 17, 569, 2865, 2, 47, 1025, 201, 17, 404, 137, 109, 150, 11, 8, 2866, 2, 52, 3989, 17, 861, 758, 134, 49, 2350, 33, 7, 758, 9, 3990, 3991, 1752, 3992, 3993, 1155, 809, 3994, 3995, 129, 3996, 2, 2867, 4, 17, 2864, 569, 1958, 69, 34, 3997, 2, 682, 205, 137, 3998, 11, 32, 1653, 3999, 28, 4000, 17, 509, 4001, 49, 2073, 701, 3, 41, 34, 4, 388, 4, 32, 1666, 1181, 31, 32, 9, 8, 2866, 758, 31, 27, 217, 13, 4002, 294, 1002, 11, 7, 1181, 53, 355, 814, 2868, 140, 1750, 788, 186, 2092, 15, 53, 1483, 4, 805, 3, 70, 355, 814, 1127, 4003, 4004, 4005, 4006, 1235, 1235, 6], [5, 2, 10, 187, 640, 13, 17, 66, 35, 2, 46, 24, 115, 2, 96, 135, 8, 1282, 558, 28, 17, 901, 2, 10, 53, 44, 53, 316, 36, 2, 20, 258, 81, 21, 25, 6], [5, 2, 10, 43, 490, 8, 191, 463, 44, 12, 182, 242, 157, 2, 10, 584, 60, 237, 11, 8, 2869, 966, 2, 46, 148, 490, 8, 191, 463, 2870, 38, 957, 4, 147, 11, 744, 301, 2, 10, 53, 97, 30, 656, 1057, 442, 50, 193, 203, 563, 51, 9, 6], [5, 46, 2, 48, 91, 12, 21, 25, 13, 7, 1755, 672, 6], [5, 2, 225, 139, 38, 2871, 82, 751, 2, 46, 13, 175, 17, 30, 29, 363, 66, 3, 169, 11, 116, 42, 2, 71, 4, 10, 8, 72, 36, 2, 20, 205, 70, 290, 6], [5, 212, 8, 273, 1034, 1326, 1071, 13, 279, 3, 513, 13, 815, 854, 2, 10, 8, 180, 282, 11, 122, 34, 30, 35, 53, 421, 73, 15, 484, 21, 279, 42, 17, 30, 1484, 121, 16, 36, 2, 91, 1256, 17, 200, 6], [5, 423, 286, 2872, 774, 3, 832, 44, 49, 1485, 2873, 3, 9, 61, 48, 1567, 189, 70, 231, 6], [5, 17, 1151, 49, 378, 52, 8, 1182, 1756, 1296, 13, 2874, 68, 52, 8, 130, 74, 3, 107, 49, 52, 149, 559, 68, 49, 96, 43, 2875, 3, 8, 649, 709, 26, 2876, 3, 607, 49, 43, 2702, 3, 125, 386, 10, 2877, 68, 49, 8, 2878, 18, 32, 9, 253, 50, 83, 149, 559, 20, 2879, 6], [5, 238, 439, 3, 167, 8, 252, 1757, 6], [5, 2, 46, 1154, 597, 13, 1749, 3, 10, 52, 8, 363, 66, 3, 64, 45, 3, 1132, 40, 12, 78, 201, 8, 89, 6], [5, 2, 80, 2880, 1758, 1486, 2881, 12, 2882, 1327, 23, 1070, 899, 2093, 11, 1758, 2883, 1759, 21, 1760, 1170, 522, 1759, 36, 2, 657, 17, 193, 403, 314, 124, 6], [5, 98, 17, 289, 9, 104, 186, 128, 82, 89, 65, 1761, 507, 12, 8, 109, 16, 242, 65, 1485, 423, 3, 52, 8, 109, 11, 2884, 263, 107, 82, 206, 65, 9, 2885, 895, 15, 1933, 3, 216, 106, 3, 754, 11, 955, 42, 2, 71, 4, 72, 202, 12, 21, 25, 6], [5, 28, 79, 261, 504, 2886, 291, 3, 206, 6], [5, 151, 44, 511, 43, 13, 73, 15, 136, 15, 54, 42, 2, 71, 4, 20, 280, 6], [5, 17, 194, 178, 128, 289, 697, 114, 24, 167, 161, 2, 2887, 153, 172, 3, 432, 1365, 9, 667, 131, 3, 2888, 9, 667, 104, 65, 990, 2889, 366, 9, 64, 3, 153, 521, 9, 64, 46, 453, 23, 84, 20, 21, 25, 6], [5, 2, 10, 8, 126, 40, 3, 64, 45, 251, 43, 8, 89, 61, 3, 7, 40, 557, 4, 20, 146, 226, 53, 216, 106, 16, 44, 268, 8, 151, 53, 169, 11, 116, 36, 2, 37, 59, 12, 163, 6], [5, 102, 42, 2, 87, 18, 2, 10, 8, 259, 144, 16, 412, 7, 86, 57, 17, 623, 29, 1962, 3, 2, 10, 8, 351, 238, 545, 134, 230, 1597, 2094, 11, 126, 40, 2890, 2, 385, 10, 8, 44, 35, 17, 154, 9, 2891, 107, 2, 2892, 2893, 13, 189, 60, 6], [5, 98, 2, 47, 179, 8, 390, 166, 15, 1110, 26, 118, 242, 1879, 11, 119, 2, 47, 167, 142, 61, 17, 40, 9, 139, 3, 2, 10, 8, 1109, 582, 167, 529, 13, 17, 1439, 2, 10, 43, 1886, 368, 12, 7, 82, 218, 60, 111, 32, 20, 38, 26, 6], [5, 2, 10, 8, 4008, 31, 9, 13, 7, 160, 48, 1870, 4009, 4010, 13, 4011, 68, 84, 16, 24, 10, 26, 68, 2345, 552, 804, 129, 90, 68, 1664, 28, 9, 4012, 3, 2095, 383, 3, 4013, 4014, 51, 230, 4015, 263, 1076, 4016, 31, 68, 682, 4, 804, 417, 35, 68, 225, 4017, 6], [5, 100, 109, 32, 291, 2, 1052, 12, 7, 99, 234, 120, 13, 8, 223, 120, 15, 7, 86, 57, 305, 2, 135, 7, 71, 4, 347, 32, 2, 1052, 12, 81, 194, 1379, 2, 10, 53, 44, 24, 377, 3, 66, 467, 908, 51, 36, 2, 42, 6], [5, 27, 7, 2894, 2, 804, 308, 33, 54, 50, 934, 518, 7, 54, 6], [5, 17, 2747, 49, 43, 115, 4018, 296, 206, 12, 7, 312, 189, 331, 65, 9, 851, 186, 128, 4019, 81, 2895, 2896, 3, 49, 43, 448, 85, 153, 123, 31, 65, 49, 1077, 26, 65, 49, 43, 540, 119, 40, 888, 813, 532, 1382, 238, 2897, 3, 743, 3, 668, 101, 2898, 7, 115, 48, 236, 65, 148, 113, 24, 712, 4, 10, 1628, 1283, 11, 7, 115, 153, 115, 9, 1443, 15, 326, 3, 49, 69, 695, 202, 4, 4020, 114, 165, 4, 7, 4021, 65, 113, 553, 4022, 39, 161, 51, 9, 32, 6], [5, 104, 60, 166, 2, 171, 319, 511, 3, 1922, 154, 618, 575, 1464, 7, 883, 3, 154, 430, 47, 147, 39, 2, 47, 1029, 3, 167, 144, 374, 308, 33, 960, 290, 3, 231, 395, 121, 12, 86, 36, 2, 2899, 28, 121, 12, 86, 6], [5, 17, 2900, 128, 289, 49, 52, 8, 126, 40, 3, 8, 216, 106, 107, 1047, 2096, 24, 776, 436, 55, 23, 9, 691, 4, 543, 18, 65, 49, 70, 654, 149, 55, 212, 280, 65, 113, 24, 10, 172, 6], [5, 36, 279, 15, 21, 25, 185, 329, 16, 2097, 2901, 6], [5, 2, 46, 8, 2902, 3, 10, 8, 363, 66, 3, 243, 299, 149, 2903, 2, 171, 167, 34, 2, 71, 4, 449, 17, 45, 2, 1689, 75, 4, 1723, 38, 2904, 587, 60, 166, 10, 43, 112, 1166, 39, 8, 1300, 6], [5, 862, 746, 775, 746, 93, 13, 2905, 11, 432, 133, 48, 206, 351, 238, 545, 458, 1297, 8, 218, 236, 3, 268, 17, 106, 1158, 13, 7, 291, 51, 111, 32, 20, 69, 268, 2, 40, 35, 24, 8, 327, 70, 661, 21, 25, 6], [5, 2, 46, 7, 2098, 1574, 11, 1030, 2, 288, 4, 762, 8, 140, 21, 2099, 12, 17, 498, 138, 240, 33, 87, 102, 4, 42, 55, 6], [5, 126, 470, 45, 99, 187, 40, 107, 851, 222, 35, 24, 725, 380, 4, 786, 738, 522, 2906, 3, 369, 2100, 560, 304, 222, 482, 49, 64, 45, 238, 439, 2907, 339, 107, 909, 222, 36, 105, 188, 8, 67, 4, 20, 2908, 6], [5, 36, 2, 232, 20, 258, 81, 17, 1469, 892, 515, 21, 25, 51, 782, 36, 101, 80, 4, 92, 595, 6], [5, 909, 390, 128, 49, 8, 44, 667, 301, 3, 126, 40, 6], [5, 132, 67, 2, 46, 8, 851, 178, 128, 4023, 2, 10, 539, 3, 1938, 35, 53, 4024, 2101, 16, 284, 1002, 234, 2, 4025, 87, 18, 17, 384, 371, 9, 4026, 3, 102, 168, 46, 2, 4, 483, 11, 54, 693, 2, 10, 1762, 13, 17, 45, 3, 169, 11, 116, 2, 510, 10, 23, 176, 11, 539, 35, 61, 23, 9, 78, 435, 201, 254, 2, 69, 135, 8, 99, 4027, 167, 11, 93, 674, 558, 3, 1762, 13, 17, 66, 2, 409, 24, 94, 150, 195, 7, 312, 4028, 60, 3, 10, 24, 43, 13, 73, 15, 136, 15, 204, 21, 3, 2, 1074, 425, 312, 89, 392, 4, 137, 16, 2672, 4029, 38, 304, 8, 109, 612, 46, 2, 167, 1762, 3, 93, 3, 674, 558, 102, 168, 46, 2, 4, 10, 21, 25, 3, 102, 168, 46, 2, 4, 483, 38, 23, 6], [5, 2, 46, 8, 402, 67, 13, 79, 1701, 402, 532, 1487, 3, 7, 207, 47, 2909, 4030, 77, 12, 1110, 1763, 26, 18, 4031, 11, 74, 2102, 118, 77, 15, 1563, 1377, 747, 1991, 60, 102, 36, 248, 20, 253, 41, 23, 20, 353, 4, 330, 381, 15, 778, 39, 79, 1701, 6], [5, 1046, 1955, 404, 1018, 823, 1984, 30, 2, 10, 8, 40, 31, 557, 4, 20, 2103, 23, 2102, 196, 48, 4032, 16, 18, 2, 446, 8, 99, 2683, 986, 16, 4033, 103, 32, 40, 2102, 23, 9, 99, 126, 31, 23, 41, 658, 34, 8, 4034, 1920, 69, 1707, 40, 2, 42, 1001, 8, 2103, 216, 106, 268, 4035, 15, 2014, 837, 473, 3, 862, 45, 7, 216, 106, 1990, 9, 4036, 579, 34, 4037, 16, 4038, 4039, 118, 8, 313, 183, 30, 41, 2910, 3, 103, 101, 42, 2910, 2, 135, 701, 259, 2, 10, 711, 2911, 8, 67, 3, 47, 179, 11, 767, 4040, 68, 4041, 33, 4, 80, 613, 2104, 451, 4042, 16, 4043, 134, 703, 42, 2, 2912, 1317, 23, 1441, 48, 867, 35, 24, 48, 90, 236, 102, 294, 60, 2103, 40, 49, 43, 292, 28, 107, 1425, 11, 32, 178, 39, 12, 7, 216, 106, 107, 1985, 11, 82, 178, 442, 24, 31, 2, 87, 11, 103, 2, 47, 1230, 186, 128, 2, 914, 267, 179, 11, 727, 2913, 35, 47, 541, 4, 20, 253, 254, 23, 608, 245, 417, 566, 69, 686, 1158, 13, 7, 402, 39, 17, 2615, 52, 23, 254, 3, 55, 39, 17, 590, 668, 7, 67, 373, 23, 47, 711, 8, 2914, 39, 12, 33, 2678, 47, 8, 2915, 178, 76, 340, 331, 103, 17, 408, 11, 472, 360, 47, 133, 305, 131, 4, 1128, 408, 165, 4, 1307, 203, 69, 12, 8, 322, 11, 120, 2, 47, 2916, 13, 425, 668, 23, 49, 43, 8, 390, 107, 2, 850, 67, 2, 41, 96, 34, 4, 87, 51, 29, 7, 433, 11, 33, 2917, 208, 508, 34, 26, 16, 1178, 16, 2918, 11, 255, 69, 18, 2, 37, 4, 181, 8, 67, 2919, 15, 17, 892, 50, 7, 67, 20, 541, 4, 4044, 17, 312, 425, 4045, 685, 28, 7, 2105, 65, 50, 42, 16, 15, 386, 31, 65, 50, 388, 34, 799, 7, 4046, 9, 2, 46, 2860, 4, 94, 4, 8, 214, 802, 176, 17, 892, 10, 4, 2048, 33, 3, 2, 46, 2619, 31, 7, 67, 293, 303, 4047, 4048, 17, 892, 39, 101, 159, 87, 31, 2, 42, 553, 35, 2, 42, 232, 288, 4, 315, 214, 1183, 1707, 7, 4049, 11, 2920, 2, 46, 258, 31, 23, 293, 20, 417, 488, 4050, 12, 8, 2106, 11, 19, 4051, 4052, 324, 14, 67, 3, 100, 109, 6], [5, 27, 105, 155, 1764, 16, 2107, 2921, 103, 105, 10, 86, 101, 877, 2922, 2923, 6], [5, 132, 67, 2, 46, 675, 38, 115, 45, 74, 38, 82, 89, 48, 31, 120, 44, 409, 24, 4053, 3, 69, 409, 24, 574, 70, 66, 93, 242, 60, 466, 2, 2911, 15, 8, 67, 65, 540, 4054, 4055, 4056, 4057, 4058, 888, 3, 4059, 1004, 2924, 107, 110, 45, 74, 1578, 3, 989, 40, 69, 561, 150, 115, 69, 1578, 4060, 637, 24, 701, 38, 233, 2925, 44, 9, 4061, 2859, 744, 1431, 4062, 2, 10, 24, 323, 13, 427, 15, 70, 2108, 615, 177, 1169, 269, 538, 13, 471, 920, 76, 9, 53, 1613, 11, 21, 25, 138, 198, 51, 4, 42, 6], [5, 17, 2926, 47, 843, 233, 12, 26, 3, 8, 4063, 130, 134, 47, 4064, 233, 101, 409, 554, 32, 291, 85, 2927, 150, 3, 4065, 241, 68, 9, 61, 4066, 4067, 15, 8, 1947, 13, 83, 129, 130, 51, 50, 23, 80, 12, 83, 4, 37, 161, 381, 6], [5, 8, 104, 178, 2928, 31, 153, 366, 9, 64, 105, 446, 202, 1328, 13, 7, 291, 3, 48, 2929, 65, 1309, 360, 65, 1124, 1359, 114, 1937, 450, 775, 36, 2, 80, 202, 4, 8, 123, 16, 160, 6], [5, 27, 2, 72, 53, 484, 73, 15, 86, 35, 43, 13, 73, 15, 15, 2930, 123, 963, 2931, 68, 9, 148, 595, 61, 2, 52, 243, 64, 45, 1488, 841, 921, 222, 326, 3, 837, 473, 430, 2109, 643, 225, 2932, 643, 25, 574, 142, 35, 115, 6], [5, 2, 10, 470, 45, 326, 754, 11, 955, 511, 2, 46, 1474, 13, 1672, 844, 17, 289, 52, 1026, 73, 65, 49, 122, 30, 65, 47, 1137, 105, 29, 669, 12, 7, 652, 12, 153, 73, 42, 2, 71, 4, 72, 476, 6], [5, 2, 47, 13, 73, 15, 136, 127, 49, 59, 204, 12, 21, 25, 65, 113, 24, 10, 30, 72, 47, 173, 28, 780, 222, 2, 42, 24, 10, 70, 30, 656, 12, 8, 490, 638, 51, 36, 2, 42, 124, 6], [5, 100, 109, 67, 107, 312, 89, 2, 46, 2933, 964, 1358, 82, 89, 23, 47, 2110, 1765, 3, 249, 103, 2, 671, 23, 9, 2934, 1019, 218, 331, 139, 964, 47, 808, 2935, 2, 46, 152, 53, 97, 30, 2, 1709, 32, 133, 103, 17, 2936, 340, 1380, 124, 6], [5, 17, 289, 9, 104, 390, 128, 3, 103, 65, 47, 137, 390, 128, 110, 4068, 4069, 202, 3, 65, 47, 4070, 137, 390, 13, 4071, 160, 13, 4072, 3, 118, 560, 60, 65, 152, 420, 13, 7, 149, 65, 860, 149, 161, 27, 1076, 543, 33, 51, 9, 7, 420, 65, 10, 3, 51, 9, 7, 4073, 6], [5, 17, 104, 178, 128, 49, 8, 807, 44, 3, 9, 423, 212, 258, 81, 83, 29, 183, 30, 11, 7, 54, 6], [5, 96, 445, 150, 31, 17, 1005, 59, 204, 12, 21, 25, 2, 52, 925, 2937, 15, 202, 65, 49, 53, 30, 65, 47, 59, 176, 65, 380, 13, 1546, 4, 2938, 36, 2, 20, 59, 227, 1452, 16, 572, 4, 188, 18, 2, 365, 70, 30, 6], [5, 98, 76, 2, 47, 48, 8, 1236, 182, 32, 312, 1362, 3, 76, 49, 43, 8, 347, 11, 136, 121, 204, 61, 9, 23, 8, 100, 661, 4, 94, 12, 8, 72, 3, 16, 112, 197, 9, 2939, 285, 85, 1118, 643, 6], [5, 176, 2, 10, 219, 145, 190, 51, 9, 168, 4, 954, 4, 33, 18, 2, 37, 7, 54, 6], [5, 98, 2, 447, 8, 4074, 848, 128, 719, 606, 194, 189, 4075, 2896, 2, 52, 4076, 255, 3, 277, 3, 340, 244, 537, 866, 2, 2109, 4, 2111, 150, 11, 23, 48, 404, 1060, 195, 7, 82, 235, 789, 2, 716, 577, 2018, 284, 511, 1642, 12, 235, 331, 17, 4077, 493, 1621, 48, 4078, 4079, 3, 101, 111, 24, 551, 150, 612, 4080, 401, 855, 2940, 11, 7, 633, 3, 211, 2941, 4081, 2, 2942, 1489, 2943, 1172, 401, 2445, 12, 189, 789, 110, 1422, 4082, 247, 789, 166, 2, 447, 4083, 3, 28, 2944, 2, 1956, 348, 2942, 1489, 1172, 401, 13, 247, 789, 195, 31, 120, 2, 716, 52, 26, 1060, 236, 362, 47, 4084, 26, 533, 410, 559, 596, 74, 3, 8, 1736, 1086, 11, 1053, 346, 15, 7, 4085, 7, 123, 2945, 348, 543, 33, 7, 1046, 11, 23, 2, 10, 1874, 2944, 4086, 3, 4087, 4088, 684, 4, 37, 95, 4, 334, 77, 381, 4089, 150, 4, 70, 158, 95, 49, 43, 1106, 15, 4090, 3, 53, 137, 41, 270, 4, 1125, 33, 13, 7, 129, 4091, 2, 447, 232, 258, 3, 41, 34, 4, 87, 17, 433, 11, 2403, 18, 2, 27, 348, 37, 7, 2943, 1329, 324, 14, 99, 221, 12, 19, 120, 6], [5, 98, 123, 17, 927, 154, 467, 64, 39, 161, 39, 17, 521, 17, 1078, 467, 1380, 13, 17, 366, 3, 10, 339, 6], [5, 28, 7, 206, 11, 1591, 222, 2, 171, 319, 918, 45, 3, 325, 252, 106, 2946, 2, 865, 374, 233, 3, 47, 244, 960, 290, 374, 902, 395, 86, 121, 107, 17, 430, 47, 259, 36, 2, 20, 210, 81, 7, 86, 57, 6], [5, 297, 42, 1417, 2112, 323, 38, 17, 1766, 49, 2947, 1184, 263, 2, 385, 227, 606, 111, 101, 20, 76, 2948, 51, 29, 7, 2949, 11, 32, 57, 6], [5, 17, 289, 9, 131, 186, 128, 3, 500, 392, 15, 8, 366, 144, 1488, 23, 2748, 821, 4, 153, 66, 65, 9, 8, 4092, 4093, 3, 49, 52, 654, 15, 26, 3, 2950, 13, 312, 65, 9, 490, 8, 430, 3, 153, 208, 493, 9, 562, 2807, 1122, 2, 96, 159, 87, 18, 2, 36, 572, 23, 150, 8, 325, 787, 4, 188, 51, 7, 109, 4094, 16, 80, 202, 13, 2, 2951, 4095, 34, 212, 510, 76, 12, 7, 4096, 611, 15, 202, 35, 153, 335, 4097, 214, 2952, 510, 47, 7, 282, 23, 96, 557, 55, 2426, 31, 8, 130, 438, 41, 20, 2953, 103, 65, 133, 171, 465, 651, 11, 8, 144, 736, 206, 6], [5, 2, 10, 43, 28, 1490, 12, 4098, 194, 186, 61, 48, 8, 880, 11, 2444, 486, 189, 236, 472, 32, 49, 24, 133, 850, 70, 4099, 4100, 30, 35, 49, 69, 2613, 4101, 1419, 13, 4102, 284, 93, 38, 8, 180, 139, 1285, 841, 186, 166, 12, 7, 234, 131, 186, 11, 205, 7, 290, 2, 445, 31, 313, 23, 47, 547, 13, 183, 616, 594, 47, 79, 4103, 355, 763, 13, 31, 23, 1033, 4104, 70, 4105, 13, 823, 16, 333, 7, 1291, 4, 4106, 10, 823, 69, 2, 445, 31, 2, 52, 341, 4, 53, 1698, 1176, 294, 611, 2, 624, 4, 4107, 1684, 85, 7, 4108, 134, 13, 2954, 2021, 4, 180, 1938, 118, 4109, 4110, 15, 17, 67, 2, 47, 798, 12, 193, 1465, 3, 23, 47, 445, 31, 17, 694, 11, 4111, 47, 55, 191, 23, 2349, 4112, 2, 47, 110, 454, 28, 8, 131, 89, 2609, 11, 2840, 11, 4113, 11, 4114, 3, 12, 7, 312, 793, 186, 2, 10, 43, 7, 177, 31, 2, 624, 4, 20, 23, 446, 33, 17, 509, 139, 87, 2, 10, 43, 244, 8, 456, 67, 48, 7, 802, 2, 2955, 3, 65, 49, 1463, 33, 31, 65, 9, 133, 76, 4, 4115, 1490, 3, 50, 24, 20, 1325, 12, 70, 97, 2088, 2, 42, 24, 10, 8, 402, 67, 3, 471, 2956, 49, 373, 31, 32, 1687, 538, 594, 4116, 7, 1071, 13, 802, 4117, 296, 1767, 31, 2, 87, 55, 2714, 31, 594, 9, 53, 1491, 13, 17, 1185, 31, 101, 50, 4118, 4, 487, 32, 4119, 4, 308, 14, 108, 4120, 28, 471, 1071, 13, 802, 2, 269, 594, 793, 4121, 139, 15, 2113, 26, 3, 7, 67, 2865, 48, 17, 2019, 362, 3, 448, 33, 31, 2, 41, 37, 87, 4122, 38, 202, 3, 4, 683, 821, 70, 1245, 28, 102, 4, 37, 2389, 4, 17, 1217, 1490, 67, 127, 49, 133, 43, 13, 4123, 1490, 12, 104, 331, 96, 102, 221, 32, 41, 1112, 4124, 4125, 17, 509, 6], [5, 346, 15, 326, 3, 474, 6], [5, 17, 452, 49, 2957, 1492, 2958, 4126, 4127, 7, 2651, 68, 9, 767, 4, 211, 119, 4128, 1951, 68, 49, 43, 253, 1230, 236, 4129, 101, 1956, 348, 1258, 13, 680, 68, 1493, 608, 4130, 1358, 283, 266, 1329, 82, 2959, 47, 301, 60, 166, 1423, 109, 1172, 4131, 4132, 3, 4133, 1272, 4, 2959, 68, 4134, 1038, 1122, 2960, 690, 4135, 145, 1391, 4136, 1272, 4137, 76, 47, 4, 20, 79, 1039, 847, 1742, 605, 3, 28, 2684, 880, 269, 245, 4138, 68, 9, 267, 2875, 13, 8, 447, 12, 382, 4139, 68, 9, 684, 690, 1742, 11, 4140, 4141, 95, 51, 4, 42, 102, 223, 27, 32, 94, 28, 254, 68, 2114, 51, 29, 7, 30, 11, 718, 4142, 4, 2957, 6], [5, 2, 10, 59, 204, 12, 21, 25, 51, 290, 376, 2, 80, 6], [5, 289, 9, 847, 186, 128, 65, 49, 224, 3, 9, 28, 4143, 153, 44, 9, 648, 61, 35, 65, 148, 516, 135, 100, 99, 377, 3, 1219, 4144, 419, 7, 473, 99, 4145, 65, 49, 43, 28, 7, 1255, 12, 131, 680, 60, 3, 2, 271, 7, 261, 9, 24, 513, 111, 65, 69, 10, 26, 53, 40, 637, 6], [5, 28, 3, 342, 44, 64, 154, 6], [5, 29, 76, 620, 1494, 16, 1744, 78, 168, 4, 739, 86, 201, 262, 134, 1494, 36, 2, 20, 980, 184, 38, 6], [5, 2, 47, 179, 15, 26, 28, 2874, 788, 2, 1476, 205, 17, 119, 3, 40, 907, 2, 148, 487, 4, 40, 268, 4147, 169, 11, 116, 3, 585, 2, 10, 79, 748, 2, 46, 24, 115, 114, 1846, 4148, 17, 67, 990, 4, 80, 1382, 2313, 2, 10, 1476, 8, 4149, 2, 69, 10, 486, 2312, 40, 532, 68, 69, 4150, 40, 2962, 82, 114, 4, 189, 247, 157, 6], [5, 132, 67, 17, 452, 9, 79, 4151, 3, 737, 3, 49, 43, 675, 38, 4152, 3, 267, 253, 79, 2963, 4153, 2964, 160, 13, 2964, 4154, 2806, 7, 556, 76, 10, 4155, 12, 8, 1186, 72, 173, 12, 83, 66, 2962, 1076, 4156, 7, 160, 297, 105, 4157, 94, 12, 32, 72, 6], [5, 2, 203, 13, 8, 143, 1066, 3, 137, 11, 17, 2965, 59, 204, 12, 21, 25, 798, 83, 75, 736, 4, 37, 59, 3, 233, 101, 500, 139, 204, 6], [5, 1739, 49, 54, 15, 318, 30, 440, 301, 60, 107, 68, 171, 30, 3, 82, 120, 2, 1633, 83, 2, 148, 385, 135, 30, 102, 221, 787, 46, 2, 13, 7, 2966, 11, 530, 792, 30, 38, 397, 278, 6], [5, 17, 2110, 178, 128, 1151, 9, 350, 898, 12, 26, 31, 47, 2967, 118, 1728, 554, 621, 4, 8, 1684, 68, 52, 1741, 2116, 587, 186, 166, 350, 205, 4158, 4159, 4160, 2117, 131, 4161, 69, 15, 2117, 4162, 3, 4163, 11, 1741, 2116, 4164, 1151, 1115, 184, 38, 4165, 11, 1741, 2116, 4166, 4, 275, 1292, 3, 4167, 160, 4168, 150, 193, 2968, 13, 130, 2967, 15, 26, 36, 369, 649, 20, 173, 107, 68, 49, 49, 8, 223, 1601, 40, 3, 1226, 1376, 11, 26, 6], [5, 2, 10, 66, 439, 3, 2, 135, 582, 103, 2, 644, 24, 213, 18, 2, 10, 8, 44, 385, 232, 10, 8, 40, 35, 17, 45, 9, 64, 2, 69, 87, 31, 136, 13, 17, 502, 3, 17, 1857, 502, 10, 43, 349, 15, 163, 51, 36, 2, 42, 6], [5, 98, 84, 2, 673, 19, 140, 1367, 129, 61, 138, 219, 19, 88, 199, 2, 10, 43, 4, 7, 67, 104, 236, 234, 120, 23, 47, 8, 180, 410, 74, 89, 466, 52, 4, 94, 139, 1453, 245, 26, 52, 4, 94, 139, 1241, 120, 90, 131, 236, 2, 47, 244, 8, 505, 1582, 457, 1377, 234, 120, 537, 1582, 505, 693, 3, 1582, 505, 1241, 2, 10, 43, 1288, 419, 17, 883, 3, 49, 648, 4, 17, 139, 3, 619, 42, 14, 271, 7, 26, 49, 1628, 226, 42, 2, 71, 4, 94, 139, 4, 7, 67, 6], [5, 17, 194, 178, 128, 364, 49, 96, 323, 392, 15, 8, 810, 1431, 44, 501, 216, 106, 3, 40, 36, 105, 37, 83, 59, 6], [5, 98, 2, 10, 8, 99, 363, 66, 35, 53, 40, 467, 34, 2, 46, 81, 4, 40, 268, 35, 53, 40, 110, 103, 2, 1153, 2970, 251, 226, 53, 44, 158, 278, 4, 21, 38, 2971, 2972, 35, 24, 213, 232, 674, 558, 28, 17, 66, 6], [5, 98, 55, 227, 8, 304, 178, 128, 606, 2, 171, 513, 150, 81, 8, 178, 166, 2, 1599, 108, 506, 1054, 93, 118, 2973, 13, 1054, 1942, 35, 69, 2067, 23, 305, 7, 120, 11, 17, 322, 440, 129, 341, 4, 419, 17, 1368, 1182, 28, 237, 355, 6], [5, 98, 2, 46, 4169, 903, 186, 128, 2, 155, 4, 4170, 472, 13, 291, 113, 21, 25, 2974, 266, 287, 51, 546, 36, 2, 80, 4, 185, 74, 6], [5, 17, 1768, 1658, 1422, 153, 1330, 11, 1769, 65, 52, 8, 360, 2975, 72, 173, 131, 60, 166, 28, 8, 1180, 715, 137, 18, 153, 1770, 9, 2976, 114, 165, 4, 8, 243, 144, 69, 103, 7, 72, 47, 173, 153, 1770, 340, 449, 51, 695, 32, 6], [5, 1051, 57, 49, 824, 17, 823, 509, 2, 2118, 8, 327, 195, 823, 3, 28, 17, 322, 2, 409, 8, 2977, 2978, 35, 17, 322, 9, 148, 7, 260, 3, 227, 453, 4, 10, 823, 165, 4, 1187, 39, 2, 47, 362, 1126, 12, 23, 70, 2119, 28, 51, 2, 27, 42, 6], [5, 17, 1361, 1387, 186, 128, 47, 13, 7, 160, 12, 26, 3, 534, 935, 4171, 465, 2120, 23, 47, 179, 31, 2120, 47, 368, 221, 12, 2979, 16, 4172, 133, 290, 9, 244, 4, 95, 220, 220, 723, 69, 709, 1458, 55, 23, 47, 53, 155, 4, 10, 2979, 554, 534, 935, 441, 39, 333, 18, 2120, 1899, 723, 41, 24, 95, 220, 17, 207, 9, 31, 61, 1575, 38, 75, 65, 49, 43, 99, 2121, 195, 206, 360, 65, 4173, 313, 1669, 65, 801, 114, 3, 4174, 28, 1031, 65, 110, 4175, 139, 3, 7, 260, 2980, 65, 672, 267, 377, 38, 160, 92, 65, 672, 65, 9, 377, 38, 92, 13, 160, 34, 160, 1031, 400, 65, 232, 801, 4, 360, 48, 247, 46, 3, 110, 195, 7, 109, 65, 9, 393, 110, 7, 341, 206, 23, 1024, 381, 49, 43, 75, 107, 2044, 104, 416, 214, 67, 1875, 314, 4, 360, 35, 31, 47, 226, 17, 452, 9, 7, 727, 4176, 3, 49, 1136, 153, 206, 360, 9, 342, 118, 1111, 75, 113, 7, 456, 426, 162, 32, 16, 9, 76, 9, 8, 1015, 124, 6], [5, 2, 716, 52, 26, 1964, 236, 510, 13, 17, 237, 130, 7, 82, 120, 47, 8, 178, 166, 23, 552, 269, 184, 17, 578, 4177, 31, 7, 200, 9, 562, 90, 7, 2914, 1771, 2, 69, 10, 4178, 200, 3, 46, 253, 15, 4179, 118, 793, 457, 2837, 134, 709, 8, 1400, 3, 4180, 3, 2333, 134, 500, 139, 840, 2, 52, 7, 237, 130, 701, 1899, 82, 390, 3, 47, 179, 15, 578, 4181, 113, 32, 658, 1087, 6], [5, 98, 17, 66, 170, 174, 4182, 2, 10, 8, 807, 4183, 4184, 969, 2385, 4185, 400, 1562, 165, 4, 74, 2, 52, 8, 589, 11, 2981, 4186, 3, 646, 350, 28, 1163, 4187, 2960, 30, 11, 26, 148, 4188, 42, 2, 71, 4, 657, 17, 77, 6], [5, 2, 10, 8, 64, 45, 115, 915, 1650, 13, 521, 2, 46, 8, 1640, 2, 47, 13, 73, 15, 294, 759, 391, 1488, 82, 89, 137, 11, 7, 892, 59, 204, 12, 21, 25, 35, 76, 9, 53, 283, 2, 47, 13, 73, 51, 36, 2, 42, 6], [5, 2, 742, 7, 831, 322, 12, 21, 25, 9, 301, 60, 55, 18, 14, 37, 156, 118, 301, 60, 113, 7, 235, 406, 175, 322, 1024, 38, 7, 1323, 14, 563, 30, 16, 9, 7, 301, 60, 831, 322, 1366, 13, 235, 109, 175, 322, 6], [5, 43, 501, 783, 106, 3, 243, 64, 45, 107, 1111, 38, 1032, 172, 9, 1373, 24, 115, 16, 147, 44, 30, 36, 2, 20, 2982, 6], [5, 2983, 2984, 67, 8, 2985, 1331, 2986, 2122, 1495, 2987, 2988, 1332, 2123, 2124, 1496, 2125, 2989, 2990, 1332, 1331, 2991, 2992, 2993, 1730, 2994, 1088, 2126, 1495, 2995, 2996, 2997, 1088, 2998, 2127, 1772, 6]]\n"
          ]
        }
      ],
      "source": [
        "import tensorflow as tf\n",
        "from tensorflow.keras.preprocessing.text import Tokenizer\n",
        "from tensorflow.keras.preprocessing.sequence import pad_sequences\n",
        "\n",
        "# Initialize the tokenizer\n",
        "tokenizer = Tokenizer(num_words=10000, oov_token=\"<OOV>\")\n",
        "dialogs = tot_data\n",
        "# Fit the tokenizer on the texts\n",
        "# tokenizer.fit_on_texts(dialogs)\n",
        "tokenizer.fit_on_texts(dialogs + tot_data_test) # Changed\n",
        "\n",
        "# Convert texts to sequences of integers\n",
        "all_patient_ques = tokenizer.texts_to_sequences(all_patient_ques)\n",
        "patient_ques = tokenizer.texts_to_sequences(patient_ques)\n",
        "docter_ans = tokenizer.texts_to_sequences(docter_ans)\n",
        "\n",
        "# Pad the sequences to have equal length\n",
        "# patient_ques = pad_sequences(patient_ques, padding='post')\n",
        "# docter_ans = pad_sequences(docter_ans, padding='post')\n",
        "\n",
        "print(\"Word Index = \" , tokenizer.word_index)\n",
        "print(\"Sequences = \" , patient_ques)\n",
        "# print(\"Padded Sequences:\")\n",
        "# print(padded_sequences)"
      ]
    },
    {
      "cell_type": "code",
      "execution_count": 11,
      "metadata": {},
      "outputs": [
        {
          "name": "stdout",
          "output_type": "stream",
          "text": [
            "Sequences =  [[5, 2, 10, 90, 7, 30, 656, 44, 2, 269, 4, 3248, 3, 123, 373, 2, 27, 37, 59, 18, 2, 288, 4, 212, 24, 213, 18, 2, 36, 68, 446, 33, 119, 3249, 3250, 1752, 68, 373, 2, 27, 80, 23, 18, 2, 135, 226, 212, 258, 23, 50, 303, 384, 371, 318, 6], [5, 50, 17, 257, 38, 3251, 3252, 1837, 816, 15, 1117, 414, 33, 38, 86, 57, 576, 15, 1837, 2232, 6], [5, 380, 3253, 166, 38, 3254, 4, 2161, 1043, 3255, 49, 52, 44, 11, 744, 418, 48, 206, 3, 108, 115, 12, 3256, 59, 840, 12, 122, 3, 170, 2239, 11, 275, 340, 449, 54, 3257, 6], [5, 17, 25, 178, 128, 289, 47, 179, 15, 26, 194, 331, 166, 3, 47, 244, 119, 35, 15, 884, 652, 1317, 65, 148, 2363, 38, 7, 260, 30, 35, 107, 65, 9, 13, 7, 5302, 65, 2674, 4, 94, 139, 4, 7, 67, 12, 1558, 11, 5303, 153, 40, 9, 148, 700, 3, 153, 1698, 9, 191, 29, 76, 70, 223, 2264, 3258, 12, 153, 275, 18, 65, 2980, 336, 77, 6], [5, 98, 76, 33, 3, 17, 3259, 128, 10, 122, 34, 30, 3, 10, 43, 13, 73, 15, 136, 31, 795, 38, 456, 2267, 15, 79, 3260, 582, 122, 36, 2, 37, 59, 12, 21, 25, 6], [5, 18, 137, 37, 86, 3, 14, 29, 112, 1166, 3, 23, 9, 24, 180, 9, 76, 70, 314, 31, 137, 27, 80, 6], [5, 396, 43, 378, 152, 78, 106, 3261, 1259, 189, 194, 236, 534, 109, 4, 20, 1522, 3, 2, 10, 7, 5304, 40, 703, 31, 670, 15, 23, 333, 103, 2, 46, 1669, 17, 106, 1024, 4, 2118, 3, 2, 5305, 114, 165, 4, 7, 193, 490, 392, 17, 432, 9, 32, 26, 16, 108, 97, 508, 6], [5, 98, 82, 206, 2, 96, 171, 146, 1757, 17, 106, 225, 232, 216, 3, 440, 1394, 4, 249, 458, 69, 171, 146, 8, 243, 151, 39, 161, 15, 32, 1529, 81, 7, 21, 25, 36, 113, 102, 2, 135, 1484, 33, 146, 59, 12, 23, 6], [5, 2, 10, 8, 243, 40, 182, 7, 82, 218, 60, 35, 1477, 43, 332, 4, 164, 16, 380, 4, 21, 25, 616, 2, 10, 378, 1074, 425, 55, 111, 31, 20, 23, 51, 36, 2, 42, 6], [5, 364, 9, 319, 126, 115, 238, 545, 68, 47, 28, 504, 3262, 3, 1552, 12, 555, 74, 31, 47, 179, 82, 89, 751, 2, 71, 4, 87, 18, 68, 36, 94, 12, 86, 57, 72, 39, 105, 328, 139, 38, 786, 738, 82, 89, 6], [5, 100, 291, 2, 10, 64, 45, 12, 104, 60, 61, 32, 291, 2, 697, 114, 3, 17, 45, 47, 8, 327, 142, 96, 8, 325, 470, 17, 97, 30, 32, 291, 340, 783, 106, 3, 8, 252, 28, 7, 64, 355, 15, 17, 154, 6], [5, 82, 785, 2, 52, 8, 122, 505, 3, 8, 3263, 505, 2, 46, 1043, 3, 1984, 2, 52, 8, 99, 64, 1139, 3, 574, 318, 7, 341, 109, 13, 134, 2, 52, 193, 5306, 12, 8, 72, 7, 652, 709, 8, 147, 719, 899, 193, 849, 39, 161, 39, 147, 5307, 3, 5308, 111, 183, 147, 5309, 20, 176, 11, 7, 1354, 7, 109, 254, 6], [5, 17, 45, 9, 929, 470, 3, 837, 1318, 2, 27, 188, 23, 267, 1270, 579, 4, 17, 3264, 1219, 3265, 13, 2263, 227, 99, 422, 11, 644, 333, 39, 79, 1133, 2, 10, 4, 155, 17, 743, 78, 201, 1057, 3, 49, 3266, 131, 236, 13, 7, 82, 1229, 3267, 6], [5, 98, 84, 2, 673, 19, 140, 1367, 129, 61, 138, 219, 19, 88, 199, 17, 498, 49, 8, 66, 74, 8, 807, 5310, 11, 26, 9, 13, 153, 237, 1044, 65, 9, 115, 114, 1616, 223, 193, 5311, 3, 69, 561, 266, 153, 106, 103, 5312, 50, 32, 5313, 16, 487, 6], [5, 2, 47, 179, 15, 26, 847, 60, 166, 2, 52, 43, 156, 8, 89, 254, 31, 2, 37, 142, 110, 23, 557, 4, 323, 139, 61, 2, 10, 8, 216, 106, 134, 2, 2761, 348, 10, 254, 3, 2, 148, 10, 8, 1674, 145, 109, 100, 145, 109, 318, 145, 109, 100, 400, 612, 7, 216, 106, 51, 113, 7, 1674, 5314, 2, 46, 8, 5315, 225, 37, 161, 85, 1114, 32, 9, 5316, 6], [5, 132, 605, 8, 606, 11, 1559, 582, 891, 15, 82, 116, 1365, 11, 1406, 3, 344, 472, 28, 1047, 2, 1231, 38, 8, 180, 151, 134, 1621, 391, 641, 781, 39, 7, 151, 3240, 2, 52, 8, 1282, 3, 403, 558, 182, 366, 134, 47, 69, 182, 17, 106, 2, 10, 52, 53, 44, 144, 400, 233, 2, 574, 99, 985, 3, 69, 118, 79, 3268, 11, 5318, 32, 291, 46, 985, 381, 2, 10, 53, 654, 149, 39, 239, 35, 2, 1251, 38, 539, 134, 2, 271, 49, 43, 1729, 2390, 249, 2, 10, 52, 108, 5319, 219, 618, 13, 17, 506, 66, 34, 48, 7, 2295, 11, 883, 12, 8, 218, 60, 35, 24, 1532, 103, 2, 116, 13, 3, 150, 3, 103, 2, 42, 40, 2, 10, 52, 474, 323, 114, 23, 401, 579, 34, 23, 401, 1862, 13, 17, 45, 69, 2, 10, 108, 366, 403, 3, 46, 146, 144, 633, 296, 61, 3, 110, 721, 2, 716, 671, 990, 26, 113, 32, 658, 34, 51, 2, 111, 10, 16, 111, 23, 96, 20, 539, 2, 447, 8, 325, 258, 7, 30, 5320, 323, 3, 94, 35, 17, 366, 2268, 167, 8, 325, 582, 418, 61, 3, 381, 6], [5, 42, 14, 10, 70, 661, 102, 223, 1068, 54, 2268, 28, 1834, 1409, 6], [5, 3, 2, 328, 4, 7, 1719, 139, 13, 1533, 28, 7, 1423, 16, 222, 35, 7, 30, 133, 3269, 1047, 25, 222, 15, 187, 555, 588, 4, 180, 13, 7, 781, 1348, 85, 918, 45, 3270, 3, 154, 588, 28, 641, 44, 3, 3271, 28, 1017, 6], [5, 179, 15, 219, 1127, 122, 28, 1551, 146, 226, 333, 15, 314, 61, 10, 3272, 149, 3, 40, 133, 243, 1162, 31, 323, 3, 94, 66, 645, 45, 645, 99, 832, 53, 955, 3, 579, 1406, 157, 735, 111, 32, 20, 7, 614, 11, 26, 561, 28, 6], [5, 2, 583, 31, 164, 205, 537, 12, 255, 29, 48, 567, 91, 12, 1103, 1208, 38, 163, 113, 32, 492, 743, 2209, 537, 69, 9, 187, 791, 255, 8, 91, 12, 1103, 1208, 16, 133, 78, 180, 2197, 11, 255, 124, 6], [5, 2, 46, 79, 1133, 35, 1812, 71, 17, 748, 3, 1075, 52, 79, 1173, 13, 1833, 263, 15, 21, 25, 1656, 34, 4, 454, 13, 887, 108, 825, 13, 282, 7, 140, 1094, 37, 1528, 51, 519, 27, 2, 80, 18, 743, 385, 203, 6], [5, 9, 23, 353, 4, 80, 646, 2235, 16, 238, 890, 18, 2, 10, 21, 25, 6], [5, 2, 10, 219, 145, 190, 31, 2, 270, 300, 4, 398, 35, 2, 1481, 15, 29, 17, 433, 147, 12, 1103, 1208, 15, 7, 57, 227, 13, 239, 8, 1529, 81, 23, 6], [5, 2, 155, 3273, 284, 12, 1440, 1053, 50, 32, 2246, 611, 3274, 4, 7, 86, 57, 6], [5, 82, 178, 195, 122, 2257, 52, 8, 180, 40, 299, 149, 3, 799, 563, 76, 47, 607, 13, 17, 66, 275, 70, 231, 28, 51, 4, 42, 15, 32, 21, 25, 6], [5, 2, 10, 26, 3, 17, 67, 49, 33, 28, 1280, 5321, 3, 5322, 13, 17, 5323, 233, 118, 8, 77, 2, 1909, 114, 2167, 193, 3, 2, 10, 32, 693, 109, 69, 2, 447, 28, 193, 1877, 3, 2781, 18, 31, 84, 20, 17, 420, 2, 135, 142, 13, 97, 1978, 6], [5, 2, 1240, 21, 25, 57, 2114, 305, 3275, 113, 23, 405, 362, 172, 538, 3276, 808, 903, 457, 90, 21, 25, 367, 538, 50, 20, 1458, 6], [5, 102, 42, 105, 3277, 562, 21, 3, 122, 17, 289, 171, 15, 8, 99, 64, 45, 82, 206, 3, 2, 913, 712, 4, 37, 153, 44, 419, 398, 387, 266, 7, 765, 99, 660, 4, 826, 566, 6], [5, 1670, 9, 21, 25, 204, 2, 52, 3278, 15, 202, 773, 29, 4, 112, 197, 3, 37, 59, 18, 563, 30, 2, 10, 53, 30, 9, 23, 158, 4, 3279, 4, 37, 59, 6], [5, 18, 137, 49, 43, 13, 73, 15, 8, 21, 25, 204, 177, 13, 7, 82, 921, 109, 35, 46, 1345, 51, 36, 137, 42, 4, 1080, 18, 7, 57, 49, 43, 16, 24, 1248, 385, 271, 23, 9, 1325, 4, 572, 889, 30, 1467, 6], [5, 50, 999, 1827, 518, 54, 102, 223, 27, 54, 455, 28, 1063, 527, 6], [5, 2, 46, 8, 3280, 178, 128, 606, 396, 52, 2265, 12, 7, 82, 847, 331, 165, 4, 3281, 1511, 3, 3282, 2228, 2, 46, 350, 267, 1258, 114, 12, 2253, 200, 2, 46, 28, 3283, 46, 2, 78, 984, 4, 54, 6], [5, 98, 458, 52, 8, 144, 107, 893, 222, 2, 10, 107, 171, 115, 3, 96, 385, 712, 4, 20, 971, 137, 109, 2, 50, 20, 167, 393, 3, 7, 341, 109, 139, 4, 167, 3284, 796, 11, 363, 326, 3, 99, 64, 45, 6], [5, 28, 1017, 781, 2, 795, 38, 8, 3285, 13, 1838, 3, 2, 380, 522, 7, 3286, 3287, 3288, 733, 4, 7, 875, 2, 46, 976, 4, 20, 13, 112, 175, 12, 235, 60, 27, 137, 1351, 8, 214, 3289, 12, 32, 38, 8, 67, 6], [5, 42, 2, 71, 4, 37, 59, 12, 21, 25, 597, 15, 8, 177, 127, 615, 38, 1838, 304, 1003, 126, 45, 35, 42, 24, 135, 156, 6], [5, 862, 674, 45, 53, 40, 111, 32, 20, 86, 74, 6], [5, 2, 271, 2, 10, 21, 25, 2, 10, 299, 149, 169, 11, 116, 1157, 13, 66, 64, 45, 3, 603, 44, 30, 10, 43, 3290, 3, 146, 1580, 182, 7, 82, 189, 60, 2, 52, 286, 242, 60, 166, 6], [5, 42, 2, 10, 54, 2, 10, 930, 618, 2, 409, 360, 211, 11, 7, 109, 233, 55, 2, 293, 10, 43, 13, 79, 2121, 1430, 2, 10, 521, 619, 1534, 930, 3, 3291, 93, 376, 2, 37, 59, 6], [5, 839, 21, 25, 9, 23, 353, 4, 94, 150, 13, 593, 336, 8, 569, 257, 28, 129, 61, 39, 223, 39, 7, 800, 3292, 834, 9, 2261, 46, 713, 18, 3293, 114, 1449, 3294, 10, 4, 37, 150, 11, 1118, 3, 846, 3295, 12, 816, 1839, 9, 353, 6], [5, 2, 10, 52, 64, 45, 3, 169, 11, 116, 363, 66, 107, 82, 751, 587, 60, 466, 3, 30, 29, 24, 292, 184, 53, 216, 106, 2, 10, 43, 332, 4, 3296, 36, 2, 94, 12, 21, 72, 6], [5, 17, 1768, 47, 454, 13, 7, 160, 12, 224, 8, 3297, 194, 60, 166, 233, 101, 173, 382, 170, 174, 3, 373, 31, 153, 3297, 47, 146, 226, 3, 52, 387, 4, 153, 237, 130, 3, 47, 69, 13, 153, 129, 1138, 318, 101, 69, 173, 8, 415, 28, 7, 1072, 31, 5325, 43, 115, 114, 150, 11, 153, 275, 3, 249, 101, 448, 407, 65, 49, 3298, 13, 153, 275, 102, 970, 9, 32, 3, 51, 36, 20, 173, 6], [5, 2, 10, 8, 774, 366, 3, 108, 326, 71, 4, 357, 395, 21, 30, 138, 6], [5, 2, 46, 319, 8, 64, 45, 44, 151, 3, 115, 2, 10, 8, 252, 11, 8, 216, 106, 422, 116, 35, 133, 38, 120, 4, 120, 2, 10, 380, 28, 7, 3299, 3300, 4, 3301, 893, 1617, 222, 491, 2, 271, 23, 293, 20, 536, 4, 42, 8, 21, 25, 6], [5, 154, 588, 3, 44, 470, 862, 45, 6], [5, 81, 247, 157, 166, 2, 47, 179, 15, 1863, 13, 129, 130, 3, 5326, 13, 7, 237, 130, 2, 47, 13, 5327, 160, 12, 847, 60, 2, 46, 28, 5328, 11, 5329, 534, 109, 17, 193, 2803, 29, 3204, 5330, 48, 104, 1452, 233, 2, 52, 8, 252, 11, 506, 139, 93, 3, 249, 23, 9, 562, 17, 619, 2393, 575, 28, 17, 129, 355, 23, 645, 17, 139, 4, 644, 2468, 3, 1688, 96, 64, 723, 16, 111, 23, 20, 417, 488, 15, 7, 193, 2968, 2, 2951, 4, 5331, 245, 7, 67, 18, 23, 9, 745, 2, 117, 14, 27, 95, 124, 6], [5, 98, 2, 10, 43, 10, 8, 64, 45, 12, 579, 8, 89, 61, 682, 3302, 15, 428, 3, 1840, 3303, 2266, 3304, 428, 287, 15, 1840, 428, 15, 1596, 61, 2, 148, 10, 8, 64, 45, 3, 674, 28, 17, 66, 6], [5, 18, 826, 9, 490, 191, 28, 3305, 51, 566, 27, 2, 155, 4, 414, 476, 38, 7, 54, 6], [5, 18, 2, 525, 15, 8, 470, 45, 42, 2, 3306, 112, 197, 16, 42, 2, 572, 12, 78, 30, 12, 54, 6], [5, 17, 364, 9, 131, 3, 8, 1062, 49, 52, 26, 503, 3, 9, 350, 267, 253, 15, 3307, 748, 5332, 5333, 5334, 3, 5335, 83, 66, 74, 637, 1479, 2789, 3, 83, 5336, 9, 191, 68, 2728, 11, 66, 618, 51, 9, 7, 215, 283, 4, 37, 83, 253, 3, 897, 68, 49, 624, 3307, 12, 182, 189, 331, 61, 3, 23, 49, 8, 5337, 3, 31, 84, 10, 355, 814, 35, 7, 67, 990, 68, 376, 10, 23, 4, 678, 7, 74, 35, 31, 1479, 513, 451, 6], [5, 319, 93, 3, 1442, 1443, 85, 3308, 4, 7, 427, 15, 8, 837, 2234, 305, 17, 1534, 69, 319, 154, 316, 51, 111, 20, 7, 420, 6], [5, 17, 707, 314, 29, 3309, 13, 7, 341, 89, 3, 2, 860, 37, 13, 4, 188, 17, 3310, 6], [5, 36, 2, 3311, 13, 8, 3312, 257, 4, 414, 476, 38, 21, 25, 2, 87, 8, 327, 11, 164, 358, 542, 13, 3313, 1067, 3, 101, 714, 1605, 3314, 6], [5, 98, 82, 206, 2, 269, 4, 2956, 2, 676, 7, 634, 543, 17, 67, 2, 293, 10, 1227, 65, 1746, 333, 3229, 561, 4, 188, 33, 3, 103, 2, 237, 2435, 3, 5338, 4, 153, 502, 65, 540, 33, 314, 31, 84, 5339, 2464, 15, 7, 314, 212, 205, 36, 2, 20, 280, 36, 551, 8, 456, 67, 9, 32, 250, 283, 4, 330, 19, 279, 65, 47, 7, 67, 28, 143, 82, 206, 6], [5, 17, 498, 404, 1154, 9, 167, 1392, 28, 153, 3315, 3, 139, 313, 7, 276, 11, 202, 9, 428, 350, 987, 82, 89, 47, 179, 15, 26, 52, 8, 322, 82, 89, 103, 65, 47, 55, 144, 2945, 348, 37, 428, 55, 105, 269, 4, 7, 160, 65, 990, 65, 9, 167, 393, 3, 467, 643, 4, 203, 1402, 113, 5340, 203, 538, 28, 8, 259, 1175, 36, 2, 20, 280, 5341, 31, 720, 11, 202, 467, 1392, 333, 103, 419, 5342, 12, 79, 1391, 16, 242, 124, 55, 221, 6], [5, 2, 10, 108, 972, 1841, 28, 211, 11, 17, 638, 35, 251, 862, 3316, 3317, 3, 251, 1256, 1815, 211, 164, 1648, 4, 305, 304, 3318, 612, 9, 23, 3319, 55, 221, 211, 11, 90, 51, 9, 7, 215, 283, 4, 330, 1841, 48, 75, 6], [5, 98, 17, 590, 9, 1437, 186, 11, 404, 68, 552, 610, 70, 290, 656, 12, 119, 13, 222, 103, 68, 1397, 83, 5344, 11, 5345, 81, 189, 157, 139, 68, 269, 4, 8, 67, 12, 8, 40, 127, 5346, 83, 68, 52, 5347, 3, 446, 83, 8, 261, 11, 5348, 31, 68, 52, 4, 80, 503, 8, 109, 110, 31, 206, 68, 225, 5349, 5350, 341, 109, 68, 269, 4, 382, 67, 127, 843, 83, 4, 160, 373, 68, 52, 3263, 5351, 43, 13, 961, 703, 107, 68, 365, 287, 13, 83, 275, 83, 1740, 3, 1292, 52, 5352, 4, 203, 503, 61, 3, 68, 10, 74, 13, 83, 723, 860, 1071, 784, 1481, 4, 5353, 6], [5, 100, 1107, 2, 378, 865, 8, 3320, 3321, 498, 1441, 13, 7, 260, 635, 39, 8, 421, 21, 282, 242, 60, 118, 7, 434, 2, 1761, 507, 1785, 146, 8, 64, 45, 44, 3, 167, 377, 36, 2, 37, 59, 6], [5, 18, 212, 24, 213, 18, 2, 10, 442, 16, 54, 16, 417, 566, 36, 2, 148, 92, 75, 6], [5, 27, 819, 162, 719, 1918, 28, 894, 6], [5, 10, 583, 21, 25, 910, 3322, 108, 2260, 39, 3323, 31, 105, 50, 188, 78, 421, 375, 39, 78, 386, 29, 1407, 35, 7, 856, 493, 36, 1634, 39, 31, 1799, 70, 614, 11, 31, 436, 6], [5, 98, 2, 41, 34, 4, 87, 297, 4, 37, 59, 12, 21, 25, 2, 203, 13, 8, 143, 1066, 3, 137, 1819, 47, 421, 4, 10, 59, 204, 3, 2, 148, 52, 73, 15, 83, 397, 1266, 3, 83, 82, 736, 254, 2, 798, 83, 4, 7, 67, 12, 8, 357, 6]]\n"
          ]
        }
      ],
      "source": [
        "# Changed\n",
        "all_patient_ques_test = tokenizer.texts_to_sequences(all_patient_ques_test)\n",
        "patient_ques_test = tokenizer.texts_to_sequences(patient_ques_test)\n",
        "docter_ans_test = tokenizer.texts_to_sequences(docter_ans_test)\n",
        "\n",
        "print(\"Sequences = \" , patient_ques_test)"
      ]
    },
    {
      "cell_type": "code",
      "execution_count": 12,
      "metadata": {
        "id": "bFUpaUkzKH40"
      },
      "outputs": [],
      "source": [
        "segmented_embedding = []\n",
        "sep_token_id = tokenizer.word_index['sep']\n",
        "for sequence in all_patient_ques:\n",
        "    segment_ids = []\n",
        "    current_segment_id = 1\n",
        "    for token_id in sequence:\n",
        "        segment_ids.append(current_segment_id)\n",
        "        if token_id == sep_token_id:\n",
        "            current_segment_id = 2\n",
        "    segmented_embedding.append(segment_ids)"
      ]
    },
    {
      "cell_type": "code",
      "execution_count": 13,
      "metadata": {},
      "outputs": [],
      "source": [
        "# Changed\n",
        "segmented_embedding_test = []\n",
        "sep_token_id = tokenizer.word_index['sep']\n",
        "for sequence in all_patient_ques_test:\n",
        "    segment_ids = []\n",
        "    current_segment_id = 1\n",
        "    for token_id in sequence:\n",
        "        segment_ids.append(current_segment_id)\n",
        "        if token_id == sep_token_id:\n",
        "            current_segment_id = 2\n",
        "    segmented_embedding_test.append(segment_ids)"
      ]
    },
    {
      "cell_type": "markdown",
      "metadata": {},
      "source": [
        "# Initialize Dataloader"
      ]
    },
    {
      "cell_type": "code",
      "execution_count": 14,
      "metadata": {
        "id": "0xWtwCeQP221"
      },
      "outputs": [],
      "source": [
        "# Create train dataset and dataloader\n",
        "\n",
        "from torch.utils.data import DataLoader\n",
        "from src.Datasets import ConversationDataset\n",
        "\n",
        "batch_size = 32  # Define the batch size\n",
        "pat_qus = torch.tensor(pad_sequences(all_patient_ques, padding='post'))\n",
        "doc_ans = torch.tensor(pad_sequences(docter_ans, padding='post'))\n",
        "seg_emb = torch.tensor(pad_sequences(segmented_embedding, padding='post'))\n",
        "\n",
        "conversation_dataset = ConversationDataset(pat_qus, doc_ans, seg_emb)\n",
        "conversation_dataloader = DataLoader(conversation_dataset, batch_size=batch_size, shuffle=True)"
      ]
    },
    {
      "cell_type": "code",
      "execution_count": 15,
      "metadata": {},
      "outputs": [],
      "source": [
        "# Create test dataset and dataloader # Changed\n",
        "pat_qus_test = torch.tensor(pad_sequences(all_patient_ques_test, padding='post'))\n",
        "doc_ans_test = torch.tensor(pad_sequences(docter_ans_test, padding='post'))\n",
        "seg_emb_test = torch.tensor(pad_sequences(segmented_embedding_test, padding='post'))\n",
        "conversation_dataset_test = ConversationDataset(pat_qus_test, doc_ans_test, seg_emb_test)\n",
        "conversation_dataloader_test = DataLoader(conversation_dataset_test, batch_size=batch_size, shuffle=False)"
      ]
    },
    {
      "cell_type": "markdown",
      "metadata": {},
      "source": [
        "# Initialize BERT"
      ]
    },
    {
      "cell_type": "code",
      "execution_count": 16,
      "metadata": {
        "colab": {
          "base_uri": "https://localhost:8080/"
        },
        "id": "Rw4iW6QA-xxH",
        "outputId": "a7a852de-73bb-4221-c11d-86bd86b6ccea"
      },
      "outputs": [
        {
          "name": "stdout",
          "output_type": "stream",
          "text": [
            "torch.Size([32, 413])\n",
            "torch.Size([32, 212])\n",
            "torch.Size([32, 413])\n"
          ]
        },
        {
          "data": {
            "text/plain": [
              "torch.Size([32, 212, 5447])"
            ]
          },
          "execution_count": 16,
          "metadata": {},
          "output_type": "execute_result"
        }
      ],
      "source": [
        "# Initialize the model\n",
        " \n",
        "from src.BERT import BERT\n",
        "\n",
        "model = BERT(num_embeddings=len(tokenizer.word_index)+10).to(device)\n",
        "\n",
        "for i, data in enumerate(conversation_dataloader):\n",
        "    patient_questions = data['patient_question'].to(device)\n",
        "    doctor_answers = data['doctor_answer'].to(device)\n",
        "    segment_embeddings = data['segment_embedding'].to(device)\n",
        "    break   # Changed\n",
        "\n",
        "print(patient_questions.shape)\n",
        "print(doctor_answers.shape)\n",
        "print(segment_embeddings.shape)\n",
        "\n",
        "output = model(patient_questions, segment_embeddings)[:,201:,:]\n",
        "\n",
        "output.shape"
      ]
    },
    {
      "cell_type": "markdown",
      "metadata": {},
      "source": [
        "# Define Loss and Optimizer"
      ]
    },
    {
      "cell_type": "code",
      "execution_count": 17,
      "metadata": {},
      "outputs": [],
      "source": [
        "# Define loss function and optimizer\n",
        "\n",
        "from torch.nn import CrossEntropyLoss\n",
        "from torch.optim import AdamW\n",
        "\n",
        "loss_function = CrossEntropyLoss()\n",
        "optimizer = AdamW(model.parameters(), lr=0.001)\n"
      ]
    },
    {
      "cell_type": "code",
      "execution_count": 18,
      "metadata": {},
      "outputs": [],
      "source": [
        "def array_to_str(arr, vocab):\n",
        "    return \" \".join(vocab[a] for a in arr)\n",
        "    \n",
        "    \n",
        "def make_generation_text(inp, pred):\n",
        "    outputs = u\"\"\n",
        "    for i in range(len(inp)):\n",
        "        outputs += u\"Input | Output #{}: {} | {}\\n\".format(i, inp[i], pred[i])\n",
        "    return outputs"
      ]
    },
    {
      "cell_type": "markdown",
      "metadata": {},
      "source": [
        "# Train"
      ]
    },
    {
      "cell_type": "code",
      "execution_count": 19,
      "metadata": {
        "colab": {
          "base_uri": "https://localhost:8080/"
        },
        "id": "PZ9YFYPj7cq2",
        "outputId": "d1cab7dc-d6a8-46b9-bd03-f4ed3311baec"
      },
      "outputs": [
        {
          "name": "stderr",
          "output_type": "stream",
          "text": [
            "Train:   6%|▌         | 1/17 [00:00<00:03,  4.51it/s, loss=0.2846]"
          ]
        },
        {
          "name": "stderr",
          "output_type": "stream",
          "text": [
            "                                                                   \r"
          ]
        },
        {
          "name": "stdout",
          "output_type": "stream",
          "text": [
            "Epoch 1/100, Train Loss: 2.862954048549428\n"
          ]
        },
        {
          "name": "stderr",
          "output_type": "stream",
          "text": [
            "                                                                \r"
          ]
        },
        {
          "name": "stdout",
          "output_type": "stream",
          "text": [
            "Patient      : ['sos hi i’ve had a cold since 13 march i have since started coughing and just don’t seem to be recovering one day i will be feeling fine and the next day back to feeling terrible lots of tight phlegm and very sore throat eos sep sos hi i’ve had a cold since 13 march i have since started coughing and just don’t seem to be recovering one day i will be feeling fine and the next day back to feeling terrible lots of tight phlegm and very sore throat eos']\n",
            "Doctor(targ) : ['sos in brief too soon to recover on aveage viral respiratory illnesses may take 2 3 weeks for full recovery and severe cases may take 4 6 weeks if your symptoms worsen you should contact your health care provider to inquire regarding corona virus testing or quarantine would you like to video or text chat with me eos']\n",
            "Doctor(pred) : ['']\n",
            "Loss :  tensor(3.3599, device='cuda:1')\n",
            "Epoch 1/100, Test  Loss: 3.934788703918457\n",
            "===============================================\n"
          ]
        },
        {
          "name": "stderr",
          "output_type": "stream",
          "text": [
            "                                                                   \r"
          ]
        },
        {
          "name": "stdout",
          "output_type": "stream",
          "text": [
            "Epoch 2/100, Train Loss: 2.1044073315227734\n"
          ]
        },
        {
          "name": "stderr",
          "output_type": "stream",
          "text": [
            "                                                                \r"
          ]
        },
        {
          "name": "stdout",
          "output_type": "stream",
          "text": [
            "Epoch 2/100, Test  Loss: 3.868319034576416\n",
            "===============================================\n"
          ]
        },
        {
          "name": "stderr",
          "output_type": "stream",
          "text": [
            "                                                                   \r"
          ]
        },
        {
          "name": "stdout",
          "output_type": "stream",
          "text": [
            "Epoch 3/100, Train Loss: 2.0157495246214023\n"
          ]
        },
        {
          "name": "stderr",
          "output_type": "stream",
          "text": [
            "                                                                \r"
          ]
        },
        {
          "name": "stdout",
          "output_type": "stream",
          "text": [
            "Epoch 3/100, Test  Loss: 3.8987417221069336\n",
            "===============================================\n"
          ]
        },
        {
          "name": "stderr",
          "output_type": "stream",
          "text": [
            "                                                                   \r"
          ]
        },
        {
          "name": "stdout",
          "output_type": "stream",
          "text": [
            "Epoch 4/100, Train Loss: 1.9816755126504337\n"
          ]
        },
        {
          "name": "stderr",
          "output_type": "stream",
          "text": [
            "                                                                \r"
          ]
        },
        {
          "name": "stdout",
          "output_type": "stream",
          "text": [
            "Epoch 4/100, Test  Loss: 3.8084763288497925\n",
            "===============================================\n"
          ]
        },
        {
          "name": "stderr",
          "output_type": "stream",
          "text": [
            "                                                                   \r"
          ]
        },
        {
          "name": "stdout",
          "output_type": "stream",
          "text": [
            "Epoch 5/100, Train Loss: 1.9627433384166044\n"
          ]
        },
        {
          "name": "stderr",
          "output_type": "stream",
          "text": [
            "                                                                \r"
          ]
        },
        {
          "name": "stdout",
          "output_type": "stream",
          "text": [
            "Epoch 5/100, Test  Loss: 3.8917282819747925\n",
            "===============================================\n"
          ]
        },
        {
          "name": "stderr",
          "output_type": "stream",
          "text": [
            "                                                                   \r"
          ]
        },
        {
          "name": "stdout",
          "output_type": "stream",
          "text": [
            "Epoch 6/100, Train Loss: 1.9609060638091143\n"
          ]
        },
        {
          "name": "stderr",
          "output_type": "stream",
          "text": [
            "                                                                \r"
          ]
        },
        {
          "name": "stdout",
          "output_type": "stream",
          "text": [
            "Epoch 6/100, Test  Loss: 3.797364830970764\n",
            "===============================================\n"
          ]
        },
        {
          "name": "stderr",
          "output_type": "stream",
          "text": [
            "                                                                   \r"
          ]
        },
        {
          "name": "stdout",
          "output_type": "stream",
          "text": [
            "Epoch 7/100, Train Loss: 1.9407593923456528\n"
          ]
        },
        {
          "name": "stderr",
          "output_type": "stream",
          "text": [
            "                                                                \r"
          ]
        },
        {
          "name": "stdout",
          "output_type": "stream",
          "text": [
            "Epoch 7/100, Test  Loss: 3.8131415843963623\n",
            "===============================================\n"
          ]
        },
        {
          "name": "stderr",
          "output_type": "stream",
          "text": [
            "                                                                   \r"
          ]
        },
        {
          "name": "stdout",
          "output_type": "stream",
          "text": [
            "Epoch 8/100, Train Loss: 1.9198702223160689\n"
          ]
        },
        {
          "name": "stderr",
          "output_type": "stream",
          "text": [
            "                                                                \r"
          ]
        },
        {
          "name": "stdout",
          "output_type": "stream",
          "text": [
            "Epoch 8/100, Test  Loss: 3.8036324977874756\n",
            "===============================================\n"
          ]
        },
        {
          "name": "stderr",
          "output_type": "stream",
          "text": [
            "                                                                   \r"
          ]
        },
        {
          "name": "stdout",
          "output_type": "stream",
          "text": [
            "Epoch 9/100, Train Loss: 1.9038402262855978\n"
          ]
        },
        {
          "name": "stderr",
          "output_type": "stream",
          "text": [
            "                                                                \r"
          ]
        },
        {
          "name": "stdout",
          "output_type": "stream",
          "text": [
            "Epoch 9/100, Test  Loss: 3.8372061252593994\n",
            "===============================================\n"
          ]
        },
        {
          "name": "stderr",
          "output_type": "stream",
          "text": [
            "                                                                   \r"
          ]
        },
        {
          "name": "stdout",
          "output_type": "stream",
          "text": [
            "Epoch 10/100, Train Loss: 1.889623480684617\n"
          ]
        },
        {
          "name": "stderr",
          "output_type": "stream",
          "text": [
            "                                                                \r"
          ]
        },
        {
          "name": "stdout",
          "output_type": "stream",
          "text": [
            "Epoch 10/100, Test  Loss: 3.790290355682373\n",
            "===============================================\n"
          ]
        },
        {
          "name": "stderr",
          "output_type": "stream",
          "text": [
            "                                                                   \r"
          ]
        },
        {
          "name": "stdout",
          "output_type": "stream",
          "text": [
            "Epoch 11/100, Train Loss: 1.8579102474100448\n"
          ]
        },
        {
          "name": "stderr",
          "output_type": "stream",
          "text": [
            "                                                                \r"
          ]
        },
        {
          "name": "stdout",
          "output_type": "stream",
          "text": [
            "Patient      : ['sos hi i’ve had a cold since 13 march i have since started coughing and just don’t seem to be recovering one day i will be feeling fine and the next day back to feeling terrible lots of tight phlegm and very sore throat eos sep sos hi i’ve had a cold since 13 march i have since started coughing and just don’t seem to be recovering one day i will be feeling fine and the next day back to feeling terrible lots of tight phlegm and very sore throat eos']\n",
            "Doctor(targ) : ['sos in brief too soon to recover on aveage viral respiratory illnesses may take 2 3 weeks for full recovery and severe cases may take 4 6 weeks if your symptoms worsen you should contact your health care provider to inquire regarding corona virus testing or quarantine would you like to video or text chat with me eos']\n",
            "Doctor(pred) : ['sos in in brief a you you you you you you you you you']\n",
            "Loss :  tensor(3.2124, device='cuda:1')\n",
            "Epoch 11/100, Test  Loss: 3.729385256767273\n",
            "===============================================\n"
          ]
        },
        {
          "name": "stderr",
          "output_type": "stream",
          "text": [
            "                                                                   \r"
          ]
        },
        {
          "name": "stdout",
          "output_type": "stream",
          "text": [
            "Epoch 12/100, Train Loss: 1.8209072000840132\n"
          ]
        },
        {
          "name": "stderr",
          "output_type": "stream",
          "text": [
            "                                                                \r"
          ]
        },
        {
          "name": "stdout",
          "output_type": "stream",
          "text": [
            "Epoch 12/100, Test  Loss: 3.756202220916748\n",
            "===============================================\n"
          ]
        },
        {
          "name": "stderr",
          "output_type": "stream",
          "text": [
            "                                                                   \r"
          ]
        },
        {
          "name": "stdout",
          "output_type": "stream",
          "text": [
            "Epoch 13/100, Train Loss: 1.7801890092737533\n"
          ]
        },
        {
          "name": "stderr",
          "output_type": "stream",
          "text": [
            "                                                                \r"
          ]
        },
        {
          "name": "stdout",
          "output_type": "stream",
          "text": [
            "Epoch 13/100, Test  Loss: 3.742110848426819\n",
            "===============================================\n"
          ]
        },
        {
          "name": "stderr",
          "output_type": "stream",
          "text": [
            "                                                                   \r"
          ]
        },
        {
          "name": "stdout",
          "output_type": "stream",
          "text": [
            "Epoch 14/100, Train Loss: 1.7448729206533993\n"
          ]
        },
        {
          "name": "stderr",
          "output_type": "stream",
          "text": [
            "                                                                \r"
          ]
        },
        {
          "name": "stdout",
          "output_type": "stream",
          "text": [
            "Epoch 14/100, Test  Loss: 3.7712749242782593\n",
            "===============================================\n"
          ]
        },
        {
          "name": "stderr",
          "output_type": "stream",
          "text": [
            "                                                                   \r"
          ]
        },
        {
          "name": "stdout",
          "output_type": "stream",
          "text": [
            "Epoch 15/100, Train Loss: 1.6993543961468864\n"
          ]
        },
        {
          "name": "stderr",
          "output_type": "stream",
          "text": [
            "                                                                \r"
          ]
        },
        {
          "name": "stdout",
          "output_type": "stream",
          "text": [
            "Epoch 15/100, Test  Loss: 3.783121943473816\n",
            "===============================================\n"
          ]
        },
        {
          "name": "stderr",
          "output_type": "stream",
          "text": [
            "                                                                   \r"
          ]
        },
        {
          "name": "stdout",
          "output_type": "stream",
          "text": [
            "Epoch 16/100, Train Loss: 1.660002680385814\n"
          ]
        },
        {
          "name": "stderr",
          "output_type": "stream",
          "text": [
            "                                                                \r"
          ]
        },
        {
          "name": "stdout",
          "output_type": "stream",
          "text": [
            "Epoch 16/100, Test  Loss: 3.7852814197540283\n",
            "===============================================\n"
          ]
        },
        {
          "name": "stderr",
          "output_type": "stream",
          "text": [
            "                                                                   \r"
          ]
        },
        {
          "name": "stdout",
          "output_type": "stream",
          "text": [
            "Epoch 17/100, Train Loss: 1.630450445062974\n"
          ]
        },
        {
          "name": "stderr",
          "output_type": "stream",
          "text": [
            "                                                                \r"
          ]
        },
        {
          "name": "stdout",
          "output_type": "stream",
          "text": [
            "Epoch 17/100, Test  Loss: 3.8055721521377563\n",
            "===============================================\n"
          ]
        },
        {
          "name": "stderr",
          "output_type": "stream",
          "text": [
            "                                                                   \r"
          ]
        },
        {
          "name": "stdout",
          "output_type": "stream",
          "text": [
            "Epoch 18/100, Train Loss: 1.5833173639634077\n"
          ]
        },
        {
          "name": "stderr",
          "output_type": "stream",
          "text": [
            "                                                                \r"
          ]
        },
        {
          "name": "stdout",
          "output_type": "stream",
          "text": [
            "Epoch 18/100, Test  Loss: 3.8275935649871826\n",
            "===============================================\n"
          ]
        },
        {
          "name": "stderr",
          "output_type": "stream",
          "text": [
            "                                                                   \r"
          ]
        },
        {
          "name": "stdout",
          "output_type": "stream",
          "text": [
            "Epoch 19/100, Train Loss: 1.542326758889591\n"
          ]
        },
        {
          "name": "stderr",
          "output_type": "stream",
          "text": [
            "                                                                \r"
          ]
        },
        {
          "name": "stdout",
          "output_type": "stream",
          "text": [
            "Epoch 19/100, Test  Loss: 3.840625047683716\n",
            "===============================================\n"
          ]
        },
        {
          "name": "stderr",
          "output_type": "stream",
          "text": [
            "                                                                   \r"
          ]
        },
        {
          "name": "stdout",
          "output_type": "stream",
          "text": [
            "Epoch 20/100, Train Loss: 1.5006582666845882\n"
          ]
        },
        {
          "name": "stderr",
          "output_type": "stream",
          "text": [
            "                                                                \r"
          ]
        },
        {
          "name": "stdout",
          "output_type": "stream",
          "text": [
            "Epoch 20/100, Test  Loss: 3.862668037414551\n",
            "===============================================\n"
          ]
        },
        {
          "name": "stderr",
          "output_type": "stream",
          "text": [
            "                                                                   \r"
          ]
        },
        {
          "name": "stdout",
          "output_type": "stream",
          "text": [
            "Epoch 21/100, Train Loss: 1.4564458622651941\n"
          ]
        },
        {
          "name": "stderr",
          "output_type": "stream",
          "text": [
            "                                                                \r"
          ]
        },
        {
          "name": "stdout",
          "output_type": "stream",
          "text": [
            "Patient      : ['sos hi i’ve had a cold since 13 march i have since started coughing and just don’t seem to be recovering one day i will be feeling fine and the next day back to feeling terrible lots of tight phlegm and very sore throat eos sep sos hi i’ve had a cold since 13 march i have since started coughing and just don’t seem to be recovering one day i will be feeling fine and the next day back to feeling terrible lots of tight phlegm and very sore throat eos']\n",
            "Doctor(targ) : ['sos in brief too soon to recover on aveage viral respiratory illnesses may take 2 3 weeks for full recovery and severe cases may take 4 6 weeks if your symptoms worsen you should contact your health care provider to inquire regarding corona virus testing or quarantine would you like to video or text chat with me eos']\n",
            "Doctor(pred) : ['sos in brief you you you you you you you you you you you']\n",
            "Loss :  tensor(3.4307, device='cuda:1')\n",
            "Epoch 21/100, Test  Loss: 3.9480475187301636\n",
            "===============================================\n"
          ]
        },
        {
          "name": "stderr",
          "output_type": "stream",
          "text": [
            "                                                                   \r"
          ]
        },
        {
          "name": "stdout",
          "output_type": "stream",
          "text": [
            "Epoch 22/100, Train Loss: 1.4224149339339311\n"
          ]
        },
        {
          "name": "stderr",
          "output_type": "stream",
          "text": [
            "                                                                \r"
          ]
        },
        {
          "name": "stdout",
          "output_type": "stream",
          "text": [
            "Epoch 22/100, Test  Loss: 3.9088815450668335\n",
            "===============================================\n"
          ]
        },
        {
          "name": "stderr",
          "output_type": "stream",
          "text": [
            "                                                                   \r"
          ]
        },
        {
          "name": "stdout",
          "output_type": "stream",
          "text": [
            "Epoch 23/100, Train Loss: 1.3660178955863505\n"
          ]
        },
        {
          "name": "stderr",
          "output_type": "stream",
          "text": [
            "                                                                \r"
          ]
        },
        {
          "name": "stdout",
          "output_type": "stream",
          "text": [
            "Epoch 23/100, Test  Loss: 4.024857521057129\n",
            "===============================================\n"
          ]
        },
        {
          "name": "stderr",
          "output_type": "stream",
          "text": [
            "                                                                   \r"
          ]
        },
        {
          "name": "stdout",
          "output_type": "stream",
          "text": [
            "Epoch 24/100, Train Loss: 1.3235461431391098\n"
          ]
        },
        {
          "name": "stderr",
          "output_type": "stream",
          "text": [
            "                                                                \r"
          ]
        },
        {
          "name": "stdout",
          "output_type": "stream",
          "text": [
            "Epoch 24/100, Test  Loss: 4.098858594894409\n",
            "===============================================\n"
          ]
        },
        {
          "name": "stderr",
          "output_type": "stream",
          "text": [
            "                                                                   \r"
          ]
        },
        {
          "name": "stdout",
          "output_type": "stream",
          "text": [
            "Epoch 25/100, Train Loss: 1.271337074391982\n"
          ]
        },
        {
          "name": "stderr",
          "output_type": "stream",
          "text": [
            "                                                                \r"
          ]
        },
        {
          "name": "stdout",
          "output_type": "stream",
          "text": [
            "Epoch 25/100, Test  Loss: 4.128308892250061\n",
            "===============================================\n"
          ]
        },
        {
          "name": "stderr",
          "output_type": "stream",
          "text": [
            "                                                                   \r"
          ]
        },
        {
          "name": "stdout",
          "output_type": "stream",
          "text": [
            "Epoch 26/100, Train Loss: 1.2241190812167\n"
          ]
        },
        {
          "name": "stderr",
          "output_type": "stream",
          "text": [
            "                                                                \r"
          ]
        },
        {
          "name": "stdout",
          "output_type": "stream",
          "text": [
            "Epoch 26/100, Test  Loss: 4.1834694147109985\n",
            "===============================================\n"
          ]
        },
        {
          "name": "stderr",
          "output_type": "stream",
          "text": [
            "                                                                   \r"
          ]
        },
        {
          "name": "stdout",
          "output_type": "stream",
          "text": [
            "Epoch 27/100, Train Loss: 1.1668761267381556\n"
          ]
        },
        {
          "name": "stderr",
          "output_type": "stream",
          "text": [
            "                                                                \r"
          ]
        },
        {
          "name": "stdout",
          "output_type": "stream",
          "text": [
            "Epoch 27/100, Test  Loss: 4.384503364562988\n",
            "===============================================\n"
          ]
        },
        {
          "name": "stderr",
          "output_type": "stream",
          "text": [
            "                                                                   \r"
          ]
        },
        {
          "name": "stdout",
          "output_type": "stream",
          "text": [
            "Epoch 28/100, Train Loss: 1.1369433017338024\n"
          ]
        },
        {
          "name": "stderr",
          "output_type": "stream",
          "text": [
            "                                                                \r"
          ]
        },
        {
          "name": "stdout",
          "output_type": "stream",
          "text": [
            "Epoch 28/100, Test  Loss: 4.494804382324219\n",
            "===============================================\n"
          ]
        },
        {
          "name": "stderr",
          "output_type": "stream",
          "text": [
            "                                                                   \r"
          ]
        },
        {
          "name": "stdout",
          "output_type": "stream",
          "text": [
            "Epoch 29/100, Train Loss: 1.101468801498413\n"
          ]
        },
        {
          "name": "stderr",
          "output_type": "stream",
          "text": [
            "                                                                \r"
          ]
        },
        {
          "name": "stdout",
          "output_type": "stream",
          "text": [
            "Epoch 29/100, Test  Loss: 4.408562183380127\n",
            "===============================================\n"
          ]
        },
        {
          "name": "stderr",
          "output_type": "stream",
          "text": [
            "                                                                   \r"
          ]
        },
        {
          "name": "stdout",
          "output_type": "stream",
          "text": [
            "Epoch 30/100, Train Loss: 1.0172152904903187\n"
          ]
        },
        {
          "name": "stderr",
          "output_type": "stream",
          "text": [
            "                                                                \r"
          ]
        },
        {
          "name": "stdout",
          "output_type": "stream",
          "text": [
            "Epoch 30/100, Test  Loss: 4.579537630081177\n",
            "===============================================\n"
          ]
        },
        {
          "name": "stderr",
          "output_type": "stream",
          "text": [
            "                                                                   \r"
          ]
        },
        {
          "name": "stdout",
          "output_type": "stream",
          "text": [
            "Epoch 31/100, Train Loss: 0.9999989341287052\n"
          ]
        },
        {
          "name": "stderr",
          "output_type": "stream",
          "text": [
            "                                                                \r"
          ]
        },
        {
          "name": "stdout",
          "output_type": "stream",
          "text": [
            "Patient      : ['sos hi i’ve had a cold since 13 march i have since started coughing and just don’t seem to be recovering one day i will be feeling fine and the next day back to feeling terrible lots of tight phlegm and very sore throat eos sep sos hi i’ve had a cold since 13 march i have since started coughing and just don’t seem to be recovering one day i will be feeling fine and the next day back to feeling terrible lots of tight phlegm and very sore throat eos']\n",
            "Doctor(targ) : ['sos in brief too soon to recover on aveage viral respiratory illnesses may take 2 3 weeks for full recovery and severe cases may take 4 6 weeks if your symptoms worsen you should contact your health care provider to inquire regarding corona virus testing or quarantine would you like to video or text chat with me eos']\n",
            "Doctor(pred) : ['sos in stay you you you he i a a a going the the']\n",
            "Loss :  tensor(4.0276, device='cuda:1')\n",
            "Epoch 31/100, Test  Loss: 4.728733062744141\n",
            "===============================================\n"
          ]
        },
        {
          "name": "stderr",
          "output_type": "stream",
          "text": [
            "                                                                   \r"
          ]
        },
        {
          "name": "stdout",
          "output_type": "stream",
          "text": [
            "Epoch 32/100, Train Loss: 0.9536053923999562\n"
          ]
        },
        {
          "name": "stderr",
          "output_type": "stream",
          "text": [
            "                                                                \r"
          ]
        },
        {
          "name": "stdout",
          "output_type": "stream",
          "text": [
            "Epoch 32/100, Test  Loss: 4.8242878913879395\n",
            "===============================================\n"
          ]
        },
        {
          "name": "stderr",
          "output_type": "stream",
          "text": [
            "                                                                   \r"
          ]
        },
        {
          "name": "stdout",
          "output_type": "stream",
          "text": [
            "Epoch 33/100, Train Loss: 0.9120773427626666\n"
          ]
        },
        {
          "name": "stderr",
          "output_type": "stream",
          "text": [
            "                                                                \r"
          ]
        },
        {
          "name": "stdout",
          "output_type": "stream",
          "text": [
            "Epoch 33/100, Test  Loss: 4.713752269744873\n",
            "===============================================\n"
          ]
        },
        {
          "name": "stderr",
          "output_type": "stream",
          "text": [
            "                                                                   \r"
          ]
        },
        {
          "name": "stdout",
          "output_type": "stream",
          "text": [
            "Epoch 34/100, Train Loss: 0.8560404602219077\n"
          ]
        },
        {
          "name": "stderr",
          "output_type": "stream",
          "text": [
            "                                                                \r"
          ]
        },
        {
          "name": "stdout",
          "output_type": "stream",
          "text": [
            "Epoch 34/100, Test  Loss: 4.913376331329346\n",
            "===============================================\n"
          ]
        },
        {
          "name": "stderr",
          "output_type": "stream",
          "text": [
            "                                                                   \r"
          ]
        },
        {
          "name": "stdout",
          "output_type": "stream",
          "text": [
            "Epoch 35/100, Train Loss: 0.8099840248332304\n"
          ]
        },
        {
          "name": "stderr",
          "output_type": "stream",
          "text": [
            "                                                                \r"
          ]
        },
        {
          "name": "stdout",
          "output_type": "stream",
          "text": [
            "Epoch 35/100, Test  Loss: 5.336226463317871\n",
            "===============================================\n"
          ]
        },
        {
          "name": "stderr",
          "output_type": "stream",
          "text": [
            "                                                                   \r"
          ]
        },
        {
          "name": "stdout",
          "output_type": "stream",
          "text": [
            "Epoch 36/100, Train Loss: 0.7714353694635279\n"
          ]
        },
        {
          "name": "stderr",
          "output_type": "stream",
          "text": [
            "                                                                \r"
          ]
        },
        {
          "name": "stdout",
          "output_type": "stream",
          "text": [
            "Epoch 36/100, Test  Loss: 5.155019998550415\n",
            "===============================================\n"
          ]
        },
        {
          "name": "stderr",
          "output_type": "stream",
          "text": [
            "                                                                   \r"
          ]
        },
        {
          "name": "stdout",
          "output_type": "stream",
          "text": [
            "Epoch 37/100, Train Loss: 0.7133417690501493\n"
          ]
        },
        {
          "name": "stderr",
          "output_type": "stream",
          "text": [
            "                                                                \r"
          ]
        },
        {
          "name": "stdout",
          "output_type": "stream",
          "text": [
            "Epoch 37/100, Test  Loss: 5.240106105804443\n",
            "===============================================\n"
          ]
        },
        {
          "name": "stderr",
          "output_type": "stream",
          "text": [
            "                                                                   \r"
          ]
        },
        {
          "name": "stdout",
          "output_type": "stream",
          "text": [
            "Epoch 38/100, Train Loss: 0.6654314959750456\n"
          ]
        },
        {
          "name": "stderr",
          "output_type": "stream",
          "text": [
            "                                                                \r"
          ]
        },
        {
          "name": "stdout",
          "output_type": "stream",
          "text": [
            "Epoch 38/100, Test  Loss: 5.481653928756714\n",
            "===============================================\n"
          ]
        },
        {
          "name": "stderr",
          "output_type": "stream",
          "text": [
            "                                                                   \r"
          ]
        },
        {
          "name": "stdout",
          "output_type": "stream",
          "text": [
            "Epoch 39/100, Train Loss: 0.6153707364026237\n"
          ]
        },
        {
          "name": "stderr",
          "output_type": "stream",
          "text": [
            "                                                                \r"
          ]
        },
        {
          "name": "stdout",
          "output_type": "stream",
          "text": [
            "Epoch 39/100, Test  Loss: 5.575286388397217\n",
            "===============================================\n"
          ]
        },
        {
          "name": "stderr",
          "output_type": "stream",
          "text": [
            "                                                                   \r"
          ]
        },
        {
          "name": "stdout",
          "output_type": "stream",
          "text": [
            "Epoch 40/100, Train Loss: 0.5749868803164538\n"
          ]
        },
        {
          "name": "stderr",
          "output_type": "stream",
          "text": [
            "                                                                \r"
          ]
        },
        {
          "name": "stdout",
          "output_type": "stream",
          "text": [
            "Epoch 40/100, Test  Loss: 5.732312917709351\n",
            "===============================================\n"
          ]
        },
        {
          "name": "stderr",
          "output_type": "stream",
          "text": [
            "                                                                   \r"
          ]
        },
        {
          "name": "stdout",
          "output_type": "stream",
          "text": [
            "Epoch 41/100, Train Loss: 0.5376482886426589\n"
          ]
        },
        {
          "name": "stderr",
          "output_type": "stream",
          "text": [
            "                                                                \r"
          ]
        },
        {
          "name": "stdout",
          "output_type": "stream",
          "text": [
            "Patient      : ['sos hi i’ve had a cold since 13 march i have since started coughing and just don’t seem to be recovering one day i will be feeling fine and the next day back to feeling terrible lots of tight phlegm and very sore throat eos sep sos hi i’ve had a cold since 13 march i have since started coughing and just don’t seem to be recovering one day i will be feeling fine and the next day back to feeling terrible lots of tight phlegm and very sore throat eos']\n",
            "Doctor(targ) : ['sos in brief too soon to recover on aveage viral respiratory illnesses may take 2 3 weeks for full recovery and severe cases may take 4 6 weeks if your symptoms worsen you should contact your health care provider to inquire regarding corona virus testing or quarantine would you like to video or text chat with me eos']\n",
            "Doctor(pred) : ['sos in stay you you home for for a your for to have fever for a']\n",
            "Loss :  tensor(4.2546, device='cuda:1')\n",
            "Epoch 41/100, Test  Loss: 5.793408393859863\n",
            "===============================================\n"
          ]
        },
        {
          "name": "stderr",
          "output_type": "stream",
          "text": [
            "                                                                   \r"
          ]
        },
        {
          "name": "stdout",
          "output_type": "stream",
          "text": [
            "Epoch 42/100, Train Loss: 0.5144402121796328\n"
          ]
        },
        {
          "name": "stderr",
          "output_type": "stream",
          "text": [
            "                                                                \r"
          ]
        },
        {
          "name": "stdout",
          "output_type": "stream",
          "text": [
            "Epoch 42/100, Test  Loss: 5.742697477340698\n",
            "===============================================\n"
          ]
        },
        {
          "name": "stderr",
          "output_type": "stream",
          "text": [
            "                                                                   \r"
          ]
        },
        {
          "name": "stdout",
          "output_type": "stream",
          "text": [
            "Epoch 43/100, Train Loss: 0.4822067215162165\n"
          ]
        },
        {
          "name": "stderr",
          "output_type": "stream",
          "text": [
            "                                                                \r"
          ]
        },
        {
          "name": "stdout",
          "output_type": "stream",
          "text": [
            "Epoch 43/100, Test  Loss: 5.968266248703003\n",
            "===============================================\n"
          ]
        },
        {
          "name": "stderr",
          "output_type": "stream",
          "text": [
            "                                                                   \r"
          ]
        },
        {
          "name": "stdout",
          "output_type": "stream",
          "text": [
            "Epoch 44/100, Train Loss: 0.5023911262259764\n"
          ]
        },
        {
          "name": "stderr",
          "output_type": "stream",
          "text": [
            "                                                                \r"
          ]
        },
        {
          "name": "stdout",
          "output_type": "stream",
          "text": [
            "Epoch 44/100, Test  Loss: 5.855884313583374\n",
            "===============================================\n"
          ]
        },
        {
          "name": "stderr",
          "output_type": "stream",
          "text": [
            "                                                                   \r"
          ]
        },
        {
          "name": "stdout",
          "output_type": "stream",
          "text": [
            "Epoch 45/100, Train Loss: 0.4748890995979309\n"
          ]
        },
        {
          "name": "stderr",
          "output_type": "stream",
          "text": [
            "                                                                \r"
          ]
        },
        {
          "name": "stdout",
          "output_type": "stream",
          "text": [
            "Epoch 45/100, Test  Loss: 5.980018854141235\n",
            "===============================================\n"
          ]
        },
        {
          "name": "stderr",
          "output_type": "stream",
          "text": [
            "                                                                   \r"
          ]
        },
        {
          "name": "stdout",
          "output_type": "stream",
          "text": [
            "Epoch 46/100, Train Loss: 0.41133638164576364\n"
          ]
        },
        {
          "name": "stderr",
          "output_type": "stream",
          "text": [
            "                                                                \r"
          ]
        },
        {
          "name": "stdout",
          "output_type": "stream",
          "text": [
            "Epoch 46/100, Test  Loss: 6.172399044036865\n",
            "===============================================\n"
          ]
        },
        {
          "name": "stderr",
          "output_type": "stream",
          "text": [
            "                                                                   \r"
          ]
        },
        {
          "name": "stdout",
          "output_type": "stream",
          "text": [
            "Epoch 47/100, Train Loss: 0.37082482436124015\n"
          ]
        },
        {
          "name": "stderr",
          "output_type": "stream",
          "text": [
            "                                                                \r"
          ]
        },
        {
          "name": "stdout",
          "output_type": "stream",
          "text": [
            "Epoch 47/100, Test  Loss: 6.27339506149292\n",
            "===============================================\n"
          ]
        },
        {
          "name": "stderr",
          "output_type": "stream",
          "text": [
            "                                                                   \r"
          ]
        },
        {
          "name": "stdout",
          "output_type": "stream",
          "text": [
            "Epoch 48/100, Train Loss: 0.3368011467597064\n"
          ]
        },
        {
          "name": "stderr",
          "output_type": "stream",
          "text": [
            "                                                                \r"
          ]
        },
        {
          "name": "stdout",
          "output_type": "stream",
          "text": [
            "Epoch 48/100, Test  Loss: 6.402116060256958\n",
            "===============================================\n"
          ]
        },
        {
          "name": "stderr",
          "output_type": "stream",
          "text": [
            "                                                                   \r"
          ]
        },
        {
          "name": "stdout",
          "output_type": "stream",
          "text": [
            "Epoch 49/100, Train Loss: 0.3115317225456238\n"
          ]
        },
        {
          "name": "stderr",
          "output_type": "stream",
          "text": [
            "                                                                \r"
          ]
        },
        {
          "name": "stdout",
          "output_type": "stream",
          "text": [
            "Epoch 49/100, Test  Loss: 6.394292593002319\n",
            "===============================================\n"
          ]
        },
        {
          "name": "stderr",
          "output_type": "stream",
          "text": [
            "                                                                   \r"
          ]
        },
        {
          "name": "stdout",
          "output_type": "stream",
          "text": [
            "Epoch 50/100, Train Loss: 0.3006653294843786\n"
          ]
        },
        {
          "name": "stderr",
          "output_type": "stream",
          "text": [
            "                                                                \r"
          ]
        },
        {
          "name": "stdout",
          "output_type": "stream",
          "text": [
            "Epoch 50/100, Test  Loss: 6.584749221801758\n",
            "===============================================\n"
          ]
        },
        {
          "name": "stderr",
          "output_type": "stream",
          "text": [
            "                                                                   \r"
          ]
        },
        {
          "name": "stdout",
          "output_type": "stream",
          "text": [
            "Epoch 51/100, Train Loss: 0.28016535499516654\n"
          ]
        },
        {
          "name": "stderr",
          "output_type": "stream",
          "text": [
            "                                                                \r"
          ]
        },
        {
          "name": "stdout",
          "output_type": "stream",
          "text": [
            "Patient      : ['sos hi i’ve had a cold since 13 march i have since started coughing and just don’t seem to be recovering one day i will be feeling fine and the next day back to feeling terrible lots of tight phlegm and very sore throat eos sep sos hi i’ve had a cold since 13 march i have since started coughing and just don’t seem to be recovering one day i will be feeling fine and the next day back to feeling terrible lots of tight phlegm and very sore throat eos']\n",
            "Doctor(targ) : ['sos in brief too soon to recover on aveage viral respiratory illnesses may take 2 3 weeks for full recovery and severe cases may take 4 6 weeks if your symptoms worsen you should contact your health care provider to inquire regarding corona virus testing or quarantine would you like to video or text chat with me eos']\n",
            "Doctor(pred) : ['sos in rsa not be home for for days as days to you fever your the into if utensils would as 19 use worse you or or text eos cough would reasons']\n",
            "Loss :  tensor(5.0299, device='cuda:1')\n",
            "Epoch 51/100, Test  Loss: 6.712741851806641\n",
            "===============================================\n"
          ]
        },
        {
          "name": "stderr",
          "output_type": "stream",
          "text": [
            "                                                                   \r"
          ]
        },
        {
          "name": "stdout",
          "output_type": "stream",
          "text": [
            "Epoch 52/100, Train Loss: 0.26138171290650086\n"
          ]
        },
        {
          "name": "stderr",
          "output_type": "stream",
          "text": [
            "                                                                \r"
          ]
        },
        {
          "name": "stdout",
          "output_type": "stream",
          "text": [
            "Epoch 52/100, Test  Loss: 6.638946771621704\n",
            "===============================================\n"
          ]
        },
        {
          "name": "stderr",
          "output_type": "stream",
          "text": [
            "                                                                   \r"
          ]
        },
        {
          "name": "stdout",
          "output_type": "stream",
          "text": [
            "Epoch 53/100, Train Loss: 0.23732718562378602\n"
          ]
        },
        {
          "name": "stderr",
          "output_type": "stream",
          "text": [
            "                                                                \r"
          ]
        },
        {
          "name": "stdout",
          "output_type": "stream",
          "text": [
            "Epoch 53/100, Test  Loss: 6.761153936386108\n",
            "===============================================\n"
          ]
        },
        {
          "name": "stderr",
          "output_type": "stream",
          "text": [
            "                                                                   \r"
          ]
        },
        {
          "name": "stdout",
          "output_type": "stream",
          "text": [
            "Epoch 54/100, Train Loss: 0.22335638719446518\n"
          ]
        },
        {
          "name": "stderr",
          "output_type": "stream",
          "text": [
            "                                                                \r"
          ]
        },
        {
          "name": "stdout",
          "output_type": "stream",
          "text": [
            "Epoch 54/100, Test  Loss: 6.84592866897583\n",
            "===============================================\n"
          ]
        },
        {
          "name": "stderr",
          "output_type": "stream",
          "text": [
            "                                                                   \r"
          ]
        },
        {
          "name": "stdout",
          "output_type": "stream",
          "text": [
            "Epoch 55/100, Train Loss: 0.20667358005748077\n"
          ]
        },
        {
          "name": "stderr",
          "output_type": "stream",
          "text": [
            "                                                                \r"
          ]
        },
        {
          "name": "stdout",
          "output_type": "stream",
          "text": [
            "Epoch 55/100, Test  Loss: 6.875122547149658\n",
            "===============================================\n"
          ]
        },
        {
          "name": "stderr",
          "output_type": "stream",
          "text": [
            "                                                                   \r"
          ]
        },
        {
          "name": "stdout",
          "output_type": "stream",
          "text": [
            "Epoch 56/100, Train Loss: 0.18790609696332147\n"
          ]
        },
        {
          "name": "stderr",
          "output_type": "stream",
          "text": [
            "                                                                \r"
          ]
        },
        {
          "name": "stdout",
          "output_type": "stream",
          "text": [
            "Epoch 56/100, Test  Loss: 7.006673812866211\n",
            "===============================================\n"
          ]
        },
        {
          "name": "stderr",
          "output_type": "stream",
          "text": [
            "                                                                   \r"
          ]
        },
        {
          "name": "stdout",
          "output_type": "stream",
          "text": [
            "Epoch 57/100, Train Loss: 0.17241530733949997\n"
          ]
        },
        {
          "name": "stderr",
          "output_type": "stream",
          "text": [
            "                                                                \r"
          ]
        },
        {
          "name": "stdout",
          "output_type": "stream",
          "text": [
            "Epoch 57/100, Test  Loss: 6.97338080406189\n",
            "===============================================\n"
          ]
        },
        {
          "name": "stderr",
          "output_type": "stream",
          "text": [
            "                                                                   \r"
          ]
        },
        {
          "name": "stdout",
          "output_type": "stream",
          "text": [
            "Epoch 58/100, Train Loss: 0.1575366784544552\n"
          ]
        },
        {
          "name": "stderr",
          "output_type": "stream",
          "text": [
            "                                                                \r"
          ]
        },
        {
          "name": "stdout",
          "output_type": "stream",
          "text": [
            "Epoch 58/100, Test  Loss: 7.0215795040130615\n",
            "===============================================\n"
          ]
        },
        {
          "name": "stderr",
          "output_type": "stream",
          "text": [
            "                                                                   \r"
          ]
        },
        {
          "name": "stdout",
          "output_type": "stream",
          "text": [
            "Epoch 59/100, Train Loss: 0.1426195410244605\n"
          ]
        },
        {
          "name": "stderr",
          "output_type": "stream",
          "text": [
            "                                                                \r"
          ]
        },
        {
          "name": "stdout",
          "output_type": "stream",
          "text": [
            "Epoch 59/100, Test  Loss: 7.078064203262329\n",
            "===============================================\n"
          ]
        },
        {
          "name": "stderr",
          "output_type": "stream",
          "text": [
            "                                                                   \r"
          ]
        },
        {
          "name": "stdout",
          "output_type": "stream",
          "text": [
            "Epoch 60/100, Train Loss: 0.1327513189000242\n"
          ]
        },
        {
          "name": "stderr",
          "output_type": "stream",
          "text": [
            "                                                                \r"
          ]
        },
        {
          "name": "stdout",
          "output_type": "stream",
          "text": [
            "Epoch 60/100, Test  Loss: 7.059854507446289\n",
            "===============================================\n"
          ]
        },
        {
          "name": "stderr",
          "output_type": "stream",
          "text": [
            "                                                                   \r"
          ]
        },
        {
          "name": "stdout",
          "output_type": "stream",
          "text": [
            "Epoch 61/100, Train Loss: 0.11555053644320544\n"
          ]
        },
        {
          "name": "stderr",
          "output_type": "stream",
          "text": [
            "                                                                \r"
          ]
        },
        {
          "name": "stdout",
          "output_type": "stream",
          "text": [
            "Patient      : ['sos hi i’ve had a cold since 13 march i have since started coughing and just don’t seem to be recovering one day i will be feeling fine and the next day back to feeling terrible lots of tight phlegm and very sore throat eos sep sos hi i’ve had a cold since 13 march i have since started coughing and just don’t seem to be recovering one day i will be feeling fine and the next day back to feeling terrible lots of tight phlegm and very sore throat eos']\n",
            "Doctor(targ) : ['sos in brief too soon to recover on aveage viral respiratory illnesses may take 2 3 weeks for full recovery and severe cases may take 4 6 weeks if your symptoms worsen you should contact your health care provider to inquire regarding corona virus testing or quarantine would you like to video or text chat with me eos']\n",
            "Doctor(pred) : ['sos in stay test you being he for actually www or to might sputum if 14 forums cough no self use 19 with worse cough or who or care who would enough']\n",
            "Loss :  tensor(5.5796, device='cuda:1')\n",
            "Epoch 61/100, Test  Loss: 7.211378335952759\n",
            "===============================================\n"
          ]
        },
        {
          "name": "stderr",
          "output_type": "stream",
          "text": [
            "                                                                   \r"
          ]
        },
        {
          "name": "stdout",
          "output_type": "stream",
          "text": [
            "Epoch 62/100, Train Loss: 0.10160884874708512\n"
          ]
        },
        {
          "name": "stderr",
          "output_type": "stream",
          "text": [
            "                                                                \r"
          ]
        },
        {
          "name": "stdout",
          "output_type": "stream",
          "text": [
            "Epoch 62/100, Test  Loss: 7.229685068130493\n",
            "===============================================\n"
          ]
        },
        {
          "name": "stderr",
          "output_type": "stream",
          "text": [
            "                                                                   \r"
          ]
        },
        {
          "name": "stdout",
          "output_type": "stream",
          "text": [
            "Epoch 63/100, Train Loss: 0.09694900188375921\n"
          ]
        },
        {
          "name": "stderr",
          "output_type": "stream",
          "text": [
            "                                                                \r"
          ]
        },
        {
          "name": "stdout",
          "output_type": "stream",
          "text": [
            "Epoch 63/100, Test  Loss: 7.292759656906128\n",
            "===============================================\n"
          ]
        },
        {
          "name": "stderr",
          "output_type": "stream",
          "text": [
            "                                                                   \r"
          ]
        },
        {
          "name": "stdout",
          "output_type": "stream",
          "text": [
            "Epoch 64/100, Train Loss: 0.09278686344623566\n"
          ]
        },
        {
          "name": "stderr",
          "output_type": "stream",
          "text": [
            "                                                                \r"
          ]
        },
        {
          "name": "stdout",
          "output_type": "stream",
          "text": [
            "Epoch 64/100, Test  Loss: 7.324969530105591\n",
            "===============================================\n"
          ]
        },
        {
          "name": "stderr",
          "output_type": "stream",
          "text": [
            "                                                                   \r"
          ]
        },
        {
          "name": "stdout",
          "output_type": "stream",
          "text": [
            "Epoch 65/100, Train Loss: 0.08498034713899388\n"
          ]
        },
        {
          "name": "stderr",
          "output_type": "stream",
          "text": [
            "                                                                \r"
          ]
        },
        {
          "name": "stdout",
          "output_type": "stream",
          "text": [
            "Epoch 65/100, Test  Loss: 7.380907773971558\n",
            "===============================================\n"
          ]
        },
        {
          "name": "stderr",
          "output_type": "stream",
          "text": [
            "                                                                   \r"
          ]
        },
        {
          "name": "stdout",
          "output_type": "stream",
          "text": [
            "Epoch 66/100, Train Loss: 0.08381296738105662\n"
          ]
        },
        {
          "name": "stderr",
          "output_type": "stream",
          "text": [
            "                                                                \r"
          ]
        },
        {
          "name": "stdout",
          "output_type": "stream",
          "text": [
            "Epoch 66/100, Test  Loss: 7.381966829299927\n",
            "===============================================\n"
          ]
        },
        {
          "name": "stderr",
          "output_type": "stream",
          "text": [
            "                                                                   \r"
          ]
        },
        {
          "name": "stdout",
          "output_type": "stream",
          "text": [
            "Epoch 67/100, Train Loss: 0.08966567739844322\n"
          ]
        },
        {
          "name": "stderr",
          "output_type": "stream",
          "text": [
            "                                                                \r"
          ]
        },
        {
          "name": "stdout",
          "output_type": "stream",
          "text": [
            "Epoch 67/100, Test  Loss: 7.356301307678223\n",
            "===============================================\n"
          ]
        },
        {
          "name": "stderr",
          "output_type": "stream",
          "text": [
            "                                                                   \r"
          ]
        },
        {
          "name": "stdout",
          "output_type": "stream",
          "text": [
            "Epoch 68/100, Train Loss: 0.08846013598582324\n"
          ]
        },
        {
          "name": "stderr",
          "output_type": "stream",
          "text": [
            "                                                                \r"
          ]
        },
        {
          "name": "stdout",
          "output_type": "stream",
          "text": [
            "Epoch 68/100, Test  Loss: 7.36397910118103\n",
            "===============================================\n"
          ]
        },
        {
          "name": "stderr",
          "output_type": "stream",
          "text": [
            "                                                                   \r"
          ]
        },
        {
          "name": "stdout",
          "output_type": "stream",
          "text": [
            "Epoch 69/100, Train Loss: 0.0836882323903196\n"
          ]
        },
        {
          "name": "stderr",
          "output_type": "stream",
          "text": [
            "                                                                \r"
          ]
        },
        {
          "name": "stdout",
          "output_type": "stream",
          "text": [
            "Epoch 69/100, Test  Loss: 7.4506237506866455\n",
            "===============================================\n"
          ]
        },
        {
          "name": "stderr",
          "output_type": "stream",
          "text": [
            "                                                                   \r"
          ]
        },
        {
          "name": "stdout",
          "output_type": "stream",
          "text": [
            "Epoch 70/100, Train Loss: 0.07401735335588455\n"
          ]
        },
        {
          "name": "stderr",
          "output_type": "stream",
          "text": [
            "                                                                \r"
          ]
        },
        {
          "name": "stdout",
          "output_type": "stream",
          "text": [
            "Epoch 70/100, Test  Loss: 7.542564153671265\n",
            "===============================================\n"
          ]
        },
        {
          "name": "stderr",
          "output_type": "stream",
          "text": [
            "                                                                   \r"
          ]
        },
        {
          "name": "stdout",
          "output_type": "stream",
          "text": [
            "Epoch 71/100, Train Loss: 0.0645433052936021\n"
          ]
        },
        {
          "name": "stderr",
          "output_type": "stream",
          "text": [
            "                                                                \r"
          ]
        },
        {
          "name": "stdout",
          "output_type": "stream",
          "text": [
            "Patient      : ['sos hi i’ve had a cold since 13 march i have since started coughing and just don’t seem to be recovering one day i will be feeling fine and the next day back to feeling terrible lots of tight phlegm and very sore throat eos sep sos hi i’ve had a cold since 13 march i have since started coughing and just don’t seem to be recovering one day i will be feeling fine and the next day back to feeling terrible lots of tight phlegm and very sore throat eos']\n",
            "Doctor(targ) : ['sos in brief too soon to recover on aveage viral respiratory illnesses may take 2 3 weeks for full recovery and severe cases may take 4 6 weeks if your symptoms worsen you should contact your health care provider to inquire regarding corona virus testing or quarantine would you like to video or text chat with me eos']\n",
            "Doctor(pred) : ['sos period brief wash be being he for corona www www to shouldnt it there the quite may no separated call 19 pains healthtap may your']\n",
            "Loss :  tensor(5.7026, device='cuda:1')\n",
            "Epoch 71/100, Test  Loss: 7.536040306091309\n",
            "===============================================\n"
          ]
        },
        {
          "name": "stderr",
          "output_type": "stream",
          "text": [
            "                                                                   \r"
          ]
        },
        {
          "name": "stdout",
          "output_type": "stream",
          "text": [
            "Epoch 72/100, Train Loss: 0.05718026364989141\n"
          ]
        },
        {
          "name": "stderr",
          "output_type": "stream",
          "text": [
            "                                                                \r"
          ]
        },
        {
          "name": "stdout",
          "output_type": "stream",
          "text": [
            "Epoch 72/100, Test  Loss: 7.5128655433654785\n",
            "===============================================\n"
          ]
        },
        {
          "name": "stderr",
          "output_type": "stream",
          "text": [
            "                                                                   \r"
          ]
        },
        {
          "name": "stdout",
          "output_type": "stream",
          "text": [
            "Epoch 73/100, Train Loss: 0.049923514180323654\n"
          ]
        },
        {
          "name": "stderr",
          "output_type": "stream",
          "text": [
            "                                                                \r"
          ]
        },
        {
          "name": "stdout",
          "output_type": "stream",
          "text": [
            "Epoch 73/100, Test  Loss: 7.540477514266968\n",
            "===============================================\n"
          ]
        },
        {
          "name": "stderr",
          "output_type": "stream",
          "text": [
            "                                                                   \r"
          ]
        },
        {
          "name": "stdout",
          "output_type": "stream",
          "text": [
            "Epoch 74/100, Train Loss: 0.04694645490278216\n"
          ]
        },
        {
          "name": "stderr",
          "output_type": "stream",
          "text": [
            "                                                                \r"
          ]
        },
        {
          "name": "stdout",
          "output_type": "stream",
          "text": [
            "Epoch 74/100, Test  Loss: 7.644940137863159\n",
            "===============================================\n"
          ]
        },
        {
          "name": "stderr",
          "output_type": "stream",
          "text": [
            "                                                                   \r"
          ]
        },
        {
          "name": "stdout",
          "output_type": "stream",
          "text": [
            "Epoch 75/100, Train Loss: 0.04387288814520135\n"
          ]
        },
        {
          "name": "stderr",
          "output_type": "stream",
          "text": [
            "                                                                \r"
          ]
        },
        {
          "name": "stdout",
          "output_type": "stream",
          "text": [
            "Epoch 75/100, Test  Loss: 7.791269540786743\n",
            "===============================================\n"
          ]
        },
        {
          "name": "stderr",
          "output_type": "stream",
          "text": [
            "                                                                   \r"
          ]
        },
        {
          "name": "stdout",
          "output_type": "stream",
          "text": [
            "Epoch 76/100, Train Loss: 0.04055904125904336\n"
          ]
        },
        {
          "name": "stderr",
          "output_type": "stream",
          "text": [
            "                                                                \r"
          ]
        },
        {
          "name": "stdout",
          "output_type": "stream",
          "text": [
            "Epoch 76/100, Test  Loss: 7.756672620773315\n",
            "===============================================\n"
          ]
        },
        {
          "name": "stderr",
          "output_type": "stream",
          "text": [
            "                                                                   \r"
          ]
        },
        {
          "name": "stdout",
          "output_type": "stream",
          "text": [
            "Epoch 77/100, Train Loss: 0.03911596427068991\n"
          ]
        },
        {
          "name": "stderr",
          "output_type": "stream",
          "text": [
            "                                                                \r"
          ]
        },
        {
          "name": "stdout",
          "output_type": "stream",
          "text": [
            "Epoch 77/100, Test  Loss: 7.7742204666137695\n",
            "===============================================\n"
          ]
        },
        {
          "name": "stderr",
          "output_type": "stream",
          "text": [
            "                                                                   \r"
          ]
        },
        {
          "name": "stdout",
          "output_type": "stream",
          "text": [
            "Epoch 78/100, Train Loss: 0.034713097409728694\n"
          ]
        },
        {
          "name": "stderr",
          "output_type": "stream",
          "text": [
            "                                                                \r"
          ]
        },
        {
          "name": "stdout",
          "output_type": "stream",
          "text": [
            "Epoch 78/100, Test  Loss: 7.897115230560303\n",
            "===============================================\n"
          ]
        },
        {
          "name": "stderr",
          "output_type": "stream",
          "text": [
            "                                                                   \r"
          ]
        },
        {
          "name": "stdout",
          "output_type": "stream",
          "text": [
            "Epoch 79/100, Train Loss: 0.03312735779977897\n"
          ]
        },
        {
          "name": "stderr",
          "output_type": "stream",
          "text": [
            "                                                                \r"
          ]
        },
        {
          "name": "stdout",
          "output_type": "stream",
          "text": [
            "Epoch 79/100, Test  Loss: 7.783166408538818\n",
            "===============================================\n"
          ]
        },
        {
          "name": "stderr",
          "output_type": "stream",
          "text": [
            "                                                                   \r"
          ]
        },
        {
          "name": "stdout",
          "output_type": "stream",
          "text": [
            "Epoch 80/100, Train Loss: 0.03051163667045972\n"
          ]
        },
        {
          "name": "stderr",
          "output_type": "stream",
          "text": [
            "                                                                \r"
          ]
        },
        {
          "name": "stdout",
          "output_type": "stream",
          "text": [
            "Epoch 80/100, Test  Loss: 7.827674865722656\n",
            "===============================================\n"
          ]
        },
        {
          "name": "stderr",
          "output_type": "stream",
          "text": [
            "                                                                   \r"
          ]
        },
        {
          "name": "stdout",
          "output_type": "stream",
          "text": [
            "Epoch 81/100, Train Loss: 0.03150175024262246\n"
          ]
        },
        {
          "name": "stderr",
          "output_type": "stream",
          "text": [
            "                                                                \r"
          ]
        },
        {
          "name": "stdout",
          "output_type": "stream",
          "text": [
            "Patient      : ['sos hi i’ve had a cold since 13 march i have since started coughing and just don’t seem to be recovering one day i will be feeling fine and the next day back to feeling terrible lots of tight phlegm and very sore throat eos sep sos hi i’ve had a cold since 13 march i have since started coughing and just don’t seem to be recovering one day i will be feeling fine and the next day back to feeling terrible lots of tight phlegm and very sore throat eos']\n",
            "Doctor(targ) : ['sos in brief too soon to recover on aveage viral respiratory illnesses may take 2 3 weeks for full recovery and severe cases may take 4 6 weeks if your symptoms worsen you should contact your health care provider to inquire regarding corona virus testing or quarantine would you like to video or text chat with me eos']\n",
            "Doctor(pred) : ['sos sos period any be being for for corona www www to viral it not life soon may no separated call 19 cause healthtap you like']\n",
            "Loss :  tensor(6.2890, device='cuda:1')\n",
            "Epoch 81/100, Test  Loss: 7.808942556381226\n",
            "===============================================\n"
          ]
        },
        {
          "name": "stderr",
          "output_type": "stream",
          "text": [
            "                                                                   \r"
          ]
        },
        {
          "name": "stdout",
          "output_type": "stream",
          "text": [
            "Epoch 82/100, Train Loss: 0.031074286657659447\n"
          ]
        },
        {
          "name": "stderr",
          "output_type": "stream",
          "text": [
            "                                                                \r"
          ]
        },
        {
          "name": "stdout",
          "output_type": "stream",
          "text": [
            "Epoch 82/100, Test  Loss: 7.884161710739136\n",
            "===============================================\n"
          ]
        },
        {
          "name": "stderr",
          "output_type": "stream",
          "text": [
            "                                                                   \r"
          ]
        },
        {
          "name": "stdout",
          "output_type": "stream",
          "text": [
            "Epoch 83/100, Train Loss: 0.0296772705281482\n"
          ]
        },
        {
          "name": "stderr",
          "output_type": "stream",
          "text": [
            "                                                                \r"
          ]
        },
        {
          "name": "stdout",
          "output_type": "stream",
          "text": [
            "Epoch 83/100, Test  Loss: 7.877813339233398\n",
            "===============================================\n"
          ]
        },
        {
          "name": "stderr",
          "output_type": "stream",
          "text": [
            "                                                                   \r"
          ]
        },
        {
          "name": "stdout",
          "output_type": "stream",
          "text": [
            "Epoch 84/100, Train Loss: 0.026474879451972598\n"
          ]
        },
        {
          "name": "stderr",
          "output_type": "stream",
          "text": [
            "                                                                \r"
          ]
        },
        {
          "name": "stdout",
          "output_type": "stream",
          "text": [
            "Epoch 84/100, Test  Loss: 7.8247971534729\n",
            "===============================================\n"
          ]
        },
        {
          "name": "stderr",
          "output_type": "stream",
          "text": [
            "                                                                   \r"
          ]
        },
        {
          "name": "stdout",
          "output_type": "stream",
          "text": [
            "Epoch 85/100, Train Loss: 0.025371727259720072\n"
          ]
        },
        {
          "name": "stderr",
          "output_type": "stream",
          "text": [
            "                                                                \r"
          ]
        },
        {
          "name": "stdout",
          "output_type": "stream",
          "text": [
            "Epoch 85/100, Test  Loss: 7.936545372009277\n",
            "===============================================\n"
          ]
        },
        {
          "name": "stderr",
          "output_type": "stream",
          "text": [
            "                                                                   \r"
          ]
        },
        {
          "name": "stdout",
          "output_type": "stream",
          "text": [
            "Epoch 86/100, Train Loss: 0.028123809928622318\n"
          ]
        },
        {
          "name": "stderr",
          "output_type": "stream",
          "text": [
            "                                                                \r"
          ]
        },
        {
          "name": "stdout",
          "output_type": "stream",
          "text": [
            "Epoch 86/100, Test  Loss: 7.873175144195557\n",
            "===============================================\n"
          ]
        },
        {
          "name": "stderr",
          "output_type": "stream",
          "text": [
            "                                                                   \r"
          ]
        },
        {
          "name": "stdout",
          "output_type": "stream",
          "text": [
            "Epoch 87/100, Train Loss: 0.023653504493481973\n"
          ]
        },
        {
          "name": "stderr",
          "output_type": "stream",
          "text": [
            "                                                                \r"
          ]
        },
        {
          "name": "stdout",
          "output_type": "stream",
          "text": [
            "Epoch 87/100, Test  Loss: 7.896885871887207\n",
            "===============================================\n"
          ]
        },
        {
          "name": "stderr",
          "output_type": "stream",
          "text": [
            "                                                                   \r"
          ]
        },
        {
          "name": "stdout",
          "output_type": "stream",
          "text": [
            "Epoch 88/100, Train Loss: 0.025456561049556032\n"
          ]
        },
        {
          "name": "stderr",
          "output_type": "stream",
          "text": [
            "                                                                \r"
          ]
        },
        {
          "name": "stdout",
          "output_type": "stream",
          "text": [
            "Epoch 88/100, Test  Loss: 8.064067602157593\n",
            "===============================================\n"
          ]
        },
        {
          "name": "stderr",
          "output_type": "stream",
          "text": [
            "                                                                   \r"
          ]
        },
        {
          "name": "stdout",
          "output_type": "stream",
          "text": [
            "Epoch 89/100, Train Loss: 0.022302145631436038\n"
          ]
        },
        {
          "name": "stderr",
          "output_type": "stream",
          "text": [
            "                                                                \r"
          ]
        },
        {
          "name": "stdout",
          "output_type": "stream",
          "text": [
            "Epoch 89/100, Test  Loss: 7.882038354873657\n",
            "===============================================\n"
          ]
        },
        {
          "name": "stderr",
          "output_type": "stream",
          "text": [
            "                                                                   \r"
          ]
        },
        {
          "name": "stdout",
          "output_type": "stream",
          "text": [
            "Epoch 90/100, Train Loss: 0.018840158769093892\n"
          ]
        },
        {
          "name": "stderr",
          "output_type": "stream",
          "text": [
            "                                                                \r"
          ]
        },
        {
          "name": "stdout",
          "output_type": "stream",
          "text": [
            "Epoch 90/100, Test  Loss: 7.9550817012786865\n",
            "===============================================\n"
          ]
        },
        {
          "name": "stderr",
          "output_type": "stream",
          "text": [
            "                                                                   \r"
          ]
        },
        {
          "name": "stdout",
          "output_type": "stream",
          "text": [
            "Epoch 91/100, Train Loss: 0.021933919394060093\n"
          ]
        },
        {
          "name": "stderr",
          "output_type": "stream",
          "text": [
            "                                                                \r"
          ]
        },
        {
          "name": "stdout",
          "output_type": "stream",
          "text": [
            "Patient      : ['sos hi i’ve had a cold since 13 march i have since started coughing and just don’t seem to be recovering one day i will be feeling fine and the next day back to feeling terrible lots of tight phlegm and very sore throat eos sep sos hi i’ve had a cold since 13 march i have since started coughing and just don’t seem to be recovering one day i will be feeling fine and the next day back to feeling terrible lots of tight phlegm and very sore throat eos']\n",
            "Doctor(targ) : ['sos in brief too soon to recover on aveage viral respiratory illnesses may take 2 3 weeks for full recovery and severe cases may take 4 6 weeks if your symptoms worsen you should contact your health care provider to inquire regarding corona virus testing or quarantine would you like to video or text chat with me eos']\n",
            "Doctor(pred) : ['sos sos period any be being for stay a www www to shouldnt fever for the your may no separated out 19 pains worse you your']\n",
            "Loss :  tensor(6.2818, device='cuda:1')\n",
            "Epoch 91/100, Test  Loss: 7.951203107833862\n",
            "===============================================\n"
          ]
        },
        {
          "name": "stderr",
          "output_type": "stream",
          "text": [
            "                                                                   \r"
          ]
        },
        {
          "name": "stdout",
          "output_type": "stream",
          "text": [
            "Epoch 92/100, Train Loss: 0.01872723419493174\n"
          ]
        },
        {
          "name": "stderr",
          "output_type": "stream",
          "text": [
            "                                                                \r"
          ]
        },
        {
          "name": "stdout",
          "output_type": "stream",
          "text": [
            "Epoch 92/100, Test  Loss: 7.967661619186401\n",
            "===============================================\n"
          ]
        },
        {
          "name": "stderr",
          "output_type": "stream",
          "text": [
            "                                                                   \r"
          ]
        },
        {
          "name": "stdout",
          "output_type": "stream",
          "text": [
            "Epoch 93/100, Train Loss: 0.01905659954611431\n"
          ]
        },
        {
          "name": "stderr",
          "output_type": "stream",
          "text": [
            "                                                                \r"
          ]
        },
        {
          "name": "stdout",
          "output_type": "stream",
          "text": [
            "Epoch 93/100, Test  Loss: 8.004026412963867\n",
            "===============================================\n"
          ]
        },
        {
          "name": "stderr",
          "output_type": "stream",
          "text": [
            "                                                                   \r"
          ]
        },
        {
          "name": "stdout",
          "output_type": "stream",
          "text": [
            "Epoch 94/100, Train Loss: 0.01953558956601602\n"
          ]
        },
        {
          "name": "stderr",
          "output_type": "stream",
          "text": [
            "                                                                \r"
          ]
        },
        {
          "name": "stdout",
          "output_type": "stream",
          "text": [
            "Epoch 94/100, Test  Loss: 7.976604223251343\n",
            "===============================================\n"
          ]
        },
        {
          "name": "stderr",
          "output_type": "stream",
          "text": [
            "                                                                   \r"
          ]
        },
        {
          "name": "stdout",
          "output_type": "stream",
          "text": [
            "Epoch 95/100, Train Loss: 0.01951094585306504\n"
          ]
        },
        {
          "name": "stderr",
          "output_type": "stream",
          "text": [
            "                                                                \r"
          ]
        },
        {
          "name": "stdout",
          "output_type": "stream",
          "text": [
            "Epoch 95/100, Test  Loss: 8.035661697387695\n",
            "===============================================\n"
          ]
        },
        {
          "name": "stderr",
          "output_type": "stream",
          "text": [
            "                                                                   \r"
          ]
        },
        {
          "name": "stdout",
          "output_type": "stream",
          "text": [
            "Epoch 96/100, Train Loss: 0.019950859330813673\n"
          ]
        },
        {
          "name": "stderr",
          "output_type": "stream",
          "text": [
            "                                                                \r"
          ]
        },
        {
          "name": "stdout",
          "output_type": "stream",
          "text": [
            "Epoch 96/100, Test  Loss: 8.155770540237427\n",
            "===============================================\n"
          ]
        },
        {
          "name": "stderr",
          "output_type": "stream",
          "text": [
            "                                                                   \r"
          ]
        },
        {
          "name": "stdout",
          "output_type": "stream",
          "text": [
            "Epoch 97/100, Train Loss: 0.020555653034106773\n"
          ]
        },
        {
          "name": "stderr",
          "output_type": "stream",
          "text": [
            "                                                                \r"
          ]
        },
        {
          "name": "stdout",
          "output_type": "stream",
          "text": [
            "Epoch 97/100, Test  Loss: 8.024074077606201\n",
            "===============================================\n"
          ]
        },
        {
          "name": "stderr",
          "output_type": "stream",
          "text": [
            "                                                                   \r"
          ]
        },
        {
          "name": "stdout",
          "output_type": "stream",
          "text": [
            "Epoch 98/100, Train Loss: 0.022425712579313445\n"
          ]
        },
        {
          "name": "stderr",
          "output_type": "stream",
          "text": [
            "                                                                \r"
          ]
        },
        {
          "name": "stdout",
          "output_type": "stream",
          "text": [
            "Epoch 98/100, Test  Loss: 8.060383796691895\n",
            "===============================================\n"
          ]
        },
        {
          "name": "stderr",
          "output_type": "stream",
          "text": [
            "                                                                   \r"
          ]
        },
        {
          "name": "stdout",
          "output_type": "stream",
          "text": [
            "Epoch 99/100, Train Loss: 0.020941137390978196\n"
          ]
        },
        {
          "name": "stderr",
          "output_type": "stream",
          "text": [
            "                                                                \r"
          ]
        },
        {
          "name": "stdout",
          "output_type": "stream",
          "text": [
            "Epoch 99/100, Test  Loss: 7.987030267715454\n",
            "===============================================\n"
          ]
        },
        {
          "name": "stderr",
          "output_type": "stream",
          "text": [
            "                                                                   \r"
          ]
        },
        {
          "name": "stdout",
          "output_type": "stream",
          "text": [
            "Epoch 100/100, Train Loss: 0.019097301150288654\n"
          ]
        },
        {
          "name": "stderr",
          "output_type": "stream",
          "text": [
            "                                                                "
          ]
        },
        {
          "name": "stdout",
          "output_type": "stream",
          "text": [
            "Patient      : ['sos hi i’ve had a cold since 13 march i have since started coughing and just don’t seem to be recovering one day i will be feeling fine and the next day back to feeling terrible lots of tight phlegm and very sore throat eos sep sos hi i’ve had a cold since 13 march i have since started coughing and just don’t seem to be recovering one day i will be feeling fine and the next day back to feeling terrible lots of tight phlegm and very sore throat eos']\n",
            "Doctor(targ) : ['sos in brief too soon to recover on aveage viral respiratory illnesses may take 2 3 weeks for full recovery and severe cases may take 4 6 weeks if your symptoms worsen you should contact your health care provider to inquire regarding corona virus testing or quarantine would you like to video or text chat with me eos']\n",
            "Doctor(pred) : ['sos sos unlikely be be being for for from more www to to fever for care then may sick monitor eos 19 pains worse or your or if with cough with enough']\n",
            "Loss :  tensor(6.5404, device='cuda:1')\n",
            "Epoch 100/100, Test  Loss: 8.102336168289185\n",
            "===============================================\n"
          ]
        },
        {
          "name": "stderr",
          "output_type": "stream",
          "text": [
            "\r"
          ]
        }
      ],
      "source": [
        "import torch\n",
        "from tqdm import tqdm\n",
        "import pandas as pd\n",
        "\n",
        "\n",
        "train_losses, test_losses = [], []\n",
        "\n",
        "# Training loop\n",
        "num_epochs = 100\n",
        "for epoch in range(num_epochs):  # num_epochs should be defined\n",
        "    model.train()\n",
        "    total_loss = 0\n",
        "    total_loss_test = 0   # Changed\n",
        "\n",
        "    # Progress Bar\n",
        "    batch_bar   = tqdm(total=len(conversation_dataloader), dynamic_ncols=True, leave=False, position=0, desc='Train', ncols=5)\n",
        "\n",
        "    for i, data in enumerate(conversation_dataloader):\n",
        "        # Forward pass\n",
        "        \n",
        "        model.train()\n",
        "\n",
        "        patient_questions = data['patient_question'].to(device)\n",
        "        doctor_answers = data['doctor_answer'].to(device).long()\n",
        "        segment_embeddings = data['segment_embedding'].to(device)\n",
        "\n",
        "        # if(len(patient_questions)!=batch_size):\n",
        "        #   print('jump')\n",
        "        #   continue\n",
        "        optimizer.zero_grad()\n",
        "        output = model(patient_questions, segment_embeddings)\n",
        "\n",
        "        # output = output[:, 201:, :] # Changed\n",
        "        ans_seq_len = doctor_answers.shape[1]\n",
        "        output = output[:, :ans_seq_len, :] # Changed\n",
        "        # output = output.softmax(dim=-1)\n",
        "        # Compute loss - ensure doctor_answers is the correct target and has the right shape\n",
        "\n",
        "        loss = loss_function(output.reshape(-1, output.size(-1)), doctor_answers.reshape(-1))\n",
        "        total_loss += loss.item()\n",
        "    \n",
        "\n",
        "        # Backward pass and optimization\n",
        "        loss.backward()\n",
        "        optimizer.step()\n",
        "\n",
        "        batch_bar.set_postfix(\n",
        "            loss        = \"{:.04f}\".format(float(total_loss / ((i+1) * conversation_dataloader.batch_size))),\n",
        "        )\n",
        "\n",
        "        batch_bar.update() # Update tqdm bar\n",
        "\n",
        "    batch_bar.close()\n",
        "    \n",
        "    loss = total_loss/len(conversation_dataloader)\n",
        "    print(f\"Epoch {epoch+1}/{num_epochs}, Train Loss: {loss}\")\n",
        "    train_losses.append(loss)\n",
        "\n",
        "    # Progress Bar\n",
        "    batch_bar   = tqdm(total=len(conversation_dataloader_test), dynamic_ncols=True, leave=False, position=0, desc='Test', ncols=5)\n",
        "    \n",
        "    # Changed\n",
        "    with torch.no_grad():\n",
        "        for i, data in enumerate(conversation_dataloader_test):\n",
        "            # Forward pass\n",
        "            \n",
        "            model.eval()\n",
        "\n",
        "            patient_questions = data['patient_question'].to(device)\n",
        "            doctor_answers = data['doctor_answer'].to(device).long()\n",
        "            segment_embeddings = data['segment_embedding'].to(device)\n",
        "\n",
        "            output = model(patient_questions, segment_embeddings)\n",
        "\n",
        "            ans_seq_len = doctor_answers.shape[1]\n",
        "            output = output[:, :ans_seq_len, :] # Changed\n",
        "\n",
        "            loss = loss_function(output.reshape(-1, output.size(-1)), doctor_answers.reshape(-1))\n",
        "            total_loss_test += loss.item()\n",
        "\n",
        "            batch_bar.set_postfix(\n",
        "                loss        = \"{:.04f}\".format(float(total_loss / ((i+1) * conversation_dataloader_test.batch_size))),\n",
        "            )\n",
        "\n",
        "            batch_bar.update() # Update tqdm bar\n",
        "\n",
        "        if epoch % 10 == 0 or epoch == num_epochs-1:\n",
        "            \n",
        "            pred = torch.argmax(output, dim=-1)\n",
        "\n",
        "            temp = [seq[:seq.index(0)] if seq.count(0) != 0 else seq for seq in patient_questions.cpu().tolist()]\n",
        "            print(\"Patient      :\", tokenizer.sequences_to_texts(temp)[:1])\n",
        "            temp = [seq[:seq.index(0)] if seq.count(0) != 0 else seq for seq in doctor_answers.cpu().tolist()]\n",
        "            print(\"Doctor(targ) :\", tokenizer.sequences_to_texts(temp)[:1])\n",
        "            temp = [seq[:seq.index(0)] if seq.count(0) != 0 else seq for seq in pred.cpu().tolist()]\n",
        "            print(\"Doctor(pred) :\", tokenizer.sequences_to_texts(temp)[:1])\n",
        "            print(\"Loss : \", loss_function(output[0].reshape(-1, output.size(-1)), doctor_answers[0].reshape(-1)))\n",
        "\n",
        "            inp = [seq[:seq.index(0)] if seq.count(0) != 0 else seq for seq in patient_questions.cpu().tolist()]\n",
        "            inp = tokenizer.sequences_to_texts(inp)\n",
        "            temp = []\n",
        "            for text in inp:\n",
        "                start_index = text.index(\"sep\")\n",
        "                temp.append(text[:start_index-1])\n",
        "            inp = temp\n",
        "            generated = [seq[:seq.index(0)] if seq.count(0) != 0 else seq for seq in pred.cpu().tolist()]\n",
        "            generated = tokenizer.sequences_to_texts(generated)\n",
        "\n",
        "            \n",
        "            with open(os.path.join('../experiments', EXP_NAME, 'generated-texts-{}-test.txt'.format(epoch)), 'w') as fw:\n",
        "                fw.write(make_generation_text(inp, generated))\n",
        "\n",
        "    batch_bar.close()\n",
        "\n",
        "    loss = total_loss_test/len(conversation_dataloader_test)\n",
        "    print(f\"Epoch {epoch+1}/{num_epochs}, Test  Loss: {loss}\")\n",
        "    test_losses.append(loss)\n",
        "    print(\"===============================================\")"
      ]
    },
    {
      "cell_type": "code",
      "execution_count": 9,
      "metadata": {},
      "outputs": [
        {
          "name": "stderr",
          "output_type": "stream",
          "text": [
            "100%|██████████| 29/29 [00:09<00:00,  2.93it/s]"
          ]
        },
        {
          "name": "stdout",
          "output_type": "stream",
          "text": [
            "Your mean perplexity for generated sequences: 7552.422608204207\n"
          ]
        },
        {
          "name": "stderr",
          "output_type": "stream",
          "text": [
            "\n"
          ]
        }
      ],
      "source": [
        "import openai\n",
        "import os\n",
        "\n",
        "# Fill the run id and epoch number to be used for submission.\n",
        "# You will use the same run id and epoch number to generate the handin.\n",
        "submission_epoch = 99 # TODO\n",
        "\n",
        "n_tests = 29\n",
        "\n",
        "with open(os.path.join('../experiments', EXP_NAME, 'generated-texts-{}-test.txt'.format(submission_epoch)), 'r', encoding='utf-8') as f:\n",
        "    generated = list(f)\n",
        "\n",
        "assert len(generated) == n_tests\n",
        "for item in generated:\n",
        "    assert type(item) is str\n",
        "\n",
        "parsed_generated = []\n",
        "\n",
        "for text in generated:\n",
        "    start_index = text.index(\"sos\")\n",
        "    temp = text[start_index+4:]\n",
        "    generation_start_index = temp.index(\"| \")\n",
        "    parsed_text = temp[:generation_start_index] + temp[generation_start_index+2:]\n",
        "    parsed_text = parsed_text.replace(\"<eol>\", \"\\n\")\n",
        "    parsed_generated.append(parsed_text)\n",
        "\n",
        "def perplexity(text, modelname):\n",
        "    \"\"\"Compute the perplexity of the provided text.\"\"\"\n",
        "    completion = openai.Completion.create(\n",
        "        model=modelname,\n",
        "        prompt=text,\n",
        "        logprobs=0,\n",
        "        max_tokens=0,\n",
        "        temperature=1.0,\n",
        "        echo=True)\n",
        "    token_logprobs = completion['choices'][0]['logprobs']['token_logprobs']\n",
        "    ll = np.mean([i for i in token_logprobs if i is not None])\n",
        "    ppl = np.exp(-ll)\n",
        "    return ppl\n",
        "\n",
        "# Add you API key here to get perplexity. However, delete the key from the notebook before creating the handin.\n",
        "# REMEMBER: ALWAYS KEEP YOUR API KEYS AND SECRETS SECURE.\n",
        "with open('/mnt/sda/jaeheon/jaeheon/CMU/IDL/openai_key', 'r') as f:\n",
        "    openai_key = f.read()\n",
        "    f.close()\n",
        "openai.api_key = openai_key # TODO\n",
        "modelname = 'text-embedding-ada-002'\n",
        "\n",
        "perps = [perplexity(text, modelname) for text in tqdm(parsed_generated)]\n",
        "avg_perp = np.mean(perps)\n",
        "\n",
        "# Report this number when running the makefile to create the handin\n",
        "print(\"Your mean perplexity for generated sequences: {}\".format(avg_perp))\n",
        "\n",
        "\n",
        "perplexity = [None for _ in range(num_epochs - 1)].append(avg_perp)\n",
        "df_losses = pd.DataFrame({'train_loss':train_losses, 'test_loss':test_losses, 'perplexity':perplexity})\n",
        "df_losses.to_csv(os.path.join('experiments', EXP_NAME, 'loss.csv'))"
      ]
    },
    {
      "cell_type": "code",
      "execution_count": null,
      "metadata": {
        "id": "oF-CDiTX_e1a"
      },
      "outputs": [],
      "source": [
        "loss_function(output.reshape(-1, output.size(-1)), doctor_answers.reshape(-1))"
      ]
    }
  ],
  "metadata": {
    "accelerator": "GPU",
    "colab": {
      "gpuType": "T4",
      "provenance": []
    },
    "kernelspec": {
      "display_name": "Python 3",
      "name": "python3"
    },
    "language_info": {
      "codemirror_mode": {
        "name": "ipython",
        "version": 3
      },
      "file_extension": ".py",
      "mimetype": "text/x-python",
      "name": "python",
      "nbconvert_exporter": "python",
      "pygments_lexer": "ipython3",
      "version": "3.10.13"
    }
  },
  "nbformat": 4,
  "nbformat_minor": 0
}
