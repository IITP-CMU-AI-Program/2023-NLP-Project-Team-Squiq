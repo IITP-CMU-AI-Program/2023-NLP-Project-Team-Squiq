{
 "cells": [
  {
   "cell_type": "code",
   "execution_count": null,
   "metadata": {},
   "outputs": [],
   "source": [
    "import wikipedia\n",
    "\n",
    "\n",
    "def extract_corpus(num_corpus):\n",
    "    corpus = []\n",
    "    num = 0\n",
    "\n",
    "    while num < num_corpus:\n",
    "        title = wikipedia.random()\n",
    "\n",
    "        try:\n",
    "            summary = wikipedia.summary(title)\n",
    "        except Exception:\n",
    "            continue\n",
    "\n",
    "        print(f\"Cumulative corpus num: {num}. Title: {title}\")\n",
    "\n",
    "        sentences = summary.replace(\"\\n\", \" \").strip().split(\". \")  # remove \" \"\n",
    "\n",
    "        if len(sentences) < 2:\n",
    "            continue\n",
    "\n",
    "        num += len(sentences) - 1\n",
    "\n",
    "        if num >= num_corpus:\n",
    "            sentences = sentences[: -(num - num_corpus + 1)]\n",
    "\n",
    "        for idx in range(len(sentences) - 1):\n",
    "            corpus.append(\n",
    "                {\"input\": sentences[idx] + \".\", \"label\": sentences[idx + 1] + \".\"}\n",
    "            )\n",
    "\n",
    "    return corpus"
   ]
  },
  {
   "cell_type": "code",
   "execution_count": null,
   "metadata": {},
   "outputs": [],
   "source": [
    "import json\n",
    "\n",
    "corpus = extract_corpus(100000)\n",
    "with open(\"../data/wiki.json\", \"w\") as f:\n",
    "    json.dump(corpus, f, indent=4)"
   ]
  }
 ],
 "metadata": {
  "kernelspec": {
   "display_name": "nlp-prj",
   "language": "python",
   "name": "python3"
  },
  "language_info": {
   "codemirror_mode": {
    "name": "ipython",
    "version": 3
   },
   "file_extension": ".py",
   "mimetype": "text/x-python",
   "name": "python",
   "nbconvert_exporter": "python",
   "pygments_lexer": "ipython3",
   "version": "3.10.13"
  }
 },
 "nbformat": 4,
 "nbformat_minor": 2
}
